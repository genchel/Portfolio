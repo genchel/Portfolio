{
 "cells": [
  {
   "cell_type": "markdown",
   "metadata": {
    "toc": true
   },
   "source": [
    "<h1>Содержание<span class=\"tocSkip\"></span></h1>\n",
    "<div class=\"toc\"><ul class=\"toc-item\"><li><span><a href=\"#Подготовка-данных\" data-toc-modified-id=\"Подготовка-данных-1\"><span class=\"toc-item-num\">1&nbsp;&nbsp;</span>Подготовка данных</a></span><ul class=\"toc-item\"><li><span><a href=\"#Откроем-файл-и-выведем-первые-10-строк\" data-toc-modified-id=\"Откроем-файл-и-выведем-первые-10-строк-1.1\"><span class=\"toc-item-num\">1.1&nbsp;&nbsp;</span>Откроем файл и выведем первые 10 строк</a></span></li><li><span><a href=\"#Выведем-основную-информацию-о-датафрейме.\" data-toc-modified-id=\"Выведем-основную-информацию-о-датафрейме.-1.2\"><span class=\"toc-item-num\">1.2&nbsp;&nbsp;</span>Выведем основную информацию о датафрейме.</a></span></li><li><span><a href=\"#Разобьем-данные-на-признаки-и-целевой-признак-и-на-выборки-(было:Преобразуем-данные)\" data-toc-modified-id=\"Разобьем-данные-на-признаки-и-целевой-признак-и-на-выборки-(было:Преобразуем-данные)-1.3\"><span class=\"toc-item-num\">1.3&nbsp;&nbsp;</span>Разобьем данные на признаки и целевой признак и на выборки (было:Преобразуем данные)</a></span></li><li><span><a href=\"#Преобразуем-данные-(было:Разобьем-данные-на-признаки-и-целевой-признак-и-на-выборки)\" data-toc-modified-id=\"Преобразуем-данные-(было:Разобьем-данные-на-признаки-и-целевой-признак-и-на-выборки)-1.4\"><span class=\"toc-item-num\">1.4&nbsp;&nbsp;</span>Преобразуем данные (было:Разобьем данные на признаки и целевой признак и на выборки)</a></span></li><li><span><a href=\"#Масштабируем-признаки\" data-toc-modified-id=\"Масштабируем-признаки-1.5\"><span class=\"toc-item-num\">1.5&nbsp;&nbsp;</span>Масштабируем признаки</a></span></li></ul></li><li><span><a href=\"#Исследование-задачи\" data-toc-modified-id=\"Исследование-задачи-2\"><span class=\"toc-item-num\">2&nbsp;&nbsp;</span>Исследование задачи</a></span><ul class=\"toc-item\"><li><span><a href=\"#Посмотрим-сколько-объектов-в-каждом-классе\" data-toc-modified-id=\"Посмотрим-сколько-объектов-в-каждом-классе-2.1\"><span class=\"toc-item-num\">2.1&nbsp;&nbsp;</span>Посмотрим сколько объектов в каждом классе</a></span></li><li><span><a href=\"#Подберем-подходящую-модель-и-ее-гиперпараметры\" data-toc-modified-id=\"Подберем-подходящую-модель-и-ее-гиперпараметры-2.2\"><span class=\"toc-item-num\">2.2&nbsp;&nbsp;</span>Подберем подходящую модель и ее гиперпараметры</a></span></li><li><span><a href=\"#Обучим-подобранную-модель-без-учета-дисбаланса\" data-toc-modified-id=\"Обучим-подобранную-модель-без-учета-дисбаланса-2.3\"><span class=\"toc-item-num\">2.3&nbsp;&nbsp;</span>Обучим подобранную модель без учета дисбаланса</a></span></li></ul></li><li><span><a href=\"#Борьба-с-дисбалансом\" data-toc-modified-id=\"Борьба-с-дисбалансом-3\"><span class=\"toc-item-num\">3&nbsp;&nbsp;</span>Борьба с дисбалансом</a></span><ul class=\"toc-item\"><li><span><a href=\"#Попробуем-обучить-модель-на-данных-с-увеличенным-количеством-класса-1.\" data-toc-modified-id=\"Попробуем-обучить-модель-на-данных-с-увеличенным-количеством-класса-1.-3.1\"><span class=\"toc-item-num\">3.1&nbsp;&nbsp;</span>Попробуем обучить модель на данных с увеличенным количеством класса 1.</a></span></li><li><span><a href=\"#Подберем-подходящую-модель-и-ее-гиперпараметры-с-учетом-дисбаланса-с-помощью-взвешивания-классов\" data-toc-modified-id=\"Подберем-подходящую-модель-и-ее-гиперпараметры-с-учетом-дисбаланса-с-помощью-взвешивания-классов-3.2\"><span class=\"toc-item-num\">3.2&nbsp;&nbsp;</span>Подберем подходящую модель и ее гиперпараметры с учетом дисбаланса с помощью взвешивания классов</a></span></li><li><span><a href=\"#Обучим-подобранную-модель-с-учетом-дисбаланса-классов-и-посчитаем-метрику-F1\" data-toc-modified-id=\"Обучим-подобранную-модель-с-учетом-дисбаланса-классов-и-посчитаем-метрику-F1-3.3\"><span class=\"toc-item-num\">3.3&nbsp;&nbsp;</span>Обучим подобранную модель с учетом дисбаланса классов и посчитаем метрику F1</a></span></li></ul></li><li><span><a href=\"#Тестирование-модели\" data-toc-modified-id=\"Тестирование-модели-4\"><span class=\"toc-item-num\">4&nbsp;&nbsp;</span>Тестирование модели</a></span><ul class=\"toc-item\"><li><span><a href=\"#Тестирование-модели\" data-toc-modified-id=\"Тестирование-модели-4.1\"><span class=\"toc-item-num\">4.1&nbsp;&nbsp;</span>Тестирование модели</a></span></li><li><span><a href=\"#Проверим-модель-на-адекватность\" data-toc-modified-id=\"Проверим-модель-на-адекватность-4.2\"><span class=\"toc-item-num\">4.2&nbsp;&nbsp;</span>Проверим модель на адекватность</a></span></li><li><span><a href=\"#Выводы\" data-toc-modified-id=\"Выводы-4.3\"><span class=\"toc-item-num\">4.3&nbsp;&nbsp;</span>Выводы</a></span></li></ul></li></ul></div>"
   ]
  },
  {
   "cell_type": "markdown",
   "metadata": {},
   "source": [
    "# Отток клиентов"
   ]
  },
  {
   "cell_type": "markdown",
   "metadata": {},
   "source": [
    "Задача: Из банка стали уходить клиенты понемногу каждый месяц. Банковские маркетологи посчитали: сохранять текущих клиентов дешевле, чем привлекать новых. Нужно спрогнозировать, уйдёт клиент из банка в ближайшее время или нет. \n",
    "\n",
    "Нам предоставлены исторические данные о поведении клиентов и расторжении договоров с банком. "
   ]
  },
  {
   "cell_type": "markdown",
   "metadata": {},
   "source": [
    "**Описание данных:**\n",
    "\n",
    "Признаки\n",
    "- RowNumber — индекс строки в данных\n",
    "- CustomerId — уникальный идентификатор клиента\n",
    "- Surname — фамилия\n",
    "- CreditScore — кредитный рейтинг\n",
    "- Geography — страна проживания\n",
    "- Gender — пол\n",
    "- Age — возраст\n",
    "- Tenure — сколько лет человек является клиентом банка\n",
    "- Balance — баланс на счёте\n",
    "- NumOfProducts — количество продуктов банка, используемых клиентом\n",
    "- HasCrCard — наличие кредитной карты\n",
    "- IsActiveMember — активность клиента\n",
    "- EstimatedSalary — предполагаемая зарплата\n",
    "\n",
    "Целевой признак\n",
    "- Exited — факт ухода клиента"
   ]
  },
  {
   "cell_type": "markdown",
   "metadata": {},
   "source": [
    "## Подготовка данных"
   ]
  },
  {
   "cell_type": "code",
   "execution_count": 2,
   "metadata": {},
   "outputs": [],
   "source": [
    "import pandas as pd\n",
    "from sklearn.preprocessing import StandardScaler\n",
    "from sklearn.model_selection import train_test_split\n",
    "from sklearn.tree import DecisionTreeClassifier\n",
    "from sklearn.ensemble import RandomForestClassifier\n",
    "from sklearn.linear_model import LogisticRegression\n",
    "from sklearn.metrics import accuracy_score\n",
    "from sklearn.metrics import f1_score\n",
    "from sklearn.metrics import roc_auc_score\n",
    "from sklearn.metrics import precision_score\n",
    "from sklearn.metrics import recall_score\n",
    "from sklearn.utils import shuffle\n",
    "from sklearn.preprocessing import OneHotEncoder"
   ]
  },
  {
   "cell_type": "markdown",
   "metadata": {},
   "source": [
    "### Откроем файл и выведем первые 10 строк"
   ]
  },
  {
   "cell_type": "code",
   "execution_count": 3,
   "metadata": {},
   "outputs": [
    {
     "name": "stdout",
     "output_type": "stream",
     "text": [
      "Файл успешно загружен!\n"
     ]
    }
   ],
   "source": [
    "try:\n",
    "    data = pd.read_csv('/datasets/Churn.csv')\n",
    "    print('Файл успешно загружен!')\n",
    "except:\n",
    "    print('Ошибка загрузки...')"
   ]
  },
  {
   "cell_type": "code",
   "execution_count": 4,
   "metadata": {
    "scrolled": true
   },
   "outputs": [
    {
     "data": {
      "text/html": [
       "<div>\n",
       "<style scoped>\n",
       "    .dataframe tbody tr th:only-of-type {\n",
       "        vertical-align: middle;\n",
       "    }\n",
       "\n",
       "    .dataframe tbody tr th {\n",
       "        vertical-align: top;\n",
       "    }\n",
       "\n",
       "    .dataframe thead th {\n",
       "        text-align: right;\n",
       "    }\n",
       "</style>\n",
       "<table border=\"1\" class=\"dataframe\">\n",
       "  <thead>\n",
       "    <tr style=\"text-align: right;\">\n",
       "      <th></th>\n",
       "      <th>RowNumber</th>\n",
       "      <th>CustomerId</th>\n",
       "      <th>Surname</th>\n",
       "      <th>CreditScore</th>\n",
       "      <th>Geography</th>\n",
       "      <th>Gender</th>\n",
       "      <th>Age</th>\n",
       "      <th>Tenure</th>\n",
       "      <th>Balance</th>\n",
       "      <th>NumOfProducts</th>\n",
       "      <th>HasCrCard</th>\n",
       "      <th>IsActiveMember</th>\n",
       "      <th>EstimatedSalary</th>\n",
       "      <th>Exited</th>\n",
       "    </tr>\n",
       "  </thead>\n",
       "  <tbody>\n",
       "    <tr>\n",
       "      <th>0</th>\n",
       "      <td>1</td>\n",
       "      <td>15634602</td>\n",
       "      <td>Hargrave</td>\n",
       "      <td>619</td>\n",
       "      <td>France</td>\n",
       "      <td>Female</td>\n",
       "      <td>42</td>\n",
       "      <td>2.0</td>\n",
       "      <td>0.00</td>\n",
       "      <td>1</td>\n",
       "      <td>1</td>\n",
       "      <td>1</td>\n",
       "      <td>101348.88</td>\n",
       "      <td>1</td>\n",
       "    </tr>\n",
       "    <tr>\n",
       "      <th>1</th>\n",
       "      <td>2</td>\n",
       "      <td>15647311</td>\n",
       "      <td>Hill</td>\n",
       "      <td>608</td>\n",
       "      <td>Spain</td>\n",
       "      <td>Female</td>\n",
       "      <td>41</td>\n",
       "      <td>1.0</td>\n",
       "      <td>83807.86</td>\n",
       "      <td>1</td>\n",
       "      <td>0</td>\n",
       "      <td>1</td>\n",
       "      <td>112542.58</td>\n",
       "      <td>0</td>\n",
       "    </tr>\n",
       "    <tr>\n",
       "      <th>2</th>\n",
       "      <td>3</td>\n",
       "      <td>15619304</td>\n",
       "      <td>Onio</td>\n",
       "      <td>502</td>\n",
       "      <td>France</td>\n",
       "      <td>Female</td>\n",
       "      <td>42</td>\n",
       "      <td>8.0</td>\n",
       "      <td>159660.80</td>\n",
       "      <td>3</td>\n",
       "      <td>1</td>\n",
       "      <td>0</td>\n",
       "      <td>113931.57</td>\n",
       "      <td>1</td>\n",
       "    </tr>\n",
       "    <tr>\n",
       "      <th>3</th>\n",
       "      <td>4</td>\n",
       "      <td>15701354</td>\n",
       "      <td>Boni</td>\n",
       "      <td>699</td>\n",
       "      <td>France</td>\n",
       "      <td>Female</td>\n",
       "      <td>39</td>\n",
       "      <td>1.0</td>\n",
       "      <td>0.00</td>\n",
       "      <td>2</td>\n",
       "      <td>0</td>\n",
       "      <td>0</td>\n",
       "      <td>93826.63</td>\n",
       "      <td>0</td>\n",
       "    </tr>\n",
       "    <tr>\n",
       "      <th>4</th>\n",
       "      <td>5</td>\n",
       "      <td>15737888</td>\n",
       "      <td>Mitchell</td>\n",
       "      <td>850</td>\n",
       "      <td>Spain</td>\n",
       "      <td>Female</td>\n",
       "      <td>43</td>\n",
       "      <td>2.0</td>\n",
       "      <td>125510.82</td>\n",
       "      <td>1</td>\n",
       "      <td>1</td>\n",
       "      <td>1</td>\n",
       "      <td>79084.10</td>\n",
       "      <td>0</td>\n",
       "    </tr>\n",
       "    <tr>\n",
       "      <th>5</th>\n",
       "      <td>6</td>\n",
       "      <td>15574012</td>\n",
       "      <td>Chu</td>\n",
       "      <td>645</td>\n",
       "      <td>Spain</td>\n",
       "      <td>Male</td>\n",
       "      <td>44</td>\n",
       "      <td>8.0</td>\n",
       "      <td>113755.78</td>\n",
       "      <td>2</td>\n",
       "      <td>1</td>\n",
       "      <td>0</td>\n",
       "      <td>149756.71</td>\n",
       "      <td>1</td>\n",
       "    </tr>\n",
       "    <tr>\n",
       "      <th>6</th>\n",
       "      <td>7</td>\n",
       "      <td>15592531</td>\n",
       "      <td>Bartlett</td>\n",
       "      <td>822</td>\n",
       "      <td>France</td>\n",
       "      <td>Male</td>\n",
       "      <td>50</td>\n",
       "      <td>7.0</td>\n",
       "      <td>0.00</td>\n",
       "      <td>2</td>\n",
       "      <td>1</td>\n",
       "      <td>1</td>\n",
       "      <td>10062.80</td>\n",
       "      <td>0</td>\n",
       "    </tr>\n",
       "    <tr>\n",
       "      <th>7</th>\n",
       "      <td>8</td>\n",
       "      <td>15656148</td>\n",
       "      <td>Obinna</td>\n",
       "      <td>376</td>\n",
       "      <td>Germany</td>\n",
       "      <td>Female</td>\n",
       "      <td>29</td>\n",
       "      <td>4.0</td>\n",
       "      <td>115046.74</td>\n",
       "      <td>4</td>\n",
       "      <td>1</td>\n",
       "      <td>0</td>\n",
       "      <td>119346.88</td>\n",
       "      <td>1</td>\n",
       "    </tr>\n",
       "    <tr>\n",
       "      <th>8</th>\n",
       "      <td>9</td>\n",
       "      <td>15792365</td>\n",
       "      <td>He</td>\n",
       "      <td>501</td>\n",
       "      <td>France</td>\n",
       "      <td>Male</td>\n",
       "      <td>44</td>\n",
       "      <td>4.0</td>\n",
       "      <td>142051.07</td>\n",
       "      <td>2</td>\n",
       "      <td>0</td>\n",
       "      <td>1</td>\n",
       "      <td>74940.50</td>\n",
       "      <td>0</td>\n",
       "    </tr>\n",
       "    <tr>\n",
       "      <th>9</th>\n",
       "      <td>10</td>\n",
       "      <td>15592389</td>\n",
       "      <td>H?</td>\n",
       "      <td>684</td>\n",
       "      <td>France</td>\n",
       "      <td>Male</td>\n",
       "      <td>27</td>\n",
       "      <td>2.0</td>\n",
       "      <td>134603.88</td>\n",
       "      <td>1</td>\n",
       "      <td>1</td>\n",
       "      <td>1</td>\n",
       "      <td>71725.73</td>\n",
       "      <td>0</td>\n",
       "    </tr>\n",
       "  </tbody>\n",
       "</table>\n",
       "</div>"
      ],
      "text/plain": [
       "   RowNumber  CustomerId   Surname  CreditScore Geography  Gender  Age  \\\n",
       "0          1    15634602  Hargrave          619    France  Female   42   \n",
       "1          2    15647311      Hill          608     Spain  Female   41   \n",
       "2          3    15619304      Onio          502    France  Female   42   \n",
       "3          4    15701354      Boni          699    France  Female   39   \n",
       "4          5    15737888  Mitchell          850     Spain  Female   43   \n",
       "5          6    15574012       Chu          645     Spain    Male   44   \n",
       "6          7    15592531  Bartlett          822    France    Male   50   \n",
       "7          8    15656148    Obinna          376   Germany  Female   29   \n",
       "8          9    15792365        He          501    France    Male   44   \n",
       "9         10    15592389        H?          684    France    Male   27   \n",
       "\n",
       "   Tenure    Balance  NumOfProducts  HasCrCard  IsActiveMember  \\\n",
       "0     2.0       0.00              1          1               1   \n",
       "1     1.0   83807.86              1          0               1   \n",
       "2     8.0  159660.80              3          1               0   \n",
       "3     1.0       0.00              2          0               0   \n",
       "4     2.0  125510.82              1          1               1   \n",
       "5     8.0  113755.78              2          1               0   \n",
       "6     7.0       0.00              2          1               1   \n",
       "7     4.0  115046.74              4          1               0   \n",
       "8     4.0  142051.07              2          0               1   \n",
       "9     2.0  134603.88              1          1               1   \n",
       "\n",
       "   EstimatedSalary  Exited  \n",
       "0        101348.88       1  \n",
       "1        112542.58       0  \n",
       "2        113931.57       1  \n",
       "3         93826.63       0  \n",
       "4         79084.10       0  \n",
       "5        149756.71       1  \n",
       "6         10062.80       0  \n",
       "7        119346.88       1  \n",
       "8         74940.50       0  \n",
       "9         71725.73       0  "
      ]
     },
     "execution_count": 4,
     "metadata": {},
     "output_type": "execute_result"
    }
   ],
   "source": [
    "data.head(10)"
   ]
  },
  {
   "cell_type": "markdown",
   "metadata": {},
   "source": [
    "### Выведем основную информацию о датафрейме."
   ]
  },
  {
   "cell_type": "code",
   "execution_count": 5,
   "metadata": {},
   "outputs": [
    {
     "name": "stdout",
     "output_type": "stream",
     "text": [
      "<class 'pandas.core.frame.DataFrame'>\n",
      "RangeIndex: 10000 entries, 0 to 9999\n",
      "Data columns (total 14 columns):\n",
      " #   Column           Non-Null Count  Dtype  \n",
      "---  ------           --------------  -----  \n",
      " 0   RowNumber        10000 non-null  int64  \n",
      " 1   CustomerId       10000 non-null  int64  \n",
      " 2   Surname          10000 non-null  object \n",
      " 3   CreditScore      10000 non-null  int64  \n",
      " 4   Geography        10000 non-null  object \n",
      " 5   Gender           10000 non-null  object \n",
      " 6   Age              10000 non-null  int64  \n",
      " 7   Tenure           9091 non-null   float64\n",
      " 8   Balance          10000 non-null  float64\n",
      " 9   NumOfProducts    10000 non-null  int64  \n",
      " 10  HasCrCard        10000 non-null  int64  \n",
      " 11  IsActiveMember   10000 non-null  int64  \n",
      " 12  EstimatedSalary  10000 non-null  float64\n",
      " 13  Exited           10000 non-null  int64  \n",
      "dtypes: float64(3), int64(8), object(3)\n",
      "memory usage: 1.1+ MB\n"
     ]
    }
   ],
   "source": [
    "data.info()"
   ]
  },
  {
   "cell_type": "markdown",
   "metadata": {},
   "source": [
    "Заполним пустые значения Tenure медианой."
   ]
  },
  {
   "cell_type": "code",
   "execution_count": 6,
   "metadata": {},
   "outputs": [
    {
     "data": {
      "text/plain": [
       "RowNumber          0\n",
       "CustomerId         0\n",
       "Surname            0\n",
       "CreditScore        0\n",
       "Geography          0\n",
       "Gender             0\n",
       "Age                0\n",
       "Tenure             0\n",
       "Balance            0\n",
       "NumOfProducts      0\n",
       "HasCrCard          0\n",
       "IsActiveMember     0\n",
       "EstimatedSalary    0\n",
       "Exited             0\n",
       "dtype: int64"
      ]
     },
     "execution_count": 6,
     "metadata": {},
     "output_type": "execute_result"
    }
   ],
   "source": [
    "data.loc[data['Tenure'].isna(), 'Tenure'] = data['Tenure'].median()\n",
    "data.isna().sum()"
   ]
  },
  {
   "cell_type": "markdown",
   "metadata": {},
   "source": [
    "### Разобьем данные на признаки и целевой признак и на выборки (было:Преобразуем данные)"
   ]
  },
  {
   "cell_type": "markdown",
   "metadata": {},
   "source": [
    "Для модели отдельным объектом и так является каждая строка, следовательно нам не нужны идентификаторы клиентов, фамилия и номер строки в данных, на них модель обучаться не будет. Удалим их и запишем в новый датафрейм."
   ]
  },
  {
   "cell_type": "code",
   "execution_count": 9,
   "metadata": {},
   "outputs": [],
   "source": [
    "data_for_model = data.drop(['RowNumber','CustomerId','Surname'], axis = 1)"
   ]
  },
  {
   "cell_type": "code",
   "execution_count": 10,
   "metadata": {},
   "outputs": [
    {
     "data": {
      "text/html": [
       "<div>\n",
       "<style scoped>\n",
       "    .dataframe tbody tr th:only-of-type {\n",
       "        vertical-align: middle;\n",
       "    }\n",
       "\n",
       "    .dataframe tbody tr th {\n",
       "        vertical-align: top;\n",
       "    }\n",
       "\n",
       "    .dataframe thead th {\n",
       "        text-align: right;\n",
       "    }\n",
       "</style>\n",
       "<table border=\"1\" class=\"dataframe\">\n",
       "  <thead>\n",
       "    <tr style=\"text-align: right;\">\n",
       "      <th></th>\n",
       "      <th>CreditScore</th>\n",
       "      <th>Geography</th>\n",
       "      <th>Gender</th>\n",
       "      <th>Age</th>\n",
       "      <th>Tenure</th>\n",
       "      <th>Balance</th>\n",
       "      <th>NumOfProducts</th>\n",
       "      <th>HasCrCard</th>\n",
       "      <th>IsActiveMember</th>\n",
       "      <th>EstimatedSalary</th>\n",
       "      <th>Exited</th>\n",
       "    </tr>\n",
       "  </thead>\n",
       "  <tbody>\n",
       "    <tr>\n",
       "      <th>0</th>\n",
       "      <td>619</td>\n",
       "      <td>France</td>\n",
       "      <td>Female</td>\n",
       "      <td>42</td>\n",
       "      <td>2.0</td>\n",
       "      <td>0.00</td>\n",
       "      <td>1</td>\n",
       "      <td>1</td>\n",
       "      <td>1</td>\n",
       "      <td>101348.88</td>\n",
       "      <td>1</td>\n",
       "    </tr>\n",
       "    <tr>\n",
       "      <th>1</th>\n",
       "      <td>608</td>\n",
       "      <td>Spain</td>\n",
       "      <td>Female</td>\n",
       "      <td>41</td>\n",
       "      <td>1.0</td>\n",
       "      <td>83807.86</td>\n",
       "      <td>1</td>\n",
       "      <td>0</td>\n",
       "      <td>1</td>\n",
       "      <td>112542.58</td>\n",
       "      <td>0</td>\n",
       "    </tr>\n",
       "    <tr>\n",
       "      <th>2</th>\n",
       "      <td>502</td>\n",
       "      <td>France</td>\n",
       "      <td>Female</td>\n",
       "      <td>42</td>\n",
       "      <td>8.0</td>\n",
       "      <td>159660.80</td>\n",
       "      <td>3</td>\n",
       "      <td>1</td>\n",
       "      <td>0</td>\n",
       "      <td>113931.57</td>\n",
       "      <td>1</td>\n",
       "    </tr>\n",
       "    <tr>\n",
       "      <th>3</th>\n",
       "      <td>699</td>\n",
       "      <td>France</td>\n",
       "      <td>Female</td>\n",
       "      <td>39</td>\n",
       "      <td>1.0</td>\n",
       "      <td>0.00</td>\n",
       "      <td>2</td>\n",
       "      <td>0</td>\n",
       "      <td>0</td>\n",
       "      <td>93826.63</td>\n",
       "      <td>0</td>\n",
       "    </tr>\n",
       "    <tr>\n",
       "      <th>4</th>\n",
       "      <td>850</td>\n",
       "      <td>Spain</td>\n",
       "      <td>Female</td>\n",
       "      <td>43</td>\n",
       "      <td>2.0</td>\n",
       "      <td>125510.82</td>\n",
       "      <td>1</td>\n",
       "      <td>1</td>\n",
       "      <td>1</td>\n",
       "      <td>79084.10</td>\n",
       "      <td>0</td>\n",
       "    </tr>\n",
       "  </tbody>\n",
       "</table>\n",
       "</div>"
      ],
      "text/plain": [
       "   CreditScore Geography  Gender  Age  Tenure    Balance  NumOfProducts  \\\n",
       "0          619    France  Female   42     2.0       0.00              1   \n",
       "1          608     Spain  Female   41     1.0   83807.86              1   \n",
       "2          502    France  Female   42     8.0  159660.80              3   \n",
       "3          699    France  Female   39     1.0       0.00              2   \n",
       "4          850     Spain  Female   43     2.0  125510.82              1   \n",
       "\n",
       "   HasCrCard  IsActiveMember  EstimatedSalary  Exited  \n",
       "0          1               1        101348.88       1  \n",
       "1          0               1        112542.58       0  \n",
       "2          1               0        113931.57       1  \n",
       "3          0               0         93826.63       0  \n",
       "4          1               1         79084.10       0  "
      ]
     },
     "execution_count": 10,
     "metadata": {},
     "output_type": "execute_result"
    }
   ],
   "source": [
    "data_for_model.head()"
   ]
  },
  {
   "cell_type": "markdown",
   "metadata": {},
   "source": [
    "Разделим данные признаки, целевой признак и на выборки"
   ]
  },
  {
   "cell_type": "code",
   "execution_count": 11,
   "metadata": {},
   "outputs": [
    {
     "name": "stdout",
     "output_type": "stream",
     "text": [
      "Размеры выборок:\n",
      "Тренировочная (6000, 10)\n",
      "Валидационная (2000, 10)\n",
      "Тестовая (2000, 10)\n"
     ]
    }
   ],
   "source": [
    "target = data_for_model['Exited']\n",
    "features = data_for_model.drop('Exited', axis=1)\n",
    "\n",
    "features_train, features_valid, target_train, target_valid = train_test_split(\n",
    "    features, target, test_size = 0.4, random_state=12345) #отделим 40% на тестовую+валидационную выборки\n",
    "features_valid, features_test, target_valid, target_test = train_test_split(\n",
    "    features_valid, target_valid, test_size= 0.5, random_state=12345) #делим на равные части \n",
    "print('Размеры выборок:')\n",
    "print('Тренировочная',features_train.shape)\n",
    "print('Валидационная',features_valid.shape)\n",
    "print('Тестовая',features_test.shape)"
   ]
  },
  {
   "cell_type": "markdown",
   "metadata": {},
   "source": [
    "### Преобразуем данные (было:Разобьем данные на признаки и целевой признак и на выборки)"
   ]
  },
  {
   "cell_type": "markdown",
   "metadata": {},
   "source": [
    "Закодируем данные с помощью OHE"
   ]
  },
  {
   "cell_type": "code",
   "execution_count": 13,
   "metadata": {
    "scrolled": false
   },
   "outputs": [
    {
     "name": "stdout",
     "output_type": "stream",
     "text": [
      "Размеры новых выборок:\n",
      "Тренировочная (6000, 11)\n",
      "Валидационная (2000, 11)\n",
      "Тестовая (2000, 11)\n"
     ]
    }
   ],
   "source": [
    "categ = ['Geography', 'Gender', 'HasCrCard', 'IsActiveMember'] \n",
    "encoder = OneHotEncoder( drop='first')\n",
    "encoder.fit(features_train[categ])\n",
    "feat_name = encoder.get_feature_names_out() \n",
    "\n",
    "features_train_ohe = encoder.transform(features_train[categ]).toarray() #новые закодированные признаки\n",
    "features_train_ohe = pd.DataFrame(features_train_ohe, columns = feat_name, index = features_train.index).join(\n",
    "    features_train.drop(categ, axis = 1)) #объединяем по идексу\n",
    "\n",
    "features_valid_ohe = encoder.transform(features_valid[categ]).toarray() #новые закодированные признаки\n",
    "features_valid_ohe = pd.DataFrame(features_valid_ohe, columns = feat_name, index = features_valid.index).join(\n",
    "    features_valid.drop(categ, axis = 1)) #объединяем по идексу\n",
    "\n",
    "features_test_ohe = encoder.transform(features_test[categ]).toarray() #новые закодированные признаки\n",
    "features_test_ohe = pd.DataFrame(features_test_ohe, columns = feat_name, index = features_test.index).join(\n",
    "    features_test.drop(categ, axis = 1)) #объединяем по идексу\n",
    "\n",
    "\n",
    "\n",
    "print('Размеры новых выборок:')\n",
    "print('Тренировочная',features_train_ohe.shape)\n",
    "print('Валидационная',features_valid_ohe.shape)\n",
    "print('Тестовая',features_test_ohe.shape)"
   ]
  },
  {
   "cell_type": "markdown",
   "metadata": {},
   "source": [
    "### Масштабируем признаки"
   ]
  },
  {
   "cell_type": "code",
   "execution_count": 14,
   "metadata": {},
   "outputs": [],
   "source": [
    "numeric = ['CreditScore', 'Age', 'Tenure', 'Balance','NumOfProducts', 'EstimatedSalary'] #выделим столбцы для масштабирования\n",
    "\n",
    "scaler = StandardScaler()\n",
    "scaler.fit(features_train_ohe[numeric])\n",
    "features_train_ohe[numeric] = scaler.transform(features_train_ohe[numeric])\n",
    "features_valid_ohe[numeric] = scaler.transform(features_valid_ohe[numeric])\n",
    "features_test_ohe[numeric] = scaler.transform(features_test_ohe[numeric])\n"
   ]
  },
  {
   "cell_type": "code",
   "execution_count": 15,
   "metadata": {
    "scrolled": true
   },
   "outputs": [
    {
     "data": {
      "text/html": [
       "<div>\n",
       "<style scoped>\n",
       "    .dataframe tbody tr th:only-of-type {\n",
       "        vertical-align: middle;\n",
       "    }\n",
       "\n",
       "    .dataframe tbody tr th {\n",
       "        vertical-align: top;\n",
       "    }\n",
       "\n",
       "    .dataframe thead th {\n",
       "        text-align: right;\n",
       "    }\n",
       "</style>\n",
       "<table border=\"1\" class=\"dataframe\">\n",
       "  <thead>\n",
       "    <tr style=\"text-align: right;\">\n",
       "      <th></th>\n",
       "      <th>Geography_Germany</th>\n",
       "      <th>Geography_Spain</th>\n",
       "      <th>Gender_Male</th>\n",
       "      <th>HasCrCard_1</th>\n",
       "      <th>IsActiveMember_1</th>\n",
       "      <th>CreditScore</th>\n",
       "      <th>Age</th>\n",
       "      <th>Tenure</th>\n",
       "      <th>Balance</th>\n",
       "      <th>NumOfProducts</th>\n",
       "      <th>EstimatedSalary</th>\n",
       "    </tr>\n",
       "  </thead>\n",
       "  <tbody>\n",
       "    <tr>\n",
       "      <th>7479</th>\n",
       "      <td>0.0</td>\n",
       "      <td>1.0</td>\n",
       "      <td>1.0</td>\n",
       "      <td>1.0</td>\n",
       "      <td>0.0</td>\n",
       "      <td>-0.886751</td>\n",
       "      <td>-0.373192</td>\n",
       "      <td>1.082277</td>\n",
       "      <td>1.232271</td>\n",
       "      <td>-0.891560</td>\n",
       "      <td>-0.187705</td>\n",
       "    </tr>\n",
       "    <tr>\n",
       "      <th>3411</th>\n",
       "      <td>0.0</td>\n",
       "      <td>0.0</td>\n",
       "      <td>0.0</td>\n",
       "      <td>0.0</td>\n",
       "      <td>0.0</td>\n",
       "      <td>0.608663</td>\n",
       "      <td>-0.183385</td>\n",
       "      <td>1.082277</td>\n",
       "      <td>0.600563</td>\n",
       "      <td>-0.891560</td>\n",
       "      <td>-0.333945</td>\n",
       "    </tr>\n",
       "    <tr>\n",
       "      <th>6027</th>\n",
       "      <td>1.0</td>\n",
       "      <td>0.0</td>\n",
       "      <td>1.0</td>\n",
       "      <td>0.0</td>\n",
       "      <td>1.0</td>\n",
       "      <td>2.052152</td>\n",
       "      <td>0.480939</td>\n",
       "      <td>-0.737696</td>\n",
       "      <td>1.027098</td>\n",
       "      <td>0.830152</td>\n",
       "      <td>1.503095</td>\n",
       "    </tr>\n",
       "    <tr>\n",
       "      <th>1247</th>\n",
       "      <td>0.0</td>\n",
       "      <td>0.0</td>\n",
       "      <td>1.0</td>\n",
       "      <td>1.0</td>\n",
       "      <td>0.0</td>\n",
       "      <td>-1.457915</td>\n",
       "      <td>-1.417129</td>\n",
       "      <td>0.354288</td>\n",
       "      <td>-1.233163</td>\n",
       "      <td>0.830152</td>\n",
       "      <td>-1.071061</td>\n",
       "    </tr>\n",
       "    <tr>\n",
       "      <th>3716</th>\n",
       "      <td>1.0</td>\n",
       "      <td>0.0</td>\n",
       "      <td>0.0</td>\n",
       "      <td>0.0</td>\n",
       "      <td>0.0</td>\n",
       "      <td>0.130961</td>\n",
       "      <td>-1.132419</td>\n",
       "      <td>-1.101690</td>\n",
       "      <td>1.140475</td>\n",
       "      <td>-0.891560</td>\n",
       "      <td>1.524268</td>\n",
       "    </tr>\n",
       "  </tbody>\n",
       "</table>\n",
       "</div>"
      ],
      "text/plain": [
       "      Geography_Germany  Geography_Spain  Gender_Male  HasCrCard_1  \\\n",
       "7479                0.0              1.0          1.0          1.0   \n",
       "3411                0.0              0.0          0.0          0.0   \n",
       "6027                1.0              0.0          1.0          0.0   \n",
       "1247                0.0              0.0          1.0          1.0   \n",
       "3716                1.0              0.0          0.0          0.0   \n",
       "\n",
       "      IsActiveMember_1  CreditScore       Age    Tenure   Balance  \\\n",
       "7479               0.0    -0.886751 -0.373192  1.082277  1.232271   \n",
       "3411               0.0     0.608663 -0.183385  1.082277  0.600563   \n",
       "6027               1.0     2.052152  0.480939 -0.737696  1.027098   \n",
       "1247               0.0    -1.457915 -1.417129  0.354288 -1.233163   \n",
       "3716               0.0     0.130961 -1.132419 -1.101690  1.140475   \n",
       "\n",
       "      NumOfProducts  EstimatedSalary  \n",
       "7479      -0.891560        -0.187705  \n",
       "3411      -0.891560        -0.333945  \n",
       "6027       0.830152         1.503095  \n",
       "1247       0.830152        -1.071061  \n",
       "3716      -0.891560         1.524268  "
      ]
     },
     "execution_count": 15,
     "metadata": {},
     "output_type": "execute_result"
    }
   ],
   "source": [
    "features_train_ohe.head() #проверяем"
   ]
  },
  {
   "cell_type": "markdown",
   "metadata": {},
   "source": [
    "## Исследование задачи"
   ]
  },
  {
   "cell_type": "markdown",
   "metadata": {},
   "source": [
    "### Посмотрим сколько объектов в каждом классе"
   ]
  },
  {
   "cell_type": "code",
   "execution_count": 16,
   "metadata": {},
   "outputs": [
    {
     "data": {
      "image/png": "[encoded data removed]",
      "text/plain": [
       "<Figure size 432x288 with 1 Axes>"
      ]
     },
     "metadata": {
      "needs_background": "light"
     },
     "output_type": "display_data"
    }
   ],
   "source": [
    "target.value_counts().plot.bar(color = ['gray','purple'], title = 'Баланс классов');"
   ]
  },
  {
   "cell_type": "markdown",
   "metadata": {},
   "source": [
    "Наблюдается явный дисбаланс в сторону класса 0."
   ]
  },
  {
   "cell_type": "markdown",
   "metadata": {},
   "source": [
    "### Подберем подходящую модель и ее гиперпараметры"
   ]
  },
  {
   "cell_type": "markdown",
   "metadata": {},
   "source": [
    "Сравним accuracy для логистической регрессии и случайного леса."
   ]
  },
  {
   "cell_type": "code",
   "execution_count": 17,
   "metadata": {},
   "outputs": [
    {
     "name": "stdout",
     "output_type": "stream",
     "text": [
      "Accuracy логистической регрессии: 0.802\n"
     ]
    }
   ],
   "source": [
    "model_log_reg = LogisticRegression(random_state=12345)\n",
    "model_log_reg.fit(features_train_ohe,target_train)\n",
    "predictions_valid = model_log_reg.predict(features_valid_ohe)\n",
    "accuracy_log_reg = accuracy_score(target_valid, predictions_valid)\n",
    "print('Accuracy логистической регрессии:',accuracy_log_reg)"
   ]
  },
  {
   "cell_type": "markdown",
   "metadata": {},
   "source": [
    "В модели случайного леса переберем гиперпараметр глубины дерева от 1 до 25."
   ]
  },
  {
   "cell_type": "code",
   "execution_count": 18,
   "metadata": {},
   "outputs": [
    {
     "name": "stdout",
     "output_type": "stream",
     "text": [
      "Лучшая глубина дерева: 7\n"
     ]
    }
   ],
   "source": [
    "best_forest_score = 0\n",
    "best_depth = 0\n",
    "for depth in range(1, 26, 1):\n",
    "    model_forest = RandomForestClassifier(n_estimators=20, max_depth=depth, random_state=12345)\n",
    "    model_forest.fit(features_train_ohe, target_train)\n",
    "    if model_forest.score(features_valid_ohe, target_valid)>best_forest_score:\n",
    "        best_depth = depth\n",
    "        best_forest_score =model_forest.score(features_valid_ohe, target_valid)\n",
    "print('Лучшая глубина дерева:', best_depth)"
   ]
  },
  {
   "cell_type": "markdown",
   "metadata": {},
   "source": [
    "Переберем гиперпараметр количества деревьев от 10 до 200 с шагом 10."
   ]
  },
  {
   "cell_type": "code",
   "execution_count": 19,
   "metadata": {},
   "outputs": [
    {
     "name": "stdout",
     "output_type": "stream",
     "text": [
      "Количеcтво деревьев в лучшей модели: 20\n",
      "Accuracy лучшего леса 0.8605\n"
     ]
    }
   ],
   "source": [
    "best_forest_score = 0\n",
    "best_n_estimators = 0\n",
    "for n in range(10, 251, 10):\n",
    "    model_forest = RandomForestClassifier(n_estimators=n, \n",
    "        max_depth=7, random_state=12345)\n",
    "    model_forest.fit(features_train_ohe, target_train)\n",
    "    if model_forest.score(features_valid_ohe, target_valid)>best_forest_score:\n",
    "        best_n_estimators = n\n",
    "        best_forest_score =model_forest.score(features_valid_ohe, target_valid)\n",
    "\n",
    "print('Количеcтво деревьев в лучшей модели:', best_n_estimators)\n",
    "print('Accuracy лучшего леса', model_forest.score(features_valid_ohe, target_valid))"
   ]
  },
  {
   "cell_type": "markdown",
   "metadata": {},
   "source": [
    "### Обучим подобранную модель без учета дисбаланса"
   ]
  },
  {
   "cell_type": "code",
   "execution_count": 1,
   "metadata": {},
   "outputs": [],
   "source": [
    "model = RandomForestClassifier(n_estimators=20, max_depth=7, random_state=12345)\n",
    "model.fit(features_train_ohe, target_train)"
   ]
  },
  {
   "cell_type": "markdown",
   "metadata": {},
   "source": [
    "Посчитаем метрику F1 для обученной модели."
   ]
  },
  {
   "cell_type": "code",
   "execution_count": 21,
   "metadata": {},
   "outputs": [
    {
     "name": "stdout",
     "output_type": "stream",
     "text": [
      "0.5696202531645569\n"
     ]
    }
   ],
   "source": [
    "predicted_valid = model.predict(features_valid_ohe)\n",
    "print(f1_score(target_valid, predicted_valid))"
   ]
  },
  {
   "cell_type": "markdown",
   "metadata": {},
   "source": [
    "По условию задачи нам нужно довести метрику F1 до 0.59, продолжим обучать модель уже с учетом дисбаланса."
   ]
  },
  {
   "cell_type": "markdown",
   "metadata": {},
   "source": [
    "## Борьба с дисбалансом"
   ]
  },
  {
   "cell_type": "markdown",
   "metadata": {},
   "source": [
    "### Попробуем обучить модель на данных с увеличенным количеством класса 1."
   ]
  },
  {
   "cell_type": "code",
   "execution_count": 22,
   "metadata": {},
   "outputs": [
    {
     "name": "stdout",
     "output_type": "stream",
     "text": [
      "Accuracy логистической регрессии: 0.572\n"
     ]
    }
   ],
   "source": [
    "def upsample(features, target, repeat):\n",
    "    features_zeros = features[target == 0]\n",
    "    features_ones = features[target == 1]\n",
    "    target_zeros = target[target == 0]\n",
    "    target_ones = target[target == 1]\n",
    "    features_upsampled = pd.concat([features_zeros] + [features_ones] * repeat)\n",
    "    target_upsampled = pd.concat([target_zeros] + [target_ones] * repeat)\n",
    "    features_upsampled, target_upsampled = shuffle(\n",
    "        features_upsampled, target_upsampled, random_state=12345)   \n",
    "    return features_upsampled, target_upsampled\n",
    "\n",
    "features_upsampled, target_upsampled = upsample(features_train_ohe, target_train,7)\n",
    "\n",
    "model_log_reg = LogisticRegression(random_state=12345)\n",
    "model_log_reg.fit(features_upsampled, target_upsampled)\n",
    "predicted_valid = model_log_reg.predict(features_valid_ohe)\n",
    "accuracy_log_reg = accuracy_score(target_valid, predicted_valid)\n",
    "print('Accuracy логистической регрессии:',accuracy_log_reg)"
   ]
  },
  {
   "cell_type": "markdown",
   "metadata": {},
   "source": [
    "Применим другой метод."
   ]
  },
  {
   "cell_type": "markdown",
   "metadata": {},
   "source": [
    "### Подберем подходящую модель и ее гиперпараметры с учетом дисбаланса с помощью взвешивания классов"
   ]
  },
  {
   "cell_type": "code",
   "execution_count": 23,
   "metadata": {},
   "outputs": [
    {
     "name": "stdout",
     "output_type": "stream",
     "text": [
      "Accuracy логистической регрессии: 0.702\n"
     ]
    }
   ],
   "source": [
    "model_log_reg = LogisticRegression(random_state=12345, class_weight='balanced')\n",
    "model_log_reg.fit(features_train_ohe,target_train )\n",
    "predictions_valid = model_log_reg.predict(features_valid_ohe)\n",
    "print('Accuracy логистической регрессии:', model_log_reg.score(features_valid_ohe, target_valid))"
   ]
  },
  {
   "cell_type": "code",
   "execution_count": 24,
   "metadata": {},
   "outputs": [
    {
     "name": "stdout",
     "output_type": "stream",
     "text": [
      "Лучшая глубина дерева: 15\n"
     ]
    },
    {
     "data": {
      "text/plain": [
       "0.854"
      ]
     },
     "execution_count": 24,
     "metadata": {},
     "output_type": "execute_result"
    }
   ],
   "source": [
    "best_forest_score = 0\n",
    "best_depth = 0\n",
    "for depth in range(1, 21, 1):\n",
    "    model_forest = RandomForestClassifier(n_estimators=20, max_depth=depth, random_state=12345,class_weight='balanced')\n",
    "    model_forest.fit(features_train_ohe, target_train)\n",
    "    if model_forest.score(features_valid_ohe, target_valid) > best_forest_score:\n",
    "        best_depth = depth\n",
    "        best_forest_score = model_forest.score(features_valid_ohe, target_valid)\n",
    "print('Лучшая глубина дерева:', best_depth)\n",
    "model_forest.score(features_valid_ohe, target_valid)"
   ]
  },
  {
   "cell_type": "code",
   "execution_count": 36,
   "metadata": {},
   "outputs": [
    {
     "name": "stdout",
     "output_type": "stream",
     "text": [
      "Количеcтво деревьев в лучшей модели: 160\n",
      "Accuracy лучшего леса 0.86\n"
     ]
    }
   ],
   "source": [
    "best_forest_score = 0\n",
    "best_n_estimators = 0\n",
    "for n in range(10, 251, 10):\n",
    "    model_forest = RandomForestClassifier(n_estimators=n, max_depth=15, random_state=12345,class_weight='balanced')\n",
    "    model_forest.fit(features_train_ohe, target_train)\n",
    "    if model_forest.score(features_valid_ohe, target_valid)>best_forest_score:\n",
    "        best_n_estimators = n\n",
    "        best_forest_score =model_forest.score(features_valid_ohe, target_valid)\n",
    "\n",
    "print('Количеcтво деревьев в лучшей модели:', best_n_estimators)\n",
    "print('Accuracy лучшего леса', model_forest.score(features_valid_ohe, target_valid))"
   ]
  },
  {
   "cell_type": "markdown",
   "metadata": {},
   "source": [
    "Лучшей по accuracy моделью снова оказался случайный лес."
   ]
  },
  {
   "cell_type": "markdown",
   "metadata": {},
   "source": [
    "### Обучим подобранную модель с учетом дисбаланса классов и посчитаем метрику F1"
   ]
  },
  {
   "cell_type": "code",
   "execution_count": 37,
   "metadata": {},
   "outputs": [
    {
     "name": "stdout",
     "output_type": "stream",
     "text": [
      "F1-мера на валидационной выборке 0.5946745562130178\n"
     ]
    }
   ],
   "source": [
    "model = RandomForestClassifier(n_estimators=160, max_depth=15, random_state=12345,class_weight='balanced')\n",
    "model.fit(features_train_ohe, target_train)\n",
    "predicted_valid = model.predict(features_valid_ohe)\n",
    "print('F1-мера на валидационной выборке', f1_score(target_valid, predicted_valid))"
   ]
  },
  {
   "cell_type": "markdown",
   "metadata": {},
   "source": [
    "Поищем лучшую модель по F1, а не по accuracy."
   ]
  },
  {
   "cell_type": "code",
   "execution_count": 39,
   "metadata": {},
   "outputs": [
    {
     "name": "stdout",
     "output_type": "stream",
     "text": [
      "Лучшая глубина дерева: 8\n"
     ]
    },
    {
     "data": {
      "text/plain": [
       "0.6263736263736264"
      ]
     },
     "execution_count": 39,
     "metadata": {},
     "output_type": "execute_result"
    }
   ],
   "source": [
    "best_forest_f1 = 0\n",
    "best_depth = 0\n",
    "for depth in range(1, 21, 1):\n",
    "    model_forest = RandomForestClassifier(n_estimators=20, max_depth=depth, random_state=12345,class_weight='balanced')\n",
    "    model_forest.fit(features_train_ohe, target_train)\n",
    "    predicted_valid = model_forest.predict(features_valid_ohe)\n",
    "    if f1_score(target_valid, predicted_valid)>best_forest_f1:\n",
    "        best_depth = depth\n",
    "        best_forest_f1 = f1_score(target_valid, predicted_valid)\n",
    "print('Лучшая глубина дерева:', best_depth)\n",
    "best_forest_f1"
   ]
  },
  {
   "cell_type": "code",
   "execution_count": 40,
   "metadata": {},
   "outputs": [
    {
     "name": "stdout",
     "output_type": "stream",
     "text": [
      "Количеcтво деревьев в лучшей модели: 50\n",
      "F1 0.64\n"
     ]
    }
   ],
   "source": [
    "best_forest_f1 = 0\n",
    "best_n_estimators = 0\n",
    "for n in range(10, 251, 10):\n",
    "    model_forest = RandomForestClassifier(n_estimators=n, \n",
    "        max_depth=8, random_state=12345,class_weight='balanced')\n",
    "    model_forest.fit(features_train_ohe, target_train)\n",
    "    predicted_valid = model_forest.predict(features_valid_ohe)\n",
    "    if  f1_score(target_valid, predicted_valid)>best_forest_f1:\n",
    "        best_n_estimators = n\n",
    "        best_forest_f1 =f1_score(target_valid, predicted_valid)\n",
    "print('Количеcтво деревьев в лучшей модели:', best_n_estimators)\n",
    "print('F1', best_forest_f1)"
   ]
  },
  {
   "cell_type": "markdown",
   "metadata": {},
   "source": [
    "Обучим подобранную модель"
   ]
  },
  {
   "cell_type": "code",
   "execution_count": 42,
   "metadata": {},
   "outputs": [
    {
     "name": "stdout",
     "output_type": "stream",
     "text": [
      "F1-мера на валидационной выборке 0.64\n"
     ]
    }
   ],
   "source": [
    "model = RandomForestClassifier(n_estimators=50, max_depth=8, random_state=12345,class_weight='balanced')\n",
    "model.fit(features_train_ohe, target_train)\n",
    "predicted_valid = model.predict(features_valid_ohe)\n",
    "print('F1-мера на валидационной выборке', f1_score(target_valid, predicted_valid))"
   ]
  },
  {
   "cell_type": "markdown",
   "metadata": {},
   "source": [
    "На валидационной выборке поставленной задачи мы достигли, если на тесте F1-мера будет не меньше 0.59, то модель нам подходит."
   ]
  },
  {
   "cell_type": "markdown",
   "metadata": {},
   "source": [
    "## Тестирование модели"
   ]
  },
  {
   "cell_type": "markdown",
   "metadata": {},
   "source": [
    "### Тестирование модели"
   ]
  },
  {
   "cell_type": "markdown",
   "metadata": {},
   "source": [
    "Наша итоговая модель: случайный лес с 50 деревьями, максимальной глубиной дерева 8 и с балансировкой классов. Проверим работу модели на тестовой выборке."
   ]
  },
  {
   "cell_type": "code",
   "execution_count": 43,
   "metadata": {},
   "outputs": [],
   "source": [
    "predicted_test = model.predict(features_test_ohe)"
   ]
  },
  {
   "cell_type": "markdown",
   "metadata": {},
   "source": [
    "Посчитаем accuracy, F1-меру(с полнотой и точностью) и AUC-ROC."
   ]
  },
  {
   "cell_type": "code",
   "execution_count": 44,
   "metadata": {},
   "outputs": [
    {
     "name": "stdout",
     "output_type": "stream",
     "text": [
      "Accuracy на тестовой выборке: 0.817\n",
      "F1-мера на тестовой выборке: 0.6081370449678801\n",
      "Точность: 0.5557729941291585\n",
      "Полнота: 0.6713947990543735\n",
      "AUC-ROC на тестовой выборке: 0.858752666507763\n"
     ]
    }
   ],
   "source": [
    "print('Accuracy на тестовой выборке:', accuracy_score(target_test, predicted_test))\n",
    "print('F1-мера на тестовой выборке:',f1_score(target_test, predicted_test))\n",
    "print('Точность:', precision_score(target_test, predicted_test))\n",
    "print('Полнота:', recall_score(target_test, predicted_test))\n",
    "\n",
    "probabilities_test = model.predict_proba(features_test_ohe)\n",
    "probabilities_one_test = probabilities_test[:, 1]\n",
    "auc_roc = roc_auc_score(target_test, probabilities_one_test)\n",
    "\n",
    "print('AUC-ROC на тестовой выборке:', auc_roc)"
   ]
  },
  {
   "cell_type": "markdown",
   "metadata": {},
   "source": [
    "### Проверим модель на адекватность"
   ]
  },
  {
   "cell_type": "markdown",
   "metadata": {},
   "source": [
    "Сравним Accuracy для константной модели и для нашей."
   ]
  },
  {
   "cell_type": "code",
   "execution_count": 45,
   "metadata": {},
   "outputs": [
    {
     "name": "stdout",
     "output_type": "stream",
     "text": [
      "Accuracy  константной модели: 0.7963\n",
      "Accuracy на тестовой выборке нашей модели: 0.817\n"
     ]
    }
   ],
   "source": [
    "target_pred_constant = pd.Series([0]*len(target)) # проверим на всей выборке\n",
    "print('Accuracy  константной модели:', accuracy_score(target_pred_constant,target))\n",
    "print('Accuracy на тестовой выборке нашей модели:', accuracy_score(target_test, predicted_test))"
   ]
  },
  {
   "cell_type": "markdown",
   "metadata": {},
   "source": [
    "Наша модель показывет лучший accuracy и это с учетом того, что в данных есть дисбаланс классов именно в сторону класса 0, а константная модель предсказывала все 0."
   ]
  },
  {
   "cell_type": "markdown",
   "metadata": {},
   "source": [
    "### Выводы"
   ]
  },
  {
   "cell_type": "markdown",
   "metadata": {},
   "source": [
    "- Доля правильных ответов нашей модели, Accuracy, равна 81%, то есть 81% наших предсказаний верны на тестовой выборке.\n",
    "- F1-мера на тестовой выборке: 0.61. Из всех действительно покинувший банк клиентов модель смогла найти 67%(полнота), а из всех кого модель определила, как уходящих действительно ушли почти 56%(точность). Стоит отметить, что мы не трогали порог в нашей модели, какую из метрик нужно улучшать решать уже банку. Но модели определенно есть куда рости.\n",
    "- AUC-ROC на тестовой выборке: 0.86. Метрика для нашей модели по крайней мере выше, чем для случайной (AUC-ROC случайной модели равна 0.5)"
   ]
  }
 ],
 "metadata": {
  "ExecuteTimeLog": [
   {
    "duration": 417,
    "start_time": "2023-01-14T18:57:53.112Z"
   },
   {
    "duration": 160,
    "start_time": "2023-01-14T19:00:29.432Z"
   },
   {
    "duration": 20,
    "start_time": "2023-01-14T19:00:54.128Z"
   },
   {
    "duration": 14,
    "start_time": "2023-01-14T19:17:38.548Z"
   },
   {
    "duration": 29,
    "start_time": "2023-01-14T19:27:35.566Z"
   },
   {
    "duration": 7,
    "start_time": "2023-01-14T19:27:42.681Z"
   },
   {
    "duration": 20,
    "start_time": "2023-01-14T19:27:55.100Z"
   },
   {
    "duration": 15,
    "start_time": "2023-01-14T19:28:10.276Z"
   },
   {
    "duration": 6,
    "start_time": "2023-01-14T19:28:55.527Z"
   },
   {
    "duration": 11,
    "start_time": "2023-01-14T19:30:19.502Z"
   },
   {
    "duration": 162,
    "start_time": "2023-01-14T19:49:37.118Z"
   },
   {
    "duration": 4,
    "start_time": "2023-01-14T20:03:38.042Z"
   },
   {
    "duration": 12,
    "start_time": "2023-01-14T20:03:55.165Z"
   },
   {
    "duration": 13,
    "start_time": "2023-01-14T20:09:01.026Z"
   },
   {
    "duration": 17,
    "start_time": "2023-01-14T20:32:05.129Z"
   },
   {
    "duration": 3,
    "start_time": "2023-01-14T20:32:20.153Z"
   },
   {
    "duration": 713,
    "start_time": "2023-01-14T20:35:27.270Z"
   },
   {
    "duration": 6,
    "start_time": "2023-01-14T20:59:50.839Z"
   },
   {
    "duration": 1178,
    "start_time": "2023-01-15T10:45:05.111Z"
   },
   {
    "duration": 153,
    "start_time": "2023-01-15T10:45:09.462Z"
   },
   {
    "duration": 21,
    "start_time": "2023-01-15T10:45:11.299Z"
   },
   {
    "duration": 14,
    "start_time": "2023-01-15T10:45:12.831Z"
   },
   {
    "duration": 9,
    "start_time": "2023-01-15T10:45:15.522Z"
   },
   {
    "duration": 11,
    "start_time": "2023-01-15T10:45:16.982Z"
   },
   {
    "duration": 5,
    "start_time": "2023-01-15T10:45:20.522Z"
   },
   {
    "duration": 11,
    "start_time": "2023-01-15T10:45:21.529Z"
   },
   {
    "duration": 14,
    "start_time": "2023-01-15T10:45:23.054Z"
   },
   {
    "duration": 13,
    "start_time": "2023-01-15T10:50:38.880Z"
   },
   {
    "duration": 24,
    "start_time": "2023-01-15T11:05:17.768Z"
   },
   {
    "duration": 0,
    "start_time": "2023-01-15T11:05:17.794Z"
   },
   {
    "duration": 0,
    "start_time": "2023-01-15T11:05:17.795Z"
   },
   {
    "duration": 0,
    "start_time": "2023-01-15T11:05:17.796Z"
   },
   {
    "duration": 0,
    "start_time": "2023-01-15T11:05:17.797Z"
   },
   {
    "duration": 0,
    "start_time": "2023-01-15T11:05:17.798Z"
   },
   {
    "duration": 0,
    "start_time": "2023-01-15T11:05:17.799Z"
   },
   {
    "duration": 0,
    "start_time": "2023-01-15T11:05:17.800Z"
   },
   {
    "duration": 0,
    "start_time": "2023-01-15T11:05:17.801Z"
   },
   {
    "duration": 9,
    "start_time": "2023-01-15T11:05:47.967Z"
   },
   {
    "duration": 9,
    "start_time": "2023-01-15T11:43:59.910Z"
   },
   {
    "duration": 25,
    "start_time": "2023-01-15T11:44:06.756Z"
   },
   {
    "duration": 17,
    "start_time": "2023-01-15T11:45:27.638Z"
   },
   {
    "duration": 4,
    "start_time": "2023-01-15T11:45:56.722Z"
   },
   {
    "duration": 59,
    "start_time": "2023-01-15T11:45:56.728Z"
   },
   {
    "duration": 13,
    "start_time": "2023-01-15T11:45:56.789Z"
   },
   {
    "duration": 42,
    "start_time": "2023-01-15T11:45:56.804Z"
   },
   {
    "duration": 14,
    "start_time": "2023-01-15T11:45:56.848Z"
   },
   {
    "duration": 15,
    "start_time": "2023-01-15T11:45:56.864Z"
   },
   {
    "duration": 9,
    "start_time": "2023-01-15T11:45:56.881Z"
   },
   {
    "duration": 17,
    "start_time": "2023-01-15T11:45:56.891Z"
   },
   {
    "duration": 39,
    "start_time": "2023-01-15T11:45:56.910Z"
   },
   {
    "duration": 9,
    "start_time": "2023-01-15T11:46:04.378Z"
   },
   {
    "duration": 2,
    "start_time": "2023-01-15T11:49:04.239Z"
   },
   {
    "duration": 25,
    "start_time": "2023-01-15T11:56:36.535Z"
   },
   {
    "duration": 30,
    "start_time": "2023-01-15T11:56:51.920Z"
   },
   {
    "duration": 17,
    "start_time": "2023-01-15T11:57:07.899Z"
   },
   {
    "duration": 12,
    "start_time": "2023-01-15T11:57:36.454Z"
   },
   {
    "duration": 1048,
    "start_time": "2023-01-15T11:58:40.021Z"
   },
   {
    "duration": 40,
    "start_time": "2023-01-15T11:58:41.071Z"
   },
   {
    "duration": 22,
    "start_time": "2023-01-15T11:58:41.113Z"
   },
   {
    "duration": 12,
    "start_time": "2023-01-15T11:58:41.137Z"
   },
   {
    "duration": 8,
    "start_time": "2023-01-15T11:58:41.151Z"
   },
   {
    "duration": 11,
    "start_time": "2023-01-15T11:58:41.161Z"
   },
   {
    "duration": 33,
    "start_time": "2023-01-15T11:58:41.174Z"
   },
   {
    "duration": 12,
    "start_time": "2023-01-15T11:58:41.209Z"
   },
   {
    "duration": 15,
    "start_time": "2023-01-15T11:58:41.223Z"
   },
   {
    "duration": 9,
    "start_time": "2023-01-15T11:58:41.239Z"
   },
   {
    "duration": 24,
    "start_time": "2023-01-15T11:58:41.249Z"
   },
   {
    "duration": 11,
    "start_time": "2023-01-15T11:58:46.343Z"
   },
   {
    "duration": 102,
    "start_time": "2023-01-15T12:02:07.625Z"
   },
   {
    "duration": 5,
    "start_time": "2023-01-15T12:02:18.601Z"
   },
   {
    "duration": 11,
    "start_time": "2023-01-15T12:02:23.860Z"
   },
   {
    "duration": 10,
    "start_time": "2023-01-15T12:02:31.867Z"
   },
   {
    "duration": 4,
    "start_time": "2023-01-15T12:02:57.198Z"
   },
   {
    "duration": 6,
    "start_time": "2023-01-15T12:04:18.502Z"
   },
   {
    "duration": 124,
    "start_time": "2023-01-15T12:05:59.257Z"
   },
   {
    "duration": 31,
    "start_time": "2023-01-15T12:06:04.411Z"
   },
   {
    "duration": 14,
    "start_time": "2023-01-15T12:06:14.690Z"
   },
   {
    "duration": 13,
    "start_time": "2023-01-15T12:06:19.011Z"
   },
   {
    "duration": 11,
    "start_time": "2023-01-15T12:06:23.440Z"
   },
   {
    "duration": 135,
    "start_time": "2023-01-15T12:06:27.591Z"
   },
   {
    "duration": 128,
    "start_time": "2023-01-15T12:06:36.911Z"
   },
   {
    "duration": 61,
    "start_time": "2023-01-15T12:08:08.012Z"
   },
   {
    "duration": 133,
    "start_time": "2023-01-15T12:08:14.790Z"
   },
   {
    "duration": 11,
    "start_time": "2023-01-15T12:08:23.994Z"
   },
   {
    "duration": 9,
    "start_time": "2023-01-15T12:08:42.391Z"
   },
   {
    "duration": 3,
    "start_time": "2023-01-15T12:08:53.333Z"
   },
   {
    "duration": 194,
    "start_time": "2023-01-15T12:08:56.612Z"
   },
   {
    "duration": 112,
    "start_time": "2023-01-15T12:09:12.029Z"
   },
   {
    "duration": 122,
    "start_time": "2023-01-15T12:09:28.168Z"
   },
   {
    "duration": 101,
    "start_time": "2023-01-15T12:09:46.534Z"
   },
   {
    "duration": 11,
    "start_time": "2023-01-15T12:10:32.190Z"
   },
   {
    "duration": 32,
    "start_time": "2023-01-15T12:10:37.321Z"
   },
   {
    "duration": 108,
    "start_time": "2023-01-15T12:10:43.335Z"
   },
   {
    "duration": 107,
    "start_time": "2023-01-15T12:10:47.959Z"
   },
   {
    "duration": 104,
    "start_time": "2023-01-15T12:11:00.263Z"
   },
   {
    "duration": 122,
    "start_time": "2023-01-15T12:11:14.056Z"
   },
   {
    "duration": 104,
    "start_time": "2023-01-15T12:11:21.506Z"
   },
   {
    "duration": 110,
    "start_time": "2023-01-15T12:11:41.496Z"
   },
   {
    "duration": 7,
    "start_time": "2023-01-15T12:11:58.249Z"
   },
   {
    "duration": 106,
    "start_time": "2023-01-15T12:12:27.786Z"
   },
   {
    "duration": 18,
    "start_time": "2023-01-15T12:13:47.484Z"
   },
   {
    "duration": 15,
    "start_time": "2023-01-15T12:13:59.046Z"
   },
   {
    "duration": 14,
    "start_time": "2023-01-15T12:14:32.206Z"
   },
   {
    "duration": 91,
    "start_time": "2023-01-15T12:14:43.826Z"
   },
   {
    "duration": 69,
    "start_time": "2023-01-15T12:14:49.450Z"
   },
   {
    "duration": 102,
    "start_time": "2023-01-15T12:14:52.216Z"
   },
   {
    "duration": 140,
    "start_time": "2023-01-15T12:14:57.375Z"
   },
   {
    "duration": 103,
    "start_time": "2023-01-15T12:15:26.947Z"
   },
   {
    "duration": 102,
    "start_time": "2023-01-15T12:15:30.890Z"
   },
   {
    "duration": 206,
    "start_time": "2023-01-15T12:15:57.150Z"
   },
   {
    "duration": 97,
    "start_time": "2023-01-15T12:16:05.807Z"
   },
   {
    "duration": 103,
    "start_time": "2023-01-15T12:16:12.057Z"
   },
   {
    "duration": 107,
    "start_time": "2023-01-15T12:16:52.970Z"
   },
   {
    "duration": 110,
    "start_time": "2023-01-15T12:17:38.769Z"
   },
   {
    "duration": 115,
    "start_time": "2023-01-15T12:17:41.233Z"
   },
   {
    "duration": 4,
    "start_time": "2023-01-15T12:19:00.922Z"
   },
   {
    "duration": 105,
    "start_time": "2023-01-15T12:19:16.951Z"
   },
   {
    "duration": 100,
    "start_time": "2023-01-15T12:19:29.508Z"
   },
   {
    "duration": 148,
    "start_time": "2023-01-15T12:19:55.741Z"
   },
   {
    "duration": 115,
    "start_time": "2023-01-15T12:20:04.669Z"
   },
   {
    "duration": 141,
    "start_time": "2023-01-15T12:20:07.327Z"
   },
   {
    "duration": 122,
    "start_time": "2023-01-15T12:20:15.316Z"
   },
   {
    "duration": 117,
    "start_time": "2023-01-15T12:20:20.874Z"
   },
   {
    "duration": 99,
    "start_time": "2023-01-15T12:20:36.733Z"
   },
   {
    "duration": 104,
    "start_time": "2023-01-15T12:20:48.031Z"
   },
   {
    "duration": 199,
    "start_time": "2023-01-15T12:20:54.630Z"
   },
   {
    "duration": 141,
    "start_time": "2023-01-15T12:21:08.654Z"
   },
   {
    "duration": 121,
    "start_time": "2023-01-15T12:23:26.715Z"
   },
   {
    "duration": 135,
    "start_time": "2023-01-15T12:23:59.595Z"
   },
   {
    "duration": 110,
    "start_time": "2023-01-15T12:24:35.965Z"
   },
   {
    "duration": 112,
    "start_time": "2023-01-15T12:24:42.394Z"
   },
   {
    "duration": 124,
    "start_time": "2023-01-15T12:26:28.519Z"
   },
   {
    "duration": 136,
    "start_time": "2023-01-15T12:26:47.526Z"
   },
   {
    "duration": 128,
    "start_time": "2023-01-15T12:26:49.872Z"
   },
   {
    "duration": 44,
    "start_time": "2023-01-15T12:31:49.488Z"
   },
   {
    "duration": 16,
    "start_time": "2023-01-15T12:38:11.987Z"
   },
   {
    "duration": 15,
    "start_time": "2023-01-15T12:38:37.473Z"
   },
   {
    "duration": 181,
    "start_time": "2023-01-15T12:38:46.227Z"
   },
   {
    "duration": 12,
    "start_time": "2023-01-15T12:43:06.584Z"
   },
   {
    "duration": 3,
    "start_time": "2023-01-15T12:43:14.101Z"
   },
   {
    "duration": 11,
    "start_time": "2023-01-15T12:43:33.802Z"
   },
   {
    "duration": 2175,
    "start_time": "2023-01-15T12:43:50.983Z"
   },
   {
    "duration": 2111,
    "start_time": "2023-01-15T12:44:26.673Z"
   },
   {
    "duration": 10,
    "start_time": "2023-01-15T12:46:12.799Z"
   },
   {
    "duration": 15309,
    "start_time": "2023-01-15T12:46:19.981Z"
   },
   {
    "duration": 14839,
    "start_time": "2023-01-15T12:47:03.217Z"
   },
   {
    "duration": 14998,
    "start_time": "2023-01-15T12:49:42.683Z"
   },
   {
    "duration": 20632,
    "start_time": "2023-01-15T12:50:20.673Z"
   },
   {
    "duration": 15324,
    "start_time": "2023-01-15T12:51:04.917Z"
   },
   {
    "duration": 13887,
    "start_time": "2023-01-15T12:51:26.781Z"
   },
   {
    "duration": 14525,
    "start_time": "2023-01-15T12:51:58.622Z"
   },
   {
    "duration": 13542,
    "start_time": "2023-01-15T12:52:20.533Z"
   },
   {
    "duration": 14885,
    "start_time": "2023-01-15T12:52:47.027Z"
   },
   {
    "duration": 14127,
    "start_time": "2023-01-15T12:53:10.414Z"
   },
   {
    "duration": 29448,
    "start_time": "2023-01-15T12:53:35.917Z"
   },
   {
    "duration": 9655,
    "start_time": "2023-01-15T12:55:05.874Z"
   },
   {
    "duration": 99,
    "start_time": "2023-01-15T12:58:05.518Z"
   },
   {
    "duration": 74,
    "start_time": "2023-01-15T12:58:38.239Z"
   },
   {
    "duration": 4,
    "start_time": "2023-01-15T12:59:00.051Z"
   },
   {
    "duration": 13,
    "start_time": "2023-01-15T12:59:26.924Z"
   },
   {
    "duration": 135,
    "start_time": "2023-01-15T13:34:32.571Z"
   },
   {
    "duration": 17,
    "start_time": "2023-01-15T13:34:34.116Z"
   },
   {
    "duration": 88,
    "start_time": "2023-01-15T13:34:37.484Z"
   },
   {
    "duration": 14,
    "start_time": "2023-01-15T13:34:39.548Z"
   },
   {
    "duration": 93,
    "start_time": "2023-01-15T13:34:43.773Z"
   },
   {
    "duration": 15,
    "start_time": "2023-01-15T13:34:46.254Z"
   },
   {
    "duration": 145,
    "start_time": "2023-01-15T13:39:58.361Z"
   },
   {
    "duration": 2145,
    "start_time": "2023-01-15T13:40:53.664Z"
   },
   {
    "duration": 12194,
    "start_time": "2023-01-15T13:41:28.001Z"
   },
   {
    "duration": 1066,
    "start_time": "2023-01-15T13:42:10.538Z"
   },
   {
    "duration": 87,
    "start_time": "2023-01-15T13:46:58.103Z"
   },
   {
    "duration": 107,
    "start_time": "2023-01-15T13:49:19.052Z"
   },
   {
    "duration": 5,
    "start_time": "2023-01-15T13:49:24.173Z"
   },
   {
    "duration": 9,
    "start_time": "2023-01-15T13:50:36.395Z"
   },
   {
    "duration": 8,
    "start_time": "2023-01-15T13:50:49.209Z"
   },
   {
    "duration": 121,
    "start_time": "2023-01-15T13:54:31.891Z"
   },
   {
    "duration": 205,
    "start_time": "2023-01-15T13:55:04.003Z"
   },
   {
    "duration": 1109,
    "start_time": "2023-01-15T13:58:35.843Z"
   },
   {
    "duration": 4,
    "start_time": "2023-01-15T13:59:53.366Z"
   },
   {
    "duration": 95,
    "start_time": "2023-01-15T14:01:50.143Z"
   },
   {
    "duration": 89,
    "start_time": "2023-01-15T14:01:54.995Z"
   },
   {
    "duration": 6,
    "start_time": "2023-01-15T14:05:28.658Z"
   },
   {
    "duration": 7,
    "start_time": "2023-01-15T14:06:25.295Z"
   },
   {
    "duration": 9,
    "start_time": "2023-01-15T14:08:50.379Z"
   },
   {
    "duration": 16,
    "start_time": "2023-01-15T14:20:23.628Z"
   },
   {
    "duration": 3,
    "start_time": "2023-01-15T14:20:48.951Z"
   },
   {
    "duration": 89,
    "start_time": "2023-01-15T14:21:21.303Z"
   },
   {
    "duration": 4,
    "start_time": "2023-01-15T14:35:05.087Z"
   },
   {
    "duration": 115,
    "start_time": "2023-01-15T14:36:02.301Z"
   },
   {
    "duration": 125,
    "start_time": "2023-01-15T14:36:39.480Z"
   },
   {
    "duration": 571,
    "start_time": "2023-01-15T14:36:50.141Z"
   },
   {
    "duration": 1125,
    "start_time": "2023-01-15T14:38:54.815Z"
   },
   {
    "duration": 41,
    "start_time": "2023-01-15T14:38:55.941Z"
   },
   {
    "duration": 24,
    "start_time": "2023-01-15T14:38:55.983Z"
   },
   {
    "duration": 17,
    "start_time": "2023-01-15T14:38:56.009Z"
   },
   {
    "duration": 25,
    "start_time": "2023-01-15T14:38:56.029Z"
   },
   {
    "duration": 14,
    "start_time": "2023-01-15T14:38:56.056Z"
   },
   {
    "duration": 6,
    "start_time": "2023-01-15T14:38:56.072Z"
   },
   {
    "duration": 31,
    "start_time": "2023-01-15T14:38:56.080Z"
   },
   {
    "duration": 24,
    "start_time": "2023-01-15T14:38:56.113Z"
   },
   {
    "duration": 12,
    "start_time": "2023-01-15T14:38:56.139Z"
   },
   {
    "duration": 37,
    "start_time": "2023-01-15T14:38:56.153Z"
   },
   {
    "duration": 12,
    "start_time": "2023-01-15T14:38:56.204Z"
   },
   {
    "duration": 386,
    "start_time": "2023-01-15T14:38:56.218Z"
   },
   {
    "duration": 109,
    "start_time": "2023-01-15T14:38:56.607Z"
   },
   {
    "duration": 2371,
    "start_time": "2023-01-15T14:38:56.718Z"
   },
   {
    "duration": 9810,
    "start_time": "2023-01-15T14:38:59.090Z"
   },
   {
    "duration": 116,
    "start_time": "2023-01-15T14:39:08.905Z"
   },
   {
    "duration": 15,
    "start_time": "2023-01-15T14:39:09.023Z"
   },
   {
    "duration": 274,
    "start_time": "2023-01-15T14:39:09.040Z"
   },
   {
    "duration": 202,
    "start_time": "2023-01-15T14:39:09.316Z"
   },
   {
    "duration": 2270,
    "start_time": "2023-01-15T14:39:09.605Z"
   },
   {
    "duration": 12820,
    "start_time": "2023-01-15T14:39:11.877Z"
   },
   {
    "duration": 1153,
    "start_time": "2023-01-15T14:39:24.699Z"
   },
   {
    "duration": 109,
    "start_time": "2023-01-15T14:39:25.853Z"
   },
   {
    "duration": 121,
    "start_time": "2023-01-15T14:39:25.964Z"
   },
   {
    "duration": 18,
    "start_time": "2023-01-15T14:39:26.087Z"
   },
   {
    "duration": 8,
    "start_time": "2023-01-15T14:40:28.596Z"
   },
   {
    "duration": 18,
    "start_time": "2023-01-15T14:42:45.456Z"
   },
   {
    "duration": 109,
    "start_time": "2023-01-15T14:45:52.412Z"
   },
   {
    "duration": 104,
    "start_time": "2023-01-15T14:46:01.916Z"
   },
   {
    "duration": 108,
    "start_time": "2023-01-15T14:46:34.141Z"
   },
   {
    "duration": 182,
    "start_time": "2023-01-15T14:46:39.893Z"
   },
   {
    "duration": 128,
    "start_time": "2023-01-15T14:46:47.518Z"
   },
   {
    "duration": 9636,
    "start_time": "2023-01-15T14:50:02.050Z"
   },
   {
    "duration": 87,
    "start_time": "2023-01-16T15:20:10.659Z"
   },
   {
    "duration": 70,
    "start_time": "2023-01-16T15:20:24.018Z"
   },
   {
    "duration": 4,
    "start_time": "2023-01-16T15:20:38.493Z"
   },
   {
    "duration": 1165,
    "start_time": "2023-01-16T15:20:44.963Z"
   },
   {
    "duration": 43,
    "start_time": "2023-01-16T15:20:47.848Z"
   },
   {
    "duration": 87,
    "start_time": "2023-01-16T15:20:54.220Z"
   },
   {
    "duration": 56,
    "start_time": "2023-01-16T15:21:03.901Z"
   },
   {
    "duration": 41,
    "start_time": "2023-01-16T15:21:08.163Z"
   },
   {
    "duration": 37,
    "start_time": "2023-01-16T15:21:13.473Z"
   },
   {
    "duration": 32,
    "start_time": "2023-01-16T15:23:18.869Z"
   },
   {
    "duration": 38,
    "start_time": "2023-01-16T15:23:23.703Z"
   },
   {
    "duration": 109,
    "start_time": "2023-01-16T15:29:01.433Z"
   },
   {
    "duration": 9,
    "start_time": "2023-01-16T15:29:06.394Z"
   },
   {
    "duration": 8,
    "start_time": "2023-01-16T15:29:13.514Z"
   },
   {
    "duration": 7,
    "start_time": "2023-01-16T15:30:14.499Z"
   },
   {
    "duration": 6,
    "start_time": "2023-01-16T15:31:16.317Z"
   },
   {
    "duration": 792,
    "start_time": "2023-01-16T15:32:49.174Z"
   },
   {
    "duration": 7,
    "start_time": "2023-01-16T15:33:10.089Z"
   },
   {
    "duration": 23,
    "start_time": "2023-01-16T15:35:11.050Z"
   },
   {
    "duration": 8,
    "start_time": "2023-01-16T15:35:13.738Z"
   },
   {
    "duration": 7,
    "start_time": "2023-01-16T15:35:18.071Z"
   },
   {
    "duration": 8,
    "start_time": "2023-01-16T15:36:56.583Z"
   },
   {
    "duration": 4,
    "start_time": "2023-01-16T15:41:45.634Z"
   },
   {
    "duration": 1229,
    "start_time": "2023-01-16T15:42:13.832Z"
   },
   {
    "duration": 77,
    "start_time": "2023-01-16T15:42:40.663Z"
   },
   {
    "duration": 9,
    "start_time": "2023-01-16T15:42:47.863Z"
   },
   {
    "duration": 8,
    "start_time": "2023-01-16T15:42:55.769Z"
   },
   {
    "duration": 7,
    "start_time": "2023-01-16T15:43:14.944Z"
   },
   {
    "duration": 11,
    "start_time": "2023-01-16T15:54:40.401Z"
   },
   {
    "duration": 13,
    "start_time": "2023-01-16T15:54:48.963Z"
   },
   {
    "duration": 10,
    "start_time": "2023-01-16T15:54:52.114Z"
   },
   {
    "duration": 11,
    "start_time": "2023-01-16T15:54:56.192Z"
   },
   {
    "duration": 10,
    "start_time": "2023-01-16T15:55:03.134Z"
   },
   {
    "duration": 9,
    "start_time": "2023-01-16T15:55:07.113Z"
   },
   {
    "duration": 9,
    "start_time": "2023-01-16T15:55:16.467Z"
   },
   {
    "duration": 8,
    "start_time": "2023-01-16T15:55:19.609Z"
   },
   {
    "duration": 9,
    "start_time": "2023-01-16T15:55:22.330Z"
   },
   {
    "duration": 15,
    "start_time": "2023-01-16T15:55:30.091Z"
   },
   {
    "duration": 19,
    "start_time": "2023-01-16T15:56:12.972Z"
   },
   {
    "duration": 19,
    "start_time": "2023-01-16T16:02:58.190Z"
   },
   {
    "duration": 7,
    "start_time": "2023-01-16T16:03:01.470Z"
   },
   {
    "duration": 7,
    "start_time": "2023-01-16T16:03:13.212Z"
   },
   {
    "duration": 7,
    "start_time": "2023-01-16T16:03:20.286Z"
   },
   {
    "duration": 7,
    "start_time": "2023-01-16T16:03:35.665Z"
   },
   {
    "duration": 15,
    "start_time": "2023-01-16T16:03:40.558Z"
   },
   {
    "duration": 5,
    "start_time": "2023-01-16T16:05:21.031Z"
   },
   {
    "duration": 20,
    "start_time": "2023-01-16T16:05:53.802Z"
   },
   {
    "duration": 4,
    "start_time": "2023-01-16T16:06:36.129Z"
   },
   {
    "duration": 4,
    "start_time": "2023-01-16T16:07:09.676Z"
   },
   {
    "duration": 6,
    "start_time": "2023-01-16T16:07:47.079Z"
   },
   {
    "duration": 882,
    "start_time": "2023-01-16T16:08:07.053Z"
   },
   {
    "duration": 1139,
    "start_time": "2023-01-16T16:08:13.264Z"
   },
   {
    "duration": 6,
    "start_time": "2023-01-16T16:08:21.607Z"
   },
   {
    "duration": 7,
    "start_time": "2023-01-16T16:08:34.098Z"
   },
   {
    "duration": 7,
    "start_time": "2023-01-16T16:08:46.320Z"
   },
   {
    "duration": 6,
    "start_time": "2023-01-16T16:10:10.347Z"
   },
   {
    "duration": 7,
    "start_time": "2023-01-16T16:10:22.384Z"
   },
   {
    "duration": 7,
    "start_time": "2023-01-16T16:10:30.330Z"
   },
   {
    "duration": 6,
    "start_time": "2023-01-16T16:10:36.859Z"
   },
   {
    "duration": 6,
    "start_time": "2023-01-16T16:10:41.609Z"
   },
   {
    "duration": 7,
    "start_time": "2023-01-16T16:10:46.577Z"
   },
   {
    "duration": 6,
    "start_time": "2023-01-16T16:10:50.372Z"
   },
   {
    "duration": 7,
    "start_time": "2023-01-16T16:11:04.644Z"
   },
   {
    "duration": 4,
    "start_time": "2023-01-16T16:26:12.995Z"
   },
   {
    "duration": 8,
    "start_time": "2023-01-16T16:56:05.874Z"
   },
   {
    "duration": 9,
    "start_time": "2023-01-16T16:59:12.336Z"
   },
   {
    "duration": 12,
    "start_time": "2023-01-16T16:59:22.600Z"
   },
   {
    "duration": 7,
    "start_time": "2023-01-16T16:59:41.498Z"
   },
   {
    "duration": 14,
    "start_time": "2023-01-16T17:00:20.390Z"
   },
   {
    "duration": 5,
    "start_time": "2023-01-16T17:00:31.834Z"
   },
   {
    "duration": 10,
    "start_time": "2023-01-16T17:00:43.133Z"
   },
   {
    "duration": 9,
    "start_time": "2023-01-16T17:00:56.065Z"
   },
   {
    "duration": 7,
    "start_time": "2023-01-16T17:04:46.855Z"
   },
   {
    "duration": 8,
    "start_time": "2023-01-16T17:05:00.349Z"
   },
   {
    "duration": 10,
    "start_time": "2023-01-16T17:05:12.407Z"
   },
   {
    "duration": 11,
    "start_time": "2023-01-16T17:05:19.084Z"
   },
   {
    "duration": 16,
    "start_time": "2023-01-16T17:05:32.711Z"
   },
   {
    "duration": 8,
    "start_time": "2023-01-16T17:05:39.131Z"
   },
   {
    "duration": 7,
    "start_time": "2023-01-16T17:05:49.456Z"
   },
   {
    "duration": 8,
    "start_time": "2023-01-16T17:06:51.539Z"
   },
   {
    "duration": 5,
    "start_time": "2023-01-16T17:13:24.635Z"
   },
   {
    "duration": 5,
    "start_time": "2023-01-16T17:13:32.174Z"
   },
   {
    "duration": 5,
    "start_time": "2023-01-16T17:13:37.956Z"
   },
   {
    "duration": 8,
    "start_time": "2023-01-16T17:14:00.878Z"
   },
   {
    "duration": 6,
    "start_time": "2023-01-16T17:19:48.744Z"
   },
   {
    "duration": 22,
    "start_time": "2023-01-16T17:20:02.150Z"
   },
   {
    "duration": 71,
    "start_time": "2023-01-16T17:20:22.019Z"
   },
   {
    "duration": 7,
    "start_time": "2023-01-16T17:20:25.053Z"
   },
   {
    "duration": 13,
    "start_time": "2023-01-16T17:21:22.358Z"
   },
   {
    "duration": 9,
    "start_time": "2023-01-16T17:24:12.317Z"
   },
   {
    "duration": 14,
    "start_time": "2023-01-16T17:24:29.109Z"
   },
   {
    "duration": 6,
    "start_time": "2023-01-16T17:26:04.584Z"
   },
   {
    "duration": 2,
    "start_time": "2023-01-16T17:26:11.387Z"
   },
   {
    "duration": 1086,
    "start_time": "2023-01-16T17:26:20.274Z"
   },
   {
    "duration": 67,
    "start_time": "2023-01-16T17:26:21.362Z"
   },
   {
    "duration": 21,
    "start_time": "2023-01-16T17:26:21.431Z"
   },
   {
    "duration": 34,
    "start_time": "2023-01-16T17:26:21.455Z"
   },
   {
    "duration": 30,
    "start_time": "2023-01-16T17:26:21.492Z"
   },
   {
    "duration": 25,
    "start_time": "2023-01-16T17:26:21.523Z"
   },
   {
    "duration": 4,
    "start_time": "2023-01-16T17:27:42.025Z"
   },
   {
    "duration": 12,
    "start_time": "2023-01-16T17:27:45.360Z"
   },
   {
    "duration": 66,
    "start_time": "2023-01-16T17:46:12.431Z"
   },
   {
    "duration": 2,
    "start_time": "2023-01-16T17:46:44.948Z"
   },
   {
    "duration": 116,
    "start_time": "2023-01-16T17:48:40.263Z"
   },
   {
    "duration": 20,
    "start_time": "2023-01-16T17:48:55.926Z"
   },
   {
    "duration": 12,
    "start_time": "2023-01-16T17:49:05.339Z"
   },
   {
    "duration": 12,
    "start_time": "2023-01-16T17:49:40.035Z"
   },
   {
    "duration": 11,
    "start_time": "2023-01-16T17:52:43.528Z"
   },
   {
    "duration": 26,
    "start_time": "2023-01-16T17:58:48.521Z"
   },
   {
    "duration": 19,
    "start_time": "2023-01-16T17:59:14.232Z"
   },
   {
    "duration": 24,
    "start_time": "2023-01-16T17:59:26.346Z"
   },
   {
    "duration": 18,
    "start_time": "2023-01-16T17:59:38.488Z"
   },
   {
    "duration": 18,
    "start_time": "2023-01-16T18:01:12.013Z"
   },
   {
    "duration": 18,
    "start_time": "2023-01-16T18:01:21.723Z"
   },
   {
    "duration": 18,
    "start_time": "2023-01-16T18:01:26.373Z"
   },
   {
    "duration": 18,
    "start_time": "2023-01-16T18:02:50.398Z"
   },
   {
    "duration": 22,
    "start_time": "2023-01-16T18:03:18.047Z"
   },
   {
    "duration": 18,
    "start_time": "2023-01-16T18:03:31.794Z"
   },
   {
    "duration": 22,
    "start_time": "2023-01-16T18:07:57.606Z"
   },
   {
    "duration": 18,
    "start_time": "2023-01-16T18:08:22.503Z"
   },
   {
    "duration": 18,
    "start_time": "2023-01-16T18:08:47.353Z"
   },
   {
    "duration": 1129,
    "start_time": "2023-01-16T18:09:37.347Z"
   },
   {
    "duration": 38,
    "start_time": "2023-01-16T18:09:38.478Z"
   },
   {
    "duration": 22,
    "start_time": "2023-01-16T18:09:38.518Z"
   },
   {
    "duration": 43,
    "start_time": "2023-01-16T18:09:38.542Z"
   },
   {
    "duration": 26,
    "start_time": "2023-01-16T18:09:38.588Z"
   },
   {
    "duration": 11,
    "start_time": "2023-01-16T18:09:38.616Z"
   },
   {
    "duration": 24,
    "start_time": "2023-01-16T18:09:38.628Z"
   },
   {
    "duration": 25,
    "start_time": "2023-01-16T18:09:38.654Z"
   },
   {
    "duration": 44,
    "start_time": "2023-01-16T18:09:38.681Z"
   },
   {
    "duration": 31,
    "start_time": "2023-01-16T18:09:38.727Z"
   },
   {
    "duration": 25,
    "start_time": "2023-01-16T18:09:38.760Z"
   },
   {
    "duration": 18,
    "start_time": "2023-01-16T18:09:42.962Z"
   },
   {
    "duration": 20,
    "start_time": "2023-01-16T18:10:31.770Z"
   },
   {
    "duration": 20,
    "start_time": "2023-01-16T18:15:02.378Z"
   },
   {
    "duration": 31,
    "start_time": "2023-01-16T18:17:18.987Z"
   },
   {
    "duration": 23,
    "start_time": "2023-01-16T18:17:27.311Z"
   },
   {
    "duration": 21,
    "start_time": "2023-01-16T18:17:31.958Z"
   },
   {
    "duration": 26,
    "start_time": "2023-01-16T18:18:56.996Z"
   },
   {
    "duration": 18,
    "start_time": "2023-01-16T18:19:14.495Z"
   },
   {
    "duration": 18,
    "start_time": "2023-01-16T18:23:49.727Z"
   },
   {
    "duration": 108,
    "start_time": "2023-01-16T18:36:50.291Z"
   },
   {
    "duration": 13,
    "start_time": "2023-01-16T18:37:51.821Z"
   },
   {
    "duration": 11,
    "start_time": "2023-01-16T18:38:05.999Z"
   },
   {
    "duration": 12,
    "start_time": "2023-01-16T18:39:13.296Z"
   },
   {
    "duration": 20,
    "start_time": "2023-01-16T18:39:34.299Z"
   },
   {
    "duration": 37,
    "start_time": "2023-01-16T18:40:18.024Z"
   },
   {
    "duration": 33,
    "start_time": "2023-01-16T18:40:53.729Z"
   },
   {
    "duration": 69,
    "start_time": "2023-01-16T18:41:06.605Z"
   },
   {
    "duration": 28,
    "start_time": "2023-01-16T18:41:45.214Z"
   },
   {
    "duration": 24,
    "start_time": "2023-01-16T18:43:29.329Z"
   },
   {
    "duration": 25,
    "start_time": "2023-01-16T18:44:14.226Z"
   },
   {
    "duration": 26,
    "start_time": "2023-01-16T18:44:58.561Z"
   },
   {
    "duration": 25,
    "start_time": "2023-01-16T18:46:01.634Z"
   },
   {
    "duration": 27,
    "start_time": "2023-01-16T18:48:15.310Z"
   },
   {
    "duration": 73,
    "start_time": "2023-01-16T18:55:28.460Z"
   },
   {
    "duration": 13,
    "start_time": "2023-01-16T18:55:31.964Z"
   },
   {
    "duration": 11,
    "start_time": "2023-01-16T18:55:39.208Z"
   },
   {
    "duration": 12,
    "start_time": "2023-01-16T18:55:50.834Z"
   },
   {
    "duration": 12,
    "start_time": "2023-01-16T18:56:55.420Z"
   },
   {
    "duration": 17,
    "start_time": "2023-01-16T18:57:27.908Z"
   },
   {
    "duration": 17,
    "start_time": "2023-01-16T18:57:39.813Z"
   },
   {
    "duration": 18,
    "start_time": "2023-01-16T18:57:57.693Z"
   },
   {
    "duration": 33017,
    "start_time": "2023-01-16T18:58:41.439Z"
   },
   {
    "duration": 21,
    "start_time": "2023-01-16T19:00:10.649Z"
   },
   {
    "duration": 15,
    "start_time": "2023-01-16T19:00:22.097Z"
   },
   {
    "duration": 17,
    "start_time": "2023-01-16T19:01:08.635Z"
   },
   {
    "duration": 2335,
    "start_time": "2023-01-16T19:01:21.562Z"
   },
   {
    "duration": 5,
    "start_time": "2023-01-16T19:01:36.598Z"
   },
   {
    "duration": 2363,
    "start_time": "2023-01-16T19:01:50.709Z"
   },
   {
    "duration": 986,
    "start_time": "2023-01-16T19:01:53.074Z"
   },
   {
    "duration": 38,
    "start_time": "2023-01-16T19:01:54.062Z"
   },
   {
    "duration": 26,
    "start_time": "2023-01-16T19:01:54.102Z"
   },
   {
    "duration": 58,
    "start_time": "2023-01-16T19:01:54.129Z"
   },
   {
    "duration": 69,
    "start_time": "2023-01-16T19:01:54.189Z"
   },
   {
    "duration": 29,
    "start_time": "2023-01-16T19:01:54.260Z"
   },
   {
    "duration": 53,
    "start_time": "2023-01-16T19:01:54.290Z"
   },
   {
    "duration": 68,
    "start_time": "2023-01-16T19:01:54.346Z"
   },
   {
    "duration": 66,
    "start_time": "2023-01-16T19:01:54.417Z"
   },
   {
    "duration": 45,
    "start_time": "2023-01-16T19:01:54.485Z"
   },
   {
    "duration": 35,
    "start_time": "2023-01-16T19:01:54.532Z"
   },
   {
    "duration": 66,
    "start_time": "2023-01-16T19:01:54.569Z"
   },
   {
    "duration": 12,
    "start_time": "2023-01-16T19:01:58.018Z"
   },
   {
    "duration": 23,
    "start_time": "2023-01-16T19:07:18.005Z"
   },
   {
    "duration": 115,
    "start_time": "2023-01-16T19:08:18.150Z"
   },
   {
    "duration": 17,
    "start_time": "2023-01-16T19:09:22.264Z"
   },
   {
    "duration": 26,
    "start_time": "2023-01-16T19:09:25.982Z"
   },
   {
    "duration": 10,
    "start_time": "2023-01-16T19:09:44.394Z"
   },
   {
    "duration": 18,
    "start_time": "2023-01-16T19:10:20.271Z"
   },
   {
    "duration": 23,
    "start_time": "2023-01-16T19:11:43.860Z"
   },
   {
    "duration": 44,
    "start_time": "2023-01-16T19:11:49.668Z"
   },
   {
    "duration": 22,
    "start_time": "2023-01-16T19:12:13.108Z"
   },
   {
    "duration": 34,
    "start_time": "2023-01-16T19:13:51.775Z"
   },
   {
    "duration": 78,
    "start_time": "2023-01-16T19:14:58.604Z"
   },
   {
    "duration": 33,
    "start_time": "2023-01-16T19:15:07.745Z"
   },
   {
    "duration": 77,
    "start_time": "2023-01-16T19:15:11.264Z"
   },
   {
    "duration": 85,
    "start_time": "2023-01-16T19:15:20.641Z"
   },
   {
    "duration": 33,
    "start_time": "2023-01-16T19:15:55.242Z"
   },
   {
    "duration": 16,
    "start_time": "2023-01-16T19:16:17.474Z"
   },
   {
    "duration": 24,
    "start_time": "2023-01-16T19:18:12.665Z"
   },
   {
    "duration": 23,
    "start_time": "2023-01-16T19:19:17.559Z"
   },
   {
    "duration": 28,
    "start_time": "2023-01-16T19:19:54.480Z"
   },
   {
    "duration": 34,
    "start_time": "2023-01-16T19:20:00.282Z"
   },
   {
    "duration": 77,
    "start_time": "2023-01-16T19:23:43.966Z"
   },
   {
    "duration": 6,
    "start_time": "2023-01-16T19:23:53.129Z"
   },
   {
    "duration": 35,
    "start_time": "2023-01-16T19:23:58.582Z"
   },
   {
    "duration": 33,
    "start_time": "2023-01-16T19:24:10.230Z"
   },
   {
    "duration": 23,
    "start_time": "2023-01-16T19:24:22.836Z"
   },
   {
    "duration": 73,
    "start_time": "2023-01-16T19:26:25.477Z"
   },
   {
    "duration": 75,
    "start_time": "2023-01-16T19:26:55.579Z"
   },
   {
    "duration": 44,
    "start_time": "2023-01-16T19:27:19.228Z"
   },
   {
    "duration": 23,
    "start_time": "2023-01-16T19:27:27.855Z"
   },
   {
    "duration": 20,
    "start_time": "2023-01-16T19:27:33.636Z"
   },
   {
    "duration": 34,
    "start_time": "2023-01-16T19:27:36.305Z"
   },
   {
    "duration": 38,
    "start_time": "2023-01-16T19:29:20.106Z"
   },
   {
    "duration": 47,
    "start_time": "2023-01-16T19:30:16.881Z"
   },
   {
    "duration": 42,
    "start_time": "2023-01-16T19:32:41.494Z"
   },
   {
    "duration": 50,
    "start_time": "2023-01-16T19:32:50.794Z"
   },
   {
    "duration": 13,
    "start_time": "2023-01-16T19:34:54.807Z"
   },
   {
    "duration": 11,
    "start_time": "2023-01-16T19:35:01.743Z"
   },
   {
    "duration": 60,
    "start_time": "2023-01-16T19:35:35.507Z"
   },
   {
    "duration": 46,
    "start_time": "2023-01-16T19:37:29.885Z"
   },
   {
    "duration": 42,
    "start_time": "2023-01-16T19:40:11.271Z"
   },
   {
    "duration": 42,
    "start_time": "2023-01-16T19:41:11.523Z"
   },
   {
    "duration": 31,
    "start_time": "2023-01-16T19:41:37.556Z"
   },
   {
    "duration": 18,
    "start_time": "2023-01-16T19:45:40.450Z"
   },
   {
    "duration": 47,
    "start_time": "2023-01-16T19:45:54.658Z"
   },
   {
    "duration": 53,
    "start_time": "2023-01-16T19:46:10.547Z"
   },
   {
    "duration": 25,
    "start_time": "2023-01-16T19:48:29.246Z"
   },
   {
    "duration": 26,
    "start_time": "2023-01-16T19:48:49.150Z"
   },
   {
    "duration": 39,
    "start_time": "2023-01-16T19:50:18.950Z"
   },
   {
    "duration": 20,
    "start_time": "2023-01-16T19:50:34.195Z"
   },
   {
    "duration": 193,
    "start_time": "2023-01-16T19:52:50.647Z"
   },
   {
    "duration": 130,
    "start_time": "2023-01-16T19:53:32.211Z"
   },
   {
    "duration": 2281,
    "start_time": "2023-01-16T19:53:53.827Z"
   },
   {
    "duration": 11175,
    "start_time": "2023-01-16T19:54:26.367Z"
   },
   {
    "duration": 160,
    "start_time": "2023-01-16T19:54:59.560Z"
   },
   {
    "duration": 20,
    "start_time": "2023-01-16T19:55:29.288Z"
   },
   {
    "duration": 725,
    "start_time": "2023-01-16T19:56:33.922Z"
   },
   {
    "duration": 132,
    "start_time": "2023-01-16T19:56:47.513Z"
   },
   {
    "duration": 2449,
    "start_time": "2023-01-16T19:57:58.624Z"
   },
   {
    "duration": 15222,
    "start_time": "2023-01-16T19:58:29.595Z"
   },
   {
    "duration": 875,
    "start_time": "2023-01-16T19:59:15.622Z"
   },
   {
    "duration": 163,
    "start_time": "2023-01-16T20:01:36.553Z"
   },
   {
    "duration": 179,
    "start_time": "2023-01-16T20:01:44.906Z"
   },
   {
    "duration": 151,
    "start_time": "2023-01-16T20:01:55.922Z"
   },
   {
    "duration": 181,
    "start_time": "2023-01-16T20:02:00.594Z"
   },
   {
    "duration": 173,
    "start_time": "2023-01-16T20:02:05.154Z"
   },
   {
    "duration": 11,
    "start_time": "2023-01-16T20:03:13.451Z"
   },
   {
    "duration": 17,
    "start_time": "2023-01-16T20:03:29.156Z"
   },
   {
    "duration": 28,
    "start_time": "2023-01-16T20:03:31.035Z"
   },
   {
    "duration": 2301,
    "start_time": "2023-01-16T20:06:20.781Z"
   },
   {
    "duration": 925,
    "start_time": "2023-01-16T20:06:23.084Z"
   },
   {
    "duration": 40,
    "start_time": "2023-01-16T20:06:24.012Z"
   },
   {
    "duration": 23,
    "start_time": "2023-01-16T20:06:24.054Z"
   },
   {
    "duration": 14,
    "start_time": "2023-01-16T20:06:24.079Z"
   },
   {
    "duration": 10,
    "start_time": "2023-01-16T20:06:24.094Z"
   },
   {
    "duration": 20,
    "start_time": "2023-01-16T20:06:24.105Z"
   },
   {
    "duration": 35,
    "start_time": "2023-01-16T20:06:24.139Z"
   },
   {
    "duration": 7,
    "start_time": "2023-01-16T20:06:24.176Z"
   },
   {
    "duration": 21,
    "start_time": "2023-01-16T20:06:24.185Z"
   },
   {
    "duration": 17,
    "start_time": "2023-01-16T20:06:24.207Z"
   },
   {
    "duration": 3,
    "start_time": "2023-01-16T20:06:24.226Z"
   },
   {
    "duration": 35,
    "start_time": "2023-01-16T20:06:24.231Z"
   },
   {
    "duration": 27,
    "start_time": "2023-01-16T20:06:24.269Z"
   },
   {
    "duration": 15,
    "start_time": "2023-01-16T20:06:24.298Z"
   },
   {
    "duration": 428,
    "start_time": "2023-01-16T20:06:24.314Z"
   },
   {
    "duration": 397,
    "start_time": "2023-01-16T20:06:24.744Z"
   },
   {
    "duration": 2494,
    "start_time": "2023-01-16T20:06:25.145Z"
   },
   {
    "duration": 13542,
    "start_time": "2023-01-16T20:06:27.641Z"
   },
   {
    "duration": 164,
    "start_time": "2023-01-16T20:06:41.185Z"
   },
   {
    "duration": 20,
    "start_time": "2023-01-16T20:06:41.351Z"
   },
   {
    "duration": 668,
    "start_time": "2023-01-16T20:06:41.373Z"
   },
   {
    "duration": 303,
    "start_time": "2023-01-16T20:06:42.044Z"
   },
   {
    "duration": 2473,
    "start_time": "2023-01-16T20:06:42.439Z"
   },
   {
    "duration": 15323,
    "start_time": "2023-01-16T20:06:44.914Z"
   },
   {
    "duration": 910,
    "start_time": "2023-01-16T20:07:00.239Z"
   },
   {
    "duration": 66,
    "start_time": "2023-01-16T20:07:01.151Z"
   },
   {
    "duration": 92,
    "start_time": "2023-01-16T20:07:01.220Z"
   },
   {
    "duration": 10,
    "start_time": "2023-01-16T20:07:01.314Z"
   },
   {
    "duration": 2340,
    "start_time": "2023-01-16T20:09:43.481Z"
   },
   {
    "duration": 1016,
    "start_time": "2023-01-16T20:09:45.825Z"
   },
   {
    "duration": 40,
    "start_time": "2023-01-16T20:09:46.842Z"
   },
   {
    "duration": 23,
    "start_time": "2023-01-16T20:09:46.884Z"
   },
   {
    "duration": 13,
    "start_time": "2023-01-16T20:09:46.910Z"
   },
   {
    "duration": 21,
    "start_time": "2023-01-16T20:09:46.925Z"
   },
   {
    "duration": 2,
    "start_time": "2023-01-16T20:09:46.948Z"
   },
   {
    "duration": 18,
    "start_time": "2023-01-16T20:09:46.952Z"
   },
   {
    "duration": 5,
    "start_time": "2023-01-16T20:09:46.971Z"
   },
   {
    "duration": 15,
    "start_time": "2023-01-16T20:09:46.978Z"
   },
   {
    "duration": 16,
    "start_time": "2023-01-16T20:09:46.995Z"
   },
   {
    "duration": 3,
    "start_time": "2023-01-16T20:09:47.038Z"
   },
   {
    "duration": 700,
    "start_time": "2023-01-16T20:10:14.383Z"
   },
   {
    "duration": 31,
    "start_time": "2023-01-16T20:10:50.674Z"
   },
   {
    "duration": 31,
    "start_time": "2023-01-16T20:10:59.951Z"
   },
   {
    "duration": 18,
    "start_time": "2023-01-16T20:11:02.416Z"
   },
   {
    "duration": 426,
    "start_time": "2023-01-16T20:11:04.423Z"
   },
   {
    "duration": 245,
    "start_time": "2023-01-16T20:11:08.895Z"
   },
   {
    "duration": 2327,
    "start_time": "2023-01-16T20:11:10.307Z"
   },
   {
    "duration": 14052,
    "start_time": "2023-01-16T20:11:18.855Z"
   },
   {
    "duration": 391,
    "start_time": "2023-01-16T20:11:44.698Z"
   },
   {
    "duration": 42,
    "start_time": "2023-01-16T20:11:59.057Z"
   },
   {
    "duration": 663,
    "start_time": "2023-01-16T20:12:24.275Z"
   },
   {
    "duration": 259,
    "start_time": "2023-01-16T20:12:28.883Z"
   },
   {
    "duration": 2348,
    "start_time": "2023-01-16T20:12:32.385Z"
   },
   {
    "duration": 13928,
    "start_time": "2023-01-16T20:12:38.522Z"
   },
   {
    "duration": 210,
    "start_time": "2023-01-16T20:13:02.657Z"
   },
   {
    "duration": 19587,
    "start_time": "2023-01-16T20:13:35.908Z"
   },
   {
    "duration": 188,
    "start_time": "2023-01-16T20:15:36.161Z"
   },
   {
    "duration": 6480,
    "start_time": "2023-01-16T20:16:16.288Z"
   },
   {
    "duration": 2306,
    "start_time": "2023-01-16T20:16:45.601Z"
   },
   {
    "duration": 20265,
    "start_time": "2023-01-16T20:17:46.123Z"
   },
   {
    "duration": 84156,
    "start_time": "2023-01-16T20:19:38.590Z"
   },
   {
    "duration": 417,
    "start_time": "2023-01-16T20:22:19.235Z"
   },
   {
    "duration": 759,
    "start_time": "2023-01-16T20:22:29.325Z"
   },
   {
    "duration": 658,
    "start_time": "2023-01-16T20:22:35.842Z"
   },
   {
    "duration": 826,
    "start_time": "2023-01-16T20:22:43.996Z"
   },
   {
    "duration": 206,
    "start_time": "2023-01-16T20:22:50.092Z"
   },
   {
    "duration": 648,
    "start_time": "2023-01-16T20:23:02.604Z"
   },
   {
    "duration": 149,
    "start_time": "2023-01-16T20:23:07.628Z"
   },
   {
    "duration": 202,
    "start_time": "2023-01-16T20:23:13.006Z"
   },
   {
    "duration": 213,
    "start_time": "2023-01-16T20:23:20.272Z"
   },
   {
    "duration": 226,
    "start_time": "2023-01-16T20:23:25.673Z"
   },
   {
    "duration": 2258,
    "start_time": "2023-01-16T20:55:05.481Z"
   },
   {
    "duration": 983,
    "start_time": "2023-01-16T20:55:07.741Z"
   },
   {
    "duration": 40,
    "start_time": "2023-01-16T20:55:08.726Z"
   },
   {
    "duration": 23,
    "start_time": "2023-01-16T20:55:08.768Z"
   },
   {
    "duration": 14,
    "start_time": "2023-01-16T20:55:08.792Z"
   },
   {
    "duration": 13,
    "start_time": "2023-01-16T20:55:08.808Z"
   },
   {
    "duration": 4,
    "start_time": "2023-01-16T20:55:08.836Z"
   },
   {
    "duration": 21,
    "start_time": "2023-01-16T20:55:08.843Z"
   },
   {
    "duration": 5,
    "start_time": "2023-01-16T20:55:08.866Z"
   },
   {
    "duration": 21,
    "start_time": "2023-01-16T20:55:08.875Z"
   },
   {
    "duration": 39,
    "start_time": "2023-01-16T20:55:08.898Z"
   },
   {
    "duration": 5,
    "start_time": "2023-01-16T20:55:08.939Z"
   },
   {
    "duration": 40,
    "start_time": "2023-01-16T20:55:08.946Z"
   },
   {
    "duration": 35,
    "start_time": "2023-01-16T20:55:08.988Z"
   },
   {
    "duration": 24,
    "start_time": "2023-01-16T20:55:09.037Z"
   },
   {
    "duration": 392,
    "start_time": "2023-01-16T20:55:09.063Z"
   },
   {
    "duration": 91,
    "start_time": "2023-01-16T20:55:09.457Z"
   },
   {
    "duration": 2365,
    "start_time": "2023-01-16T20:55:09.638Z"
   },
   {
    "duration": 13578,
    "start_time": "2023-01-16T20:55:12.005Z"
   },
   {
    "duration": 389,
    "start_time": "2023-01-16T20:55:25.585Z"
   },
   {
    "duration": 40,
    "start_time": "2023-01-16T20:55:25.975Z"
   },
   {
    "duration": 521,
    "start_time": "2023-01-16T20:55:26.017Z"
   },
   {
    "duration": 298,
    "start_time": "2023-01-16T20:55:26.541Z"
   },
   {
    "duration": 2428,
    "start_time": "2023-01-16T20:55:26.842Z"
   },
   {
    "duration": 14496,
    "start_time": "2023-01-16T20:55:29.272Z"
   },
   {
    "duration": 228,
    "start_time": "2023-01-16T20:55:43.770Z"
   },
   {
    "duration": 22,
    "start_time": "2023-01-16T20:55:44.000Z"
   },
   {
    "duration": 31,
    "start_time": "2023-01-16T20:55:44.037Z"
   },
   {
    "duration": 8,
    "start_time": "2023-01-16T20:55:44.070Z"
   },
   {
    "duration": 2251,
    "start_time": "2023-01-16T20:56:41.452Z"
   },
   {
    "duration": 977,
    "start_time": "2023-01-16T20:56:43.706Z"
   },
   {
    "duration": 39,
    "start_time": "2023-01-16T20:56:44.685Z"
   },
   {
    "duration": 23,
    "start_time": "2023-01-16T20:56:44.727Z"
   },
   {
    "duration": 14,
    "start_time": "2023-01-16T20:56:44.752Z"
   },
   {
    "duration": 20,
    "start_time": "2023-01-16T20:56:44.768Z"
   },
   {
    "duration": 5,
    "start_time": "2023-01-16T20:56:44.790Z"
   },
   {
    "duration": 32,
    "start_time": "2023-01-16T20:56:44.797Z"
   },
   {
    "duration": 8,
    "start_time": "2023-01-16T20:56:44.830Z"
   },
   {
    "duration": 22,
    "start_time": "2023-01-16T20:56:44.840Z"
   },
   {
    "duration": 19,
    "start_time": "2023-01-16T20:56:44.864Z"
   },
   {
    "duration": 2,
    "start_time": "2023-01-16T20:56:44.885Z"
   },
   {
    "duration": 37,
    "start_time": "2023-01-16T20:56:44.889Z"
   },
   {
    "duration": 28,
    "start_time": "2023-01-16T20:56:44.928Z"
   },
   {
    "duration": 18,
    "start_time": "2023-01-16T20:56:44.958Z"
   },
   {
    "duration": 428,
    "start_time": "2023-01-16T20:56:44.978Z"
   },
   {
    "duration": 233,
    "start_time": "2023-01-16T20:56:45.408Z"
   },
   {
    "duration": 2407,
    "start_time": "2023-01-16T20:56:45.644Z"
   },
   {
    "duration": 14277,
    "start_time": "2023-01-16T20:56:48.053Z"
   },
   {
    "duration": 365,
    "start_time": "2023-01-16T20:57:02.331Z"
   },
   {
    "duration": 46,
    "start_time": "2023-01-16T20:57:02.698Z"
   },
   {
    "duration": 199,
    "start_time": "2023-01-16T20:57:02.746Z"
   },
   {
    "duration": 301,
    "start_time": "2023-01-16T20:57:03.037Z"
   },
   {
    "duration": 2419,
    "start_time": "2023-01-16T20:57:03.340Z"
   },
   {
    "duration": 14696,
    "start_time": "2023-01-16T20:57:05.761Z"
   },
   {
    "duration": 203,
    "start_time": "2023-01-16T20:57:20.459Z"
   },
   {
    "duration": 21,
    "start_time": "2023-01-16T20:57:20.664Z"
   },
   {
    "duration": 49,
    "start_time": "2023-01-16T20:57:20.690Z"
   },
   {
    "duration": 9,
    "start_time": "2023-01-16T20:57:20.740Z"
   },
   {
    "duration": 118,
    "start_time": "2023-01-16T21:01:25.227Z"
   },
   {
    "duration": 12,
    "start_time": "2023-01-16T21:01:30.116Z"
   },
   {
    "duration": 12,
    "start_time": "2023-01-16T21:01:36.819Z"
   },
   {
    "duration": 22,
    "start_time": "2023-01-16T21:01:46.571Z"
   },
   {
    "duration": 28,
    "start_time": "2023-01-16T21:02:28.517Z"
   },
   {
    "duration": 2264,
    "start_time": "2023-01-16T21:02:47.803Z"
   },
   {
    "duration": 940,
    "start_time": "2023-01-16T21:02:50.069Z"
   },
   {
    "duration": 40,
    "start_time": "2023-01-16T21:02:51.010Z"
   },
   {
    "duration": 22,
    "start_time": "2023-01-16T21:02:51.052Z"
   },
   {
    "duration": 12,
    "start_time": "2023-01-16T21:02:51.076Z"
   },
   {
    "duration": 8,
    "start_time": "2023-01-16T21:02:51.090Z"
   },
   {
    "duration": 5,
    "start_time": "2023-01-16T21:02:51.100Z"
   },
   {
    "duration": 37,
    "start_time": "2023-01-16T21:02:51.106Z"
   },
   {
    "duration": 4,
    "start_time": "2023-01-16T21:02:51.145Z"
   },
   {
    "duration": 13,
    "start_time": "2023-01-16T21:02:51.153Z"
   },
   {
    "duration": 33,
    "start_time": "2023-01-16T21:02:51.168Z"
   },
   {
    "duration": 5,
    "start_time": "2023-01-16T21:02:51.203Z"
   },
   {
    "duration": 49,
    "start_time": "2023-01-16T21:02:51.210Z"
   },
   {
    "duration": 27,
    "start_time": "2023-01-16T21:02:51.261Z"
   },
   {
    "duration": 16,
    "start_time": "2023-01-16T21:02:51.289Z"
   },
   {
    "duration": 409,
    "start_time": "2023-01-16T21:02:51.307Z"
   },
   {
    "duration": 225,
    "start_time": "2023-01-16T21:02:51.718Z"
   },
   {
    "duration": 2499,
    "start_time": "2023-01-16T21:02:51.946Z"
   },
   {
    "duration": 14822,
    "start_time": "2023-01-16T21:02:54.447Z"
   },
   {
    "duration": 374,
    "start_time": "2023-01-16T21:03:09.270Z"
   },
   {
    "duration": 34,
    "start_time": "2023-01-16T21:03:09.645Z"
   },
   {
    "duration": 464,
    "start_time": "2023-01-16T21:03:09.681Z"
   },
   {
    "duration": 491,
    "start_time": "2023-01-16T21:03:10.147Z"
   },
   {
    "duration": 2397,
    "start_time": "2023-01-16T21:03:10.645Z"
   },
   {
    "duration": 14846,
    "start_time": "2023-01-16T21:03:13.044Z"
   },
   {
    "duration": 241,
    "start_time": "2023-01-16T21:03:27.892Z"
   },
   {
    "duration": 21,
    "start_time": "2023-01-16T21:03:28.138Z"
   },
   {
    "duration": 30,
    "start_time": "2023-01-16T21:03:28.163Z"
   },
   {
    "duration": 9,
    "start_time": "2023-01-16T21:03:28.194Z"
   },
   {
    "duration": 2359,
    "start_time": "2023-01-16T21:06:11.761Z"
   },
   {
    "duration": 977,
    "start_time": "2023-01-16T21:06:14.122Z"
   },
   {
    "duration": 40,
    "start_time": "2023-01-16T21:06:15.101Z"
   },
   {
    "duration": 21,
    "start_time": "2023-01-16T21:06:15.144Z"
   },
   {
    "duration": 14,
    "start_time": "2023-01-16T21:06:15.167Z"
   },
   {
    "duration": 10,
    "start_time": "2023-01-16T21:06:15.183Z"
   },
   {
    "duration": 2,
    "start_time": "2023-01-16T21:06:15.195Z"
   },
   {
    "duration": 39,
    "start_time": "2023-01-16T21:06:15.199Z"
   },
   {
    "duration": 4,
    "start_time": "2023-01-16T21:06:15.240Z"
   },
   {
    "duration": 15,
    "start_time": "2023-01-16T21:06:15.247Z"
   },
   {
    "duration": 14,
    "start_time": "2023-01-16T21:06:15.264Z"
   },
   {
    "duration": 2,
    "start_time": "2023-01-16T21:06:15.280Z"
   },
   {
    "duration": 126,
    "start_time": "2023-01-16T21:06:15.284Z"
   },
   {
    "duration": 0,
    "start_time": "2023-01-16T21:06:15.412Z"
   },
   {
    "duration": 0,
    "start_time": "2023-01-16T21:06:15.413Z"
   },
   {
    "duration": 0,
    "start_time": "2023-01-16T21:06:15.414Z"
   },
   {
    "duration": 0,
    "start_time": "2023-01-16T21:06:15.415Z"
   },
   {
    "duration": 0,
    "start_time": "2023-01-16T21:06:15.416Z"
   },
   {
    "duration": 0,
    "start_time": "2023-01-16T21:06:15.418Z"
   },
   {
    "duration": 0,
    "start_time": "2023-01-16T21:06:15.438Z"
   },
   {
    "duration": 0,
    "start_time": "2023-01-16T21:06:15.440Z"
   },
   {
    "duration": 0,
    "start_time": "2023-01-16T21:06:15.441Z"
   },
   {
    "duration": 0,
    "start_time": "2023-01-16T21:06:15.442Z"
   },
   {
    "duration": 0,
    "start_time": "2023-01-16T21:06:15.444Z"
   },
   {
    "duration": 0,
    "start_time": "2023-01-16T21:06:15.446Z"
   },
   {
    "duration": 0,
    "start_time": "2023-01-16T21:06:15.448Z"
   },
   {
    "duration": 0,
    "start_time": "2023-01-16T21:06:15.449Z"
   },
   {
    "duration": 0,
    "start_time": "2023-01-16T21:06:15.451Z"
   },
   {
    "duration": 0,
    "start_time": "2023-01-16T21:06:15.452Z"
   },
   {
    "duration": 2406,
    "start_time": "2023-01-16T21:35:06.334Z"
   },
   {
    "duration": 1040,
    "start_time": "2023-01-16T21:35:08.742Z"
   },
   {
    "duration": 41,
    "start_time": "2023-01-16T21:35:09.784Z"
   },
   {
    "duration": 25,
    "start_time": "2023-01-16T21:35:09.827Z"
   },
   {
    "duration": 13,
    "start_time": "2023-01-16T21:35:09.854Z"
   },
   {
    "duration": 9,
    "start_time": "2023-01-16T21:35:09.869Z"
   },
   {
    "duration": 3,
    "start_time": "2023-01-16T21:35:09.879Z"
   },
   {
    "duration": 17,
    "start_time": "2023-01-16T21:35:09.883Z"
   },
   {
    "duration": 4,
    "start_time": "2023-01-16T21:35:09.902Z"
   },
   {
    "duration": 13,
    "start_time": "2023-01-16T21:35:09.940Z"
   },
   {
    "duration": 14,
    "start_time": "2023-01-16T21:35:09.956Z"
   },
   {
    "duration": 3,
    "start_time": "2023-01-16T21:35:09.972Z"
   },
   {
    "duration": 147,
    "start_time": "2023-01-16T21:35:09.977Z"
   },
   {
    "duration": 0,
    "start_time": "2023-01-16T21:35:10.126Z"
   },
   {
    "duration": 0,
    "start_time": "2023-01-16T21:35:10.128Z"
   },
   {
    "duration": 0,
    "start_time": "2023-01-16T21:35:10.138Z"
   },
   {
    "duration": 0,
    "start_time": "2023-01-16T21:35:10.140Z"
   },
   {
    "duration": 0,
    "start_time": "2023-01-16T21:35:10.141Z"
   },
   {
    "duration": 0,
    "start_time": "2023-01-16T21:35:10.143Z"
   },
   {
    "duration": 0,
    "start_time": "2023-01-16T21:35:10.145Z"
   },
   {
    "duration": 0,
    "start_time": "2023-01-16T21:35:10.146Z"
   },
   {
    "duration": 0,
    "start_time": "2023-01-16T21:35:10.148Z"
   },
   {
    "duration": 0,
    "start_time": "2023-01-16T21:35:10.149Z"
   },
   {
    "duration": 0,
    "start_time": "2023-01-16T21:35:10.151Z"
   },
   {
    "duration": 0,
    "start_time": "2023-01-16T21:35:10.153Z"
   },
   {
    "duration": 0,
    "start_time": "2023-01-16T21:35:10.154Z"
   },
   {
    "duration": 0,
    "start_time": "2023-01-16T21:35:10.156Z"
   },
   {
    "duration": 0,
    "start_time": "2023-01-16T21:35:10.157Z"
   },
   {
    "duration": 0,
    "start_time": "2023-01-16T21:35:10.159Z"
   },
   {
    "duration": 18,
    "start_time": "2023-01-16T21:36:17.430Z"
   },
   {
    "duration": 33,
    "start_time": "2023-01-16T21:36:27.172Z"
   },
   {
    "duration": 2290,
    "start_time": "2023-01-16T21:36:37.053Z"
   },
   {
    "duration": 5,
    "start_time": "2023-01-16T21:36:39.346Z"
   },
   {
    "duration": 48,
    "start_time": "2023-01-16T21:36:39.353Z"
   },
   {
    "duration": 15,
    "start_time": "2023-01-16T21:36:39.404Z"
   },
   {
    "duration": 15,
    "start_time": "2023-01-16T21:36:39.420Z"
   },
   {
    "duration": 9,
    "start_time": "2023-01-16T21:36:39.437Z"
   },
   {
    "duration": 4,
    "start_time": "2023-01-16T21:36:39.448Z"
   },
   {
    "duration": 33,
    "start_time": "2023-01-16T21:36:39.454Z"
   },
   {
    "duration": 4,
    "start_time": "2023-01-16T21:36:39.489Z"
   },
   {
    "duration": 18,
    "start_time": "2023-01-16T21:36:39.496Z"
   },
   {
    "duration": 24,
    "start_time": "2023-01-16T21:36:39.516Z"
   },
   {
    "duration": 2,
    "start_time": "2023-01-16T21:36:39.541Z"
   },
   {
    "duration": 2271,
    "start_time": "2023-01-16T21:36:45.534Z"
   },
   {
    "duration": 1019,
    "start_time": "2023-01-16T21:36:47.807Z"
   },
   {
    "duration": 46,
    "start_time": "2023-01-16T21:36:48.829Z"
   },
   {
    "duration": 31,
    "start_time": "2023-01-16T21:36:48.877Z"
   },
   {
    "duration": 17,
    "start_time": "2023-01-16T21:36:48.911Z"
   },
   {
    "duration": 15,
    "start_time": "2023-01-16T21:36:48.937Z"
   },
   {
    "duration": 4,
    "start_time": "2023-01-16T21:36:48.954Z"
   },
   {
    "duration": 19,
    "start_time": "2023-01-16T21:36:48.960Z"
   },
   {
    "duration": 5,
    "start_time": "2023-01-16T21:36:48.982Z"
   },
   {
    "duration": 19,
    "start_time": "2023-01-16T21:36:48.991Z"
   },
   {
    "duration": 36,
    "start_time": "2023-01-16T21:36:49.012Z"
   },
   {
    "duration": 3,
    "start_time": "2023-01-16T21:36:49.050Z"
   },
   {
    "duration": 37,
    "start_time": "2023-01-16T21:36:49.054Z"
   },
   {
    "duration": 57,
    "start_time": "2023-01-16T21:36:49.093Z"
   },
   {
    "duration": 16,
    "start_time": "2023-01-16T21:36:49.152Z"
   },
   {
    "duration": 392,
    "start_time": "2023-01-16T21:36:49.170Z"
   },
   {
    "duration": 78,
    "start_time": "2023-01-16T21:36:49.564Z"
   },
   {
    "duration": 3094,
    "start_time": "2023-01-16T21:36:49.645Z"
   },
   {
    "duration": 16730,
    "start_time": "2023-01-16T21:36:52.741Z"
   },
   {
    "duration": 409,
    "start_time": "2023-01-16T21:37:09.473Z"
   },
   {
    "duration": 35,
    "start_time": "2023-01-16T21:37:09.883Z"
   },
   {
    "duration": 227,
    "start_time": "2023-01-16T21:37:09.919Z"
   },
   {
    "duration": 298,
    "start_time": "2023-01-16T21:37:10.239Z"
   },
   {
    "duration": 2458,
    "start_time": "2023-01-16T21:37:10.540Z"
   },
   {
    "duration": 15465,
    "start_time": "2023-01-16T21:37:12.999Z"
   },
   {
    "duration": 232,
    "start_time": "2023-01-16T21:37:28.465Z"
   },
   {
    "duration": 21,
    "start_time": "2023-01-16T21:37:28.699Z"
   },
   {
    "duration": 43,
    "start_time": "2023-01-16T21:37:28.723Z"
   },
   {
    "duration": 9,
    "start_time": "2023-01-16T21:37:28.767Z"
   },
   {
    "duration": 10080,
    "start_time": "2023-01-16T21:37:48.740Z"
   },
   {
    "duration": 100,
    "start_time": "2023-01-16T21:38:03.827Z"
   },
   {
    "duration": 14,
    "start_time": "2023-01-16T21:38:06.836Z"
   },
   {
    "duration": 399,
    "start_time": "2023-01-16T21:38:22.611Z"
   },
   {
    "duration": 35,
    "start_time": "2023-01-16T21:38:25.669Z"
   },
   {
    "duration": 3190,
    "start_time": "2023-01-16T21:38:47.942Z"
   },
   {
    "duration": 15637,
    "start_time": "2023-01-16T21:39:02.845Z"
   },
   {
    "duration": 110,
    "start_time": "2023-01-16T21:39:30.838Z"
   },
   {
    "duration": 15,
    "start_time": "2023-01-16T21:39:35.058Z"
   },
   {
    "duration": 191,
    "start_time": "2023-01-16T21:40:19.049Z"
   },
   {
    "duration": 15170,
    "start_time": "2023-01-16T21:40:27.520Z"
   },
   {
    "duration": 51,
    "start_time": "2023-01-17T08:52:03.660Z"
   },
   {
    "duration": 8848,
    "start_time": "2023-01-17T08:52:07.159Z"
   },
   {
    "duration": 1031,
    "start_time": "2023-01-17T08:52:16.009Z"
   },
   {
    "duration": 176,
    "start_time": "2023-01-17T08:52:17.042Z"
   },
   {
    "duration": 21,
    "start_time": "2023-01-17T08:52:17.221Z"
   },
   {
    "duration": 12,
    "start_time": "2023-01-17T08:52:17.243Z"
   },
   {
    "duration": 9,
    "start_time": "2023-01-17T08:52:17.257Z"
   },
   {
    "duration": 3,
    "start_time": "2023-01-17T08:52:17.267Z"
   },
   {
    "duration": 18,
    "start_time": "2023-01-17T08:52:17.271Z"
   },
   {
    "duration": 5,
    "start_time": "2023-01-17T08:52:17.290Z"
   },
   {
    "duration": 15,
    "start_time": "2023-01-17T08:52:17.297Z"
   },
   {
    "duration": 13,
    "start_time": "2023-01-17T08:52:17.314Z"
   },
   {
    "duration": 3,
    "start_time": "2023-01-17T08:52:17.328Z"
   },
   {
    "duration": 55,
    "start_time": "2023-01-17T08:52:17.333Z"
   },
   {
    "duration": 26,
    "start_time": "2023-01-17T08:52:17.390Z"
   },
   {
    "duration": 13,
    "start_time": "2023-01-17T08:52:17.418Z"
   },
   {
    "duration": 540,
    "start_time": "2023-01-17T08:52:17.433Z"
   },
   {
    "duration": 110,
    "start_time": "2023-01-17T08:52:17.980Z"
   },
   {
    "duration": 2974,
    "start_time": "2023-01-17T08:52:18.182Z"
   },
   {
    "duration": 15020,
    "start_time": "2023-01-17T08:52:21.158Z"
   },
   {
    "duration": 101,
    "start_time": "2023-01-17T08:52:36.181Z"
   },
   {
    "duration": 26,
    "start_time": "2023-01-17T08:52:36.284Z"
   },
   {
    "duration": 377,
    "start_time": "2023-01-17T08:52:36.312Z"
   },
   {
    "duration": 495,
    "start_time": "2023-01-17T08:52:36.691Z"
   },
   {
    "duration": 2592,
    "start_time": "2023-01-17T08:52:37.189Z"
   },
   {
    "duration": 53,
    "start_time": "2023-01-17T08:52:39.783Z"
   },
   {
    "duration": 0,
    "start_time": "2023-01-17T08:52:39.837Z"
   },
   {
    "duration": 22237,
    "start_time": "2023-01-17T08:54:10.110Z"
   },
   {
    "duration": 1632,
    "start_time": "2023-01-17T08:54:43.239Z"
   },
   {
    "duration": 2313,
    "start_time": "2023-01-17T08:55:03.105Z"
   },
   {
    "duration": 18301,
    "start_time": "2023-01-17T08:56:13.545Z"
   },
   {
    "duration": 17315,
    "start_time": "2023-01-17T08:56:59.170Z"
   },
   {
    "duration": 16846,
    "start_time": "2023-01-17T08:57:32.516Z"
   },
   {
    "duration": 955,
    "start_time": "2023-01-17T08:59:54.759Z"
   },
   {
    "duration": 71,
    "start_time": "2023-01-17T09:00:32.569Z"
   },
   {
    "duration": 84,
    "start_time": "2023-01-17T09:00:40.254Z"
   },
   {
    "duration": 11,
    "start_time": "2023-01-17T09:01:51.164Z"
   },
   {
    "duration": 68,
    "start_time": "2023-01-17T09:05:36.808Z"
   },
   {
    "duration": 2030,
    "start_time": "2023-01-17T09:05:52.886Z"
   },
   {
    "duration": 918,
    "start_time": "2023-01-17T09:05:54.918Z"
   },
   {
    "duration": 43,
    "start_time": "2023-01-17T09:05:55.838Z"
   },
   {
    "duration": 25,
    "start_time": "2023-01-17T09:05:55.883Z"
   },
   {
    "duration": 15,
    "start_time": "2023-01-17T09:05:55.909Z"
   },
   {
    "duration": 10,
    "start_time": "2023-01-17T09:05:55.926Z"
   },
   {
    "duration": 3,
    "start_time": "2023-01-17T09:05:55.937Z"
   },
   {
    "duration": 45,
    "start_time": "2023-01-17T09:05:55.941Z"
   },
   {
    "duration": 4,
    "start_time": "2023-01-17T09:05:55.987Z"
   },
   {
    "duration": 13,
    "start_time": "2023-01-17T09:05:55.993Z"
   },
   {
    "duration": 14,
    "start_time": "2023-01-17T09:05:56.008Z"
   },
   {
    "duration": 3,
    "start_time": "2023-01-17T09:05:56.023Z"
   },
   {
    "duration": 60,
    "start_time": "2023-01-17T09:05:56.027Z"
   },
   {
    "duration": 27,
    "start_time": "2023-01-17T09:05:56.089Z"
   },
   {
    "duration": 18,
    "start_time": "2023-01-17T09:05:56.118Z"
   },
   {
    "duration": 449,
    "start_time": "2023-01-17T09:05:56.138Z"
   },
   {
    "duration": 191,
    "start_time": "2023-01-17T09:05:56.590Z"
   },
   {
    "duration": 3104,
    "start_time": "2023-01-17T09:05:56.784Z"
   },
   {
    "duration": 14918,
    "start_time": "2023-01-17T09:05:59.890Z"
   },
   {
    "duration": 101,
    "start_time": "2023-01-17T09:06:14.809Z"
   },
   {
    "duration": 13,
    "start_time": "2023-01-17T09:06:14.912Z"
   },
   {
    "duration": 256,
    "start_time": "2023-01-17T09:06:14.927Z"
   },
   {
    "duration": 201,
    "start_time": "2023-01-17T09:06:15.185Z"
   },
   {
    "duration": 2720,
    "start_time": "2023-01-17T09:06:15.390Z"
   },
   {
    "duration": 23770,
    "start_time": "2023-01-17T09:06:18.112Z"
   },
   {
    "duration": 1652,
    "start_time": "2023-01-17T09:06:41.884Z"
   },
   {
    "duration": 2310,
    "start_time": "2023-01-17T09:06:43.538Z"
   },
   {
    "duration": 16448,
    "start_time": "2023-01-17T09:06:45.852Z"
   },
   {
    "duration": 944,
    "start_time": "2023-01-17T09:07:02.302Z"
   },
   {
    "duration": 74,
    "start_time": "2023-01-17T09:07:03.248Z"
   },
   {
    "duration": 83,
    "start_time": "2023-01-17T09:07:03.324Z"
   },
   {
    "duration": 8,
    "start_time": "2023-01-17T09:07:03.408Z"
   },
   {
    "duration": 2,
    "start_time": "2023-01-17T09:11:30.248Z"
   },
   {
    "duration": 17,
    "start_time": "2023-01-17T09:14:14.069Z"
   },
   {
    "duration": 73,
    "start_time": "2023-01-17T09:22:20.508Z"
   },
   {
    "duration": 22188,
    "start_time": "2023-01-17T09:22:23.634Z"
   },
   {
    "duration": 1094,
    "start_time": "2023-01-17T09:22:52.348Z"
   },
   {
    "duration": 2212,
    "start_time": "2023-01-17T09:23:52.946Z"
   },
   {
    "duration": 16561,
    "start_time": "2023-01-17T09:23:55.160Z"
   },
   {
    "duration": 274,
    "start_time": "2023-01-17T09:24:19.959Z"
   },
   {
    "duration": 247,
    "start_time": "2023-01-17T09:24:38.742Z"
   },
   {
    "duration": 23,
    "start_time": "2023-01-17T09:24:42.022Z"
   },
   {
    "duration": 31,
    "start_time": "2023-01-17T09:24:45.087Z"
   },
   {
    "duration": 8,
    "start_time": "2023-01-17T09:25:54.840Z"
   }
  ],
  "kernelspec": {
   "display_name": "Python 3 (ipykernel)",
   "language": "python",
   "name": "python3"
  },
  "language_info": {
   "codemirror_mode": {
    "name": "ipython",
    "version": 3
   },
   "file_extension": ".py",
   "mimetype": "text/x-python",
   "name": "python",
   "nbconvert_exporter": "python",
   "pygments_lexer": "ipython3",
   "version": "3.9.16"
  },
  "toc": {
   "base_numbering": 1,
   "nav_menu": {},
   "number_sections": true,
   "sideBar": true,
   "skip_h1_title": true,
   "title_cell": "Содержание",
   "title_sidebar": "Contents",
   "toc_cell": true,
   "toc_position": {
    "height": "calc(100% - 180px)",
    "left": "10px",
    "top": "150px",
    "width": "415px"
   },
   "toc_section_display": true,
   "toc_window_display": true
  }
 },
 "nbformat": 4,
 "nbformat_minor": 2
}
