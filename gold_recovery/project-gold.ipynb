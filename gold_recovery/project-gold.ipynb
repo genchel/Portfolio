{
 "cells": [
  {
   "cell_type": "markdown",
   "metadata": {
    "toc": true
   },
   "source": [
    "<h1>Содержание<span class=\"tocSkip\"></span></h1>\n",
    "<div class=\"toc\"><ul class=\"toc-item\"><li><span><a href=\"#Подготовка-данных\" data-toc-modified-id=\"Подготовка-данных-1\"><span class=\"toc-item-num\">1&nbsp;&nbsp;</span>Подготовка данных</a></span><ul class=\"toc-item\"><li><span><a href=\"#Откроем-и-изучим-файлы\" data-toc-modified-id=\"Откроем-и-изучим-файлы-1.1\"><span class=\"toc-item-num\">1.1&nbsp;&nbsp;</span>Откроем и изучим файлы</a></span></li><li><span><a href=\"#Проверим,-что-эффективность-обогащения-рассчитана-правильно.-Вычислим-её-на-обучающей-выборке-для-признака-rougher.output.recovery.-Найдем-MAE-между-расчётами-и-значением-признака.\" data-toc-modified-id=\"Проверим,-что-эффективность-обогащения-рассчитана-правильно.-Вычислим-её-на-обучающей-выборке-для-признака-rougher.output.recovery.-Найдем-MAE-между-расчётами-и-значением-признака.-1.2\"><span class=\"toc-item-num\">1.2&nbsp;&nbsp;</span>Проверим, что эффективность обогащения рассчитана правильно. Вычислим её на обучающей выборке для признака rougher.output.recovery. Найдем MAE между расчётами и значением признака.</a></span></li><li><span><a href=\"#Проанализируем-признаки,-недоступные-в-тестовой-выборке.\" data-toc-modified-id=\"Проанализируем-признаки,-недоступные-в-тестовой-выборке.-1.3\"><span class=\"toc-item-num\">1.3&nbsp;&nbsp;</span>Проанализируем признаки, недоступные в тестовой выборке.</a></span></li><li><span><a href=\"#Проведем-предобработку-данных.\" data-toc-modified-id=\"Проведем-предобработку-данных.-1.4\"><span class=\"toc-item-num\">1.4&nbsp;&nbsp;</span>Проведем предобработку данных.</a></span></li></ul></li><li><span><a href=\"#Анализ-данных\" data-toc-modified-id=\"Анализ-данных-2\"><span class=\"toc-item-num\">2&nbsp;&nbsp;</span>Анализ данных</a></span><ul class=\"toc-item\"><li><span><a href=\"#Посмотрим,-как-меняется-концентрация-металлов-(Au,-Ag,-Pb)-на-различных-этапах-очистки.\" data-toc-modified-id=\"Посмотрим,-как-меняется-концентрация-металлов-(Au,-Ag,-Pb)-на-различных-этапах-очистки.-2.1\"><span class=\"toc-item-num\">2.1&nbsp;&nbsp;</span>Посмотрим, как меняется концентрация металлов (Au, Ag, Pb) на различных этапах очистки.</a></span></li><li><span><a href=\"#Сравним-распределения-размеров-гранул-сырья-на-обучающей-и-тестовой-выборках.\" data-toc-modified-id=\"Сравним-распределения-размеров-гранул-сырья-на-обучающей-и-тестовой-выборках.-2.2\"><span class=\"toc-item-num\">2.2&nbsp;&nbsp;</span>Сравним распределения размеров гранул сырья на обучающей и тестовой выборках.</a></span></li><li><span><a href=\"#Исследуйте-суммарную-концентрацию-всех-веществ-на-разных-стадиях:-в-сырье,-в-черновом-и-финальном-концентратах.\" data-toc-modified-id=\"Исследуйте-суммарную-концентрацию-всех-веществ-на-разных-стадиях:-в-сырье,-в-черновом-и-финальном-концентратах.-2.3\"><span class=\"toc-item-num\">2.3&nbsp;&nbsp;</span>Исследуйте суммарную концентрацию всех веществ на разных стадиях: в сырье, в черновом и финальном концентратах.</a></span></li></ul></li><li><span><a href=\"#Модель\" data-toc-modified-id=\"Модель-3\"><span class=\"toc-item-num\">3&nbsp;&nbsp;</span>Модель</a></span><ul class=\"toc-item\"><li><span><a href=\"#Подготовка-данных-для-модели\" data-toc-modified-id=\"Подготовка-данных-для-модели-3.1\"><span class=\"toc-item-num\">3.1&nbsp;&nbsp;</span>Подготовка данных для модели</a></span></li><li><span><a href=\"#Напишем-функцию-для-вычисления-итоговой-sMAPE.\" data-toc-modified-id=\"Напишем-функцию-для-вычисления-итоговой-sMAPE.-3.2\"><span class=\"toc-item-num\">3.2&nbsp;&nbsp;</span>Напишем функцию для вычисления итоговой sMAPE.</a></span></li><li><span><a href=\"#Обучим-разные-модели-и-оценим-их-качество-кросс-валидацией.-Выберем-лучшую-модель-и-проверьте-её-на-тестовой-выборке.\" data-toc-modified-id=\"Обучим-разные-модели-и-оценим-их-качество-кросс-валидацией.-Выберем-лучшую-модель-и-проверьте-её-на-тестовой-выборке.-3.3\"><span class=\"toc-item-num\">3.3&nbsp;&nbsp;</span>Обучим разные модели и оценим их качество кросс-валидацией. Выберем лучшую модель и проверьте её на тестовой выборке.</a></span></li><li><span><a href=\"#Вывод\" data-toc-modified-id=\"Вывод-3.4\"><span class=\"toc-item-num\">3.4&nbsp;&nbsp;</span>Вывод</a></span></li></ul></li></ul></div>"
   ]
  },
  {
   "cell_type": "markdown",
   "metadata": {},
   "source": [
    "# Восстановление золота из руды"
   ]
  },
  {
   "cell_type": "markdown",
   "metadata": {},
   "source": [
    "Задача: Компания разрабатывает решения для эффективной работы промышленных предприятий. Разработать модель, которая должна предсказать коэффициент восстановления золота из золотосодержащей руды. Модель поможет оптимизировать производство, чтобы не запускать предприятие с убыточными характеристиками. \n",
    "\n",
    "\n",
    "План проекта: \n",
    "\n",
    "1. Подготовить данные;\n",
    "2. Провести исследовательский анализ данных;\n",
    "3. Построить и обучить модель.\n"
   ]
  },
  {
   "cell_type": "markdown",
   "metadata": {},
   "source": [
    "**Описание данных**\n",
    "\n",
    "Данные разделены на тестовую и обучающую выборки, а также есть общий файл с исходными данными. Имеется описание технологического процесса, параметры добычи и очистки. В тестовой выборке отсутствуют некоторые признаки, которые могут быть в обучающей, так как измеряются/рассчитываются значительно позже. \n",
    "\n",
    "\n",
    "Наименование признаков должно быть такое: [этап].[тип_параметра].[название_параметра]:\n",
    "- Значения для блока [этап]:\n",
    "  - rougher — флотация\n",
    "  - primary_cleaner — первичная очистка\n",
    "  - secondary_cleaner — вторичная очистка\n",
    "  - final — финальные характеристики\n",
    "- Значения для блока [тип_параметра]:\n",
    "  - input — параметры сырья\n",
    "  - output — параметры продукта\n",
    "  - state — параметры, характеризующие текущее состояние этапа\n",
    "  - calculation — расчётные характеристики"
   ]
  },
  {
   "cell_type": "markdown",
   "metadata": {},
   "source": [
    "## Подготовка данных"
   ]
  },
  {
   "cell_type": "code",
   "execution_count": 1,
   "metadata": {},
   "outputs": [],
   "source": [
    "import pandas as pd\n",
    "import numpy as np\n",
    "from sklearn.metrics import mean_absolute_error\n",
    "import matplotlib.pyplot as plt\n",
    "from sklearn.preprocessing import StandardScaler\n",
    "from sklearn.metrics import mean_squared_error\n",
    "from sklearn.metrics import make_scorer\n",
    "from sklearn.model_selection import cross_val_score\n",
    "from sklearn.ensemble import RandomForestRegressor\n",
    "from sklearn.linear_model import LinearRegression\n",
    "import seaborn as sns"
   ]
  },
  {
   "cell_type": "markdown",
   "metadata": {},
   "source": [
    "### Откроем и изучим файлы"
   ]
  },
  {
   "cell_type": "code",
   "execution_count": 2,
   "metadata": {},
   "outputs": [],
   "source": [
    "train = pd.read_csv('/datasets/gold_recovery_train_new.csv')\n",
    "test = pd.read_csv('/datasets/gold_recovery_test_new.csv')\n",
    "full = pd.read_csv('/datasets/gold_recovery_full_new.csv')"
   ]
  },
  {
   "cell_type": "markdown",
   "metadata": {},
   "source": [
    "Данные загружены. Выведем основную иформацию. "
   ]
  },
  {
   "cell_type": "code",
   "execution_count": 4,
   "metadata": {
    "scrolled": true
   },
   "outputs": [
    {
     "name": "stdout",
     "output_type": "stream",
     "text": [
      "<class 'pandas.core.frame.DataFrame'>\n",
      "RangeIndex: 5290 entries, 0 to 5289\n",
      "Data columns (total 53 columns):\n",
      " #   Column                                      Non-Null Count  Dtype  \n",
      "---  ------                                      --------------  -----  \n",
      " 0   date                                        5290 non-null   object \n",
      " 1   primary_cleaner.input.sulfate               5286 non-null   float64\n",
      " 2   primary_cleaner.input.depressant            5285 non-null   float64\n",
      " 3   primary_cleaner.input.feed_size             5290 non-null   float64\n",
      " 4   primary_cleaner.input.xanthate              5286 non-null   float64\n",
      " 5   primary_cleaner.state.floatbank8_a_air      5290 non-null   float64\n",
      " 6   primary_cleaner.state.floatbank8_a_level    5290 non-null   float64\n",
      " 7   primary_cleaner.state.floatbank8_b_air      5290 non-null   float64\n",
      " 8   primary_cleaner.state.floatbank8_b_level    5290 non-null   float64\n",
      " 9   primary_cleaner.state.floatbank8_c_air      5290 non-null   float64\n",
      " 10  primary_cleaner.state.floatbank8_c_level    5290 non-null   float64\n",
      " 11  primary_cleaner.state.floatbank8_d_air      5290 non-null   float64\n",
      " 12  primary_cleaner.state.floatbank8_d_level    5290 non-null   float64\n",
      " 13  rougher.input.feed_ag                       5290 non-null   float64\n",
      " 14  rougher.input.feed_pb                       5290 non-null   float64\n",
      " 15  rougher.input.feed_rate                     5287 non-null   float64\n",
      " 16  rougher.input.feed_size                     5289 non-null   float64\n",
      " 17  rougher.input.feed_sol                      5269 non-null   float64\n",
      " 18  rougher.input.feed_au                       5290 non-null   float64\n",
      " 19  rougher.input.floatbank10_sulfate           5285 non-null   float64\n",
      " 20  rougher.input.floatbank10_xanthate          5290 non-null   float64\n",
      " 21  rougher.input.floatbank11_sulfate           5282 non-null   float64\n",
      " 22  rougher.input.floatbank11_xanthate          5265 non-null   float64\n",
      " 23  rougher.state.floatbank10_a_air             5290 non-null   float64\n",
      " 24  rougher.state.floatbank10_a_level           5290 non-null   float64\n",
      " 25  rougher.state.floatbank10_b_air             5290 non-null   float64\n",
      " 26  rougher.state.floatbank10_b_level           5290 non-null   float64\n",
      " 27  rougher.state.floatbank10_c_air             5290 non-null   float64\n",
      " 28  rougher.state.floatbank10_c_level           5290 non-null   float64\n",
      " 29  rougher.state.floatbank10_d_air             5290 non-null   float64\n",
      " 30  rougher.state.floatbank10_d_level           5290 non-null   float64\n",
      " 31  rougher.state.floatbank10_e_air             5290 non-null   float64\n",
      " 32  rougher.state.floatbank10_e_level           5290 non-null   float64\n",
      " 33  rougher.state.floatbank10_f_air             5290 non-null   float64\n",
      " 34  rougher.state.floatbank10_f_level           5290 non-null   float64\n",
      " 35  secondary_cleaner.state.floatbank2_a_air    5287 non-null   float64\n",
      " 36  secondary_cleaner.state.floatbank2_a_level  5290 non-null   float64\n",
      " 37  secondary_cleaner.state.floatbank2_b_air    5288 non-null   float64\n",
      " 38  secondary_cleaner.state.floatbank2_b_level  5290 non-null   float64\n",
      " 39  secondary_cleaner.state.floatbank3_a_air    5281 non-null   float64\n",
      " 40  secondary_cleaner.state.floatbank3_a_level  5290 non-null   float64\n",
      " 41  secondary_cleaner.state.floatbank3_b_air    5290 non-null   float64\n",
      " 42  secondary_cleaner.state.floatbank3_b_level  5290 non-null   float64\n",
      " 43  secondary_cleaner.state.floatbank4_a_air    5290 non-null   float64\n",
      " 44  secondary_cleaner.state.floatbank4_a_level  5290 non-null   float64\n",
      " 45  secondary_cleaner.state.floatbank4_b_air    5290 non-null   float64\n",
      " 46  secondary_cleaner.state.floatbank4_b_level  5290 non-null   float64\n",
      " 47  secondary_cleaner.state.floatbank5_a_air    5290 non-null   float64\n",
      " 48  secondary_cleaner.state.floatbank5_a_level  5290 non-null   float64\n",
      " 49  secondary_cleaner.state.floatbank5_b_air    5290 non-null   float64\n",
      " 50  secondary_cleaner.state.floatbank5_b_level  5290 non-null   float64\n",
      " 51  secondary_cleaner.state.floatbank6_a_air    5290 non-null   float64\n",
      " 52  secondary_cleaner.state.floatbank6_a_level  5290 non-null   float64\n",
      "dtypes: float64(52), object(1)\n",
      "memory usage: 2.1+ MB\n"
     ]
    }
   ],
   "source": [
    "test.info()"
   ]
  },
  {
   "cell_type": "code",
   "execution_count": 6,
   "metadata": {
    "scrolled": true
   },
   "outputs": [
    {
     "name": "stdout",
     "output_type": "stream",
     "text": [
      "<class 'pandas.core.frame.DataFrame'>\n",
      "RangeIndex: 14149 entries, 0 to 14148\n",
      "Data columns (total 87 columns):\n",
      " #   Column                                              Non-Null Count  Dtype  \n",
      "---  ------                                              --------------  -----  \n",
      " 0   date                                                14149 non-null  object \n",
      " 1   final.output.concentrate_ag                         14148 non-null  float64\n",
      " 2   final.output.concentrate_pb                         14148 non-null  float64\n",
      " 3   final.output.concentrate_sol                        13938 non-null  float64\n",
      " 4   final.output.concentrate_au                         14149 non-null  float64\n",
      " 5   final.output.recovery                               14149 non-null  float64\n",
      " 6   final.output.tail_ag                                14149 non-null  float64\n",
      " 7   final.output.tail_pb                                14049 non-null  float64\n",
      " 8   final.output.tail_sol                               14144 non-null  float64\n",
      " 9   final.output.tail_au                                14149 non-null  float64\n",
      " 10  primary_cleaner.input.sulfate                       14129 non-null  float64\n",
      " 11  primary_cleaner.input.depressant                    14117 non-null  float64\n",
      " 12  primary_cleaner.input.feed_size                     14149 non-null  float64\n",
      " 13  primary_cleaner.input.xanthate                      14049 non-null  float64\n",
      " 14  primary_cleaner.output.concentrate_ag               14149 non-null  float64\n",
      " 15  primary_cleaner.output.concentrate_pb               14063 non-null  float64\n",
      " 16  primary_cleaner.output.concentrate_sol              13863 non-null  float64\n",
      " 17  primary_cleaner.output.concentrate_au               14149 non-null  float64\n",
      " 18  primary_cleaner.output.tail_ag                      14148 non-null  float64\n",
      " 19  primary_cleaner.output.tail_pb                      14134 non-null  float64\n",
      " 20  primary_cleaner.output.tail_sol                     14103 non-null  float64\n",
      " 21  primary_cleaner.output.tail_au                      14149 non-null  float64\n",
      " 22  primary_cleaner.state.floatbank8_a_air              14145 non-null  float64\n",
      " 23  primary_cleaner.state.floatbank8_a_level            14148 non-null  float64\n",
      " 24  primary_cleaner.state.floatbank8_b_air              14145 non-null  float64\n",
      " 25  primary_cleaner.state.floatbank8_b_level            14148 non-null  float64\n",
      " 26  primary_cleaner.state.floatbank8_c_air              14147 non-null  float64\n",
      " 27  primary_cleaner.state.floatbank8_c_level            14148 non-null  float64\n",
      " 28  primary_cleaner.state.floatbank8_d_air              14146 non-null  float64\n",
      " 29  primary_cleaner.state.floatbank8_d_level            14148 non-null  float64\n",
      " 30  rougher.calculation.sulfate_to_au_concentrate       14148 non-null  float64\n",
      " 31  rougher.calculation.floatbank10_sulfate_to_au_feed  14148 non-null  float64\n",
      " 32  rougher.calculation.floatbank11_sulfate_to_au_feed  14148 non-null  float64\n",
      " 33  rougher.calculation.au_pb_ratio                     14149 non-null  float64\n",
      " 34  rougher.input.feed_ag                               14149 non-null  float64\n",
      " 35  rougher.input.feed_pb                               14049 non-null  float64\n",
      " 36  rougher.input.feed_rate                             14141 non-null  float64\n",
      " 37  rougher.input.feed_size                             14005 non-null  float64\n",
      " 38  rougher.input.feed_sol                              14071 non-null  float64\n",
      " 39  rougher.input.feed_au                               14149 non-null  float64\n",
      " 40  rougher.input.floatbank10_sulfate                   14120 non-null  float64\n",
      " 41  rougher.input.floatbank10_xanthate                  14141 non-null  float64\n",
      " 42  rougher.input.floatbank11_sulfate                   14113 non-null  float64\n",
      " 43  rougher.input.floatbank11_xanthate                  13721 non-null  float64\n",
      " 44  rougher.output.concentrate_ag                       14149 non-null  float64\n",
      " 45  rougher.output.concentrate_pb                       14149 non-null  float64\n",
      " 46  rougher.output.concentrate_sol                      14127 non-null  float64\n",
      " 47  rougher.output.concentrate_au                       14149 non-null  float64\n",
      " 48  rougher.output.recovery                             14149 non-null  float64\n",
      " 49  rougher.output.tail_ag                              14148 non-null  float64\n",
      " 50  rougher.output.tail_pb                              14149 non-null  float64\n",
      " 51  rougher.output.tail_sol                             14149 non-null  float64\n",
      " 52  rougher.output.tail_au                              14149 non-null  float64\n",
      " 53  rougher.state.floatbank10_a_air                     14148 non-null  float64\n",
      " 54  rougher.state.floatbank10_a_level                   14148 non-null  float64\n",
      " 55  rougher.state.floatbank10_b_air                     14148 non-null  float64\n",
      " 56  rougher.state.floatbank10_b_level                   14148 non-null  float64\n",
      " 57  rougher.state.floatbank10_c_air                     14148 non-null  float64\n",
      " 58  rougher.state.floatbank10_c_level                   14148 non-null  float64\n",
      " 59  rougher.state.floatbank10_d_air                     14149 non-null  float64\n",
      " 60  rougher.state.floatbank10_d_level                   14149 non-null  float64\n",
      " 61  rougher.state.floatbank10_e_air                     13713 non-null  float64\n",
      " 62  rougher.state.floatbank10_e_level                   14149 non-null  float64\n",
      " 63  rougher.state.floatbank10_f_air                     14149 non-null  float64\n",
      " 64  rougher.state.floatbank10_f_level                   14149 non-null  float64\n",
      " 65  secondary_cleaner.output.tail_ag                    14147 non-null  float64\n",
      " 66  secondary_cleaner.output.tail_pb                    14139 non-null  float64\n",
      " 67  secondary_cleaner.output.tail_sol                   12544 non-null  float64\n",
      " 68  secondary_cleaner.output.tail_au                    14149 non-null  float64\n",
      " 69  secondary_cleaner.state.floatbank2_a_air            13932 non-null  float64\n",
      " 70  secondary_cleaner.state.floatbank2_a_level          14148 non-null  float64\n",
      " 71  secondary_cleaner.state.floatbank2_b_air            14128 non-null  float64\n",
      " 72  secondary_cleaner.state.floatbank2_b_level          14148 non-null  float64\n",
      " 73  secondary_cleaner.state.floatbank3_a_air            14145 non-null  float64\n",
      " 74  secondary_cleaner.state.floatbank3_a_level          14148 non-null  float64\n",
      " 75  secondary_cleaner.state.floatbank3_b_air            14148 non-null  float64\n",
      " 76  secondary_cleaner.state.floatbank3_b_level          14148 non-null  float64\n",
      " 77  secondary_cleaner.state.floatbank4_a_air            14143 non-null  float64\n",
      " 78  secondary_cleaner.state.floatbank4_a_level          14148 non-null  float64\n",
      " 79  secondary_cleaner.state.floatbank4_b_air            14148 non-null  float64\n",
      " 80  secondary_cleaner.state.floatbank4_b_level          14148 non-null  float64\n",
      " 81  secondary_cleaner.state.floatbank5_a_air            14148 non-null  float64\n",
      " 82  secondary_cleaner.state.floatbank5_a_level          14148 non-null  float64\n",
      " 83  secondary_cleaner.state.floatbank5_b_air            14148 non-null  float64\n",
      " 84  secondary_cleaner.state.floatbank5_b_level          14148 non-null  float64\n",
      " 85  secondary_cleaner.state.floatbank6_a_air            14147 non-null  float64\n",
      " 86  secondary_cleaner.state.floatbank6_a_level          14148 non-null  float64\n",
      "dtypes: float64(86), object(1)\n",
      "memory usage: 9.4+ MB\n"
     ]
    }
   ],
   "source": [
    "train.info()"
   ]
  },
  {
   "cell_type": "code",
   "execution_count": 8,
   "metadata": {
    "scrolled": true
   },
   "outputs": [
    {
     "name": "stdout",
     "output_type": "stream",
     "text": [
      "<class 'pandas.core.frame.DataFrame'>\n",
      "RangeIndex: 19439 entries, 0 to 19438\n",
      "Data columns (total 87 columns):\n",
      " #   Column                                              Non-Null Count  Dtype  \n",
      "---  ------                                              --------------  -----  \n",
      " 0   date                                                19439 non-null  object \n",
      " 1   final.output.concentrate_ag                         19438 non-null  float64\n",
      " 2   final.output.concentrate_pb                         19438 non-null  float64\n",
      " 3   final.output.concentrate_sol                        19228 non-null  float64\n",
      " 4   final.output.concentrate_au                         19439 non-null  float64\n",
      " 5   final.output.recovery                               19439 non-null  float64\n",
      " 6   final.output.tail_ag                                19438 non-null  float64\n",
      " 7   final.output.tail_pb                                19338 non-null  float64\n",
      " 8   final.output.tail_sol                               19433 non-null  float64\n",
      " 9   final.output.tail_au                                19439 non-null  float64\n",
      " 10  primary_cleaner.input.sulfate                       19415 non-null  float64\n",
      " 11  primary_cleaner.input.depressant                    19402 non-null  float64\n",
      " 12  primary_cleaner.input.feed_size                     19439 non-null  float64\n",
      " 13  primary_cleaner.input.xanthate                      19335 non-null  float64\n",
      " 14  primary_cleaner.output.concentrate_ag               19439 non-null  float64\n",
      " 15  primary_cleaner.output.concentrate_pb               19323 non-null  float64\n",
      " 16  primary_cleaner.output.concentrate_sol              19069 non-null  float64\n",
      " 17  primary_cleaner.output.concentrate_au               19439 non-null  float64\n",
      " 18  primary_cleaner.output.tail_ag                      19435 non-null  float64\n",
      " 19  primary_cleaner.output.tail_pb                      19418 non-null  float64\n",
      " 20  primary_cleaner.output.tail_sol                     19377 non-null  float64\n",
      " 21  primary_cleaner.output.tail_au                      19439 non-null  float64\n",
      " 22  primary_cleaner.state.floatbank8_a_air              19435 non-null  float64\n",
      " 23  primary_cleaner.state.floatbank8_a_level            19438 non-null  float64\n",
      " 24  primary_cleaner.state.floatbank8_b_air              19435 non-null  float64\n",
      " 25  primary_cleaner.state.floatbank8_b_level            19438 non-null  float64\n",
      " 26  primary_cleaner.state.floatbank8_c_air              19437 non-null  float64\n",
      " 27  primary_cleaner.state.floatbank8_c_level            19438 non-null  float64\n",
      " 28  primary_cleaner.state.floatbank8_d_air              19436 non-null  float64\n",
      " 29  primary_cleaner.state.floatbank8_d_level            19438 non-null  float64\n",
      " 30  rougher.calculation.sulfate_to_au_concentrate       19437 non-null  float64\n",
      " 31  rougher.calculation.floatbank10_sulfate_to_au_feed  19437 non-null  float64\n",
      " 32  rougher.calculation.floatbank11_sulfate_to_au_feed  19437 non-null  float64\n",
      " 33  rougher.calculation.au_pb_ratio                     19439 non-null  float64\n",
      " 34  rougher.input.feed_ag                               19439 non-null  float64\n",
      " 35  rougher.input.feed_pb                               19339 non-null  float64\n",
      " 36  rougher.input.feed_rate                             19428 non-null  float64\n",
      " 37  rougher.input.feed_size                             19294 non-null  float64\n",
      " 38  rougher.input.feed_sol                              19340 non-null  float64\n",
      " 39  rougher.input.feed_au                               19439 non-null  float64\n",
      " 40  rougher.input.floatbank10_sulfate                   19405 non-null  float64\n",
      " 41  rougher.input.floatbank10_xanthate                  19431 non-null  float64\n",
      " 42  rougher.input.floatbank11_sulfate                   19395 non-null  float64\n",
      " 43  rougher.input.floatbank11_xanthate                  18986 non-null  float64\n",
      " 44  rougher.output.concentrate_ag                       19439 non-null  float64\n",
      " 45  rougher.output.concentrate_pb                       19439 non-null  float64\n",
      " 46  rougher.output.concentrate_sol                      19416 non-null  float64\n",
      " 47  rougher.output.concentrate_au                       19439 non-null  float64\n",
      " 48  rougher.output.recovery                             19439 non-null  float64\n",
      " 49  rougher.output.tail_ag                              19438 non-null  float64\n",
      " 50  rougher.output.tail_pb                              19439 non-null  float64\n",
      " 51  rougher.output.tail_sol                             19439 non-null  float64\n",
      " 52  rougher.output.tail_au                              19439 non-null  float64\n",
      " 53  rougher.state.floatbank10_a_air                     19438 non-null  float64\n",
      " 54  rougher.state.floatbank10_a_level                   19438 non-null  float64\n",
      " 55  rougher.state.floatbank10_b_air                     19438 non-null  float64\n",
      " 56  rougher.state.floatbank10_b_level                   19438 non-null  float64\n",
      " 57  rougher.state.floatbank10_c_air                     19438 non-null  float64\n",
      " 58  rougher.state.floatbank10_c_level                   19438 non-null  float64\n",
      " 59  rougher.state.floatbank10_d_air                     19439 non-null  float64\n",
      " 60  rougher.state.floatbank10_d_level                   19439 non-null  float64\n",
      " 61  rougher.state.floatbank10_e_air                     19003 non-null  float64\n",
      " 62  rougher.state.floatbank10_e_level                   19439 non-null  float64\n",
      " 63  rougher.state.floatbank10_f_air                     19439 non-null  float64\n",
      " 64  rougher.state.floatbank10_f_level                   19439 non-null  float64\n",
      " 65  secondary_cleaner.output.tail_ag                    19437 non-null  float64\n",
      " 66  secondary_cleaner.output.tail_pb                    19427 non-null  float64\n",
      " 67  secondary_cleaner.output.tail_sol                   17691 non-null  float64\n",
      " 68  secondary_cleaner.output.tail_au                    19439 non-null  float64\n",
      " 69  secondary_cleaner.state.floatbank2_a_air            19219 non-null  float64\n",
      " 70  secondary_cleaner.state.floatbank2_a_level          19438 non-null  float64\n",
      " 71  secondary_cleaner.state.floatbank2_b_air            19416 non-null  float64\n",
      " 72  secondary_cleaner.state.floatbank2_b_level          19438 non-null  float64\n",
      " 73  secondary_cleaner.state.floatbank3_a_air            19426 non-null  float64\n",
      " 74  secondary_cleaner.state.floatbank3_a_level          19438 non-null  float64\n",
      " 75  secondary_cleaner.state.floatbank3_b_air            19438 non-null  float64\n",
      " 76  secondary_cleaner.state.floatbank3_b_level          19438 non-null  float64\n",
      " 77  secondary_cleaner.state.floatbank4_a_air            19433 non-null  float64\n",
      " 78  secondary_cleaner.state.floatbank4_a_level          19438 non-null  float64\n",
      " 79  secondary_cleaner.state.floatbank4_b_air            19438 non-null  float64\n",
      " 80  secondary_cleaner.state.floatbank4_b_level          19438 non-null  float64\n",
      " 81  secondary_cleaner.state.floatbank5_a_air            19438 non-null  float64\n",
      " 82  secondary_cleaner.state.floatbank5_a_level          19438 non-null  float64\n",
      " 83  secondary_cleaner.state.floatbank5_b_air            19438 non-null  float64\n",
      " 84  secondary_cleaner.state.floatbank5_b_level          19438 non-null  float64\n",
      " 85  secondary_cleaner.state.floatbank6_a_air            19437 non-null  float64\n",
      " 86  secondary_cleaner.state.floatbank6_a_level          19438 non-null  float64\n",
      "dtypes: float64(86), object(1)\n",
      "memory usage: 12.9+ MB\n"
     ]
    }
   ],
   "source": [
    "full.info()"
   ]
  },
  {
   "cell_type": "markdown",
   "metadata": {},
   "source": [
    "Типы данных указаны верно, присутствут пропуски, заполним их позже."
   ]
  },
  {
   "cell_type": "markdown",
   "metadata": {},
   "source": [
    "### Проверим, что эффективность обогащения рассчитана правильно. Вычислим её на обучающей выборке для признака rougher.output.recovery. Найдем MAE между расчётами и значением признака."
   ]
  },
  {
   "cell_type": "markdown",
   "metadata": {},
   "source": [
    "Для процесса флотации в рассчетах параметры будут следующие:\n",
    "- С - rougher.output.concentrate_au\n",
    "- F - rougher.input.feed_au\n",
    "- T - rougher.output.tail_au"
   ]
  },
  {
   "cell_type": "code",
   "execution_count": 9,
   "metadata": {},
   "outputs": [
    {
     "name": "stdout",
     "output_type": "stream",
     "text": [
      "MAE между расчетами и значением признака rougher.output.recovery: 9.73512347450521e-15\n"
     ]
    }
   ],
   "source": [
    "new_recovery_rougher = (\n",
    "    (train['rougher.output.concentrate_au']*(train['rougher.input.feed_au'] - train['rougher.output.tail_au']))\n",
    "/\n",
    "    (train['rougher.input.feed_au']*(train['rougher.output.concentrate_au'] - train['rougher.output.tail_au'])))*100\n",
    "mae_new_rec = mean_absolute_error(train['rougher.output.recovery'], new_recovery_rougher)\n",
    "print('MAE между расчетами и значением признака rougher.output.recovery:',mae_new_rec)"
   ]
  },
  {
   "cell_type": "markdown",
   "metadata": {},
   "source": [
    "Вывод: Значение среднего абсолютного отклонения близко к нулю. Следовательно можем считать, что rougher.output.recovery в наших данных посчитан верно."
   ]
  },
  {
   "cell_type": "markdown",
   "metadata": {},
   "source": [
    "### Проанализируем признаки, недоступные в тестовой выборке. "
   ]
  },
  {
   "cell_type": "markdown",
   "metadata": {},
   "source": [
    "Выведем все различающиеся столбцы в двух наборах."
   ]
  },
  {
   "cell_type": "code",
   "execution_count": 10,
   "metadata": {},
   "outputs": [
    {
     "data": {
      "text/plain": [
       "{'final.output.concentrate_ag',\n",
       " 'final.output.concentrate_au',\n",
       " 'final.output.concentrate_pb',\n",
       " 'final.output.concentrate_sol',\n",
       " 'final.output.recovery',\n",
       " 'final.output.tail_ag',\n",
       " 'final.output.tail_au',\n",
       " 'final.output.tail_pb',\n",
       " 'final.output.tail_sol',\n",
       " 'primary_cleaner.output.concentrate_ag',\n",
       " 'primary_cleaner.output.concentrate_au',\n",
       " 'primary_cleaner.output.concentrate_pb',\n",
       " 'primary_cleaner.output.concentrate_sol',\n",
       " 'primary_cleaner.output.tail_ag',\n",
       " 'primary_cleaner.output.tail_au',\n",
       " 'primary_cleaner.output.tail_pb',\n",
       " 'primary_cleaner.output.tail_sol',\n",
       " 'rougher.calculation.au_pb_ratio',\n",
       " 'rougher.calculation.floatbank10_sulfate_to_au_feed',\n",
       " 'rougher.calculation.floatbank11_sulfate_to_au_feed',\n",
       " 'rougher.calculation.sulfate_to_au_concentrate',\n",
       " 'rougher.output.concentrate_ag',\n",
       " 'rougher.output.concentrate_au',\n",
       " 'rougher.output.concentrate_pb',\n",
       " 'rougher.output.concentrate_sol',\n",
       " 'rougher.output.recovery',\n",
       " 'rougher.output.tail_ag',\n",
       " 'rougher.output.tail_au',\n",
       " 'rougher.output.tail_pb',\n",
       " 'rougher.output.tail_sol',\n",
       " 'secondary_cleaner.output.tail_ag',\n",
       " 'secondary_cleaner.output.tail_au',\n",
       " 'secondary_cleaner.output.tail_pb',\n",
       " 'secondary_cleaner.output.tail_sol'}"
      ]
     },
     "execution_count": 10,
     "metadata": {},
     "output_type": "execute_result"
    }
   ],
   "source": [
    "out_column = set(train.columns) - set(test.columns)\n",
    "out_column"
   ]
  },
  {
   "cell_type": "markdown",
   "metadata": {},
   "source": [
    "В тестовом наборе отсутствуют все выходные данные о концентратах и хвостах после каждого этапа обработки, включая наши целевые признаки, а также расчетные значения, которые должны получиться после флотации. Поскольку  наша модель должна предсказывать значения до запуска производства, то и обучаться ей стоит без выходных признаков. Сформируем новую обучающую выборку, исключив все выходные значения (кроме целевого, он нужен для обучения)."
   ]
  },
  {
   "cell_type": "code",
   "execution_count": 1,
   "metadata": {},
   "outputs": [],
   "source": [
    "out_column.discard('final.output.recovery')\n",
    "out_column.discard('rougher.output.recovery')\n",
    "train_1 = train.drop(columns = out_column)"
   ]
  },
  {
   "cell_type": "markdown",
   "metadata": {},
   "source": [
    "### Проведем предобработку данных."
   ]
  },
  {
   "cell_type": "markdown",
   "metadata": {},
   "source": [
    "Для начала проверим обучающую выборку."
   ]
  },
  {
   "cell_type": "code",
   "execution_count": 12,
   "metadata": {
    "scrolled": true
   },
   "outputs": [
    {
     "data": {
      "text/plain": [
       "date                                            0\n",
       "final.output.recovery                           0\n",
       "primary_cleaner.input.sulfate                  20\n",
       "primary_cleaner.input.depressant               32\n",
       "primary_cleaner.input.feed_size                 0\n",
       "primary_cleaner.input.xanthate                100\n",
       "primary_cleaner.state.floatbank8_a_air          4\n",
       "primary_cleaner.state.floatbank8_a_level        1\n",
       "primary_cleaner.state.floatbank8_b_air          4\n",
       "primary_cleaner.state.floatbank8_b_level        1\n",
       "primary_cleaner.state.floatbank8_c_air          2\n",
       "primary_cleaner.state.floatbank8_c_level        1\n",
       "primary_cleaner.state.floatbank8_d_air          3\n",
       "primary_cleaner.state.floatbank8_d_level        1\n",
       "rougher.input.feed_ag                           0\n",
       "rougher.input.feed_pb                         100\n",
       "rougher.input.feed_rate                         8\n",
       "rougher.input.feed_size                       144\n",
       "rougher.input.feed_sol                         78\n",
       "rougher.input.feed_au                           0\n",
       "rougher.input.floatbank10_sulfate              29\n",
       "rougher.input.floatbank10_xanthate              8\n",
       "rougher.input.floatbank11_sulfate              36\n",
       "rougher.input.floatbank11_xanthate            428\n",
       "rougher.output.recovery                         0\n",
       "rougher.state.floatbank10_a_air                 1\n",
       "rougher.state.floatbank10_a_level               1\n",
       "rougher.state.floatbank10_b_air                 1\n",
       "rougher.state.floatbank10_b_level               1\n",
       "rougher.state.floatbank10_c_air                 1\n",
       "rougher.state.floatbank10_c_level               1\n",
       "rougher.state.floatbank10_d_air                 0\n",
       "rougher.state.floatbank10_d_level               0\n",
       "rougher.state.floatbank10_e_air               436\n",
       "rougher.state.floatbank10_e_level               0\n",
       "rougher.state.floatbank10_f_air                 0\n",
       "rougher.state.floatbank10_f_level               0\n",
       "secondary_cleaner.state.floatbank2_a_air      217\n",
       "secondary_cleaner.state.floatbank2_a_level      1\n",
       "secondary_cleaner.state.floatbank2_b_air       21\n",
       "secondary_cleaner.state.floatbank2_b_level      1\n",
       "secondary_cleaner.state.floatbank3_a_air        4\n",
       "secondary_cleaner.state.floatbank3_a_level      1\n",
       "secondary_cleaner.state.floatbank3_b_air        1\n",
       "secondary_cleaner.state.floatbank3_b_level      1\n",
       "secondary_cleaner.state.floatbank4_a_air        6\n",
       "secondary_cleaner.state.floatbank4_a_level      1\n",
       "secondary_cleaner.state.floatbank4_b_air        1\n",
       "secondary_cleaner.state.floatbank4_b_level      1\n",
       "secondary_cleaner.state.floatbank5_a_air        1\n",
       "secondary_cleaner.state.floatbank5_a_level      1\n",
       "secondary_cleaner.state.floatbank5_b_air        1\n",
       "secondary_cleaner.state.floatbank5_b_level      1\n",
       "secondary_cleaner.state.floatbank6_a_air        2\n",
       "secondary_cleaner.state.floatbank6_a_level      1\n",
       "dtype: int64"
      ]
     },
     "execution_count": 12,
     "metadata": {},
     "output_type": "execute_result"
    }
   ],
   "source": [
    "train_1.isna().sum()"
   ]
  },
  {
   "cell_type": "markdown",
   "metadata": {},
   "source": [
    "Нам известно, что данные индексируются датой и временем получения информации (признак date). Соседние по времени параметры часто похожи. Заполним пропуски предыдущими значениями с помощью fillna(method = 'ffill')."
   ]
  },
  {
   "cell_type": "code",
   "execution_count": 14,
   "metadata": {
    "scrolled": true
   },
   "outputs": [
    {
     "data": {
      "text/plain": [
       "date                                          0\n",
       "final.output.recovery                         0\n",
       "primary_cleaner.input.sulfate                 0\n",
       "primary_cleaner.input.depressant              0\n",
       "primary_cleaner.input.feed_size               0\n",
       "primary_cleaner.input.xanthate                0\n",
       "primary_cleaner.state.floatbank8_a_air        0\n",
       "primary_cleaner.state.floatbank8_a_level      0\n",
       "primary_cleaner.state.floatbank8_b_air        0\n",
       "primary_cleaner.state.floatbank8_b_level      0\n",
       "primary_cleaner.state.floatbank8_c_air        0\n",
       "primary_cleaner.state.floatbank8_c_level      0\n",
       "primary_cleaner.state.floatbank8_d_air        0\n",
       "primary_cleaner.state.floatbank8_d_level      0\n",
       "rougher.input.feed_ag                         0\n",
       "rougher.input.feed_pb                         0\n",
       "rougher.input.feed_rate                       0\n",
       "rougher.input.feed_size                       0\n",
       "rougher.input.feed_sol                        0\n",
       "rougher.input.feed_au                         0\n",
       "rougher.input.floatbank10_sulfate             0\n",
       "rougher.input.floatbank10_xanthate            0\n",
       "rougher.input.floatbank11_sulfate             0\n",
       "rougher.input.floatbank11_xanthate            0\n",
       "rougher.output.recovery                       0\n",
       "rougher.state.floatbank10_a_air               0\n",
       "rougher.state.floatbank10_a_level             0\n",
       "rougher.state.floatbank10_b_air               0\n",
       "rougher.state.floatbank10_b_level             0\n",
       "rougher.state.floatbank10_c_air               0\n",
       "rougher.state.floatbank10_c_level             0\n",
       "rougher.state.floatbank10_d_air               0\n",
       "rougher.state.floatbank10_d_level             0\n",
       "rougher.state.floatbank10_e_air               0\n",
       "rougher.state.floatbank10_e_level             0\n",
       "rougher.state.floatbank10_f_air               0\n",
       "rougher.state.floatbank10_f_level             0\n",
       "secondary_cleaner.state.floatbank2_a_air      0\n",
       "secondary_cleaner.state.floatbank2_a_level    0\n",
       "secondary_cleaner.state.floatbank2_b_air      0\n",
       "secondary_cleaner.state.floatbank2_b_level    0\n",
       "secondary_cleaner.state.floatbank3_a_air      0\n",
       "secondary_cleaner.state.floatbank3_a_level    0\n",
       "secondary_cleaner.state.floatbank3_b_air      0\n",
       "secondary_cleaner.state.floatbank3_b_level    0\n",
       "secondary_cleaner.state.floatbank4_a_air      0\n",
       "secondary_cleaner.state.floatbank4_a_level    0\n",
       "secondary_cleaner.state.floatbank4_b_air      0\n",
       "secondary_cleaner.state.floatbank4_b_level    0\n",
       "secondary_cleaner.state.floatbank5_a_air      0\n",
       "secondary_cleaner.state.floatbank5_a_level    0\n",
       "secondary_cleaner.state.floatbank5_b_air      0\n",
       "secondary_cleaner.state.floatbank5_b_level    0\n",
       "secondary_cleaner.state.floatbank6_a_air      0\n",
       "secondary_cleaner.state.floatbank6_a_level    0\n",
       "dtype: int64"
      ]
     },
     "execution_count": 14,
     "metadata": {},
     "output_type": "execute_result"
    }
   ],
   "source": [
    "train_1 = train_1.fillna(method = 'ffill')\n",
    "train_1.isna().sum()"
   ]
  },
  {
   "cell_type": "markdown",
   "metadata": {},
   "source": [
    "Тоже самое проделаем с test выборкой."
   ]
  },
  {
   "cell_type": "code",
   "execution_count": 15,
   "metadata": {
    "scrolled": true
   },
   "outputs": [
    {
     "data": {
      "text/plain": [
       "date                                          0\n",
       "primary_cleaner.input.sulfate                 0\n",
       "primary_cleaner.input.depressant              0\n",
       "primary_cleaner.input.feed_size               0\n",
       "primary_cleaner.input.xanthate                0\n",
       "primary_cleaner.state.floatbank8_a_air        0\n",
       "primary_cleaner.state.floatbank8_a_level      0\n",
       "primary_cleaner.state.floatbank8_b_air        0\n",
       "primary_cleaner.state.floatbank8_b_level      0\n",
       "primary_cleaner.state.floatbank8_c_air        0\n",
       "primary_cleaner.state.floatbank8_c_level      0\n",
       "primary_cleaner.state.floatbank8_d_air        0\n",
       "primary_cleaner.state.floatbank8_d_level      0\n",
       "rougher.input.feed_ag                         0\n",
       "rougher.input.feed_pb                         0\n",
       "rougher.input.feed_rate                       0\n",
       "rougher.input.feed_size                       0\n",
       "rougher.input.feed_sol                        0\n",
       "rougher.input.feed_au                         0\n",
       "rougher.input.floatbank10_sulfate             0\n",
       "rougher.input.floatbank10_xanthate            0\n",
       "rougher.input.floatbank11_sulfate             0\n",
       "rougher.input.floatbank11_xanthate            0\n",
       "rougher.state.floatbank10_a_air               0\n",
       "rougher.state.floatbank10_a_level             0\n",
       "rougher.state.floatbank10_b_air               0\n",
       "rougher.state.floatbank10_b_level             0\n",
       "rougher.state.floatbank10_c_air               0\n",
       "rougher.state.floatbank10_c_level             0\n",
       "rougher.state.floatbank10_d_air               0\n",
       "rougher.state.floatbank10_d_level             0\n",
       "rougher.state.floatbank10_e_air               0\n",
       "rougher.state.floatbank10_e_level             0\n",
       "rougher.state.floatbank10_f_air               0\n",
       "rougher.state.floatbank10_f_level             0\n",
       "secondary_cleaner.state.floatbank2_a_air      0\n",
       "secondary_cleaner.state.floatbank2_a_level    0\n",
       "secondary_cleaner.state.floatbank2_b_air      0\n",
       "secondary_cleaner.state.floatbank2_b_level    0\n",
       "secondary_cleaner.state.floatbank3_a_air      0\n",
       "secondary_cleaner.state.floatbank3_a_level    0\n",
       "secondary_cleaner.state.floatbank3_b_air      0\n",
       "secondary_cleaner.state.floatbank3_b_level    0\n",
       "secondary_cleaner.state.floatbank4_a_air      0\n",
       "secondary_cleaner.state.floatbank4_a_level    0\n",
       "secondary_cleaner.state.floatbank4_b_air      0\n",
       "secondary_cleaner.state.floatbank4_b_level    0\n",
       "secondary_cleaner.state.floatbank5_a_air      0\n",
       "secondary_cleaner.state.floatbank5_a_level    0\n",
       "secondary_cleaner.state.floatbank5_b_air      0\n",
       "secondary_cleaner.state.floatbank5_b_level    0\n",
       "secondary_cleaner.state.floatbank6_a_air      0\n",
       "secondary_cleaner.state.floatbank6_a_level    0\n",
       "dtype: int64"
      ]
     },
     "execution_count": 15,
     "metadata": {},
     "output_type": "execute_result"
    }
   ],
   "source": [
    "test = test.fillna(method = 'ffill')\n",
    "test.isna().sum()"
   ]
  },
  {
   "cell_type": "markdown",
   "metadata": {},
   "source": [
    "Заполним пропуски для полной выборки для дальнейшего изучения концетраций и построения графиков."
   ]
  },
  {
   "cell_type": "code",
   "execution_count": 16,
   "metadata": {},
   "outputs": [
    {
     "data": {
      "text/plain": [
       "date                                          0\n",
       "final.output.concentrate_ag                   0\n",
       "final.output.concentrate_pb                   0\n",
       "final.output.concentrate_sol                  0\n",
       "final.output.concentrate_au                   0\n",
       "                                             ..\n",
       "secondary_cleaner.state.floatbank5_a_level    0\n",
       "secondary_cleaner.state.floatbank5_b_air      0\n",
       "secondary_cleaner.state.floatbank5_b_level    0\n",
       "secondary_cleaner.state.floatbank6_a_air      0\n",
       "secondary_cleaner.state.floatbank6_a_level    0\n",
       "Length: 87, dtype: int64"
      ]
     },
     "execution_count": 16,
     "metadata": {},
     "output_type": "execute_result"
    }
   ],
   "source": [
    "full = full.fillna(method = 'ffill')\n",
    "full.isna().sum()"
   ]
  },
  {
   "cell_type": "markdown",
   "metadata": {},
   "source": [
    "## Анализ данных"
   ]
  },
  {
   "cell_type": "markdown",
   "metadata": {},
   "source": [
    "### Посмотрим, как меняется концентрация металлов (Au, Ag, Pb) на различных этапах очистки. "
   ]
  },
  {
   "cell_type": "markdown",
   "metadata": {},
   "source": [
    "Посмотрим распределения для концентрации трех металлов."
   ]
  },
  {
   "cell_type": "code",
   "execution_count": 17,
   "metadata": {},
   "outputs": [
    {
     "data": {
      "image/png": "[encoded data removed]",
      "text/plain": [
       "<Figure size 432x288 with 1 Axes>"
      ]
     },
     "metadata": {
      "needs_background": "light"
     },
     "output_type": "display_data"
    }
   ],
   "source": [
    "plt.title('Респределение концентраций в этапах для золота')\n",
    "plt.xlabel('Концентрация')\n",
    "plt.ylabel('Число входсеребраеящих измерений')\n",
    "full['rougher.input.feed_au'].hist(bins=100)\n",
    "full['rougher.output.concentrate_au'].hist(bins=100)\n",
    "full['primary_cleaner.output.concentrate_au'].hist(bins=100)\n",
    "full['final.output.concentrate_au'].hist(bins=100);"
   ]
  },
  {
   "cell_type": "code",
   "execution_count": 18,
   "metadata": {},
   "outputs": [
    {
     "data": {
      "image/png": "[encoded data removed]",
      "text/plain": [
       "<Figure size 432x288 with 1 Axes>"
      ]
     },
     "metadata": {
      "needs_background": "light"
     },
     "output_type": "display_data"
    }
   ],
   "source": [
    "plt.title('Респределение концентраций в этапах для серебра')\n",
    "plt.xlabel('Концентрация')\n",
    "plt.ylabel('Число входящих измерений')\n",
    "full['rougher.input.feed_ag'].hist(bins=100)\n",
    "full['rougher.output.concentrate_ag'].hist(bins=100)\n",
    "full['primary_cleaner.output.concentrate_ag'].hist(bins=100)\n",
    "full['final.output.concentrate_ag'].hist(bins=100);"
   ]
  },
  {
   "cell_type": "code",
   "execution_count": 19,
   "metadata": {},
   "outputs": [
    {
     "data": {
      "image/png": "[encoded data removed]",
      "text/plain": [
       "<Figure size 432x288 with 1 Axes>"
      ]
     },
     "metadata": {
      "needs_background": "light"
     },
     "output_type": "display_data"
    }
   ],
   "source": [
    "plt.title('Респределение концентраций в этапах для свинца')\n",
    "plt.xlabel('Концентрация')\n",
    "plt.ylabel('Число входящих измерений')\n",
    "full['rougher.input.feed_pb'].hist(bins=100)\n",
    "full['rougher.output.concentrate_pb'].hist(bins=100)\n",
    "full['primary_cleaner.output.concentrate_pb'].hist(bins=100)\n",
    "full['final.output.concentrate_pb'].hist(bins=100);"
   ]
  },
  {
   "cell_type": "markdown",
   "metadata": {},
   "source": [
    "Вывод: \n",
    "\n",
    "Концентрация золота, как и должно быть, на каждом этапе увеличивается, так как очищаются все лишние примеси. Концентрация остальых веществ зависит от того, что именно отделятся на конкретном этапе, например, от серебра, судя по гистограмме, очищают концентрат на позднем этапе. Также по распределениям можно наблюдать, что у нас имеются некоторые выбросы около нуля."
   ]
  },
  {
   "cell_type": "markdown",
   "metadata": {},
   "source": [
    "###  Сравним распределения размеров гранул сырья на обучающей и тестовой выборках. "
   ]
  },
  {
   "cell_type": "code",
   "execution_count": 21,
   "metadata": {},
   "outputs": [
    {
     "data": {
      "image/png": "[encoded data removed]",
      "text/plain": [
       "<Figure size 504x504 with 1 Axes>"
      ]
     },
     "metadata": {
      "needs_background": "light"
     },
     "output_type": "display_data"
    }
   ],
   "source": [
    "plt.figure(figsize=(7,7))\n",
    "plt.title('Респределение размеров гранул сырья на обучающей и тестовой выборках')\n",
    "plt.xlabel('Размеры гранул')\n",
    "plt.ylabel('Плотность')\n",
    "sns.kdeplot(train_1['rougher.input.feed_size'], fill = True)\n",
    "sns.kdeplot(test['rougher.input.feed_size'], fill = True);"
   ]
  },
  {
   "cell_type": "markdown",
   "metadata": {},
   "source": [
    "Вывод:\n",
    "\n",
    "В целом распределения очень похожи и находятся в одном диапазоне."
   ]
  },
  {
   "cell_type": "markdown",
   "metadata": {},
   "source": [
    "### Исследуйте суммарную концентрацию всех веществ на разных стадиях: в сырье, в черновом и финальном концентратах. "
   ]
  },
  {
   "cell_type": "markdown",
   "metadata": {},
   "source": [
    "Создадим суммарные столбцы для концентраций на разных этапах."
   ]
  },
  {
   "cell_type": "code",
   "execution_count": 23,
   "metadata": {},
   "outputs": [],
   "source": [
    "full['rougher.input.feed_sum'] = full['rougher.input.feed_au'] + full['rougher.input.feed_ag'] + full['rougher.input.feed_pb'] + full['rougher.input.feed_sol']\n",
    "full['rougher.output.concentrate_sum'] = full['rougher.output.concentrate_au'] + full['rougher.output.concentrate_ag'] + full['rougher.output.concentrate_pb'] + full['rougher.output.concentrate_sol']\n",
    "full['primary_cleaner.output.concentrate_sum'] = full['primary_cleaner.output.concentrate_au'] + full['primary_cleaner.output.concentrate_ag'] + full['primary_cleaner.output.concentrate_pb']+full['primary_cleaner.output.concentrate_sol']\n",
    "full['final.output.concentrate_sum'] = full['final.output.concentrate_au'] + full['final.output.concentrate_ag'] + full['final.output.concentrate_pb'] + full['final.output.concentrate_sol']"
   ]
  },
  {
   "cell_type": "code",
   "execution_count": 24,
   "metadata": {},
   "outputs": [
    {
     "data": {
      "image/png": "[encoded data removed]",
      "text/plain": [
       "<Figure size 432x288 with 1 Axes>"
      ]
     },
     "metadata": {
      "needs_background": "light"
     },
     "output_type": "display_data"
    }
   ],
   "source": [
    "sns.histplot(full['rougher.input.feed_sum']);"
   ]
  },
  {
   "cell_type": "code",
   "execution_count": 25,
   "metadata": {},
   "outputs": [
    {
     "data": {
      "image/png": "[encoded data removed]",
      "text/plain": [
       "<Figure size 432x288 with 1 Axes>"
      ]
     },
     "metadata": {
      "needs_background": "light"
     },
     "output_type": "display_data"
    }
   ],
   "source": [
    "sns.histplot(full['rougher.output.concentrate_sum']);"
   ]
  },
  {
   "cell_type": "code",
   "execution_count": 26,
   "metadata": {},
   "outputs": [
    {
     "data": {
      "image/png": "[encoded data removed]",
      "text/plain": [
       "<Figure size 432x288 with 1 Axes>"
      ]
     },
     "metadata": {
      "needs_background": "light"
     },
     "output_type": "display_data"
    }
   ],
   "source": [
    "sns.histplot(full['primary_cleaner.output.concentrate_sum']);"
   ]
  },
  {
   "cell_type": "code",
   "execution_count": 27,
   "metadata": {},
   "outputs": [
    {
     "data": {
      "image/png": "[encoded data removed]",
      "text/plain": [
       "<Figure size 432x288 with 1 Axes>"
      ]
     },
     "metadata": {
      "needs_background": "light"
     },
     "output_type": "display_data"
    }
   ],
   "source": [
    "sns.histplot(full['final.output.concentrate_sum']);"
   ]
  },
  {
   "cell_type": "markdown",
   "metadata": {},
   "source": [
    "По гистограммам видно, что присутствуют записи, где суммарная концентрация равна нулям. Аномальные значения следует удалить."
   ]
  },
  {
   "cell_type": "code",
   "execution_count": 28,
   "metadata": {},
   "outputs": [],
   "source": [
    "for col in ['rougher.input.feed_sum', 'rougher.output.concentrate_sum', 'primary_cleaner.output.concentrate_sum', 'final.output.concentrate_sum']:\n",
    "    full = full[full[col]>0]"
   ]
  },
  {
   "cell_type": "markdown",
   "metadata": {},
   "source": [
    "Переведем даты в индексы и перезаполним train_1 с учетом удаления аномалий. "
   ]
  },
  {
   "cell_type": "code",
   "execution_count": 29,
   "metadata": {},
   "outputs": [],
   "source": [
    "train_1 = train_1.set_index('date')\n",
    "full = full.set_index('date')\n",
    "train_1 = train_1.loc[train_1.index.isin(full.index)]"
   ]
  },
  {
   "cell_type": "code",
   "execution_count": 30,
   "metadata": {
    "scrolled": true
   },
   "outputs": [
    {
     "name": "stdout",
     "output_type": "stream",
     "text": [
      "<class 'pandas.core.frame.DataFrame'>\n",
      "Index: 13725 entries, 2016-01-15 00:00:00 to 2018-08-18 10:59:59\n",
      "Data columns (total 54 columns):\n",
      " #   Column                                      Non-Null Count  Dtype  \n",
      "---  ------                                      --------------  -----  \n",
      " 0   final.output.recovery                       13725 non-null  float64\n",
      " 1   primary_cleaner.input.sulfate               13725 non-null  float64\n",
      " 2   primary_cleaner.input.depressant            13725 non-null  float64\n",
      " 3   primary_cleaner.input.feed_size             13725 non-null  float64\n",
      " 4   primary_cleaner.input.xanthate              13725 non-null  float64\n",
      " 5   primary_cleaner.state.floatbank8_a_air      13725 non-null  float64\n",
      " 6   primary_cleaner.state.floatbank8_a_level    13725 non-null  float64\n",
      " 7   primary_cleaner.state.floatbank8_b_air      13725 non-null  float64\n",
      " 8   primary_cleaner.state.floatbank8_b_level    13725 non-null  float64\n",
      " 9   primary_cleaner.state.floatbank8_c_air      13725 non-null  float64\n",
      " 10  primary_cleaner.state.floatbank8_c_level    13725 non-null  float64\n",
      " 11  primary_cleaner.state.floatbank8_d_air      13725 non-null  float64\n",
      " 12  primary_cleaner.state.floatbank8_d_level    13725 non-null  float64\n",
      " 13  rougher.input.feed_ag                       13725 non-null  float64\n",
      " 14  rougher.input.feed_pb                       13725 non-null  float64\n",
      " 15  rougher.input.feed_rate                     13725 non-null  float64\n",
      " 16  rougher.input.feed_size                     13725 non-null  float64\n",
      " 17  rougher.input.feed_sol                      13725 non-null  float64\n",
      " 18  rougher.input.feed_au                       13725 non-null  float64\n",
      " 19  rougher.input.floatbank10_sulfate           13725 non-null  float64\n",
      " 20  rougher.input.floatbank10_xanthate          13725 non-null  float64\n",
      " 21  rougher.input.floatbank11_sulfate           13725 non-null  float64\n",
      " 22  rougher.input.floatbank11_xanthate          13725 non-null  float64\n",
      " 23  rougher.output.recovery                     13725 non-null  float64\n",
      " 24  rougher.state.floatbank10_a_air             13725 non-null  float64\n",
      " 25  rougher.state.floatbank10_a_level           13725 non-null  float64\n",
      " 26  rougher.state.floatbank10_b_air             13725 non-null  float64\n",
      " 27  rougher.state.floatbank10_b_level           13725 non-null  float64\n",
      " 28  rougher.state.floatbank10_c_air             13725 non-null  float64\n",
      " 29  rougher.state.floatbank10_c_level           13725 non-null  float64\n",
      " 30  rougher.state.floatbank10_d_air             13725 non-null  float64\n",
      " 31  rougher.state.floatbank10_d_level           13725 non-null  float64\n",
      " 32  rougher.state.floatbank10_e_air             13725 non-null  float64\n",
      " 33  rougher.state.floatbank10_e_level           13725 non-null  float64\n",
      " 34  rougher.state.floatbank10_f_air             13725 non-null  float64\n",
      " 35  rougher.state.floatbank10_f_level           13725 non-null  float64\n",
      " 36  secondary_cleaner.state.floatbank2_a_air    13725 non-null  float64\n",
      " 37  secondary_cleaner.state.floatbank2_a_level  13725 non-null  float64\n",
      " 38  secondary_cleaner.state.floatbank2_b_air    13725 non-null  float64\n",
      " 39  secondary_cleaner.state.floatbank2_b_level  13725 non-null  float64\n",
      " 40  secondary_cleaner.state.floatbank3_a_air    13725 non-null  float64\n",
      " 41  secondary_cleaner.state.floatbank3_a_level  13725 non-null  float64\n",
      " 42  secondary_cleaner.state.floatbank3_b_air    13725 non-null  float64\n",
      " 43  secondary_cleaner.state.floatbank3_b_level  13725 non-null  float64\n",
      " 44  secondary_cleaner.state.floatbank4_a_air    13725 non-null  float64\n",
      " 45  secondary_cleaner.state.floatbank4_a_level  13725 non-null  float64\n",
      " 46  secondary_cleaner.state.floatbank4_b_air    13725 non-null  float64\n",
      " 47  secondary_cleaner.state.floatbank4_b_level  13725 non-null  float64\n",
      " 48  secondary_cleaner.state.floatbank5_a_air    13725 non-null  float64\n",
      " 49  secondary_cleaner.state.floatbank5_a_level  13725 non-null  float64\n",
      " 50  secondary_cleaner.state.floatbank5_b_air    13725 non-null  float64\n",
      " 51  secondary_cleaner.state.floatbank5_b_level  13725 non-null  float64\n",
      " 52  secondary_cleaner.state.floatbank6_a_air    13725 non-null  float64\n",
      " 53  secondary_cleaner.state.floatbank6_a_level  13725 non-null  float64\n",
      "dtypes: float64(54)\n",
      "memory usage: 5.8+ MB\n"
     ]
    }
   ],
   "source": [
    "train_1.info()"
   ]
  },
  {
   "cell_type": "markdown",
   "metadata": {},
   "source": [
    "## Модель"
   ]
  },
  {
   "cell_type": "markdown",
   "metadata": {},
   "source": [
    "### Подготовка данных для модели"
   ]
  },
  {
   "cell_type": "markdown",
   "metadata": {},
   "source": [
    "Сформируем набор признаков для обучения и теста, а также отделим целевые признаки для этих наборов, затем проведем масштабирование признаков."
   ]
  },
  {
   "cell_type": "markdown",
   "metadata": {},
   "source": [
    "Для обучающей выборки убираем дату и целевые признаки. Целевых у нас два."
   ]
  },
  {
   "cell_type": "code",
   "execution_count": 31,
   "metadata": {},
   "outputs": [],
   "source": [
    "features_train = train_1.drop(['rougher.output.recovery', 'final.output.recovery', ], axis = 1)\n",
    "target_train_r = train_1['rougher.output.recovery']\n",
    "target_train_f = train_1['final.output.recovery']"
   ]
  },
  {
   "cell_type": "markdown",
   "metadata": {},
   "source": [
    "Для тестовых таргетов берем данные из полного датафрейма с помощью merge. "
   ]
  },
  {
   "cell_type": "code",
   "execution_count": 32,
   "metadata": {},
   "outputs": [],
   "source": [
    "features_test = test.drop('date', axis = 1)\n",
    "target_test_r = test.merge(full, how='left', on='date')['rougher.output.recovery']\n",
    "target_test_f = test.merge(full, how='left', on='date')['final.output.recovery']"
   ]
  },
  {
   "cell_type": "markdown",
   "metadata": {},
   "source": [
    "Масштабируем признаки."
   ]
  },
  {
   "cell_type": "code",
   "execution_count": 33,
   "metadata": {},
   "outputs": [],
   "source": [
    "pd.options.mode.chained_assignment = None\n",
    "scaler = StandardScaler()\n",
    "scaler.fit(features_train)\n",
    "features_train = pd.DataFrame(scaler.transform(features_train), columns = features_train.columns)\n",
    "features_test = pd.DataFrame(scaler.transform(features_test), columns = features_test.columns)"
   ]
  },
  {
   "cell_type": "markdown",
   "metadata": {},
   "source": [
    "Проверим."
   ]
  },
  {
   "cell_type": "code",
   "execution_count": 34,
   "metadata": {},
   "outputs": [
    {
     "data": {
      "text/html": [
       "<div>\n",
       "<style scoped>\n",
       "    .dataframe tbody tr th:only-of-type {\n",
       "        vertical-align: middle;\n",
       "    }\n",
       "\n",
       "    .dataframe tbody tr th {\n",
       "        vertical-align: top;\n",
       "    }\n",
       "\n",
       "    .dataframe thead th {\n",
       "        text-align: right;\n",
       "    }\n",
       "</style>\n",
       "<table border=\"1\" class=\"dataframe\">\n",
       "  <thead>\n",
       "    <tr style=\"text-align: right;\">\n",
       "      <th></th>\n",
       "      <th>primary_cleaner.input.sulfate</th>\n",
       "      <th>primary_cleaner.input.depressant</th>\n",
       "      <th>primary_cleaner.input.feed_size</th>\n",
       "      <th>primary_cleaner.input.xanthate</th>\n",
       "      <th>primary_cleaner.state.floatbank8_a_air</th>\n",
       "      <th>primary_cleaner.state.floatbank8_a_level</th>\n",
       "      <th>primary_cleaner.state.floatbank8_b_air</th>\n",
       "      <th>primary_cleaner.state.floatbank8_b_level</th>\n",
       "      <th>primary_cleaner.state.floatbank8_c_air</th>\n",
       "      <th>primary_cleaner.state.floatbank8_c_level</th>\n",
       "      <th>...</th>\n",
       "      <th>secondary_cleaner.state.floatbank4_a_air</th>\n",
       "      <th>secondary_cleaner.state.floatbank4_a_level</th>\n",
       "      <th>secondary_cleaner.state.floatbank4_b_air</th>\n",
       "      <th>secondary_cleaner.state.floatbank4_b_level</th>\n",
       "      <th>secondary_cleaner.state.floatbank5_a_air</th>\n",
       "      <th>secondary_cleaner.state.floatbank5_a_level</th>\n",
       "      <th>secondary_cleaner.state.floatbank5_b_air</th>\n",
       "      <th>secondary_cleaner.state.floatbank5_b_level</th>\n",
       "      <th>secondary_cleaner.state.floatbank6_a_air</th>\n",
       "      <th>secondary_cleaner.state.floatbank6_a_level</th>\n",
       "    </tr>\n",
       "  </thead>\n",
       "  <tbody>\n",
       "    <tr>\n",
       "      <th>0</th>\n",
       "      <td>-0.173278</td>\n",
       "      <td>0.376744</td>\n",
       "      <td>-0.120145</td>\n",
       "      <td>0.278325</td>\n",
       "      <td>-0.452937</td>\n",
       "      <td>-0.300995</td>\n",
       "      <td>-0.434982</td>\n",
       "      <td>-0.811214</td>\n",
       "      <td>-0.439688</td>\n",
       "      <td>-0.278044</td>\n",
       "      <td>...</td>\n",
       "      <td>-1.057587</td>\n",
       "      <td>-0.474154</td>\n",
       "      <td>-0.650048</td>\n",
       "      <td>-0.755710</td>\n",
       "      <td>-1.185594</td>\n",
       "      <td>-0.381542</td>\n",
       "      <td>-0.870463</td>\n",
       "      <td>-0.428316</td>\n",
       "      <td>-0.963476</td>\n",
       "      <td>-2.681618</td>\n",
       "    </tr>\n",
       "    <tr>\n",
       "      <th>1</th>\n",
       "      <td>-0.210699</td>\n",
       "      <td>0.426690</td>\n",
       "      <td>-0.120145</td>\n",
       "      <td>0.315356</td>\n",
       "      <td>-0.247143</td>\n",
       "      <td>-0.357495</td>\n",
       "      <td>-0.247701</td>\n",
       "      <td>-0.323427</td>\n",
       "      <td>-0.244745</td>\n",
       "      <td>-0.296765</td>\n",
       "      <td>...</td>\n",
       "      <td>-1.061902</td>\n",
       "      <td>-0.533721</td>\n",
       "      <td>-0.678409</td>\n",
       "      <td>-0.697723</td>\n",
       "      <td>-1.166093</td>\n",
       "      <td>-0.430402</td>\n",
       "      <td>-0.886891</td>\n",
       "      <td>-0.431169</td>\n",
       "      <td>-0.990228</td>\n",
       "      <td>-2.517792</td>\n",
       "    </tr>\n",
       "    <tr>\n",
       "      <th>2</th>\n",
       "      <td>-0.256989</td>\n",
       "      <td>0.730022</td>\n",
       "      <td>-0.120145</td>\n",
       "      <td>0.285000</td>\n",
       "      <td>-0.049158</td>\n",
       "      <td>-0.331775</td>\n",
       "      <td>-0.061035</td>\n",
       "      <td>-0.345309</td>\n",
       "      <td>-0.050630</td>\n",
       "      <td>-0.341651</td>\n",
       "      <td>...</td>\n",
       "      <td>-1.057907</td>\n",
       "      <td>-0.474804</td>\n",
       "      <td>-0.685574</td>\n",
       "      <td>-0.694328</td>\n",
       "      <td>-1.160657</td>\n",
       "      <td>-0.429328</td>\n",
       "      <td>-0.881850</td>\n",
       "      <td>-0.429512</td>\n",
       "      <td>-0.984928</td>\n",
       "      <td>-2.562171</td>\n",
       "    </tr>\n",
       "    <tr>\n",
       "      <th>3</th>\n",
       "      <td>-0.296632</td>\n",
       "      <td>0.731765</td>\n",
       "      <td>-0.120145</td>\n",
       "      <td>0.299577</td>\n",
       "      <td>-0.061537</td>\n",
       "      <td>-0.358823</td>\n",
       "      <td>-0.058953</td>\n",
       "      <td>-0.317858</td>\n",
       "      <td>-0.063313</td>\n",
       "      <td>-0.337550</td>\n",
       "      <td>...</td>\n",
       "      <td>-1.054130</td>\n",
       "      <td>-0.441940</td>\n",
       "      <td>-0.669103</td>\n",
       "      <td>-0.695361</td>\n",
       "      <td>-1.177916</td>\n",
       "      <td>-0.404961</td>\n",
       "      <td>-0.888177</td>\n",
       "      <td>-0.422799</td>\n",
       "      <td>-0.988969</td>\n",
       "      <td>-2.523446</td>\n",
       "    </tr>\n",
       "    <tr>\n",
       "      <th>4</th>\n",
       "      <td>-0.406177</td>\n",
       "      <td>0.907655</td>\n",
       "      <td>-0.120145</td>\n",
       "      <td>0.334548</td>\n",
       "      <td>-0.050846</td>\n",
       "      <td>-0.302790</td>\n",
       "      <td>-0.053005</td>\n",
       "      <td>-0.336917</td>\n",
       "      <td>-0.068703</td>\n",
       "      <td>-0.342173</td>\n",
       "      <td>...</td>\n",
       "      <td>-1.055749</td>\n",
       "      <td>-0.421816</td>\n",
       "      <td>-0.677926</td>\n",
       "      <td>-0.692966</td>\n",
       "      <td>-1.185581</td>\n",
       "      <td>-0.470249</td>\n",
       "      <td>-0.902558</td>\n",
       "      <td>-0.425368</td>\n",
       "      <td>-0.990526</td>\n",
       "      <td>-2.564046</td>\n",
       "    </tr>\n",
       "  </tbody>\n",
       "</table>\n",
       "<p>5 rows × 52 columns</p>\n",
       "</div>"
      ],
      "text/plain": [
       "   primary_cleaner.input.sulfate  primary_cleaner.input.depressant  \\\n",
       "0                      -0.173278                          0.376744   \n",
       "1                      -0.210699                          0.426690   \n",
       "2                      -0.256989                          0.730022   \n",
       "3                      -0.296632                          0.731765   \n",
       "4                      -0.406177                          0.907655   \n",
       "\n",
       "   primary_cleaner.input.feed_size  primary_cleaner.input.xanthate  \\\n",
       "0                        -0.120145                        0.278325   \n",
       "1                        -0.120145                        0.315356   \n",
       "2                        -0.120145                        0.285000   \n",
       "3                        -0.120145                        0.299577   \n",
       "4                        -0.120145                        0.334548   \n",
       "\n",
       "   primary_cleaner.state.floatbank8_a_air  \\\n",
       "0                               -0.452937   \n",
       "1                               -0.247143   \n",
       "2                               -0.049158   \n",
       "3                               -0.061537   \n",
       "4                               -0.050846   \n",
       "\n",
       "   primary_cleaner.state.floatbank8_a_level  \\\n",
       "0                                 -0.300995   \n",
       "1                                 -0.357495   \n",
       "2                                 -0.331775   \n",
       "3                                 -0.358823   \n",
       "4                                 -0.302790   \n",
       "\n",
       "   primary_cleaner.state.floatbank8_b_air  \\\n",
       "0                               -0.434982   \n",
       "1                               -0.247701   \n",
       "2                               -0.061035   \n",
       "3                               -0.058953   \n",
       "4                               -0.053005   \n",
       "\n",
       "   primary_cleaner.state.floatbank8_b_level  \\\n",
       "0                                 -0.811214   \n",
       "1                                 -0.323427   \n",
       "2                                 -0.345309   \n",
       "3                                 -0.317858   \n",
       "4                                 -0.336917   \n",
       "\n",
       "   primary_cleaner.state.floatbank8_c_air  \\\n",
       "0                               -0.439688   \n",
       "1                               -0.244745   \n",
       "2                               -0.050630   \n",
       "3                               -0.063313   \n",
       "4                               -0.068703   \n",
       "\n",
       "   primary_cleaner.state.floatbank8_c_level  ...  \\\n",
       "0                                 -0.278044  ...   \n",
       "1                                 -0.296765  ...   \n",
       "2                                 -0.341651  ...   \n",
       "3                                 -0.337550  ...   \n",
       "4                                 -0.342173  ...   \n",
       "\n",
       "   secondary_cleaner.state.floatbank4_a_air  \\\n",
       "0                                 -1.057587   \n",
       "1                                 -1.061902   \n",
       "2                                 -1.057907   \n",
       "3                                 -1.054130   \n",
       "4                                 -1.055749   \n",
       "\n",
       "   secondary_cleaner.state.floatbank4_a_level  \\\n",
       "0                                   -0.474154   \n",
       "1                                   -0.533721   \n",
       "2                                   -0.474804   \n",
       "3                                   -0.441940   \n",
       "4                                   -0.421816   \n",
       "\n",
       "   secondary_cleaner.state.floatbank4_b_air  \\\n",
       "0                                 -0.650048   \n",
       "1                                 -0.678409   \n",
       "2                                 -0.685574   \n",
       "3                                 -0.669103   \n",
       "4                                 -0.677926   \n",
       "\n",
       "   secondary_cleaner.state.floatbank4_b_level  \\\n",
       "0                                   -0.755710   \n",
       "1                                   -0.697723   \n",
       "2                                   -0.694328   \n",
       "3                                   -0.695361   \n",
       "4                                   -0.692966   \n",
       "\n",
       "   secondary_cleaner.state.floatbank5_a_air  \\\n",
       "0                                 -1.185594   \n",
       "1                                 -1.166093   \n",
       "2                                 -1.160657   \n",
       "3                                 -1.177916   \n",
       "4                                 -1.185581   \n",
       "\n",
       "   secondary_cleaner.state.floatbank5_a_level  \\\n",
       "0                                   -0.381542   \n",
       "1                                   -0.430402   \n",
       "2                                   -0.429328   \n",
       "3                                   -0.404961   \n",
       "4                                   -0.470249   \n",
       "\n",
       "   secondary_cleaner.state.floatbank5_b_air  \\\n",
       "0                                 -0.870463   \n",
       "1                                 -0.886891   \n",
       "2                                 -0.881850   \n",
       "3                                 -0.888177   \n",
       "4                                 -0.902558   \n",
       "\n",
       "   secondary_cleaner.state.floatbank5_b_level  \\\n",
       "0                                   -0.428316   \n",
       "1                                   -0.431169   \n",
       "2                                   -0.429512   \n",
       "3                                   -0.422799   \n",
       "4                                   -0.425368   \n",
       "\n",
       "   secondary_cleaner.state.floatbank6_a_air  \\\n",
       "0                                 -0.963476   \n",
       "1                                 -0.990228   \n",
       "2                                 -0.984928   \n",
       "3                                 -0.988969   \n",
       "4                                 -0.990526   \n",
       "\n",
       "   secondary_cleaner.state.floatbank6_a_level  \n",
       "0                                   -2.681618  \n",
       "1                                   -2.517792  \n",
       "2                                   -2.562171  \n",
       "3                                   -2.523446  \n",
       "4                                   -2.564046  \n",
       "\n",
       "[5 rows x 52 columns]"
      ]
     },
     "execution_count": 34,
     "metadata": {},
     "output_type": "execute_result"
    }
   ],
   "source": [
    "features_train.head()"
   ]
  },
  {
   "cell_type": "code",
   "execution_count": 35,
   "metadata": {},
   "outputs": [
    {
     "data": {
      "text/html": [
       "<div>\n",
       "<style scoped>\n",
       "    .dataframe tbody tr th:only-of-type {\n",
       "        vertical-align: middle;\n",
       "    }\n",
       "\n",
       "    .dataframe tbody tr th {\n",
       "        vertical-align: top;\n",
       "    }\n",
       "\n",
       "    .dataframe thead th {\n",
       "        text-align: right;\n",
       "    }\n",
       "</style>\n",
       "<table border=\"1\" class=\"dataframe\">\n",
       "  <thead>\n",
       "    <tr style=\"text-align: right;\">\n",
       "      <th></th>\n",
       "      <th>primary_cleaner.input.sulfate</th>\n",
       "      <th>primary_cleaner.input.depressant</th>\n",
       "      <th>primary_cleaner.input.feed_size</th>\n",
       "      <th>primary_cleaner.input.xanthate</th>\n",
       "      <th>primary_cleaner.state.floatbank8_a_air</th>\n",
       "      <th>primary_cleaner.state.floatbank8_a_level</th>\n",
       "      <th>primary_cleaner.state.floatbank8_b_air</th>\n",
       "      <th>primary_cleaner.state.floatbank8_b_level</th>\n",
       "      <th>primary_cleaner.state.floatbank8_c_air</th>\n",
       "      <th>primary_cleaner.state.floatbank8_c_level</th>\n",
       "      <th>...</th>\n",
       "      <th>secondary_cleaner.state.floatbank4_a_air</th>\n",
       "      <th>secondary_cleaner.state.floatbank4_a_level</th>\n",
       "      <th>secondary_cleaner.state.floatbank4_b_air</th>\n",
       "      <th>secondary_cleaner.state.floatbank4_b_level</th>\n",
       "      <th>secondary_cleaner.state.floatbank5_a_air</th>\n",
       "      <th>secondary_cleaner.state.floatbank5_a_level</th>\n",
       "      <th>secondary_cleaner.state.floatbank5_b_air</th>\n",
       "      <th>secondary_cleaner.state.floatbank5_b_level</th>\n",
       "      <th>secondary_cleaner.state.floatbank6_a_air</th>\n",
       "      <th>secondary_cleaner.state.floatbank6_a_level</th>\n",
       "    </tr>\n",
       "  </thead>\n",
       "  <tbody>\n",
       "    <tr>\n",
       "      <th>0</th>\n",
       "      <td>1.968209</td>\n",
       "      <td>1.823426</td>\n",
       "      <td>1.225537</td>\n",
       "      <td>0.321637</td>\n",
       "      <td>-1.628816</td>\n",
       "      <td>-0.338234</td>\n",
       "      <td>-1.598316</td>\n",
       "      <td>-0.325015</td>\n",
       "      <td>-1.557469</td>\n",
       "      <td>-0.336868</td>\n",
       "      <td>...</td>\n",
       "      <td>-1.407831</td>\n",
       "      <td>-0.381460</td>\n",
       "      <td>-1.425186</td>\n",
       "      <td>-0.696997</td>\n",
       "      <td>-1.525304</td>\n",
       "      <td>1.352202</td>\n",
       "      <td>-1.425603</td>\n",
       "      <td>-0.417194</td>\n",
       "      <td>1.231812</td>\n",
       "      <td>0.190028</td>\n",
       "    </tr>\n",
       "    <tr>\n",
       "      <th>1</th>\n",
       "      <td>2.085672</td>\n",
       "      <td>1.821747</td>\n",
       "      <td>1.225537</td>\n",
       "      <td>0.282880</td>\n",
       "      <td>-1.630402</td>\n",
       "      <td>-0.333466</td>\n",
       "      <td>-1.606639</td>\n",
       "      <td>-0.320840</td>\n",
       "      <td>-1.586964</td>\n",
       "      <td>-0.294601</td>\n",
       "      <td>...</td>\n",
       "      <td>-1.401754</td>\n",
       "      <td>-0.399239</td>\n",
       "      <td>-1.403484</td>\n",
       "      <td>-0.668642</td>\n",
       "      <td>-1.523294</td>\n",
       "      <td>-1.104792</td>\n",
       "      <td>-1.424505</td>\n",
       "      <td>-0.420399</td>\n",
       "      <td>0.937007</td>\n",
       "      <td>0.187051</td>\n",
       "    </tr>\n",
       "    <tr>\n",
       "      <th>2</th>\n",
       "      <td>2.082282</td>\n",
       "      <td>1.196503</td>\n",
       "      <td>0.749954</td>\n",
       "      <td>0.297725</td>\n",
       "      <td>-1.632619</td>\n",
       "      <td>-0.356457</td>\n",
       "      <td>-1.600489</td>\n",
       "      <td>-0.320437</td>\n",
       "      <td>-1.572599</td>\n",
       "      <td>-0.378642</td>\n",
       "      <td>...</td>\n",
       "      <td>-1.418582</td>\n",
       "      <td>-0.400655</td>\n",
       "      <td>-1.409955</td>\n",
       "      <td>-0.689086</td>\n",
       "      <td>-1.503934</td>\n",
       "      <td>-0.446997</td>\n",
       "      <td>-1.419957</td>\n",
       "      <td>-0.411834</td>\n",
       "      <td>0.932622</td>\n",
       "      <td>0.165320</td>\n",
       "    </tr>\n",
       "    <tr>\n",
       "      <th>3</th>\n",
       "      <td>2.084234</td>\n",
       "      <td>0.935368</td>\n",
       "      <td>0.512163</td>\n",
       "      <td>-0.055241</td>\n",
       "      <td>-1.623850</td>\n",
       "      <td>-0.299618</td>\n",
       "      <td>-1.611339</td>\n",
       "      <td>-0.304111</td>\n",
       "      <td>-1.557273</td>\n",
       "      <td>-0.269075</td>\n",
       "      <td>...</td>\n",
       "      <td>-1.406155</td>\n",
       "      <td>-0.392426</td>\n",
       "      <td>-1.414121</td>\n",
       "      <td>-0.665904</td>\n",
       "      <td>-1.533797</td>\n",
       "      <td>-0.448753</td>\n",
       "      <td>-1.415409</td>\n",
       "      <td>-0.415300</td>\n",
       "      <td>0.924589</td>\n",
       "      <td>0.217069</td>\n",
       "    </tr>\n",
       "    <tr>\n",
       "      <th>4</th>\n",
       "      <td>1.668853</td>\n",
       "      <td>0.541560</td>\n",
       "      <td>0.333820</td>\n",
       "      <td>-0.209552</td>\n",
       "      <td>-1.610984</td>\n",
       "      <td>-0.354755</td>\n",
       "      <td>-1.606078</td>\n",
       "      <td>-0.312769</td>\n",
       "      <td>-1.542026</td>\n",
       "      <td>-0.339935</td>\n",
       "      <td>...</td>\n",
       "      <td>-1.407512</td>\n",
       "      <td>-0.440541</td>\n",
       "      <td>-1.417968</td>\n",
       "      <td>-0.681720</td>\n",
       "      <td>-1.497612</td>\n",
       "      <td>-0.676221</td>\n",
       "      <td>-1.410861</td>\n",
       "      <td>-0.425470</td>\n",
       "      <td>0.934103</td>\n",
       "      <td>0.158995</td>\n",
       "    </tr>\n",
       "  </tbody>\n",
       "</table>\n",
       "<p>5 rows × 52 columns</p>\n",
       "</div>"
      ],
      "text/plain": [
       "   primary_cleaner.input.sulfate  primary_cleaner.input.depressant  \\\n",
       "0                       1.968209                          1.823426   \n",
       "1                       2.085672                          1.821747   \n",
       "2                       2.082282                          1.196503   \n",
       "3                       2.084234                          0.935368   \n",
       "4                       1.668853                          0.541560   \n",
       "\n",
       "   primary_cleaner.input.feed_size  primary_cleaner.input.xanthate  \\\n",
       "0                         1.225537                        0.321637   \n",
       "1                         1.225537                        0.282880   \n",
       "2                         0.749954                        0.297725   \n",
       "3                         0.512163                       -0.055241   \n",
       "4                         0.333820                       -0.209552   \n",
       "\n",
       "   primary_cleaner.state.floatbank8_a_air  \\\n",
       "0                               -1.628816   \n",
       "1                               -1.630402   \n",
       "2                               -1.632619   \n",
       "3                               -1.623850   \n",
       "4                               -1.610984   \n",
       "\n",
       "   primary_cleaner.state.floatbank8_a_level  \\\n",
       "0                                 -0.338234   \n",
       "1                                 -0.333466   \n",
       "2                                 -0.356457   \n",
       "3                                 -0.299618   \n",
       "4                                 -0.354755   \n",
       "\n",
       "   primary_cleaner.state.floatbank8_b_air  \\\n",
       "0                               -1.598316   \n",
       "1                               -1.606639   \n",
       "2                               -1.600489   \n",
       "3                               -1.611339   \n",
       "4                               -1.606078   \n",
       "\n",
       "   primary_cleaner.state.floatbank8_b_level  \\\n",
       "0                                 -0.325015   \n",
       "1                                 -0.320840   \n",
       "2                                 -0.320437   \n",
       "3                                 -0.304111   \n",
       "4                                 -0.312769   \n",
       "\n",
       "   primary_cleaner.state.floatbank8_c_air  \\\n",
       "0                               -1.557469   \n",
       "1                               -1.586964   \n",
       "2                               -1.572599   \n",
       "3                               -1.557273   \n",
       "4                               -1.542026   \n",
       "\n",
       "   primary_cleaner.state.floatbank8_c_level  ...  \\\n",
       "0                                 -0.336868  ...   \n",
       "1                                 -0.294601  ...   \n",
       "2                                 -0.378642  ...   \n",
       "3                                 -0.269075  ...   \n",
       "4                                 -0.339935  ...   \n",
       "\n",
       "   secondary_cleaner.state.floatbank4_a_air  \\\n",
       "0                                 -1.407831   \n",
       "1                                 -1.401754   \n",
       "2                                 -1.418582   \n",
       "3                                 -1.406155   \n",
       "4                                 -1.407512   \n",
       "\n",
       "   secondary_cleaner.state.floatbank4_a_level  \\\n",
       "0                                   -0.381460   \n",
       "1                                   -0.399239   \n",
       "2                                   -0.400655   \n",
       "3                                   -0.392426   \n",
       "4                                   -0.440541   \n",
       "\n",
       "   secondary_cleaner.state.floatbank4_b_air  \\\n",
       "0                                 -1.425186   \n",
       "1                                 -1.403484   \n",
       "2                                 -1.409955   \n",
       "3                                 -1.414121   \n",
       "4                                 -1.417968   \n",
       "\n",
       "   secondary_cleaner.state.floatbank4_b_level  \\\n",
       "0                                   -0.696997   \n",
       "1                                   -0.668642   \n",
       "2                                   -0.689086   \n",
       "3                                   -0.665904   \n",
       "4                                   -0.681720   \n",
       "\n",
       "   secondary_cleaner.state.floatbank5_a_air  \\\n",
       "0                                 -1.525304   \n",
       "1                                 -1.523294   \n",
       "2                                 -1.503934   \n",
       "3                                 -1.533797   \n",
       "4                                 -1.497612   \n",
       "\n",
       "   secondary_cleaner.state.floatbank5_a_level  \\\n",
       "0                                    1.352202   \n",
       "1                                   -1.104792   \n",
       "2                                   -0.446997   \n",
       "3                                   -0.448753   \n",
       "4                                   -0.676221   \n",
       "\n",
       "   secondary_cleaner.state.floatbank5_b_air  \\\n",
       "0                                 -1.425603   \n",
       "1                                 -1.424505   \n",
       "2                                 -1.419957   \n",
       "3                                 -1.415409   \n",
       "4                                 -1.410861   \n",
       "\n",
       "   secondary_cleaner.state.floatbank5_b_level  \\\n",
       "0                                   -0.417194   \n",
       "1                                   -0.420399   \n",
       "2                                   -0.411834   \n",
       "3                                   -0.415300   \n",
       "4                                   -0.425470   \n",
       "\n",
       "   secondary_cleaner.state.floatbank6_a_air  \\\n",
       "0                                  1.231812   \n",
       "1                                  0.937007   \n",
       "2                                  0.932622   \n",
       "3                                  0.924589   \n",
       "4                                  0.934103   \n",
       "\n",
       "   secondary_cleaner.state.floatbank6_a_level  \n",
       "0                                    0.190028  \n",
       "1                                    0.187051  \n",
       "2                                    0.165320  \n",
       "3                                    0.217069  \n",
       "4                                    0.158995  \n",
       "\n",
       "[5 rows x 52 columns]"
      ]
     },
     "execution_count": 35,
     "metadata": {},
     "output_type": "execute_result"
    }
   ],
   "source": [
    "features_test.head()"
   ]
  },
  {
   "cell_type": "markdown",
   "metadata": {},
   "source": [
    "### Напишем функцию для вычисления итоговой sMAPE."
   ]
  },
  {
   "cell_type": "markdown",
   "metadata": {},
   "source": [
    "Напишем две функции: одну для вычисления простой sMAPE и другую для итоговой sMAPE. "
   ]
  },
  {
   "cell_type": "code",
   "execution_count": 36,
   "metadata": {},
   "outputs": [],
   "source": [
    "def sMAPE(target,predictions):\n",
    "    return (\n",
    "         100*sum(abs(target-predictions)/\n",
    "        ((abs(target)+abs(predictions))/2))\n",
    "    /len(target)\n",
    "    )"
   ]
  },
  {
   "cell_type": "code",
   "execution_count": 37,
   "metadata": {},
   "outputs": [],
   "source": [
    "def sMAPE_general(sMAPE_1, sMAPE_2):\n",
    "    return 0.25*sMAPE_1 + 0.75*sMAPE_2 "
   ]
  },
  {
   "cell_type": "markdown",
   "metadata": {},
   "source": [
    "### Обучим разные модели и оценим их качество кросс-валидацией. Выберем лучшую модель и проверьте её на тестовой выборке. "
   ]
  },
  {
   "cell_type": "code",
   "execution_count": 38,
   "metadata": {},
   "outputs": [
    {
     "name": "stdout",
     "output_type": "stream",
     "text": [
      "Итоговая sMAPE для константной модели: -9.48660945773823\n"
     ]
    }
   ],
   "source": [
    "pred_mean_r = pd.Series(data = target_train_r.mean(), index = target_train_r.index)\n",
    "pred_mean_f = pd.Series(data = target_train_f.mean(), index = target_train_f.index)\n",
    "score1 = sMAPE(target_train_r,pred_mean_r)\n",
    "score2 = sMAPE(target_train_f,pred_mean_f)\n",
    "print('Итоговая sMAPE для константной модели:', -sMAPE_general(score1, score2))"
   ]
  },
  {
   "cell_type": "code",
   "execution_count": 39,
   "metadata": {},
   "outputs": [],
   "source": [
    "my_scorer = make_scorer(sMAPE, greater_is_better=False) #вставим нашу функцию,чтобы использовать ее в корсс-валидации"
   ]
  },
  {
   "cell_type": "markdown",
   "metadata": {},
   "source": [
    "Проверим модель регрессии для наших таргетов. "
   ]
  },
  {
   "cell_type": "code",
   "execution_count": 40,
   "metadata": {},
   "outputs": [
    {
     "name": "stdout",
     "output_type": "stream",
     "text": [
      "sMAPE для флотации: -7.265696047565984\n",
      "sMAPE для финального: -10.950532500993146\n"
     ]
    }
   ],
   "source": [
    "model = LinearRegression()\n",
    "score1 = cross_val_score(model, features_train, target_train_r, scoring=my_scorer).mean()\n",
    "score2 = cross_val_score(model, features_train, target_train_f, scoring=my_scorer).mean()\n",
    "print('sMAPE для флотации:', score1)\n",
    "print('sMAPE для финального:',score2)"
   ]
  },
  {
   "cell_type": "code",
   "execution_count": 41,
   "metadata": {},
   "outputs": [
    {
     "name": "stdout",
     "output_type": "stream",
     "text": [
      "Итоговый sMAPE логистической регрессии: -10.029323387636355\n"
     ]
    }
   ],
   "source": [
    "score = sMAPE_general(score1,score2)\n",
    "print('Итоговый sMAPE логистической регрессии:', score)"
   ]
  },
  {
   "cell_type": "markdown",
   "metadata": {},
   "source": [
    "Результат хуже, чем для константной модели, линейная регрессия нам явно не подходит. Подберем модель случайного леса для флотации."
   ]
  },
  {
   "cell_type": "code",
   "execution_count": 42,
   "metadata": {},
   "outputs": [],
   "source": [
    "best_forest_score = -100\n",
    "best_depth = 0\n",
    "for depth in range(1, 21, 1):\n",
    "    model_forest = RandomForestRegressor(n_estimators=20, max_depth=depth, random_state=12345)\n",
    "    score = cross_val_score(model_forest, features_train, target_train_r, scoring=my_scorer).mean()\n",
    "    if score >best_forest_score:\n",
    "        best_depth = depth\n",
    "        best_forest_score = score\n",
    "    \n",
    "print('Лучшая глубина дерева:', best_depth)\n",
    "print('sMAPE для флотации:', best_forest_score)"
   ]
  },
  {
   "cell_type": "code",
   "execution_count": 43,
   "metadata": {},
   "outputs": [],
   "source": [
    "best_forest_score = -100\n",
    "best_n = 0\n",
    "for n in range(10, 151, 10):\n",
    "    model_forest = RandomForestRegressor(n_estimators=n, max_depth=3, random_state=12345)\n",
    "    score = cross_val_score(model_forest, features_train, target_train_r, scoring=my_scorer).mean()\n",
    "    if score > best_forest_score:\n",
    "        best_n = n\n",
    "        best_forest_score = score\n",
    "    \n",
    "print('Лучшее количество деревьев:', best_n)\n",
    "print('sMAPE для флотации:', best_forest_score)"
   ]
  },
  {
   "cell_type": "code",
   "execution_count": 44,
   "metadata": {},
   "outputs": [
    {
     "name": "stdout",
     "output_type": "stream",
     "text": [
      "sMAPE лучшего леса для флотации: -6.643969133440892\n"
     ]
    }
   ],
   "source": [
    "model_forest_best_r = RandomForestRegressor(n_estimators=90, max_depth=3, random_state=12345)\n",
    "score_r = cross_val_score(model_forest_best_r, features_train, target_train_r, scoring=my_scorer).mean()\n",
    "print('sMAPE лучшего леса для флотации:', score_r)"
   ]
  },
  {
   "cell_type": "markdown",
   "metadata": {},
   "source": [
    "Модель для финального этапа."
   ]
  },
  {
   "cell_type": "code",
   "execution_count": 45,
   "metadata": {},
   "outputs": [],
   "source": [
    "best_forest_score = -100\n",
    "best_depth = 0\n",
    "for depth in range(1, 21, 1):\n",
    "    model_forest = RandomForestRegressor(n_estimators=20, max_depth=depth, random_state=12345)\n",
    "    score = cross_val_score(model_forest, features_train, target_train_f, scoring=my_scorer).mean()\n",
    "    if score >best_forest_score:\n",
    "        best_depth = depth\n",
    "        best_forest_score = score\n",
    "    \n",
    "print('Лучшая глубина дерева:', best_depth)\n",
    "print('sMAPE для финального этапа:', best_forest_score)"
   ]
  },
  {
   "cell_type": "code",
   "execution_count": 46,
   "metadata": {},
   "outputs": [],
   "source": [
    "best_forest_score = -100\n",
    "best_n = 0\n",
    "for n in range(10, 151, 10):\n",
    "    model_forest = RandomForestRegressor(n_estimators=n, max_depth=4, random_state=12345)\n",
    "    score = cross_val_score(model_forest, features_train, target_train_f, scoring=my_scorer).mean()\n",
    "    if score > best_forest_score:\n",
    "        best_n = n\n",
    "        best_forest_score = score\n",
    "    \n",
    "print('Лучшее количество деревьев:', best_n)\n",
    "print('sMAPE для финального этапа:', best_forest_score)"
   ]
  },
  {
   "cell_type": "code",
   "execution_count": 47,
   "metadata": {},
   "outputs": [
    {
     "name": "stdout",
     "output_type": "stream",
     "text": [
      "sMAPE лучшего леса для финального этапа: -9.010164680206842\n"
     ]
    }
   ],
   "source": [
    "model_forest_best_f = RandomForestRegressor(n_estimators=150, max_depth=4, random_state=12345)\n",
    "score_f = cross_val_score(model_forest_best_f, features_train, target_train_f, scoring=my_scorer).mean()\n",
    "print('sMAPE лучшего леса для финального этапа:', score_f)"
   ]
  },
  {
   "cell_type": "code",
   "execution_count": 48,
   "metadata": {},
   "outputs": [
    {
     "name": "stdout",
     "output_type": "stream",
     "text": [
      "Итоговое sMAPE: -8.418615793515354\n"
     ]
    }
   ],
   "source": [
    "print('Итоговое sMAPE:', sMAPE_general(score_r, score_f))"
   ]
  },
  {
   "cell_type": "markdown",
   "metadata": {},
   "source": [
    "Проверим наши модели на тестовой выборке."
   ]
  },
  {
   "cell_type": "code",
   "execution_count": 49,
   "metadata": {},
   "outputs": [],
   "source": [
    "model_forest_best_r.fit(features_train, target_train_r)\n",
    "model_forest_best_f.fit(features_train, target_train_f)\n",
    "\n",
    "predicted_test_r = model_forest_best_r.predict(features_test)\n",
    "predicted_test_f = model_forest_best_f.predict(features_test)"
   ]
  },
  {
   "cell_type": "code",
   "execution_count": 54,
   "metadata": {},
   "outputs": [],
   "source": [
    "def smape_unweighted(y_true, y_pred):\n",
    "    error = abs(y_true - y_pred)\n",
    "    scale = (abs(y_true) + abs(y_pred)) / 2 + 0.000000001\n",
    "    result = (error / scale).mean()\n",
    "    return result*100"
   ]
  },
  {
   "cell_type": "code",
   "execution_count": 55,
   "metadata": {},
   "outputs": [
    {
     "name": "stdout",
     "output_type": "stream",
     "text": [
      "Итоговое sMAPE для тестовой выборки: -7.442455400040638\n"
     ]
    }
   ],
   "source": [
    "score_r_test = smape_unweighted(target_test_r,predicted_test_r)\n",
    "score_f_test = smape_unweighted(target_test_f,predicted_test_f)\n",
    "\n",
    "print('Итоговое sMAPE для тестовой выборки:', -sMAPE_general(score_r_test, score_f_test))"
   ]
  },
  {
   "cell_type": "markdown",
   "metadata": {},
   "source": [
    "### Вывод\n",
    "\n",
    "Мы изучили данные, заполнили пропуски, подготовили признаки и целевые признаки и подобрали лучшие модели для таргетов:\n",
    "- Для коэффициента восстановления после флотации подошла модель случайного леса с 90 деревьями и максимальной глубиной 3.\n",
    "- Для финального коэффициента восстановление - модель случайного леса с 150 деревьями максимальной глубиной в 4. "
   ]
  }
 ],
 "metadata": {
  "ExecuteTimeLog": [
   {
    "duration": 397,
    "start_time": "2023-01-30T19:48:35.102Z"
   },
   {
    "duration": 63,
    "start_time": "2023-01-30T19:49:07.710Z"
   },
   {
    "duration": 1518,
    "start_time": "2023-01-30T19:49:17.369Z"
   },
   {
    "duration": 27,
    "start_time": "2023-01-30T19:49:39.709Z"
   },
   {
    "duration": 10,
    "start_time": "2023-01-30T19:50:23.326Z"
   },
   {
    "duration": 19,
    "start_time": "2023-01-30T19:50:41.399Z"
   },
   {
    "duration": 372,
    "start_time": "2023-01-30T19:51:25.576Z"
   },
   {
    "duration": 13,
    "start_time": "2023-01-30T19:51:30.489Z"
   },
   {
    "duration": 829,
    "start_time": "2023-01-30T19:52:24.722Z"
   },
   {
    "duration": 17,
    "start_time": "2023-01-30T19:52:30.430Z"
   },
   {
    "duration": 7,
    "start_time": "2023-01-30T19:53:59.308Z"
   },
   {
    "duration": 15,
    "start_time": "2023-01-30T19:54:06.691Z"
   },
   {
    "duration": 12,
    "start_time": "2023-01-30T19:54:25.900Z"
   },
   {
    "duration": 68,
    "start_time": "2023-01-30T20:08:13.590Z"
   },
   {
    "duration": 8,
    "start_time": "2023-01-30T20:13:47.091Z"
   },
   {
    "duration": 11,
    "start_time": "2023-01-30T20:14:03.212Z"
   },
   {
    "duration": 10,
    "start_time": "2023-01-30T20:14:22.762Z"
   },
   {
    "duration": 14,
    "start_time": "2023-01-30T20:14:46.761Z"
   },
   {
    "duration": 14,
    "start_time": "2023-01-30T20:15:09.866Z"
   },
   {
    "duration": 27,
    "start_time": "2023-01-30T20:24:04.243Z"
   },
   {
    "duration": 45,
    "start_time": "2023-01-31T19:19:03.012Z"
   },
   {
    "duration": 6,
    "start_time": "2023-01-31T19:19:08.130Z"
   },
   {
    "duration": 348,
    "start_time": "2023-01-31T19:20:54.949Z"
   },
   {
    "duration": 3013,
    "start_time": "2023-01-31T19:20:55.299Z"
   },
   {
    "duration": 27,
    "start_time": "2023-01-31T19:20:58.313Z"
   },
   {
    "duration": 16,
    "start_time": "2023-01-31T19:20:58.341Z"
   },
   {
    "duration": 59,
    "start_time": "2023-01-31T19:20:58.358Z"
   },
   {
    "duration": 6,
    "start_time": "2023-01-31T19:36:17.103Z"
   },
   {
    "duration": 6,
    "start_time": "2023-01-31T19:36:48.245Z"
   },
   {
    "duration": 820,
    "start_time": "2023-01-31T19:37:17.152Z"
   },
   {
    "duration": 707,
    "start_time": "2023-01-31T19:37:20.402Z"
   },
   {
    "duration": 668,
    "start_time": "2023-01-31T19:37:28.346Z"
   },
   {
    "duration": 658,
    "start_time": "2023-01-31T19:37:37.315Z"
   },
   {
    "duration": 682,
    "start_time": "2023-01-31T19:37:54.911Z"
   },
   {
    "duration": 15,
    "start_time": "2023-01-31T19:38:07.279Z"
   },
   {
    "duration": 6,
    "start_time": "2023-01-31T19:38:17.140Z"
   },
   {
    "duration": 9,
    "start_time": "2023-01-31T19:38:38.992Z"
   },
   {
    "duration": 10,
    "start_time": "2023-01-31T19:38:58.391Z"
   },
   {
    "duration": 12,
    "start_time": "2023-01-31T19:39:36.294Z"
   },
   {
    "duration": 8,
    "start_time": "2023-01-31T19:39:46.004Z"
   },
   {
    "duration": 8,
    "start_time": "2023-01-31T19:59:32.626Z"
   },
   {
    "duration": 5,
    "start_time": "2023-01-31T19:59:43.299Z"
   },
   {
    "duration": 8,
    "start_time": "2023-01-31T20:00:05.199Z"
   },
   {
    "duration": 50,
    "start_time": "2023-01-31T20:18:58.355Z"
   },
   {
    "duration": 6,
    "start_time": "2023-01-31T20:19:03.578Z"
   },
   {
    "duration": 46,
    "start_time": "2023-01-31T20:19:13.899Z"
   },
   {
    "duration": 8,
    "start_time": "2023-01-31T20:19:19.547Z"
   },
   {
    "duration": 4,
    "start_time": "2023-01-31T20:19:29.091Z"
   },
   {
    "duration": 5,
    "start_time": "2023-01-31T20:20:08.194Z"
   },
   {
    "duration": 801,
    "start_time": "2023-01-31T20:21:44.396Z"
   },
   {
    "duration": 38,
    "start_time": "2023-01-31T20:22:37.056Z"
   },
   {
    "duration": 5,
    "start_time": "2023-01-31T20:23:14.096Z"
   },
   {
    "duration": 6,
    "start_time": "2023-01-31T20:23:35.409Z"
   },
   {
    "duration": 5,
    "start_time": "2023-01-31T20:23:43.201Z"
   },
   {
    "duration": 5,
    "start_time": "2023-01-31T20:25:27.555Z"
   },
   {
    "duration": 5,
    "start_time": "2023-01-31T20:25:30.179Z"
   },
   {
    "duration": 5,
    "start_time": "2023-01-31T20:25:43.446Z"
   },
   {
    "duration": 4,
    "start_time": "2023-01-31T20:28:26.328Z"
   },
   {
    "duration": 8,
    "start_time": "2023-01-31T20:29:07.716Z"
   },
   {
    "duration": 9,
    "start_time": "2023-01-31T20:54:24.009Z"
   },
   {
    "duration": 52,
    "start_time": "2023-02-01T18:10:53.022Z"
   },
   {
    "duration": 1105,
    "start_time": "2023-02-01T18:10:56.858Z"
   },
   {
    "duration": 2179,
    "start_time": "2023-02-01T18:10:57.965Z"
   },
   {
    "duration": 27,
    "start_time": "2023-02-01T18:11:00.146Z"
   },
   {
    "duration": 45,
    "start_time": "2023-02-01T18:11:00.175Z"
   },
   {
    "duration": 27,
    "start_time": "2023-02-01T18:11:00.222Z"
   },
   {
    "duration": 45,
    "start_time": "2023-02-01T18:11:00.250Z"
   },
   {
    "duration": 32,
    "start_time": "2023-02-01T18:44:45.368Z"
   },
   {
    "duration": 55,
    "start_time": "2023-02-01T18:44:51.064Z"
   },
   {
    "duration": 11,
    "start_time": "2023-02-01T18:45:09.922Z"
   },
   {
    "duration": 74,
    "start_time": "2023-02-01T18:52:05.194Z"
   },
   {
    "duration": 8,
    "start_time": "2023-02-01T18:52:08.067Z"
   },
   {
    "duration": 4,
    "start_time": "2023-02-01T18:52:11.268Z"
   },
   {
    "duration": 9,
    "start_time": "2023-02-01T18:56:19.887Z"
   },
   {
    "duration": 11,
    "start_time": "2023-02-01T18:56:23.949Z"
   },
   {
    "duration": 8,
    "start_time": "2023-02-01T19:19:35.358Z"
   },
   {
    "duration": 1216,
    "start_time": "2023-02-01T19:19:48.334Z"
   },
   {
    "duration": 1269,
    "start_time": "2023-02-01T19:20:12.582Z"
   },
   {
    "duration": 5,
    "start_time": "2023-02-01T19:20:38.425Z"
   },
   {
    "duration": 13,
    "start_time": "2023-02-01T19:21:29.737Z"
   },
   {
    "duration": 10,
    "start_time": "2023-02-01T19:21:33.682Z"
   },
   {
    "duration": 8,
    "start_time": "2023-02-01T19:22:27.760Z"
   },
   {
    "duration": 8,
    "start_time": "2023-02-01T19:22:35.681Z"
   },
   {
    "duration": 11,
    "start_time": "2023-02-01T19:22:49.215Z"
   },
   {
    "duration": 137,
    "start_time": "2023-02-01T19:22:57.851Z"
   },
   {
    "duration": 8,
    "start_time": "2023-02-01T19:23:01.061Z"
   },
   {
    "duration": 12,
    "start_time": "2023-02-01T19:23:09.459Z"
   },
   {
    "duration": 13,
    "start_time": "2023-02-01T19:26:44.113Z"
   },
   {
    "duration": 5,
    "start_time": "2023-02-01T19:26:55.696Z"
   },
   {
    "duration": 23,
    "start_time": "2023-02-01T20:05:13.847Z"
   },
   {
    "duration": 21,
    "start_time": "2023-02-01T20:05:42.864Z"
   },
   {
    "duration": 19,
    "start_time": "2023-02-01T20:05:53.722Z"
   },
   {
    "duration": 5,
    "start_time": "2023-02-01T20:06:16.585Z"
   },
   {
    "duration": 8,
    "start_time": "2023-02-01T20:08:40.121Z"
   },
   {
    "duration": 8,
    "start_time": "2023-02-01T20:09:11.418Z"
   },
   {
    "duration": 9,
    "start_time": "2023-02-01T20:10:02.761Z"
   },
   {
    "duration": 6,
    "start_time": "2023-02-01T20:10:37.818Z"
   },
   {
    "duration": 17,
    "start_time": "2023-02-01T20:10:54.600Z"
   },
   {
    "duration": 1201,
    "start_time": "2023-02-01T20:14:00.597Z"
   },
   {
    "duration": 13,
    "start_time": "2023-02-01T20:14:15.418Z"
   },
   {
    "duration": 15,
    "start_time": "2023-02-01T20:14:38.550Z"
   },
   {
    "duration": 10,
    "start_time": "2023-02-01T20:15:08.814Z"
   },
   {
    "duration": 4,
    "start_time": "2023-02-01T20:21:50.953Z"
   },
   {
    "duration": 12,
    "start_time": "2023-02-01T20:22:33.389Z"
   },
   {
    "duration": 15,
    "start_time": "2023-02-01T20:23:51.852Z"
   },
   {
    "duration": 5,
    "start_time": "2023-02-01T20:24:06.015Z"
   },
   {
    "duration": 9,
    "start_time": "2023-02-01T20:24:12.278Z"
   },
   {
    "duration": 9,
    "start_time": "2023-02-01T20:24:14.845Z"
   },
   {
    "duration": 4,
    "start_time": "2023-02-01T20:24:27.479Z"
   },
   {
    "duration": 8,
    "start_time": "2023-02-01T20:24:52.824Z"
   },
   {
    "duration": 9,
    "start_time": "2023-02-01T20:25:39.774Z"
   },
   {
    "duration": 5,
    "start_time": "2023-02-01T20:25:50.053Z"
   },
   {
    "duration": 6,
    "start_time": "2023-02-01T20:29:00.333Z"
   },
   {
    "duration": 8,
    "start_time": "2023-02-01T20:29:08.582Z"
   },
   {
    "duration": 9,
    "start_time": "2023-02-01T20:29:10.598Z"
   },
   {
    "duration": 5,
    "start_time": "2023-02-01T20:29:19.034Z"
   },
   {
    "duration": 10,
    "start_time": "2023-02-01T20:29:47.726Z"
   },
   {
    "duration": 3,
    "start_time": "2023-02-01T20:30:03.792Z"
   },
   {
    "duration": 4,
    "start_time": "2023-02-01T20:30:08.564Z"
   },
   {
    "duration": 3,
    "start_time": "2023-02-01T20:30:12.240Z"
   },
   {
    "duration": 14,
    "start_time": "2023-02-01T20:30:17.552Z"
   },
   {
    "duration": 3,
    "start_time": "2023-02-01T20:30:56.011Z"
   },
   {
    "duration": 2,
    "start_time": "2023-02-01T20:31:10.121Z"
   },
   {
    "duration": 14,
    "start_time": "2023-02-01T20:31:12.220Z"
   },
   {
    "duration": 3,
    "start_time": "2023-02-01T20:32:06.659Z"
   },
   {
    "duration": 5,
    "start_time": "2023-02-01T20:32:12.428Z"
   },
   {
    "duration": 15,
    "start_time": "2023-02-01T20:32:26.374Z"
   },
   {
    "duration": 13,
    "start_time": "2023-02-01T20:32:56.580Z"
   },
   {
    "duration": 25,
    "start_time": "2023-02-01T20:35:28.304Z"
   },
   {
    "duration": 4,
    "start_time": "2023-02-01T20:35:53.057Z"
   },
   {
    "duration": 4,
    "start_time": "2023-02-01T20:37:47.389Z"
   },
   {
    "duration": 8,
    "start_time": "2023-02-01T20:38:12.518Z"
   },
   {
    "duration": 25,
    "start_time": "2023-02-01T20:38:41.182Z"
   },
   {
    "duration": 8,
    "start_time": "2023-02-01T20:39:01.278Z"
   },
   {
    "duration": 1081,
    "start_time": "2023-02-01T20:39:19.669Z"
   },
   {
    "duration": 668,
    "start_time": "2023-02-01T20:39:20.752Z"
   },
   {
    "duration": 26,
    "start_time": "2023-02-01T20:39:21.422Z"
   },
   {
    "duration": 19,
    "start_time": "2023-02-01T20:39:21.449Z"
   },
   {
    "duration": 8,
    "start_time": "2023-02-01T20:39:21.469Z"
   },
   {
    "duration": 26,
    "start_time": "2023-02-01T20:39:21.478Z"
   },
   {
    "duration": 99,
    "start_time": "2023-02-01T20:39:24.552Z"
   },
   {
    "duration": 9,
    "start_time": "2023-02-01T20:39:32.857Z"
   },
   {
    "duration": 26,
    "start_time": "2023-02-01T20:39:45.856Z"
   },
   {
    "duration": 13,
    "start_time": "2023-02-01T20:40:19.717Z"
   },
   {
    "duration": 21,
    "start_time": "2023-02-01T20:40:41.288Z"
   },
   {
    "duration": 14,
    "start_time": "2023-02-01T20:40:45.883Z"
   },
   {
    "duration": 46,
    "start_time": "2023-02-02T19:09:03.374Z"
   },
   {
    "duration": 1075,
    "start_time": "2023-02-02T19:09:07.060Z"
   },
   {
    "duration": 2074,
    "start_time": "2023-02-02T19:09:08.137Z"
   },
   {
    "duration": 21,
    "start_time": "2023-02-02T19:09:10.213Z"
   },
   {
    "duration": 39,
    "start_time": "2023-02-02T19:09:10.236Z"
   },
   {
    "duration": 11,
    "start_time": "2023-02-02T19:09:10.278Z"
   },
   {
    "duration": 19,
    "start_time": "2023-02-02T19:09:10.290Z"
   },
   {
    "duration": 46,
    "start_time": "2023-02-02T19:09:10.311Z"
   },
   {
    "duration": 15,
    "start_time": "2023-02-02T19:09:14.120Z"
   },
   {
    "duration": 14,
    "start_time": "2023-02-02T19:09:33.494Z"
   },
   {
    "duration": 10,
    "start_time": "2023-02-02T19:09:50.312Z"
   },
   {
    "duration": 8,
    "start_time": "2023-02-02T19:10:26.486Z"
   },
   {
    "duration": 16,
    "start_time": "2023-02-02T19:10:28.726Z"
   },
   {
    "duration": 11,
    "start_time": "2023-02-02T19:12:16.950Z"
   },
   {
    "duration": 28,
    "start_time": "2023-02-02T19:29:55.675Z"
   },
   {
    "duration": 34,
    "start_time": "2023-02-02T19:31:04.348Z"
   },
   {
    "duration": 8,
    "start_time": "2023-02-02T19:38:19.923Z"
   },
   {
    "duration": 67,
    "start_time": "2023-02-02T19:38:27.930Z"
   },
   {
    "duration": 7,
    "start_time": "2023-02-02T19:38:38.846Z"
   },
   {
    "duration": 25,
    "start_time": "2023-02-02T19:50:35.690Z"
   },
   {
    "duration": 88,
    "start_time": "2023-02-02T19:50:54.629Z"
   },
   {
    "duration": 23,
    "start_time": "2023-02-02T19:51:04.038Z"
   },
   {
    "duration": 26,
    "start_time": "2023-02-02T19:51:09.543Z"
   },
   {
    "duration": 30,
    "start_time": "2023-02-02T19:51:18.576Z"
   },
   {
    "duration": 26,
    "start_time": "2023-02-02T19:51:24.500Z"
   },
   {
    "duration": 28,
    "start_time": "2023-02-02T19:51:36.699Z"
   },
   {
    "duration": 30,
    "start_time": "2023-02-02T19:51:41.576Z"
   },
   {
    "duration": 33,
    "start_time": "2023-02-02T19:51:53.318Z"
   },
   {
    "duration": 82,
    "start_time": "2023-02-02T19:52:00.136Z"
   },
   {
    "duration": 26,
    "start_time": "2023-02-02T19:52:16.864Z"
   },
   {
    "duration": 28,
    "start_time": "2023-02-02T19:52:40.363Z"
   },
   {
    "duration": 29,
    "start_time": "2023-02-02T19:56:31.875Z"
   },
   {
    "duration": 28,
    "start_time": "2023-02-02T19:56:53.848Z"
   },
   {
    "duration": 10,
    "start_time": "2023-02-02T20:21:31.710Z"
   },
   {
    "duration": 16026,
    "start_time": "2023-02-02T20:22:12.117Z"
   },
   {
    "duration": 106,
    "start_time": "2023-02-02T20:24:30.923Z"
   },
   {
    "duration": 30,
    "start_time": "2023-02-02T20:27:17.630Z"
   },
   {
    "duration": 39,
    "start_time": "2023-02-02T20:28:03.656Z"
   },
   {
    "duration": 4,
    "start_time": "2023-02-02T20:29:42.265Z"
   },
   {
    "duration": 28,
    "start_time": "2023-02-02T20:29:59.906Z"
   },
   {
    "duration": 39,
    "start_time": "2023-02-02T20:30:46.003Z"
   },
   {
    "duration": 39,
    "start_time": "2023-02-02T20:31:37.685Z"
   },
   {
    "duration": 34,
    "start_time": "2023-02-02T20:32:28.061Z"
   },
   {
    "duration": 87,
    "start_time": "2023-02-02T20:32:44.495Z"
   },
   {
    "duration": 38,
    "start_time": "2023-02-02T20:32:54.275Z"
   },
   {
    "duration": 33,
    "start_time": "2023-02-02T20:33:17.272Z"
   },
   {
    "duration": 35,
    "start_time": "2023-02-02T20:33:42.288Z"
   },
   {
    "duration": 11,
    "start_time": "2023-02-02T20:34:00.229Z"
   },
   {
    "duration": 7,
    "start_time": "2023-02-02T20:34:26.153Z"
   },
   {
    "duration": 55,
    "start_time": "2023-02-02T20:34:43.121Z"
   },
   {
    "duration": 27,
    "start_time": "2023-02-02T20:38:00.688Z"
   },
   {
    "duration": 104,
    "start_time": "2023-02-02T20:38:04.768Z"
   },
   {
    "duration": 20,
    "start_time": "2023-02-02T20:44:27.779Z"
   },
   {
    "duration": 0,
    "start_time": "2023-02-02T20:45:47.892Z"
   },
   {
    "duration": 114079,
    "start_time": "2023-02-02T20:45:53.022Z"
   },
   {
    "duration": 104263,
    "start_time": "2023-02-02T20:48:09.298Z"
   },
   {
    "duration": 43,
    "start_time": "2023-02-02T20:50:08.410Z"
   },
   {
    "duration": 34,
    "start_time": "2023-02-02T20:50:31.357Z"
   },
   {
    "duration": 7,
    "start_time": "2023-02-02T20:51:00.355Z"
   },
   {
    "duration": 1016,
    "start_time": "2023-02-02T20:51:11.999Z"
   },
   {
    "duration": 734,
    "start_time": "2023-02-02T20:51:13.018Z"
   },
   {
    "duration": 16,
    "start_time": "2023-02-02T20:51:13.754Z"
   },
   {
    "duration": 17,
    "start_time": "2023-02-02T20:51:13.772Z"
   },
   {
    "duration": 11,
    "start_time": "2023-02-02T20:51:13.792Z"
   },
   {
    "duration": 34,
    "start_time": "2023-02-02T20:51:13.804Z"
   },
   {
    "duration": 31,
    "start_time": "2023-02-02T20:51:13.840Z"
   },
   {
    "duration": 7,
    "start_time": "2023-02-02T20:51:13.873Z"
   },
   {
    "duration": 7,
    "start_time": "2023-02-02T20:51:13.881Z"
   },
   {
    "duration": 48,
    "start_time": "2023-02-02T20:51:13.890Z"
   },
   {
    "duration": 1308656,
    "start_time": "2023-02-02T20:51:33.613Z"
   },
   {
    "duration": 27531,
    "start_time": "2023-02-02T21:20:42.349Z"
   },
   {
    "duration": 38,
    "start_time": "2023-02-02T21:22:34.222Z"
   },
   {
    "duration": 64465,
    "start_time": "2023-02-02T21:22:56.887Z"
   },
   {
    "duration": 25,
    "start_time": "2023-02-02T21:25:07.854Z"
   },
   {
    "duration": 85,
    "start_time": "2023-02-02T21:25:23.266Z"
   },
   {
    "duration": 26,
    "start_time": "2023-02-02T21:25:25.674Z"
   },
   {
    "duration": 25,
    "start_time": "2023-02-02T21:25:46.873Z"
   },
   {
    "duration": 39,
    "start_time": "2023-02-02T21:26:01.481Z"
   },
   {
    "duration": 42,
    "start_time": "2023-02-02T21:26:41.487Z"
   },
   {
    "duration": 86,
    "start_time": "2023-02-02T21:26:57.287Z"
   },
   {
    "duration": 27,
    "start_time": "2023-02-02T21:27:03.349Z"
   },
   {
    "duration": 14,
    "start_time": "2023-02-02T21:27:36.101Z"
   },
   {
    "duration": 24,
    "start_time": "2023-02-02T21:27:50.086Z"
   },
   {
    "duration": 9,
    "start_time": "2023-02-02T21:28:22.980Z"
   },
   {
    "duration": 25,
    "start_time": "2023-02-02T21:28:36.534Z"
   },
   {
    "duration": 8,
    "start_time": "2023-02-02T21:29:02.025Z"
   },
   {
    "duration": 1092,
    "start_time": "2023-02-02T21:29:47.721Z"
   },
   {
    "duration": 694,
    "start_time": "2023-02-02T21:29:48.815Z"
   },
   {
    "duration": 17,
    "start_time": "2023-02-02T21:29:49.511Z"
   },
   {
    "duration": 17,
    "start_time": "2023-02-02T21:29:49.530Z"
   },
   {
    "duration": 8,
    "start_time": "2023-02-02T21:29:49.548Z"
   },
   {
    "duration": 10,
    "start_time": "2023-02-02T21:29:49.558Z"
   },
   {
    "duration": 61,
    "start_time": "2023-02-02T21:29:49.569Z"
   },
   {
    "duration": 8,
    "start_time": "2023-02-02T21:29:49.633Z"
   },
   {
    "duration": 15,
    "start_time": "2023-02-02T21:29:49.643Z"
   },
   {
    "duration": 24,
    "start_time": "2023-02-02T21:29:49.660Z"
   },
   {
    "duration": 79790,
    "start_time": "2023-02-02T21:30:13.056Z"
   },
   {
    "duration": 1018,
    "start_time": "2023-02-02T21:31:42.159Z"
   },
   {
    "duration": 669,
    "start_time": "2023-02-02T21:31:43.179Z"
   },
   {
    "duration": 15,
    "start_time": "2023-02-02T21:31:43.850Z"
   },
   {
    "duration": 17,
    "start_time": "2023-02-02T21:31:43.866Z"
   },
   {
    "duration": 7,
    "start_time": "2023-02-02T21:31:43.885Z"
   },
   {
    "duration": 9,
    "start_time": "2023-02-02T21:31:43.894Z"
   },
   {
    "duration": 28,
    "start_time": "2023-02-02T21:31:43.926Z"
   },
   {
    "duration": 7,
    "start_time": "2023-02-02T21:31:43.955Z"
   },
   {
    "duration": 7,
    "start_time": "2023-02-02T21:31:43.964Z"
   },
   {
    "duration": 126,
    "start_time": "2023-02-02T21:32:33.397Z"
   },
   {
    "duration": 80,
    "start_time": "2023-02-02T21:33:51.526Z"
   },
   {
    "duration": 26,
    "start_time": "2023-02-02T21:34:00.407Z"
   },
   {
    "duration": 25,
    "start_time": "2023-02-02T21:34:08.122Z"
   },
   {
    "duration": 28,
    "start_time": "2023-02-02T21:34:27.847Z"
   },
   {
    "duration": 22,
    "start_time": "2023-02-02T21:34:35.212Z"
   },
   {
    "duration": 29,
    "start_time": "2023-02-02T21:34:39.858Z"
   },
   {
    "duration": 17100,
    "start_time": "2023-02-02T21:35:11.650Z"
   },
   {
    "duration": 5702,
    "start_time": "2023-02-02T21:35:40.025Z"
   },
   {
    "duration": 5471,
    "start_time": "2023-02-02T21:36:17.243Z"
   },
   {
    "duration": 23,
    "start_time": "2023-02-02T21:37:20.102Z"
   },
   {
    "duration": 73,
    "start_time": "2023-02-02T21:38:09.241Z"
   },
   {
    "duration": 72,
    "start_time": "2023-02-02T21:38:24.654Z"
   },
   {
    "duration": 17773,
    "start_time": "2023-02-02T21:38:29.278Z"
   },
   {
    "duration": 18652,
    "start_time": "2023-02-02T21:39:20.290Z"
   },
   {
    "duration": 26,
    "start_time": "2023-02-02T21:40:02.292Z"
   },
   {
    "duration": 8,
    "start_time": "2023-02-02T21:40:26.961Z"
   },
   {
    "duration": 6,
    "start_time": "2023-02-02T21:40:52.811Z"
   },
   {
    "duration": 1143,
    "start_time": "2023-02-02T21:41:16.607Z"
   },
   {
    "duration": 5,
    "start_time": "2023-02-02T21:41:25.459Z"
   },
   {
    "duration": 12539,
    "start_time": "2023-02-02T21:42:47.576Z"
   },
   {
    "duration": 24,
    "start_time": "2023-02-02T21:43:41.787Z"
   },
   {
    "duration": 23,
    "start_time": "2023-02-02T21:43:53.660Z"
   },
   {
    "duration": 186346,
    "start_time": "2023-02-02T21:45:46.155Z"
   },
   {
    "duration": 0,
    "start_time": "2023-02-02T21:48:52.503Z"
   },
   {
    "duration": 36,
    "start_time": "2023-02-02T22:08:12.624Z"
   },
   {
    "duration": 34,
    "start_time": "2023-02-02T22:08:22.227Z"
   },
   {
    "duration": 32,
    "start_time": "2023-02-02T22:08:30.940Z"
   },
   {
    "duration": 26,
    "start_time": "2023-02-02T22:08:44.009Z"
   },
   {
    "duration": 78,
    "start_time": "2023-02-02T22:12:18.823Z"
   },
   {
    "duration": 1135,
    "start_time": "2023-02-02T22:13:51.576Z"
   },
   {
    "duration": 9,
    "start_time": "2023-02-02T22:15:05.054Z"
   },
   {
    "duration": 13,
    "start_time": "2023-02-02T22:18:06.833Z"
   },
   {
    "duration": 8,
    "start_time": "2023-02-02T22:18:10.000Z"
   },
   {
    "duration": 344,
    "start_time": "2023-02-02T22:18:29.427Z"
   },
   {
    "duration": 8,
    "start_time": "2023-02-02T22:18:32.144Z"
   },
   {
    "duration": 1009,
    "start_time": "2023-02-02T22:19:32.774Z"
   },
   {
    "duration": 672,
    "start_time": "2023-02-02T22:19:33.785Z"
   },
   {
    "duration": 14,
    "start_time": "2023-02-02T22:19:34.459Z"
   },
   {
    "duration": 17,
    "start_time": "2023-02-02T22:19:34.474Z"
   },
   {
    "duration": 7,
    "start_time": "2023-02-02T22:19:34.493Z"
   },
   {
    "duration": 33,
    "start_time": "2023-02-02T22:19:34.501Z"
   },
   {
    "duration": 28,
    "start_time": "2023-02-02T22:19:34.536Z"
   },
   {
    "duration": 8,
    "start_time": "2023-02-02T22:19:34.565Z"
   },
   {
    "duration": 34,
    "start_time": "2023-02-02T22:19:47.150Z"
   },
   {
    "duration": 8,
    "start_time": "2023-02-02T22:19:57.923Z"
   },
   {
    "duration": 13,
    "start_time": "2023-02-02T22:20:17.428Z"
   },
   {
    "duration": 11,
    "start_time": "2023-02-02T22:20:30.756Z"
   },
   {
    "duration": 7,
    "start_time": "2023-02-02T22:20:33.323Z"
   },
   {
    "duration": 9,
    "start_time": "2023-02-02T22:27:20.059Z"
   },
   {
    "duration": 7,
    "start_time": "2023-02-02T22:27:57.832Z"
   },
   {
    "duration": 7,
    "start_time": "2023-02-02T22:28:04.218Z"
   },
   {
    "duration": 6,
    "start_time": "2023-02-02T22:28:12.313Z"
   },
   {
    "duration": 28,
    "start_time": "2023-02-02T22:29:50.324Z"
   },
   {
    "duration": 21,
    "start_time": "2023-02-02T22:30:11.843Z"
   },
   {
    "duration": 26,
    "start_time": "2023-02-02T22:30:33.502Z"
   },
   {
    "duration": 29,
    "start_time": "2023-02-02T22:30:57.654Z"
   },
   {
    "duration": 24,
    "start_time": "2023-02-02T22:31:02.228Z"
   },
   {
    "duration": 21,
    "start_time": "2023-02-02T22:31:12.905Z"
   },
   {
    "duration": 8,
    "start_time": "2023-02-02T22:31:24.823Z"
   },
   {
    "duration": 996,
    "start_time": "2023-02-03T19:55:17.598Z"
   },
   {
    "duration": 3137,
    "start_time": "2023-02-03T19:55:18.596Z"
   },
   {
    "duration": 15,
    "start_time": "2023-02-03T19:55:21.735Z"
   },
   {
    "duration": 17,
    "start_time": "2023-02-03T19:55:21.752Z"
   },
   {
    "duration": 7,
    "start_time": "2023-02-03T19:55:21.770Z"
   },
   {
    "duration": 14,
    "start_time": "2023-02-03T19:55:21.779Z"
   },
   {
    "duration": 30,
    "start_time": "2023-02-03T19:55:21.794Z"
   },
   {
    "duration": 24,
    "start_time": "2023-02-03T19:55:21.826Z"
   },
   {
    "duration": 2,
    "start_time": "2023-02-03T19:55:21.852Z"
   },
   {
    "duration": 25,
    "start_time": "2023-02-03T19:55:21.856Z"
   },
   {
    "duration": 9,
    "start_time": "2023-02-03T19:55:21.883Z"
   },
   {
    "duration": 18,
    "start_time": "2023-02-03T19:59:57.994Z"
   },
   {
    "duration": 11,
    "start_time": "2023-02-03T20:00:11.786Z"
   },
   {
    "duration": 20,
    "start_time": "2023-02-03T20:00:23.195Z"
   },
   {
    "duration": 14,
    "start_time": "2023-02-03T20:00:29.069Z"
   },
   {
    "duration": 17,
    "start_time": "2023-02-03T20:01:40.205Z"
   },
   {
    "duration": 1068,
    "start_time": "2023-02-03T20:02:13.828Z"
   },
   {
    "duration": 722,
    "start_time": "2023-02-03T20:02:14.898Z"
   },
   {
    "duration": 32,
    "start_time": "2023-02-03T20:02:15.622Z"
   },
   {
    "duration": 14,
    "start_time": "2023-02-03T20:02:15.655Z"
   },
   {
    "duration": 21,
    "start_time": "2023-02-03T20:02:15.671Z"
   },
   {
    "duration": 21,
    "start_time": "2023-02-03T20:02:15.694Z"
   },
   {
    "duration": 33,
    "start_time": "2023-02-03T20:02:15.716Z"
   },
   {
    "duration": 5,
    "start_time": "2023-02-03T20:02:15.751Z"
   },
   {
    "duration": 31,
    "start_time": "2023-02-03T20:02:15.758Z"
   },
   {
    "duration": 9,
    "start_time": "2023-02-03T20:02:15.791Z"
   },
   {
    "duration": 6,
    "start_time": "2023-02-03T20:02:15.801Z"
   },
   {
    "duration": 15,
    "start_time": "2023-02-03T20:02:21.373Z"
   },
   {
    "duration": 8,
    "start_time": "2023-02-03T20:02:24.111Z"
   },
   {
    "duration": 20,
    "start_time": "2023-02-03T20:02:31.886Z"
   },
   {
    "duration": 29,
    "start_time": "2023-02-03T20:05:43.706Z"
   },
   {
    "duration": 18,
    "start_time": "2023-02-03T20:06:09.645Z"
   },
   {
    "duration": 6,
    "start_time": "2023-02-03T20:12:33.778Z"
   },
   {
    "duration": 6,
    "start_time": "2023-02-03T20:13:04.968Z"
   },
   {
    "duration": 883,
    "start_time": "2023-02-03T20:14:22.441Z"
   },
   {
    "duration": 6,
    "start_time": "2023-02-03T20:14:31.227Z"
   },
   {
    "duration": 759,
    "start_time": "2023-02-03T20:16:41.695Z"
   },
   {
    "duration": 5,
    "start_time": "2023-02-03T20:16:52.550Z"
   },
   {
    "duration": 11,
    "start_time": "2023-02-03T20:17:24.705Z"
   },
   {
    "duration": 544,
    "start_time": "2023-02-03T20:17:35.157Z"
   },
   {
    "duration": 160,
    "start_time": "2023-02-03T20:17:51.653Z"
   },
   {
    "duration": 159,
    "start_time": "2023-02-03T20:18:04.467Z"
   },
   {
    "duration": 167,
    "start_time": "2023-02-03T20:18:10.720Z"
   },
   {
    "duration": 196,
    "start_time": "2023-02-03T20:18:31.121Z"
   },
   {
    "duration": 170,
    "start_time": "2023-02-03T20:19:30.321Z"
   },
   {
    "duration": 273,
    "start_time": "2023-02-03T20:19:37.732Z"
   },
   {
    "duration": 241,
    "start_time": "2023-02-03T20:22:11.774Z"
   },
   {
    "duration": 229,
    "start_time": "2023-02-03T20:22:29.403Z"
   },
   {
    "duration": 411,
    "start_time": "2023-02-03T20:22:46.184Z"
   },
   {
    "duration": 563,
    "start_time": "2023-02-03T20:23:07.751Z"
   },
   {
    "duration": 611,
    "start_time": "2023-02-03T20:23:22.960Z"
   },
   {
    "duration": 468,
    "start_time": "2023-02-03T20:24:21.402Z"
   },
   {
    "duration": 698,
    "start_time": "2023-02-03T20:24:42.371Z"
   },
   {
    "duration": 604,
    "start_time": "2023-02-03T20:24:45.194Z"
   },
   {
    "duration": 51,
    "start_time": "2023-02-03T20:26:55.997Z"
   },
   {
    "duration": 253,
    "start_time": "2023-02-03T20:29:22.768Z"
   },
   {
    "duration": 764,
    "start_time": "2023-02-03T20:29:39.764Z"
   },
   {
    "duration": 3,
    "start_time": "2023-02-03T20:30:39.651Z"
   },
   {
    "duration": 599,
    "start_time": "2023-02-03T20:30:59.988Z"
   },
   {
    "duration": 781,
    "start_time": "2023-02-03T20:32:29.375Z"
   },
   {
    "duration": 649,
    "start_time": "2023-02-03T20:33:08.576Z"
   },
   {
    "duration": 779,
    "start_time": "2023-02-03T20:34:57.779Z"
   },
   {
    "duration": 463,
    "start_time": "2023-02-03T20:35:39.125Z"
   },
   {
    "duration": 777,
    "start_time": "2023-02-03T20:35:43.981Z"
   },
   {
    "duration": 583,
    "start_time": "2023-02-03T20:36:30.005Z"
   },
   {
    "duration": 463,
    "start_time": "2023-02-03T20:36:40.398Z"
   },
   {
    "duration": 797,
    "start_time": "2023-02-03T20:36:48.150Z"
   },
   {
    "duration": 236,
    "start_time": "2023-02-03T20:52:13.005Z"
   },
   {
    "duration": 775,
    "start_time": "2023-02-03T20:52:31.359Z"
   },
   {
    "duration": 692,
    "start_time": "2023-02-03T20:52:34.767Z"
   },
   {
    "duration": 246,
    "start_time": "2023-02-03T20:52:45.493Z"
   },
   {
    "duration": 352,
    "start_time": "2023-02-03T20:52:59.446Z"
   },
   {
    "duration": 244,
    "start_time": "2023-02-03T20:53:08.053Z"
   },
   {
    "duration": 227,
    "start_time": "2023-02-03T20:53:15.814Z"
   },
   {
    "duration": 571,
    "start_time": "2023-02-03T20:53:28.446Z"
   },
   {
    "duration": 216,
    "start_time": "2023-02-03T20:53:33.310Z"
   },
   {
    "duration": 164,
    "start_time": "2023-02-03T20:53:37.034Z"
   },
   {
    "duration": 217,
    "start_time": "2023-02-03T20:53:50.734Z"
   },
   {
    "duration": 218,
    "start_time": "2023-02-03T20:53:58.423Z"
   },
   {
    "duration": 173,
    "start_time": "2023-02-03T20:54:15.177Z"
   },
   {
    "duration": 242,
    "start_time": "2023-02-03T20:54:46.753Z"
   },
   {
    "duration": 233,
    "start_time": "2023-02-03T20:54:57.016Z"
   },
   {
    "duration": 231,
    "start_time": "2023-02-03T20:56:33.468Z"
   },
   {
    "duration": 4,
    "start_time": "2023-02-03T21:13:35.982Z"
   },
   {
    "duration": 6,
    "start_time": "2023-02-03T21:21:45.092Z"
   },
   {
    "duration": 7,
    "start_time": "2023-02-03T21:22:26.862Z"
   },
   {
    "duration": 456,
    "start_time": "2023-02-03T21:23:31.566Z"
   },
   {
    "duration": 5,
    "start_time": "2023-02-03T21:23:37.777Z"
   },
   {
    "duration": 5,
    "start_time": "2023-02-03T21:23:40.628Z"
   },
   {
    "duration": 5,
    "start_time": "2023-02-03T21:25:22.775Z"
   },
   {
    "duration": 5,
    "start_time": "2023-02-03T21:25:50.164Z"
   },
   {
    "duration": 9,
    "start_time": "2023-02-03T21:26:16.720Z"
   },
   {
    "duration": 8,
    "start_time": "2023-02-03T21:26:41.081Z"
   },
   {
    "duration": 6,
    "start_time": "2023-02-03T21:26:51.347Z"
   },
   {
    "duration": 9,
    "start_time": "2023-02-03T21:27:24.628Z"
   },
   {
    "duration": 5,
    "start_time": "2023-02-03T21:27:35.991Z"
   },
   {
    "duration": 6,
    "start_time": "2023-02-03T21:28:52.763Z"
   },
   {
    "duration": 7,
    "start_time": "2023-02-03T21:28:58.381Z"
   },
   {
    "duration": 8,
    "start_time": "2023-02-03T21:34:58.505Z"
   },
   {
    "duration": 7,
    "start_time": "2023-02-03T21:35:00.812Z"
   },
   {
    "duration": 1002,
    "start_time": "2023-02-03T21:35:45.327Z"
   },
   {
    "duration": 635,
    "start_time": "2023-02-03T21:36:03.488Z"
   },
   {
    "duration": 27,
    "start_time": "2023-02-03T21:37:18.385Z"
   },
   {
    "duration": 595,
    "start_time": "2023-02-03T21:37:22.497Z"
   },
   {
    "duration": 823,
    "start_time": "2023-02-03T21:37:26.937Z"
   },
   {
    "duration": 585,
    "start_time": "2023-02-03T21:37:31.130Z"
   },
   {
    "duration": 6,
    "start_time": "2023-02-03T21:37:55.000Z"
   },
   {
    "duration": 6,
    "start_time": "2023-02-03T21:37:56.201Z"
   },
   {
    "duration": 6,
    "start_time": "2023-02-03T21:37:57.759Z"
   },
   {
    "duration": 6,
    "start_time": "2023-02-03T21:38:08.889Z"
   },
   {
    "duration": 6,
    "start_time": "2023-02-03T21:38:09.761Z"
   },
   {
    "duration": 6,
    "start_time": "2023-02-03T21:38:22.746Z"
   },
   {
    "duration": 808,
    "start_time": "2023-02-03T21:40:45.995Z"
   },
   {
    "duration": 6,
    "start_time": "2023-02-03T21:42:47.671Z"
   },
   {
    "duration": 3,
    "start_time": "2023-02-03T22:02:25.412Z"
   },
   {
    "duration": 62,
    "start_time": "2023-02-03T22:07:52.078Z"
   },
   {
    "duration": 4,
    "start_time": "2023-02-03T22:08:41.371Z"
   },
   {
    "duration": 86,
    "start_time": "2023-02-04T17:01:19.730Z"
   },
   {
    "duration": 50,
    "start_time": "2023-02-04T17:01:53.328Z"
   },
   {
    "duration": 1694,
    "start_time": "2023-02-04T17:02:00.248Z"
   },
   {
    "duration": 2266,
    "start_time": "2023-02-04T17:02:01.945Z"
   },
   {
    "duration": 29,
    "start_time": "2023-02-04T17:02:04.213Z"
   },
   {
    "duration": 17,
    "start_time": "2023-02-04T17:02:04.245Z"
   },
   {
    "duration": 42,
    "start_time": "2023-02-04T17:02:04.265Z"
   },
   {
    "duration": 24,
    "start_time": "2023-02-04T17:02:04.309Z"
   },
   {
    "duration": 11,
    "start_time": "2023-02-04T17:02:04.335Z"
   },
   {
    "duration": 10,
    "start_time": "2023-02-04T17:02:04.348Z"
   },
   {
    "duration": 57,
    "start_time": "2023-02-04T17:02:04.360Z"
   },
   {
    "duration": 11,
    "start_time": "2023-02-04T17:02:04.419Z"
   },
   {
    "duration": 13,
    "start_time": "2023-02-04T17:02:04.432Z"
   },
   {
    "duration": 23,
    "start_time": "2023-02-04T17:02:04.447Z"
   },
   {
    "duration": 35,
    "start_time": "2023-02-04T17:02:04.471Z"
   },
   {
    "duration": 32,
    "start_time": "2023-02-04T17:02:04.509Z"
   },
   {
    "duration": 779,
    "start_time": "2023-02-04T17:02:04.543Z"
   },
   {
    "duration": 813,
    "start_time": "2023-02-04T17:02:05.324Z"
   },
   {
    "duration": 770,
    "start_time": "2023-02-04T17:02:06.139Z"
   },
   {
    "duration": 285,
    "start_time": "2023-02-04T17:02:09.132Z"
   },
   {
    "duration": 412,
    "start_time": "2023-02-04T17:02:20.129Z"
   },
   {
    "duration": 283,
    "start_time": "2023-02-04T17:02:24.754Z"
   },
   {
    "duration": 335,
    "start_time": "2023-02-04T17:02:35.125Z"
   },
   {
    "duration": 289,
    "start_time": "2023-02-04T17:02:40.829Z"
   },
   {
    "duration": 297,
    "start_time": "2023-02-04T17:02:57.513Z"
   },
   {
    "duration": 129,
    "start_time": "2023-02-04T17:08:20.979Z"
   },
   {
    "duration": 27,
    "start_time": "2023-02-04T17:08:26.770Z"
   },
   {
    "duration": 15,
    "start_time": "2023-02-04T17:11:17.377Z"
   },
   {
    "duration": 38,
    "start_time": "2023-02-04T17:11:23.136Z"
   },
   {
    "duration": 6,
    "start_time": "2023-02-04T17:12:49.228Z"
   },
   {
    "duration": 11,
    "start_time": "2023-02-04T17:12:52.765Z"
   },
   {
    "duration": 6,
    "start_time": "2023-02-04T17:13:00.924Z"
   },
   {
    "duration": 37,
    "start_time": "2023-02-04T17:13:20.064Z"
   },
   {
    "duration": 6,
    "start_time": "2023-02-04T17:14:15.902Z"
   },
   {
    "duration": 19,
    "start_time": "2023-02-04T17:16:25.973Z"
   },
   {
    "duration": 173,
    "start_time": "2023-02-04T17:21:49.783Z"
   },
   {
    "duration": 1232,
    "start_time": "2023-02-04T17:23:52.053Z"
   },
   {
    "duration": 26,
    "start_time": "2023-02-04T17:23:58.740Z"
   },
   {
    "duration": 1177,
    "start_time": "2023-02-04T17:24:11.360Z"
   },
   {
    "duration": 26,
    "start_time": "2023-02-04T17:24:25.843Z"
   },
   {
    "duration": 41,
    "start_time": "2023-02-04T17:24:36.258Z"
   },
   {
    "duration": 73,
    "start_time": "2023-02-04T17:25:23.784Z"
   },
   {
    "duration": 39,
    "start_time": "2023-02-04T17:25:26.281Z"
   },
   {
    "duration": 27,
    "start_time": "2023-02-04T17:25:48.128Z"
   },
   {
    "duration": 54,
    "start_time": "2023-02-04T17:26:14.771Z"
   },
   {
    "duration": 74,
    "start_time": "2023-02-04T17:27:13.058Z"
   },
   {
    "duration": 26,
    "start_time": "2023-02-04T17:29:24.355Z"
   },
   {
    "duration": 23,
    "start_time": "2023-02-04T17:31:15.155Z"
   },
   {
    "duration": 4,
    "start_time": "2023-02-04T17:31:22.295Z"
   },
   {
    "duration": 17,
    "start_time": "2023-02-04T17:31:54.924Z"
   },
   {
    "duration": 26,
    "start_time": "2023-02-04T17:32:03.332Z"
   },
   {
    "duration": 34,
    "start_time": "2023-02-04T17:32:33.832Z"
   },
   {
    "duration": 28,
    "start_time": "2023-02-04T17:32:35.920Z"
   },
   {
    "duration": 35,
    "start_time": "2023-02-04T17:32:50.365Z"
   },
   {
    "duration": 23,
    "start_time": "2023-02-04T17:32:52.221Z"
   },
   {
    "duration": 26,
    "start_time": "2023-02-04T17:32:53.858Z"
   },
   {
    "duration": 1441,
    "start_time": "2023-02-04T17:33:05.359Z"
   },
   {
    "duration": 757,
    "start_time": "2023-02-04T17:33:06.802Z"
   },
   {
    "duration": 46,
    "start_time": "2023-02-04T17:33:07.561Z"
   },
   {
    "duration": 15,
    "start_time": "2023-02-04T17:33:07.609Z"
   },
   {
    "duration": 21,
    "start_time": "2023-02-04T17:33:07.626Z"
   },
   {
    "duration": 37,
    "start_time": "2023-02-04T17:33:07.649Z"
   },
   {
    "duration": 14,
    "start_time": "2023-02-04T17:33:07.688Z"
   },
   {
    "duration": 11,
    "start_time": "2023-02-04T17:33:07.704Z"
   },
   {
    "duration": 52,
    "start_time": "2023-02-04T17:33:07.717Z"
   },
   {
    "duration": 13,
    "start_time": "2023-02-04T17:33:07.771Z"
   },
   {
    "duration": 12,
    "start_time": "2023-02-04T17:33:07.789Z"
   },
   {
    "duration": 21,
    "start_time": "2023-02-04T17:33:07.803Z"
   },
   {
    "duration": 9,
    "start_time": "2023-02-04T17:33:07.826Z"
   },
   {
    "duration": 22,
    "start_time": "2023-02-04T17:33:07.837Z"
   },
   {
    "duration": 717,
    "start_time": "2023-02-04T17:33:07.861Z"
   },
   {
    "duration": 735,
    "start_time": "2023-02-04T17:33:08.584Z"
   },
   {
    "duration": 808,
    "start_time": "2023-02-04T17:33:09.321Z"
   },
   {
    "duration": 386,
    "start_time": "2023-02-04T17:33:10.131Z"
   },
   {
    "duration": 6,
    "start_time": "2023-02-04T17:33:10.519Z"
   },
   {
    "duration": 8,
    "start_time": "2023-02-04T17:33:10.526Z"
   },
   {
    "duration": 9,
    "start_time": "2023-02-04T17:33:10.536Z"
   },
   {
    "duration": 8,
    "start_time": "2023-02-04T17:33:10.547Z"
   },
   {
    "duration": 42,
    "start_time": "2023-02-04T17:33:10.556Z"
   },
   {
    "duration": 53,
    "start_time": "2023-02-04T17:33:10.602Z"
   },
   {
    "duration": 29,
    "start_time": "2023-02-04T17:33:33.954Z"
   },
   {
    "duration": 4,
    "start_time": "2023-02-04T17:33:59.063Z"
   },
   {
    "duration": 23,
    "start_time": "2023-02-04T17:34:04.694Z"
   },
   {
    "duration": 31,
    "start_time": "2023-02-04T17:34:06.981Z"
   },
   {
    "duration": 165,
    "start_time": "2023-02-04T17:34:34.936Z"
   },
   {
    "duration": 1409,
    "start_time": "2023-02-04T17:34:44.972Z"
   },
   {
    "duration": 721,
    "start_time": "2023-02-04T17:34:46.384Z"
   },
   {
    "duration": 28,
    "start_time": "2023-02-04T17:34:47.107Z"
   },
   {
    "duration": 13,
    "start_time": "2023-02-04T17:34:47.137Z"
   },
   {
    "duration": 47,
    "start_time": "2023-02-04T17:34:47.151Z"
   },
   {
    "duration": 19,
    "start_time": "2023-02-04T17:34:47.200Z"
   },
   {
    "duration": 7,
    "start_time": "2023-02-04T17:34:47.220Z"
   },
   {
    "duration": 5,
    "start_time": "2023-02-04T17:34:47.229Z"
   },
   {
    "duration": 59,
    "start_time": "2023-02-04T17:34:47.235Z"
   },
   {
    "duration": 9,
    "start_time": "2023-02-04T17:34:47.297Z"
   },
   {
    "duration": 5,
    "start_time": "2023-02-04T17:34:47.307Z"
   },
   {
    "duration": 18,
    "start_time": "2023-02-04T17:34:47.313Z"
   },
   {
    "duration": 9,
    "start_time": "2023-02-04T17:34:47.333Z"
   },
   {
    "duration": 50,
    "start_time": "2023-02-04T17:34:47.344Z"
   },
   {
    "duration": 684,
    "start_time": "2023-02-04T17:34:47.396Z"
   },
   {
    "duration": 744,
    "start_time": "2023-02-04T17:34:48.082Z"
   },
   {
    "duration": 691,
    "start_time": "2023-02-04T17:34:48.828Z"
   },
   {
    "duration": 487,
    "start_time": "2023-02-04T17:34:49.521Z"
   },
   {
    "duration": 7,
    "start_time": "2023-02-04T17:34:50.011Z"
   },
   {
    "duration": 16,
    "start_time": "2023-02-04T17:34:50.020Z"
   },
   {
    "duration": 19,
    "start_time": "2023-02-04T17:34:50.038Z"
   },
   {
    "duration": 16,
    "start_time": "2023-02-04T17:34:50.059Z"
   },
   {
    "duration": 8,
    "start_time": "2023-02-04T17:34:50.096Z"
   },
   {
    "duration": 49,
    "start_time": "2023-02-04T17:34:50.106Z"
   },
   {
    "duration": 5,
    "start_time": "2023-02-04T17:34:50.157Z"
   },
   {
    "duration": 144,
    "start_time": "2023-02-04T17:34:56.256Z"
   },
   {
    "duration": 32,
    "start_time": "2023-02-04T17:35:31.762Z"
   },
   {
    "duration": 4,
    "start_time": "2023-02-04T17:36:00.666Z"
   },
   {
    "duration": 22,
    "start_time": "2023-02-04T17:36:33.954Z"
   },
   {
    "duration": 28,
    "start_time": "2023-02-04T17:36:40.095Z"
   },
   {
    "duration": 85,
    "start_time": "2023-02-04T17:36:58.840Z"
   },
   {
    "duration": 21,
    "start_time": "2023-02-04T17:37:22.632Z"
   },
   {
    "duration": 23,
    "start_time": "2023-02-04T17:37:29.036Z"
   },
   {
    "duration": 23,
    "start_time": "2023-02-04T17:38:16.195Z"
   },
   {
    "duration": 35,
    "start_time": "2023-02-04T17:38:18.476Z"
   },
   {
    "duration": 1487,
    "start_time": "2023-02-04T17:38:34.581Z"
   },
   {
    "duration": 729,
    "start_time": "2023-02-04T17:38:36.071Z"
   },
   {
    "duration": 25,
    "start_time": "2023-02-04T17:38:36.802Z"
   },
   {
    "duration": 14,
    "start_time": "2023-02-04T17:38:36.829Z"
   },
   {
    "duration": 48,
    "start_time": "2023-02-04T17:38:36.845Z"
   },
   {
    "duration": 24,
    "start_time": "2023-02-04T17:38:36.896Z"
   },
   {
    "duration": 8,
    "start_time": "2023-02-04T17:38:36.921Z"
   },
   {
    "duration": 12,
    "start_time": "2023-02-04T17:38:36.930Z"
   },
   {
    "duration": 30,
    "start_time": "2023-02-04T17:38:36.943Z"
   },
   {
    "duration": 34,
    "start_time": "2023-02-04T17:38:36.975Z"
   },
   {
    "duration": 2,
    "start_time": "2023-02-04T17:38:37.010Z"
   },
   {
    "duration": 24,
    "start_time": "2023-02-04T17:38:37.014Z"
   },
   {
    "duration": 9,
    "start_time": "2023-02-04T17:38:37.040Z"
   },
   {
    "duration": 22,
    "start_time": "2023-02-04T17:38:37.052Z"
   },
   {
    "duration": 728,
    "start_time": "2023-02-04T17:38:37.076Z"
   },
   {
    "duration": 756,
    "start_time": "2023-02-04T17:38:37.805Z"
   },
   {
    "duration": 676,
    "start_time": "2023-02-04T17:38:38.563Z"
   },
   {
    "duration": 405,
    "start_time": "2023-02-04T17:38:39.241Z"
   },
   {
    "duration": 6,
    "start_time": "2023-02-04T17:38:39.648Z"
   },
   {
    "duration": 25,
    "start_time": "2023-02-04T17:38:39.656Z"
   },
   {
    "duration": 30,
    "start_time": "2023-02-04T17:38:39.683Z"
   },
   {
    "duration": 12,
    "start_time": "2023-02-04T17:38:39.715Z"
   },
   {
    "duration": 11,
    "start_time": "2023-02-04T17:38:39.732Z"
   },
   {
    "duration": 59,
    "start_time": "2023-02-04T17:38:39.745Z"
   },
   {
    "duration": 27,
    "start_time": "2023-02-04T17:38:39.806Z"
   },
   {
    "duration": 25,
    "start_time": "2023-02-04T17:38:39.835Z"
   },
   {
    "duration": 21,
    "start_time": "2023-02-04T17:38:48.428Z"
   },
   {
    "duration": 4,
    "start_time": "2023-02-04T17:39:29.353Z"
   },
   {
    "duration": 3,
    "start_time": "2023-02-04T17:39:30.359Z"
   },
   {
    "duration": 129,
    "start_time": "2023-02-04T18:00:40.452Z"
   },
   {
    "duration": 12,
    "start_time": "2023-02-04T18:01:25.534Z"
   },
   {
    "duration": 13,
    "start_time": "2023-02-04T18:01:32.053Z"
   },
   {
    "duration": 31,
    "start_time": "2023-02-04T18:01:37.903Z"
   },
   {
    "duration": 15,
    "start_time": "2023-02-04T18:04:14.157Z"
   },
   {
    "duration": 11,
    "start_time": "2023-02-04T18:07:50.569Z"
   },
   {
    "duration": 13,
    "start_time": "2023-02-04T18:08:23.378Z"
   },
   {
    "duration": 3130,
    "start_time": "2023-02-04T18:08:48.457Z"
   },
   {
    "duration": 9838,
    "start_time": "2023-02-04T18:09:48.461Z"
   },
   {
    "duration": 7,
    "start_time": "2023-02-04T18:09:58.303Z"
   },
   {
    "duration": 8186,
    "start_time": "2023-02-04T18:10:21.797Z"
   },
   {
    "duration": 18,
    "start_time": "2023-02-04T18:10:29.990Z"
   },
   {
    "duration": 4,
    "start_time": "2023-02-04T18:11:18.559Z"
   },
   {
    "duration": 10,
    "start_time": "2023-02-04T18:11:20.782Z"
   },
   {
    "duration": 8205,
    "start_time": "2023-02-04T18:11:21.482Z"
   },
   {
    "duration": 4,
    "start_time": "2023-02-04T18:11:29.690Z"
   },
   {
    "duration": 3627,
    "start_time": "2023-02-04T18:17:22.369Z"
   },
   {
    "duration": 6838,
    "start_time": "2023-02-04T18:17:36.851Z"
   },
   {
    "duration": 4,
    "start_time": "2023-02-04T18:17:44.968Z"
   },
   {
    "duration": 7782,
    "start_time": "2023-02-04T18:18:00.547Z"
   },
   {
    "duration": 2839,
    "start_time": "2023-02-04T18:18:12.669Z"
   },
   {
    "duration": 5,
    "start_time": "2023-02-04T18:18:18.060Z"
   },
   {
    "duration": 4,
    "start_time": "2023-02-04T18:18:51.508Z"
   },
   {
    "duration": 12,
    "start_time": "2023-02-04T18:18:55.557Z"
   },
   {
    "duration": 3499,
    "start_time": "2023-02-04T18:19:00.752Z"
   },
   {
    "duration": 5,
    "start_time": "2023-02-04T18:19:05.532Z"
   },
   {
    "duration": 4,
    "start_time": "2023-02-04T18:19:22.171Z"
   },
   {
    "duration": 95,
    "start_time": "2023-02-04T18:19:46.162Z"
   },
   {
    "duration": 9387,
    "start_time": "2023-02-04T18:19:58.305Z"
   },
   {
    "duration": 5,
    "start_time": "2023-02-04T18:20:08.647Z"
   },
   {
    "duration": 5559,
    "start_time": "2023-02-04T18:20:20.668Z"
   },
   {
    "duration": 4,
    "start_time": "2023-02-04T18:20:27.060Z"
   },
   {
    "duration": 2,
    "start_time": "2023-02-04T18:20:40.869Z"
   },
   {
    "duration": 5,
    "start_time": "2023-02-04T18:20:50.148Z"
   },
   {
    "duration": 7725,
    "start_time": "2023-02-04T18:20:52.375Z"
   },
   {
    "duration": 5,
    "start_time": "2023-02-04T18:29:50.164Z"
   },
   {
    "duration": 4,
    "start_time": "2023-02-04T18:31:11.035Z"
   },
   {
    "duration": 17,
    "start_time": "2023-02-04T18:31:15.002Z"
   },
   {
    "duration": 19,
    "start_time": "2023-02-04T18:31:27.600Z"
   },
   {
    "duration": 6,
    "start_time": "2023-02-04T18:31:46.474Z"
   },
   {
    "duration": 8,
    "start_time": "2023-02-04T18:31:55.605Z"
   },
   {
    "duration": 15,
    "start_time": "2023-02-04T18:33:49.943Z"
   },
   {
    "duration": 14,
    "start_time": "2023-02-04T18:35:26.554Z"
   },
   {
    "duration": 13,
    "start_time": "2023-02-04T18:35:41.035Z"
   },
   {
    "duration": 4428,
    "start_time": "2023-02-04T18:35:55.868Z"
   },
   {
    "duration": 5,
    "start_time": "2023-02-04T18:36:01.743Z"
   },
   {
    "duration": 11,
    "start_time": "2023-02-04T18:37:27.398Z"
   },
   {
    "duration": 16,
    "start_time": "2023-02-04T18:43:00.803Z"
   },
   {
    "duration": 82,
    "start_time": "2023-02-04T18:43:06.171Z"
   },
   {
    "duration": 3,
    "start_time": "2023-02-04T18:43:15.440Z"
   },
   {
    "duration": 26,
    "start_time": "2023-02-04T18:43:17.593Z"
   },
   {
    "duration": 16,
    "start_time": "2023-02-04T18:43:32.170Z"
   },
   {
    "duration": 6,
    "start_time": "2023-02-04T18:43:37.184Z"
   },
   {
    "duration": 13,
    "start_time": "2023-02-04T18:43:41.559Z"
   },
   {
    "duration": 4,
    "start_time": "2023-02-04T18:44:33.671Z"
   },
   {
    "duration": 18,
    "start_time": "2023-02-04T18:44:36.075Z"
   },
   {
    "duration": 4,
    "start_time": "2023-02-04T18:44:50.801Z"
   },
   {
    "duration": 14,
    "start_time": "2023-02-04T18:44:53.259Z"
   },
   {
    "duration": 3,
    "start_time": "2023-02-04T18:45:06.604Z"
   },
   {
    "duration": 12,
    "start_time": "2023-02-04T18:45:08.602Z"
   },
   {
    "duration": 3,
    "start_time": "2023-02-04T18:45:22.656Z"
   },
   {
    "duration": 18,
    "start_time": "2023-02-04T18:45:27.284Z"
   },
   {
    "duration": 3,
    "start_time": "2023-02-04T18:45:54.080Z"
   },
   {
    "duration": 3,
    "start_time": "2023-02-04T18:45:54.872Z"
   },
   {
    "duration": 16,
    "start_time": "2023-02-04T18:45:55.581Z"
   },
   {
    "duration": 13,
    "start_time": "2023-02-04T18:48:39.204Z"
   },
   {
    "duration": 14,
    "start_time": "2023-02-04T18:48:47.791Z"
   },
   {
    "duration": 11,
    "start_time": "2023-02-04T18:49:02.251Z"
   },
   {
    "duration": 1655,
    "start_time": "2023-02-04T18:49:16.090Z"
   },
   {
    "duration": 796,
    "start_time": "2023-02-04T18:49:17.747Z"
   },
   {
    "duration": 27,
    "start_time": "2023-02-04T18:49:18.544Z"
   },
   {
    "duration": 35,
    "start_time": "2023-02-04T18:49:18.573Z"
   },
   {
    "duration": 35,
    "start_time": "2023-02-04T18:49:18.610Z"
   },
   {
    "duration": 43,
    "start_time": "2023-02-04T18:49:18.647Z"
   },
   {
    "duration": 12,
    "start_time": "2023-02-04T18:49:18.695Z"
   },
   {
    "duration": 7,
    "start_time": "2023-02-04T18:49:18.709Z"
   },
   {
    "duration": 36,
    "start_time": "2023-02-04T18:49:18.718Z"
   },
   {
    "duration": 14,
    "start_time": "2023-02-04T18:49:18.756Z"
   },
   {
    "duration": 4,
    "start_time": "2023-02-04T18:49:18.783Z"
   },
   {
    "duration": 36,
    "start_time": "2023-02-04T18:49:18.790Z"
   },
   {
    "duration": 10,
    "start_time": "2023-02-04T18:49:18.828Z"
   },
   {
    "duration": 27,
    "start_time": "2023-02-04T18:49:18.841Z"
   },
   {
    "duration": 865,
    "start_time": "2023-02-04T18:49:18.870Z"
   },
   {
    "duration": 780,
    "start_time": "2023-02-04T18:49:19.737Z"
   },
   {
    "duration": 741,
    "start_time": "2023-02-04T18:49:20.519Z"
   },
   {
    "duration": 473,
    "start_time": "2023-02-04T18:49:21.262Z"
   },
   {
    "duration": 6,
    "start_time": "2023-02-04T18:49:21.737Z"
   },
   {
    "duration": 10,
    "start_time": "2023-02-04T18:49:21.745Z"
   },
   {
    "duration": 7,
    "start_time": "2023-02-04T18:49:21.756Z"
   },
   {
    "duration": 19,
    "start_time": "2023-02-04T18:49:21.788Z"
   },
   {
    "duration": 9,
    "start_time": "2023-02-04T18:49:21.809Z"
   },
   {
    "duration": 49,
    "start_time": "2023-02-04T18:49:21.820Z"
   },
   {
    "duration": 33,
    "start_time": "2023-02-04T18:49:21.871Z"
   },
   {
    "duration": 24,
    "start_time": "2023-02-04T18:49:21.906Z"
   },
   {
    "duration": 26,
    "start_time": "2023-02-04T18:49:21.932Z"
   },
   {
    "duration": 3,
    "start_time": "2023-02-04T18:49:31.605Z"
   },
   {
    "duration": 3,
    "start_time": "2023-02-04T18:49:34.028Z"
   },
   {
    "duration": 15,
    "start_time": "2023-02-04T18:49:35.574Z"
   },
   {
    "duration": 4942,
    "start_time": "2023-02-04T18:51:40.867Z"
   },
   {
    "duration": 4,
    "start_time": "2023-02-04T18:51:46.875Z"
   },
   {
    "duration": 4257,
    "start_time": "2023-02-04T19:06:34.039Z"
   },
   {
    "duration": 5,
    "start_time": "2023-02-04T19:06:39.067Z"
   },
   {
    "duration": 199,
    "start_time": "2023-02-04T19:07:19.909Z"
   },
   {
    "duration": 52423,
    "start_time": "2023-02-04T19:07:34.394Z"
   },
   {
    "duration": 292208,
    "start_time": "2023-02-04T19:10:00.693Z"
   },
   {
    "duration": 66245,
    "start_time": "2023-02-04T19:15:35.382Z"
   },
   {
    "duration": 6,
    "start_time": "2023-02-04T19:16:58.806Z"
   },
   {
    "duration": 5639,
    "start_time": "2023-02-04T19:18:39.375Z"
   },
   {
    "duration": 5,
    "start_time": "2023-02-04T19:18:47.039Z"
   },
   {
    "duration": 84,
    "start_time": "2023-02-04T19:19:28.943Z"
   },
   {
    "duration": 4781,
    "start_time": "2023-02-04T19:19:34.109Z"
   },
   {
    "duration": 5,
    "start_time": "2023-02-04T19:19:41.203Z"
   },
   {
    "duration": 81,
    "start_time": "2023-02-04T19:20:56.111Z"
   },
   {
    "duration": 4031,
    "start_time": "2023-02-04T19:20:59.077Z"
   },
   {
    "duration": 5,
    "start_time": "2023-02-04T19:21:03.111Z"
   },
   {
    "duration": 68570,
    "start_time": "2023-02-04T19:21:13.710Z"
   },
   {
    "duration": 5,
    "start_time": "2023-02-04T19:22:22.282Z"
   },
   {
    "duration": 85,
    "start_time": "2023-02-04T19:22:38.763Z"
   },
   {
    "duration": 69882,
    "start_time": "2023-02-04T19:22:41.755Z"
   },
   {
    "duration": 9,
    "start_time": "2023-02-04T19:23:51.640Z"
   },
   {
    "duration": 334364,
    "start_time": "2023-02-04T19:26:04.072Z"
   },
   {
    "duration": 5,
    "start_time": "2023-02-04T19:31:38.441Z"
   },
   {
    "duration": 4,
    "start_time": "2023-02-04T20:04:11.452Z"
   },
   {
    "duration": 65607,
    "start_time": "2023-02-04T20:05:29.769Z"
   },
   {
    "duration": 14,
    "start_time": "2023-02-04T20:06:35.378Z"
   },
   {
    "duration": 702600,
    "start_time": "2023-02-04T20:18:52.539Z"
   },
   {
    "duration": 34022,
    "start_time": "2023-02-04T20:37:10.903Z"
   },
   {
    "duration": 0,
    "start_time": "2023-02-04T20:37:44.928Z"
   },
   {
    "duration": 705389,
    "start_time": "2023-02-04T20:37:46.055Z"
   },
   {
    "duration": 1037648,
    "start_time": "2023-02-04T20:51:23.467Z"
   },
   {
    "duration": 3963387,
    "start_time": "2023-02-04T21:08:52.918Z"
   },
   {
    "duration": 57,
    "start_time": "2023-02-05T13:10:01.493Z"
   },
   {
    "duration": 1612,
    "start_time": "2023-02-05T13:10:38.827Z"
   },
   {
    "duration": 1931,
    "start_time": "2023-02-05T13:10:40.441Z"
   },
   {
    "duration": 32,
    "start_time": "2023-02-05T13:10:42.374Z"
   },
   {
    "duration": 18,
    "start_time": "2023-02-05T13:10:42.408Z"
   },
   {
    "duration": 22,
    "start_time": "2023-02-05T13:10:42.430Z"
   },
   {
    "duration": 39,
    "start_time": "2023-02-05T13:10:42.453Z"
   },
   {
    "duration": 9,
    "start_time": "2023-02-05T13:10:42.494Z"
   },
   {
    "duration": 19,
    "start_time": "2023-02-05T13:10:42.504Z"
   },
   {
    "duration": 48,
    "start_time": "2023-02-05T13:10:42.525Z"
   },
   {
    "duration": 26,
    "start_time": "2023-02-05T13:10:42.574Z"
   },
   {
    "duration": 4,
    "start_time": "2023-02-05T13:10:42.602Z"
   },
   {
    "duration": 25,
    "start_time": "2023-02-05T13:10:42.608Z"
   },
   {
    "duration": 9,
    "start_time": "2023-02-05T13:10:42.634Z"
   },
   {
    "duration": 23,
    "start_time": "2023-02-05T13:10:42.646Z"
   },
   {
    "duration": 770,
    "start_time": "2023-02-05T13:10:42.671Z"
   },
   {
    "duration": 647,
    "start_time": "2023-02-05T13:10:43.444Z"
   },
   {
    "duration": 641,
    "start_time": "2023-02-05T13:10:44.092Z"
   },
   {
    "duration": 405,
    "start_time": "2023-02-05T13:10:44.735Z"
   },
   {
    "duration": 6,
    "start_time": "2023-02-05T13:10:45.142Z"
   },
   {
    "duration": 6,
    "start_time": "2023-02-05T13:10:45.150Z"
   },
   {
    "duration": 28,
    "start_time": "2023-02-05T13:10:45.158Z"
   },
   {
    "duration": 6,
    "start_time": "2023-02-05T13:10:45.188Z"
   },
   {
    "duration": 23,
    "start_time": "2023-02-05T13:10:45.196Z"
   },
   {
    "duration": 51,
    "start_time": "2023-02-05T13:10:45.221Z"
   },
   {
    "duration": 28,
    "start_time": "2023-02-05T13:10:45.274Z"
   },
   {
    "duration": 24,
    "start_time": "2023-02-05T13:10:45.304Z"
   },
   {
    "duration": 29,
    "start_time": "2023-02-05T13:10:45.330Z"
   },
   {
    "duration": 23,
    "start_time": "2023-02-05T13:10:45.362Z"
   },
   {
    "duration": 20,
    "start_time": "2023-02-05T13:10:45.387Z"
   },
   {
    "duration": 7,
    "start_time": "2023-02-05T13:10:45.409Z"
   },
   {
    "duration": 15,
    "start_time": "2023-02-05T13:10:45.418Z"
   },
   {
    "duration": 3253,
    "start_time": "2023-02-05T13:10:45.434Z"
   },
   {
    "duration": 4,
    "start_time": "2023-02-05T13:10:48.689Z"
   },
   {
    "duration": 59169,
    "start_time": "2023-02-05T13:10:48.696Z"
   },
   {
    "duration": 4,
    "start_time": "2023-02-05T13:11:47.867Z"
   },
   {
    "duration": 657836,
    "start_time": "2023-02-05T13:11:47.873Z"
   },
   {
    "duration": 3550058,
    "start_time": "2023-02-05T13:22:45.711Z"
   },
   {
    "duration": 34716,
    "start_time": "2023-02-05T16:36:16.874Z"
   },
   {
    "duration": 6161,
    "start_time": "2023-02-05T16:58:57.495Z"
   },
   {
    "duration": 32940,
    "start_time": "2023-02-05T16:59:18.454Z"
   },
   {
    "duration": 3005,
    "start_time": "2023-02-05T17:30:01.984Z"
   },
   {
    "duration": 3,
    "start_time": "2023-02-05T17:30:37.504Z"
   },
   {
    "duration": 4,
    "start_time": "2023-02-05T17:30:50.526Z"
   },
   {
    "duration": 32166,
    "start_time": "2023-02-05T17:34:25.647Z"
   },
   {
    "duration": 12,
    "start_time": "2023-02-05T17:39:37.193Z"
   },
   {
    "duration": 637192,
    "start_time": "2023-02-05T17:44:40.342Z"
   },
   {
    "duration": 1065807,
    "start_time": "2023-02-05T18:44:09.584Z"
   },
   {
    "duration": 1122296,
    "start_time": "2023-02-05T19:02:03.872Z"
   },
   {
    "duration": 56280,
    "start_time": "2023-02-05T19:31:00.562Z"
   },
   {
    "duration": 79,
    "start_time": "2023-02-05T19:32:00.541Z"
   },
   {
    "duration": 4,
    "start_time": "2023-02-05T19:32:06.138Z"
   },
   {
    "duration": 11,
    "start_time": "2023-02-05T19:40:11.551Z"
   },
   {
    "duration": 4,
    "start_time": "2023-02-05T19:54:45.325Z"
   },
   {
    "duration": 21942,
    "start_time": "2023-02-05T19:55:12.633Z"
   },
   {
    "duration": 21585,
    "start_time": "2023-02-05T19:56:07.037Z"
   },
   {
    "duration": 10,
    "start_time": "2023-02-05T20:12:52.771Z"
   },
   {
    "duration": 11,
    "start_time": "2023-02-05T20:12:57.154Z"
   },
   {
    "duration": 73,
    "start_time": "2023-02-05T20:14:20.524Z"
   },
   {
    "duration": 20,
    "start_time": "2023-02-05T20:15:49.925Z"
   },
   {
    "duration": 21,
    "start_time": "2023-02-05T20:15:51.110Z"
   },
   {
    "duration": 75,
    "start_time": "2023-02-05T20:17:45.289Z"
   },
   {
    "duration": 362,
    "start_time": "2023-02-05T20:23:22.616Z"
   },
   {
    "duration": 355,
    "start_time": "2023-02-05T20:23:29.481Z"
   },
   {
    "duration": 2834,
    "start_time": "2023-02-05T20:29:24.738Z"
   },
   {
    "duration": 3,
    "start_time": "2023-02-05T20:29:45.683Z"
   },
   {
    "duration": 2,
    "start_time": "2023-02-05T20:30:17.395Z"
   },
   {
    "duration": 4,
    "start_time": "2023-02-05T20:30:54.596Z"
   },
   {
    "duration": 2,
    "start_time": "2023-02-05T20:31:04.948Z"
   },
   {
    "duration": 1483,
    "start_time": "2023-02-05T20:36:07.061Z"
   },
   {
    "duration": 1826,
    "start_time": "2023-02-05T20:36:08.546Z"
   },
   {
    "duration": 37,
    "start_time": "2023-02-05T20:36:10.374Z"
   },
   {
    "duration": 17,
    "start_time": "2023-02-05T20:36:10.412Z"
   },
   {
    "duration": 25,
    "start_time": "2023-02-05T20:36:10.433Z"
   },
   {
    "duration": 35,
    "start_time": "2023-02-05T20:36:10.483Z"
   },
   {
    "duration": 27,
    "start_time": "2023-02-05T20:36:10.520Z"
   },
   {
    "duration": 49,
    "start_time": "2023-02-05T20:36:10.549Z"
   },
   {
    "duration": 10,
    "start_time": "2023-02-05T20:36:10.601Z"
   },
   {
    "duration": 8,
    "start_time": "2023-02-05T20:36:10.614Z"
   },
   {
    "duration": 31,
    "start_time": "2023-02-05T20:36:10.625Z"
   },
   {
    "duration": 40,
    "start_time": "2023-02-05T20:36:10.658Z"
   },
   {
    "duration": 3,
    "start_time": "2023-02-05T20:36:10.701Z"
   },
   {
    "duration": 32,
    "start_time": "2023-02-05T20:36:10.708Z"
   },
   {
    "duration": 11,
    "start_time": "2023-02-05T20:36:10.743Z"
   },
   {
    "duration": 42,
    "start_time": "2023-02-05T20:36:10.756Z"
   },
   {
    "duration": 796,
    "start_time": "2023-02-05T20:36:10.800Z"
   },
   {
    "duration": 688,
    "start_time": "2023-02-05T20:36:11.603Z"
   },
   {
    "duration": 684,
    "start_time": "2023-02-05T20:36:12.300Z"
   },
   {
    "duration": 450,
    "start_time": "2023-02-05T20:36:12.986Z"
   },
   {
    "duration": 5,
    "start_time": "2023-02-05T20:36:13.438Z"
   },
   {
    "duration": 22,
    "start_time": "2023-02-05T20:36:13.445Z"
   },
   {
    "duration": 43,
    "start_time": "2023-02-05T20:36:13.469Z"
   },
   {
    "duration": 15,
    "start_time": "2023-02-05T20:36:13.514Z"
   },
   {
    "duration": 17,
    "start_time": "2023-02-05T20:36:13.531Z"
   },
   {
    "duration": 66,
    "start_time": "2023-02-05T20:36:13.550Z"
   },
   {
    "duration": 27,
    "start_time": "2023-02-05T20:36:13.618Z"
   },
   {
    "duration": 40,
    "start_time": "2023-02-05T20:36:13.648Z"
   },
   {
    "duration": 28,
    "start_time": "2023-02-05T20:36:13.697Z"
   },
   {
    "duration": 12,
    "start_time": "2023-02-05T20:36:13.728Z"
   },
   {
    "duration": 7,
    "start_time": "2023-02-05T20:36:13.742Z"
   },
   {
    "duration": 19,
    "start_time": "2023-02-05T20:36:13.751Z"
   },
   {
    "duration": 13,
    "start_time": "2023-02-05T20:36:13.772Z"
   },
   {
    "duration": 4206,
    "start_time": "2023-02-05T20:36:13.787Z"
   },
   {
    "duration": 12,
    "start_time": "2023-02-05T20:36:17.994Z"
   },
   {
    "duration": 90,
    "start_time": "2023-02-05T20:36:18.011Z"
   },
   {
    "duration": 9,
    "start_time": "2023-02-05T20:36:18.103Z"
   },
   {
    "duration": 33865,
    "start_time": "2023-02-05T20:36:18.114Z"
   },
   {
    "duration": 6,
    "start_time": "2023-02-05T20:36:51.991Z"
   },
   {
    "duration": 6,
    "start_time": "2023-02-05T20:36:52.000Z"
   },
   {
    "duration": 55832,
    "start_time": "2023-02-05T20:36:52.010Z"
   },
   {
    "duration": 4,
    "start_time": "2023-02-05T20:37:47.844Z"
   },
   {
    "duration": 22759,
    "start_time": "2023-02-05T20:37:47.850Z"
   },
   {
    "duration": 1611,
    "start_time": "2023-02-06T16:02:31.823Z"
   },
   {
    "duration": 4,
    "start_time": "2023-02-06T16:02:51.153Z"
   },
   {
    "duration": 1861,
    "start_time": "2023-02-06T16:02:51.159Z"
   },
   {
    "duration": 25,
    "start_time": "2023-02-06T16:02:53.022Z"
   },
   {
    "duration": 13,
    "start_time": "2023-02-06T16:02:53.049Z"
   },
   {
    "duration": 20,
    "start_time": "2023-02-06T16:02:53.064Z"
   },
   {
    "duration": 22,
    "start_time": "2023-02-06T16:02:53.085Z"
   },
   {
    "duration": 40,
    "start_time": "2023-02-06T16:02:53.109Z"
   },
   {
    "duration": 19,
    "start_time": "2023-02-06T16:02:53.150Z"
   },
   {
    "duration": 8,
    "start_time": "2023-02-06T16:02:53.172Z"
   },
   {
    "duration": 5,
    "start_time": "2023-02-06T16:02:53.182Z"
   },
   {
    "duration": 62,
    "start_time": "2023-02-06T16:02:53.189Z"
   },
   {
    "duration": 10,
    "start_time": "2023-02-06T16:02:53.252Z"
   },
   {
    "duration": 2,
    "start_time": "2023-02-06T16:02:53.264Z"
   },
   {
    "duration": 18,
    "start_time": "2023-02-06T16:02:53.268Z"
   },
   {
    "duration": 8,
    "start_time": "2023-02-06T16:02:53.288Z"
   },
   {
    "duration": 45,
    "start_time": "2023-02-06T16:02:53.298Z"
   },
   {
    "duration": 686,
    "start_time": "2023-02-06T16:02:53.345Z"
   },
   {
    "duration": 602,
    "start_time": "2023-02-06T16:02:54.032Z"
   },
   {
    "duration": 746,
    "start_time": "2023-02-06T16:02:54.635Z"
   },
   {
    "duration": 112,
    "start_time": "2023-02-06T16:03:15.710Z"
   },
   {
    "duration": 376,
    "start_time": "2023-02-06T16:03:25.593Z"
   },
   {
    "duration": 375,
    "start_time": "2023-02-06T16:03:41.924Z"
   },
   {
    "duration": 130,
    "start_time": "2023-02-06T16:03:54.349Z"
   },
   {
    "duration": 370,
    "start_time": "2023-02-06T16:04:00.613Z"
   },
   {
    "duration": 402,
    "start_time": "2023-02-06T16:04:33.857Z"
   },
   {
    "duration": 327,
    "start_time": "2023-02-06T16:04:53.453Z"
   },
   {
    "duration": 396,
    "start_time": "2023-02-06T16:06:04.791Z"
   },
   {
    "duration": 360,
    "start_time": "2023-02-06T16:06:18.617Z"
   },
   {
    "duration": 341,
    "start_time": "2023-02-06T16:08:35.438Z"
   },
   {
    "duration": 69,
    "start_time": "2023-02-06T16:12:18.097Z"
   },
   {
    "duration": 78,
    "start_time": "2023-02-06T16:12:30.858Z"
   },
   {
    "duration": 347,
    "start_time": "2023-02-06T16:13:07.422Z"
   },
   {
    "duration": 69,
    "start_time": "2023-02-06T16:13:25.253Z"
   },
   {
    "duration": 415,
    "start_time": "2023-02-06T16:13:30.311Z"
   },
   {
    "duration": 395,
    "start_time": "2023-02-06T16:13:34.389Z"
   },
   {
    "duration": 395,
    "start_time": "2023-02-06T16:14:04.785Z"
   },
   {
    "duration": 510,
    "start_time": "2023-02-06T16:14:16.777Z"
   },
   {
    "duration": 140,
    "start_time": "2023-02-06T16:15:14.331Z"
   },
   {
    "duration": 137,
    "start_time": "2023-02-06T16:15:27.100Z"
   },
   {
    "duration": 144,
    "start_time": "2023-02-06T16:15:31.036Z"
   },
   {
    "duration": 126,
    "start_time": "2023-02-06T16:15:57.160Z"
   },
   {
    "duration": 466,
    "start_time": "2023-02-06T16:16:53.726Z"
   },
   {
    "duration": 339,
    "start_time": "2023-02-06T16:17:01.757Z"
   },
   {
    "duration": 427,
    "start_time": "2023-02-06T16:17:10.381Z"
   },
   {
    "duration": 367,
    "start_time": "2023-02-06T16:17:16.518Z"
   },
   {
    "duration": 134,
    "start_time": "2023-02-06T16:18:04.607Z"
   },
   {
    "duration": 381,
    "start_time": "2023-02-06T16:19:34.713Z"
   },
   {
    "duration": 445,
    "start_time": "2023-02-06T16:19:40.955Z"
   },
   {
    "duration": 360,
    "start_time": "2023-02-06T16:19:48.042Z"
   },
   {
    "duration": 419,
    "start_time": "2023-02-06T16:19:55.186Z"
   },
   {
    "duration": 406,
    "start_time": "2023-02-06T16:20:01.195Z"
   },
   {
    "duration": 353,
    "start_time": "2023-02-06T16:20:08.826Z"
   },
   {
    "duration": 355,
    "start_time": "2023-02-06T16:20:18.171Z"
   },
   {
    "duration": 498,
    "start_time": "2023-02-06T16:20:22.898Z"
   },
   {
    "duration": 399,
    "start_time": "2023-02-06T16:20:26.805Z"
   },
   {
    "duration": 76,
    "start_time": "2023-02-06T16:21:02.923Z"
   },
   {
    "duration": 345,
    "start_time": "2023-02-06T16:21:11.060Z"
   },
   {
    "duration": 420,
    "start_time": "2023-02-06T16:22:50.279Z"
   },
   {
    "duration": 359,
    "start_time": "2023-02-06T16:24:51.152Z"
   },
   {
    "duration": 417,
    "start_time": "2023-02-06T16:25:03.586Z"
   },
   {
    "duration": 364,
    "start_time": "2023-02-06T16:25:12.745Z"
   },
   {
    "duration": 351,
    "start_time": "2023-02-06T16:25:16.553Z"
   },
   {
    "duration": 351,
    "start_time": "2023-02-06T16:25:18.649Z"
   },
   {
    "duration": 407,
    "start_time": "2023-02-06T16:25:49.386Z"
   },
   {
    "duration": 373,
    "start_time": "2023-02-06T16:25:58.529Z"
   },
   {
    "duration": 259,
    "start_time": "2023-02-06T16:27:22.475Z"
   },
   {
    "duration": 73,
    "start_time": "2023-02-06T16:27:42.944Z"
   },
   {
    "duration": 9,
    "start_time": "2023-02-06T16:38:44.532Z"
   },
   {
    "duration": 405,
    "start_time": "2023-02-06T16:39:35.792Z"
   },
   {
    "duration": 318,
    "start_time": "2023-02-06T16:39:40.583Z"
   },
   {
    "duration": 297,
    "start_time": "2023-02-06T16:40:18.441Z"
   },
   {
    "duration": 392,
    "start_time": "2023-02-06T16:40:42.402Z"
   },
   {
    "duration": 355,
    "start_time": "2023-02-06T16:40:44.874Z"
   },
   {
    "duration": 640,
    "start_time": "2023-02-06T16:41:12.811Z"
   },
   {
    "duration": 71,
    "start_time": "2023-02-06T16:43:34.734Z"
   },
   {
    "duration": 12,
    "start_time": "2023-02-06T16:43:42.785Z"
   },
   {
    "duration": 39,
    "start_time": "2023-02-06T16:44:15.665Z"
   },
   {
    "duration": 19,
    "start_time": "2023-02-06T16:46:33.487Z"
   },
   {
    "duration": 13,
    "start_time": "2023-02-06T16:46:59.312Z"
   },
   {
    "duration": 15,
    "start_time": "2023-02-06T16:48:35.655Z"
   },
   {
    "duration": 6,
    "start_time": "2023-02-06T16:48:59.725Z"
   },
   {
    "duration": 33,
    "start_time": "2023-02-06T16:49:19.768Z"
   },
   {
    "duration": 21,
    "start_time": "2023-02-06T16:49:23.989Z"
   },
   {
    "duration": 21,
    "start_time": "2023-02-06T16:49:25.833Z"
   },
   {
    "duration": 23,
    "start_time": "2023-02-06T16:49:27.800Z"
   },
   {
    "duration": 3,
    "start_time": "2023-02-06T16:49:29.729Z"
   },
   {
    "duration": 4,
    "start_time": "2023-02-06T16:49:31.025Z"
   },
   {
    "duration": 14,
    "start_time": "2023-02-06T16:49:31.993Z"
   },
   {
    "duration": 3,
    "start_time": "2023-02-06T16:49:34.555Z"
   },
   {
    "duration": 2915,
    "start_time": "2023-02-06T16:49:36.313Z"
   },
   {
    "duration": 4,
    "start_time": "2023-02-06T16:49:42.394Z"
   },
   {
    "duration": 27484,
    "start_time": "2023-02-06T16:49:52.984Z"
   },
   {
    "duration": 46948,
    "start_time": "2023-02-06T16:50:20.470Z"
   },
   {
    "duration": 4,
    "start_time": "2023-02-06T16:51:07.419Z"
   },
   {
    "duration": 18762,
    "start_time": "2023-02-06T16:51:07.427Z"
   },
   {
    "duration": 3,
    "start_time": "2023-02-06T16:51:26.191Z"
   },
   {
    "duration": 77,
    "start_time": "2023-02-06T17:28:31.332Z"
   },
   {
    "duration": 305,
    "start_time": "2023-02-06T17:28:57.991Z"
   },
   {
    "duration": 372,
    "start_time": "2023-02-06T17:29:02.399Z"
   },
   {
    "duration": 457,
    "start_time": "2023-02-06T17:29:04.663Z"
   },
   {
    "duration": 542,
    "start_time": "2023-02-06T17:29:09.695Z"
   },
   {
    "duration": 369,
    "start_time": "2023-02-06T17:29:13.515Z"
   },
   {
    "duration": 1409,
    "start_time": "2023-02-06T17:33:43.506Z"
   },
   {
    "duration": 648,
    "start_time": "2023-02-06T17:33:44.917Z"
   },
   {
    "duration": 23,
    "start_time": "2023-02-06T17:33:45.567Z"
   },
   {
    "duration": 13,
    "start_time": "2023-02-06T17:33:45.592Z"
   },
   {
    "duration": 38,
    "start_time": "2023-02-06T17:33:45.607Z"
   },
   {
    "duration": 16,
    "start_time": "2023-02-06T17:33:45.646Z"
   },
   {
    "duration": 19,
    "start_time": "2023-02-06T17:33:45.663Z"
   },
   {
    "duration": 17,
    "start_time": "2023-02-06T17:33:45.684Z"
   },
   {
    "duration": 8,
    "start_time": "2023-02-06T17:33:45.728Z"
   },
   {
    "duration": 9,
    "start_time": "2023-02-06T17:33:45.737Z"
   },
   {
    "duration": 27,
    "start_time": "2023-02-06T17:33:45.748Z"
   },
   {
    "duration": 8,
    "start_time": "2023-02-06T17:33:45.777Z"
   },
   {
    "duration": 3,
    "start_time": "2023-02-06T17:33:45.786Z"
   },
   {
    "duration": 47,
    "start_time": "2023-02-06T17:33:45.792Z"
   },
   {
    "duration": 8,
    "start_time": "2023-02-06T17:33:45.840Z"
   },
   {
    "duration": 20,
    "start_time": "2023-02-06T17:33:45.850Z"
   },
   {
    "duration": 778,
    "start_time": "2023-02-06T17:33:45.872Z"
   },
   {
    "duration": 626,
    "start_time": "2023-02-06T17:33:46.652Z"
   },
   {
    "duration": 729,
    "start_time": "2023-02-06T17:33:47.280Z"
   },
   {
    "duration": 268,
    "start_time": "2023-02-06T17:33:48.011Z"
   },
   {
    "duration": 428,
    "start_time": "2023-02-06T17:33:48.281Z"
   },
   {
    "duration": 3,
    "start_time": "2023-02-06T17:33:48.711Z"
   },
   {
    "duration": 16,
    "start_time": "2023-02-06T17:33:48.716Z"
   },
   {
    "duration": 318,
    "start_time": "2023-02-06T17:33:48.734Z"
   },
   {
    "duration": 328,
    "start_time": "2023-02-06T17:33:49.054Z"
   },
   {
    "duration": 360,
    "start_time": "2023-02-06T17:33:49.383Z"
   },
   {
    "duration": 778,
    "start_time": "2023-02-06T17:33:49.745Z"
   },
   {
    "duration": 37,
    "start_time": "2023-02-06T17:33:50.526Z"
   },
   {
    "duration": 18,
    "start_time": "2023-02-06T17:33:50.564Z"
   },
   {
    "duration": 12,
    "start_time": "2023-02-06T17:33:50.584Z"
   },
   {
    "duration": 6,
    "start_time": "2023-02-06T17:33:50.598Z"
   },
   {
    "duration": 37,
    "start_time": "2023-02-06T17:33:50.627Z"
   },
   {
    "duration": 23,
    "start_time": "2023-02-06T17:33:50.666Z"
   },
   {
    "duration": 20,
    "start_time": "2023-02-06T17:33:50.691Z"
   },
   {
    "duration": 24,
    "start_time": "2023-02-06T17:33:50.727Z"
   },
   {
    "duration": 10,
    "start_time": "2023-02-06T17:33:50.755Z"
   },
   {
    "duration": 14,
    "start_time": "2023-02-06T17:33:50.766Z"
   },
   {
    "duration": 12,
    "start_time": "2023-02-06T17:33:50.782Z"
   },
   {
    "duration": 16,
    "start_time": "2023-02-06T17:33:50.795Z"
   },
   {
    "duration": 2719,
    "start_time": "2023-02-06T17:33:50.812Z"
   },
   {
    "duration": 5,
    "start_time": "2023-02-06T17:33:53.536Z"
   },
   {
    "duration": 532115,
    "start_time": "2023-02-06T17:33:56.082Z"
   },
   {
    "duration": 592452,
    "start_time": "2023-02-06T17:42:57.182Z"
   },
   {
    "duration": 1397,
    "start_time": "2023-02-06T18:50:31.398Z"
   },
   {
    "duration": 650,
    "start_time": "2023-02-06T18:50:32.797Z"
   },
   {
    "duration": 23,
    "start_time": "2023-02-06T18:50:33.448Z"
   },
   {
    "duration": 12,
    "start_time": "2023-02-06T18:50:33.473Z"
   },
   {
    "duration": 33,
    "start_time": "2023-02-06T18:50:33.487Z"
   },
   {
    "duration": 14,
    "start_time": "2023-02-06T18:50:33.522Z"
   },
   {
    "duration": 17,
    "start_time": "2023-02-06T18:50:33.538Z"
   },
   {
    "duration": 18,
    "start_time": "2023-02-06T18:50:33.556Z"
   },
   {
    "duration": 34,
    "start_time": "2023-02-06T18:50:33.575Z"
   },
   {
    "duration": 4,
    "start_time": "2023-02-06T18:50:33.611Z"
   },
   {
    "duration": 24,
    "start_time": "2023-02-06T18:50:33.616Z"
   },
   {
    "duration": 7,
    "start_time": "2023-02-06T18:50:33.642Z"
   },
   {
    "duration": 2,
    "start_time": "2023-02-06T18:50:33.650Z"
   },
   {
    "duration": 19,
    "start_time": "2023-02-06T18:50:33.655Z"
   },
   {
    "duration": 8,
    "start_time": "2023-02-06T18:50:33.675Z"
   },
   {
    "duration": 44,
    "start_time": "2023-02-06T18:50:33.684Z"
   },
   {
    "duration": 630,
    "start_time": "2023-02-06T18:50:33.729Z"
   },
   {
    "duration": 542,
    "start_time": "2023-02-06T18:50:34.360Z"
   },
   {
    "duration": 632,
    "start_time": "2023-02-06T18:50:34.904Z"
   },
   {
    "duration": 243,
    "start_time": "2023-02-06T18:50:35.538Z"
   },
   {
    "duration": 395,
    "start_time": "2023-02-06T18:50:35.782Z"
   },
   {
    "duration": 2,
    "start_time": "2023-02-06T18:50:36.179Z"
   },
   {
    "duration": 12,
    "start_time": "2023-02-06T18:50:36.183Z"
   },
   {
    "duration": 275,
    "start_time": "2023-02-06T18:50:36.197Z"
   },
   {
    "duration": 318,
    "start_time": "2023-02-06T18:50:36.473Z"
   },
   {
    "duration": 328,
    "start_time": "2023-02-06T18:50:36.793Z"
   },
   {
    "duration": 583,
    "start_time": "2023-02-06T18:50:37.123Z"
   },
   {
    "duration": 32,
    "start_time": "2023-02-06T18:50:37.709Z"
   },
   {
    "duration": 16,
    "start_time": "2023-02-06T18:50:37.742Z"
   },
   {
    "duration": 13,
    "start_time": "2023-02-06T18:50:37.759Z"
   },
   {
    "duration": 5,
    "start_time": "2023-02-06T18:50:37.773Z"
   },
   {
    "duration": 50,
    "start_time": "2023-02-06T18:50:37.779Z"
   },
   {
    "duration": 18,
    "start_time": "2023-02-06T18:50:37.831Z"
   },
   {
    "duration": 17,
    "start_time": "2023-02-06T18:50:37.851Z"
   },
   {
    "duration": 17,
    "start_time": "2023-02-06T18:50:37.869Z"
   },
   {
    "duration": 23,
    "start_time": "2023-02-06T18:50:37.888Z"
   },
   {
    "duration": 15,
    "start_time": "2023-02-06T18:50:37.912Z"
   },
   {
    "duration": 11,
    "start_time": "2023-02-06T18:50:37.928Z"
   },
   {
    "duration": 3,
    "start_time": "2023-02-06T18:50:37.940Z"
   },
   {
    "duration": 2475,
    "start_time": "2023-02-06T18:50:37.944Z"
   },
   {
    "duration": 3,
    "start_time": "2023-02-06T18:50:40.513Z"
   },
   {
    "duration": 92,
    "start_time": "2023-02-06T18:50:40.518Z"
   },
   {
    "duration": 136,
    "start_time": "2023-02-06T18:50:40.613Z"
   },
   {
    "duration": 52973,
    "start_time": "2023-02-06T18:50:40.751Z"
   },
   {
    "duration": 641446,
    "start_time": "2023-02-06T18:51:43.426Z"
   },
   {
    "duration": 915199,
    "start_time": "2023-02-06T19:03:06.796Z"
   },
   {
    "duration": 46001,
    "start_time": "2023-02-06T19:18:21.997Z"
   },
   {
    "duration": 114325,
    "start_time": "2023-02-06T19:20:05.573Z"
   },
   {
    "duration": 3,
    "start_time": "2023-02-06T19:21:59.900Z"
   },
   {
    "duration": 7,
    "start_time": "2023-02-06T19:21:59.910Z"
   },
   {
    "duration": 42784,
    "start_time": "2023-02-06T19:24:53.288Z"
   },
   {
    "duration": 42332,
    "start_time": "2023-02-06T19:26:26.268Z"
   },
   {
    "duration": 42179,
    "start_time": "2023-02-06T19:27:28.713Z"
   },
   {
    "duration": 121,
    "start_time": "2023-02-06T19:28:41.814Z"
   },
   {
    "duration": 5,
    "start_time": "2023-02-06T19:28:44.499Z"
   },
   {
    "duration": 7,
    "start_time": "2023-02-06T19:29:00.887Z"
   },
   {
    "duration": 9,
    "start_time": "2023-02-06T19:29:21.664Z"
   },
   {
    "duration": 7,
    "start_time": "2023-02-06T19:29:27.663Z"
   },
   {
    "duration": 43113,
    "start_time": "2023-02-06T19:29:53.041Z"
   },
   {
    "duration": 5,
    "start_time": "2023-02-06T19:30:40.701Z"
   },
   {
    "duration": 3,
    "start_time": "2023-02-06T19:30:43.514Z"
   },
   {
    "duration": 6,
    "start_time": "2023-02-06T19:30:52.652Z"
   },
   {
    "duration": 4,
    "start_time": "2023-02-06T19:31:11.187Z"
   },
   {
    "duration": 3,
    "start_time": "2023-02-06T19:32:00.250Z"
   },
   {
    "duration": 5,
    "start_time": "2023-02-06T19:32:42.386Z"
   },
   {
    "duration": 5,
    "start_time": "2023-02-06T19:34:20.814Z"
   },
   {
    "duration": 7,
    "start_time": "2023-02-06T19:34:48.583Z"
   },
   {
    "duration": 6,
    "start_time": "2023-02-06T19:35:01.872Z"
   },
   {
    "duration": 6,
    "start_time": "2023-02-06T19:35:11.017Z"
   },
   {
    "duration": 4,
    "start_time": "2023-02-06T19:36:29.145Z"
   },
   {
    "duration": 4,
    "start_time": "2023-02-06T19:36:44.655Z"
   },
   {
    "duration": 3,
    "start_time": "2023-02-06T19:37:25.819Z"
   },
   {
    "duration": 660,
    "start_time": "2023-02-06T19:37:25.824Z"
   },
   {
    "duration": 24,
    "start_time": "2023-02-06T19:37:26.486Z"
   },
   {
    "duration": 12,
    "start_time": "2023-02-06T19:37:26.512Z"
   },
   {
    "duration": 21,
    "start_time": "2023-02-06T19:37:26.526Z"
   },
   {
    "duration": 15,
    "start_time": "2023-02-06T19:37:26.549Z"
   },
   {
    "duration": 17,
    "start_time": "2023-02-06T19:37:26.565Z"
   },
   {
    "duration": 43,
    "start_time": "2023-02-06T19:37:26.583Z"
   },
   {
    "duration": 6,
    "start_time": "2023-02-06T19:37:26.628Z"
   },
   {
    "duration": 8,
    "start_time": "2023-02-06T19:37:26.635Z"
   },
   {
    "duration": 24,
    "start_time": "2023-02-06T19:37:26.644Z"
   },
   {
    "duration": 19,
    "start_time": "2023-02-06T19:37:26.669Z"
   },
   {
    "duration": 3,
    "start_time": "2023-02-06T19:37:26.690Z"
   },
   {
    "duration": 19,
    "start_time": "2023-02-06T19:37:26.711Z"
   },
   {
    "duration": 10,
    "start_time": "2023-02-06T19:37:26.732Z"
   },
   {
    "duration": 20,
    "start_time": "2023-02-06T19:37:26.744Z"
   },
   {
    "duration": 672,
    "start_time": "2023-02-06T19:37:26.766Z"
   },
   {
    "duration": 523,
    "start_time": "2023-02-06T19:37:27.439Z"
   },
   {
    "duration": 620,
    "start_time": "2023-02-06T19:37:27.964Z"
   },
   {
    "duration": 241,
    "start_time": "2023-02-06T19:37:28.586Z"
   },
   {
    "duration": 441,
    "start_time": "2023-02-06T19:37:28.829Z"
   },
   {
    "duration": 3,
    "start_time": "2023-02-06T19:37:29.271Z"
   },
   {
    "duration": 12,
    "start_time": "2023-02-06T19:37:29.276Z"
   },
   {
    "duration": 279,
    "start_time": "2023-02-06T19:37:29.289Z"
   },
   {
    "duration": 277,
    "start_time": "2023-02-06T19:37:29.570Z"
   },
   {
    "duration": 418,
    "start_time": "2023-02-06T19:37:29.848Z"
   },
   {
    "duration": 473,
    "start_time": "2023-02-06T19:37:30.268Z"
   },
   {
    "duration": 28,
    "start_time": "2023-02-06T19:37:30.743Z"
   },
   {
    "duration": 14,
    "start_time": "2023-02-06T19:37:30.773Z"
   },
   {
    "duration": 27,
    "start_time": "2023-02-06T19:37:30.789Z"
   },
   {
    "duration": 14,
    "start_time": "2023-02-06T19:37:30.817Z"
   },
   {
    "duration": 31,
    "start_time": "2023-02-06T19:37:30.832Z"
   },
   {
    "duration": 27,
    "start_time": "2023-02-06T19:37:30.864Z"
   },
   {
    "duration": 35,
    "start_time": "2023-02-06T19:37:30.893Z"
   },
   {
    "duration": 41,
    "start_time": "2023-02-06T19:37:30.929Z"
   },
   {
    "duration": 29,
    "start_time": "2023-02-06T19:37:30.972Z"
   },
   {
    "duration": 19,
    "start_time": "2023-02-06T19:37:31.002Z"
   },
   {
    "duration": 40,
    "start_time": "2023-02-06T19:37:31.022Z"
   },
   {
    "duration": 26,
    "start_time": "2023-02-06T19:37:31.063Z"
   },
   {
    "duration": 2620,
    "start_time": "2023-02-06T19:37:31.091Z"
   },
   {
    "duration": 4,
    "start_time": "2023-02-06T19:37:33.715Z"
   },
   {
    "duration": 95,
    "start_time": "2023-02-06T19:37:33.720Z"
   },
   {
    "duration": 6,
    "start_time": "2023-02-06T19:37:33.817Z"
   },
   {
    "duration": 52230,
    "start_time": "2023-02-06T19:37:33.824Z"
   },
   {
    "duration": 3,
    "start_time": "2023-02-06T19:38:26.056Z"
   },
   {
    "duration": 8,
    "start_time": "2023-02-06T19:38:26.061Z"
   },
   {
    "duration": 113669,
    "start_time": "2023-02-06T19:38:26.070Z"
   },
   {
    "duration": 3,
    "start_time": "2023-02-06T19:40:19.741Z"
   },
   {
    "duration": 42268,
    "start_time": "2023-02-06T19:40:19.745Z"
   },
   {
    "duration": 7,
    "start_time": "2023-02-06T19:41:02.014Z"
   },
   {
    "duration": 5,
    "start_time": "2023-02-07T14:57:53.248Z"
   },
   {
    "duration": 6,
    "start_time": "2023-02-07T14:58:01.392Z"
   },
   {
    "duration": 41,
    "start_time": "2023-02-07T14:58:11.225Z"
   },
   {
    "duration": 13,
    "start_time": "2023-02-07T14:58:27.793Z"
   },
   {
    "duration": 6,
    "start_time": "2023-02-07T15:00:34.745Z"
   },
   {
    "duration": 8,
    "start_time": "2023-02-07T15:00:43.865Z"
   },
   {
    "duration": 127,
    "start_time": "2023-02-07T15:00:58.805Z"
   },
   {
    "duration": 4,
    "start_time": "2023-02-07T15:01:04.905Z"
   },
   {
    "duration": 4,
    "start_time": "2023-02-07T15:01:42.693Z"
   },
   {
    "duration": 9,
    "start_time": "2023-02-07T15:02:04.553Z"
   },
   {
    "duration": 28,
    "start_time": "2023-02-07T15:02:23.742Z"
   },
   {
    "duration": 8,
    "start_time": "2023-02-07T15:02:36.313Z"
   },
   {
    "duration": 7,
    "start_time": "2023-02-07T17:39:11.479Z"
   },
   {
    "duration": 6,
    "start_time": "2023-02-07T17:39:11.643Z"
   },
   {
    "duration": 3,
    "start_time": "2023-02-07T17:39:11.973Z"
   },
   {
    "duration": 6,
    "start_time": "2023-02-07T17:39:20.818Z"
   },
   {
    "duration": 1560,
    "start_time": "2023-02-07T18:18:07.762Z"
   },
   {
    "duration": 2923,
    "start_time": "2023-02-07T18:18:09.325Z"
   },
   {
    "duration": 27,
    "start_time": "2023-02-07T18:18:12.250Z"
   },
   {
    "duration": 13,
    "start_time": "2023-02-07T18:18:12.279Z"
   },
   {
    "duration": 26,
    "start_time": "2023-02-07T18:18:12.294Z"
   },
   {
    "duration": 37,
    "start_time": "2023-02-07T18:18:12.321Z"
   },
   {
    "duration": 25,
    "start_time": "2023-02-07T18:18:12.360Z"
   },
   {
    "duration": 39,
    "start_time": "2023-02-07T18:18:12.386Z"
   },
   {
    "duration": 8,
    "start_time": "2023-02-07T18:18:12.427Z"
   },
   {
    "duration": 14,
    "start_time": "2023-02-07T18:18:12.437Z"
   },
   {
    "duration": 39,
    "start_time": "2023-02-07T18:18:12.452Z"
   },
   {
    "duration": 14,
    "start_time": "2023-02-07T18:18:12.493Z"
   },
   {
    "duration": 23,
    "start_time": "2023-02-07T18:18:12.508Z"
   },
   {
    "duration": 37,
    "start_time": "2023-02-07T18:18:12.534Z"
   },
   {
    "duration": 29,
    "start_time": "2023-02-07T18:18:12.573Z"
   },
   {
    "duration": 45,
    "start_time": "2023-02-07T18:18:12.604Z"
   },
   {
    "duration": 678,
    "start_time": "2023-02-07T18:18:12.650Z"
   },
   {
    "duration": 637,
    "start_time": "2023-02-07T18:18:13.329Z"
   },
   {
    "duration": 756,
    "start_time": "2023-02-07T18:18:13.968Z"
   },
   {
    "duration": 265,
    "start_time": "2023-02-07T18:18:14.725Z"
   },
   {
    "duration": 470,
    "start_time": "2023-02-07T18:18:14.992Z"
   },
   {
    "duration": 2,
    "start_time": "2023-02-07T18:18:15.464Z"
   },
   {
    "duration": 20,
    "start_time": "2023-02-07T18:18:15.468Z"
   },
   {
    "duration": 324,
    "start_time": "2023-02-07T18:18:15.489Z"
   },
   {
    "duration": 316,
    "start_time": "2023-02-07T18:18:15.814Z"
   },
   {
    "duration": 482,
    "start_time": "2023-02-07T18:18:16.131Z"
   },
   {
    "duration": 564,
    "start_time": "2023-02-07T18:18:16.615Z"
   },
   {
    "duration": 40,
    "start_time": "2023-02-07T18:18:17.181Z"
   },
   {
    "duration": 18,
    "start_time": "2023-02-07T18:18:17.222Z"
   },
   {
    "duration": 25,
    "start_time": "2023-02-07T18:18:17.242Z"
   },
   {
    "duration": 19,
    "start_time": "2023-02-07T18:18:17.269Z"
   },
   {
    "duration": 60,
    "start_time": "2023-02-07T18:18:17.289Z"
   },
   {
    "duration": 20,
    "start_time": "2023-02-07T18:18:17.351Z"
   },
   {
    "duration": 27,
    "start_time": "2023-02-07T18:18:17.372Z"
   },
   {
    "duration": 33,
    "start_time": "2023-02-07T18:18:17.402Z"
   },
   {
    "duration": 30,
    "start_time": "2023-02-07T18:18:17.437Z"
   },
   {
    "duration": 15,
    "start_time": "2023-02-07T18:18:17.469Z"
   },
   {
    "duration": 27,
    "start_time": "2023-02-07T18:18:17.485Z"
   },
   {
    "duration": 30,
    "start_time": "2023-02-07T18:18:17.514Z"
   },
   {
    "duration": 2639,
    "start_time": "2023-02-07T18:18:17.546Z"
   },
   {
    "duration": 89,
    "start_time": "2023-02-07T18:18:20.193Z"
   },
   {
    "duration": 31,
    "start_time": "2023-02-07T18:18:20.285Z"
   },
   {
    "duration": 62,
    "start_time": "2023-02-07T18:18:20.318Z"
   },
   {
    "duration": 43843,
    "start_time": "2023-02-07T18:18:20.382Z"
   },
   {
    "duration": 2,
    "start_time": "2023-02-07T18:19:04.227Z"
   },
   {
    "duration": 32,
    "start_time": "2023-02-07T18:19:04.231Z"
   },
   {
    "duration": 98809,
    "start_time": "2023-02-07T18:19:04.265Z"
   },
   {
    "duration": 4,
    "start_time": "2023-02-07T18:20:43.078Z"
   },
   {
    "duration": 38344,
    "start_time": "2023-02-07T18:20:43.084Z"
   },
   {
    "duration": 4,
    "start_time": "2023-02-07T18:24:16.205Z"
   },
   {
    "duration": 9,
    "start_time": "2023-02-07T18:24:19.355Z"
   },
   {
    "duration": 4,
    "start_time": "2023-02-07T18:26:11.853Z"
   },
   {
    "duration": 9,
    "start_time": "2023-02-07T18:26:13.729Z"
   },
   {
    "duration": 3,
    "start_time": "2023-02-07T18:26:19.911Z"
   },
   {
    "duration": 8,
    "start_time": "2023-02-07T18:26:21.847Z"
   }
  ],
  "kernelspec": {
   "display_name": "Python 3 (ipykernel)",
   "language": "python",
   "name": "python3"
  },
  "language_info": {
   "codemirror_mode": {
    "name": "ipython",
    "version": 3
   },
   "file_extension": ".py",
   "mimetype": "text/x-python",
   "name": "python",
   "nbconvert_exporter": "python",
   "pygments_lexer": "ipython3",
   "version": "3.9.16"
  },
  "toc": {
   "base_numbering": 1,
   "nav_menu": {},
   "number_sections": true,
   "sideBar": true,
   "skip_h1_title": true,
   "title_cell": "Содержание",
   "title_sidebar": "Contents",
   "toc_cell": true,
   "toc_position": {
    "height": "calc(100% - 180px)",
    "left": "10px",
    "top": "150px",
    "width": "338px"
   },
   "toc_section_display": true,
   "toc_window_display": true
  }
 },
 "nbformat": 4,
 "nbformat_minor": 2
}
