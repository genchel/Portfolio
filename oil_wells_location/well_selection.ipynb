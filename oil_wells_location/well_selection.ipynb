{
 "cells": [
  {
   "cell_type": "markdown",
   "metadata": {},
   "source": [
    "# Выбор локации для скважины"
   ]
  },
  {
   "cell_type": "markdown",
   "metadata": {},
   "source": [
    "Задача: Добывающей компании нужно решить, где бурить новую скважину. Разработать модель для анализа и выбора наиболее подходящей скважины, где добыча принесёт наибольшую прибыль. \n",
    "\n",
    "Анализ будем проводить техникой *Bootstrap.*\n",
    "\n",
    "Информация о шагах для выбора локации:\n",
    "- В избранном регионе ищут месторождения, для каждого определяют значения признаков;\n",
    "- Строят модель и оценивают объём запасов;\n",
    "- Выбирают месторождения с самым высокими оценками значений. Количество месторождений зависит от бюджета компании и стоимости разработки одной скважины;\n",
    "- Прибыль равна суммарной прибыли отобранных месторождений."
   ]
  },
  {
   "cell_type": "markdown",
   "metadata": {},
   "source": [
    "**Описание данных** \n",
    "\n",
    "Данные геологоразведки трёх регионов находятся в файлах: \n",
    "- /datasets/geo_data_0.csv \n",
    "- /datasets/geo_data_1.csv\n",
    "- /datasets/geo_data_2.csv\n",
    "\n",
    "Содержание файлов: \n",
    "- id — уникальный идентификатор скважины;\n",
    "- f0, f1, f2 — три признака точек;\n",
    "- product — объём запасов в скважине (тыс. баррелей)."
   ]
  },
  {
   "cell_type": "markdown",
   "metadata": {},
   "source": [
    "## Загрузка и подготовка данных"
   ]
  },
  {
   "cell_type": "code",
   "execution_count": 1,
   "metadata": {},
   "outputs": [],
   "source": [
    "import pandas as pd\n",
    "from sklearn.model_selection import train_test_split\n",
    "from sklearn.preprocessing import StandardScaler\n",
    "from sklearn.linear_model import LinearRegression\n",
    "from sklearn.metrics import mean_squared_error\n",
    "import numpy as np"
   ]
  },
  {
   "cell_type": "code",
   "execution_count": 2,
   "metadata": {},
   "outputs": [
    {
     "name": "stdout",
     "output_type": "stream",
     "text": [
      "Файл 1 успешно загружен!\n",
      "Файл 2 успешно загружен!\n",
      "Файл 3 успешно загружен!\n"
     ]
    }
   ],
   "source": [
    "try:\n",
    "    data1 = pd.read_csv('/datasets/geo_data_0.csv')\n",
    "    print('Файл 1 успешно загружен!')\n",
    "    data2 = pd.read_csv('/datasets/geo_data_1.csv')\n",
    "    print('Файл 2 успешно загружен!')\n",
    "    data3 = pd.read_csv('/datasets/geo_data_2.csv')\n",
    "    print('Файл 3 успешно загружен!')\n",
    "except:\n",
    "    print('Ошибка загрузки...')\n"
   ]
  },
  {
   "cell_type": "markdown",
   "metadata": {},
   "source": [
    "Посмотрим основную информацию по каждому региону."
   ]
  },
  {
   "cell_type": "markdown",
   "metadata": {},
   "source": [
    "Регион №1"
   ]
  },
  {
   "cell_type": "code",
   "execution_count": 3,
   "metadata": {},
   "outputs": [
    {
     "name": "stdout",
     "output_type": "stream",
     "text": [
      "<class 'pandas.core.frame.DataFrame'>\n",
      "RangeIndex: 100000 entries, 0 to 99999\n",
      "Data columns (total 5 columns):\n",
      " #   Column   Non-Null Count   Dtype  \n",
      "---  ------   --------------   -----  \n",
      " 0   id       100000 non-null  object \n",
      " 1   f0       100000 non-null  float64\n",
      " 2   f1       100000 non-null  float64\n",
      " 3   f2       100000 non-null  float64\n",
      " 4   product  100000 non-null  float64\n",
      "dtypes: float64(4), object(1)\n",
      "memory usage: 3.8+ MB\n"
     ]
    }
   ],
   "source": [
    "data1.info()"
   ]
  },
  {
   "cell_type": "code",
   "execution_count": 4,
   "metadata": {},
   "outputs": [
    {
     "data": {
      "text/html": [
       "<div>\n",
       "<style scoped>\n",
       "    .dataframe tbody tr th:only-of-type {\n",
       "        vertical-align: middle;\n",
       "    }\n",
       "\n",
       "    .dataframe tbody tr th {\n",
       "        vertical-align: top;\n",
       "    }\n",
       "\n",
       "    .dataframe thead th {\n",
       "        text-align: right;\n",
       "    }\n",
       "</style>\n",
       "<table border=\"1\" class=\"dataframe\">\n",
       "  <thead>\n",
       "    <tr style=\"text-align: right;\">\n",
       "      <th></th>\n",
       "      <th>id</th>\n",
       "      <th>f0</th>\n",
       "      <th>f1</th>\n",
       "      <th>f2</th>\n",
       "      <th>product</th>\n",
       "    </tr>\n",
       "  </thead>\n",
       "  <tbody>\n",
       "    <tr>\n",
       "      <th>0</th>\n",
       "      <td>txEyH</td>\n",
       "      <td>0.705745</td>\n",
       "      <td>-0.497823</td>\n",
       "      <td>1.221170</td>\n",
       "      <td>105.280062</td>\n",
       "    </tr>\n",
       "    <tr>\n",
       "      <th>1</th>\n",
       "      <td>2acmU</td>\n",
       "      <td>1.334711</td>\n",
       "      <td>-0.340164</td>\n",
       "      <td>4.365080</td>\n",
       "      <td>73.037750</td>\n",
       "    </tr>\n",
       "    <tr>\n",
       "      <th>2</th>\n",
       "      <td>409Wp</td>\n",
       "      <td>1.022732</td>\n",
       "      <td>0.151990</td>\n",
       "      <td>1.419926</td>\n",
       "      <td>85.265647</td>\n",
       "    </tr>\n",
       "    <tr>\n",
       "      <th>3</th>\n",
       "      <td>iJLyR</td>\n",
       "      <td>-0.032172</td>\n",
       "      <td>0.139033</td>\n",
       "      <td>2.978566</td>\n",
       "      <td>168.620776</td>\n",
       "    </tr>\n",
       "    <tr>\n",
       "      <th>4</th>\n",
       "      <td>Xdl7t</td>\n",
       "      <td>1.988431</td>\n",
       "      <td>0.155413</td>\n",
       "      <td>4.751769</td>\n",
       "      <td>154.036647</td>\n",
       "    </tr>\n",
       "  </tbody>\n",
       "</table>\n",
       "</div>"
      ],
      "text/plain": [
       "      id        f0        f1        f2     product\n",
       "0  txEyH  0.705745 -0.497823  1.221170  105.280062\n",
       "1  2acmU  1.334711 -0.340164  4.365080   73.037750\n",
       "2  409Wp  1.022732  0.151990  1.419926   85.265647\n",
       "3  iJLyR -0.032172  0.139033  2.978566  168.620776\n",
       "4  Xdl7t  1.988431  0.155413  4.751769  154.036647"
      ]
     },
     "execution_count": 4,
     "metadata": {},
     "output_type": "execute_result"
    }
   ],
   "source": [
    "data1.head()"
   ]
  },
  {
   "cell_type": "code",
   "execution_count": 5,
   "metadata": {},
   "outputs": [
    {
     "data": {
      "text/html": [
       "<div>\n",
       "<style scoped>\n",
       "    .dataframe tbody tr th:only-of-type {\n",
       "        vertical-align: middle;\n",
       "    }\n",
       "\n",
       "    .dataframe tbody tr th {\n",
       "        vertical-align: top;\n",
       "    }\n",
       "\n",
       "    .dataframe thead th {\n",
       "        text-align: right;\n",
       "    }\n",
       "</style>\n",
       "<table border=\"1\" class=\"dataframe\">\n",
       "  <thead>\n",
       "    <tr style=\"text-align: right;\">\n",
       "      <th></th>\n",
       "      <th>f0</th>\n",
       "      <th>f1</th>\n",
       "      <th>f2</th>\n",
       "      <th>product</th>\n",
       "    </tr>\n",
       "  </thead>\n",
       "  <tbody>\n",
       "    <tr>\n",
       "      <th>count</th>\n",
       "      <td>100000.000000</td>\n",
       "      <td>100000.000000</td>\n",
       "      <td>100000.000000</td>\n",
       "      <td>100000.000000</td>\n",
       "    </tr>\n",
       "    <tr>\n",
       "      <th>mean</th>\n",
       "      <td>0.500419</td>\n",
       "      <td>0.250143</td>\n",
       "      <td>2.502647</td>\n",
       "      <td>92.500000</td>\n",
       "    </tr>\n",
       "    <tr>\n",
       "      <th>std</th>\n",
       "      <td>0.871832</td>\n",
       "      <td>0.504433</td>\n",
       "      <td>3.248248</td>\n",
       "      <td>44.288691</td>\n",
       "    </tr>\n",
       "    <tr>\n",
       "      <th>min</th>\n",
       "      <td>-1.408605</td>\n",
       "      <td>-0.848218</td>\n",
       "      <td>-12.088328</td>\n",
       "      <td>0.000000</td>\n",
       "    </tr>\n",
       "    <tr>\n",
       "      <th>25%</th>\n",
       "      <td>-0.072580</td>\n",
       "      <td>-0.200881</td>\n",
       "      <td>0.287748</td>\n",
       "      <td>56.497507</td>\n",
       "    </tr>\n",
       "    <tr>\n",
       "      <th>50%</th>\n",
       "      <td>0.502360</td>\n",
       "      <td>0.250252</td>\n",
       "      <td>2.515969</td>\n",
       "      <td>91.849972</td>\n",
       "    </tr>\n",
       "    <tr>\n",
       "      <th>75%</th>\n",
       "      <td>1.073581</td>\n",
       "      <td>0.700646</td>\n",
       "      <td>4.715088</td>\n",
       "      <td>128.564089</td>\n",
       "    </tr>\n",
       "    <tr>\n",
       "      <th>max</th>\n",
       "      <td>2.362331</td>\n",
       "      <td>1.343769</td>\n",
       "      <td>16.003790</td>\n",
       "      <td>185.364347</td>\n",
       "    </tr>\n",
       "  </tbody>\n",
       "</table>\n",
       "</div>"
      ],
      "text/plain": [
       "                  f0             f1             f2        product\n",
       "count  100000.000000  100000.000000  100000.000000  100000.000000\n",
       "mean        0.500419       0.250143       2.502647      92.500000\n",
       "std         0.871832       0.504433       3.248248      44.288691\n",
       "min        -1.408605      -0.848218     -12.088328       0.000000\n",
       "25%        -0.072580      -0.200881       0.287748      56.497507\n",
       "50%         0.502360       0.250252       2.515969      91.849972\n",
       "75%         1.073581       0.700646       4.715088     128.564089\n",
       "max         2.362331       1.343769      16.003790     185.364347"
      ]
     },
     "execution_count": 5,
     "metadata": {},
     "output_type": "execute_result"
    }
   ],
   "source": [
    "data1.describe()"
   ]
  },
  {
   "cell_type": "markdown",
   "metadata": {},
   "source": [
    "Регион №2"
   ]
  },
  {
   "cell_type": "code",
   "execution_count": 6,
   "metadata": {},
   "outputs": [
    {
     "name": "stdout",
     "output_type": "stream",
     "text": [
      "<class 'pandas.core.frame.DataFrame'>\n",
      "RangeIndex: 100000 entries, 0 to 99999\n",
      "Data columns (total 5 columns):\n",
      " #   Column   Non-Null Count   Dtype  \n",
      "---  ------   --------------   -----  \n",
      " 0   id       100000 non-null  object \n",
      " 1   f0       100000 non-null  float64\n",
      " 2   f1       100000 non-null  float64\n",
      " 3   f2       100000 non-null  float64\n",
      " 4   product  100000 non-null  float64\n",
      "dtypes: float64(4), object(1)\n",
      "memory usage: 3.8+ MB\n"
     ]
    }
   ],
   "source": [
    "data2.info()"
   ]
  },
  {
   "cell_type": "code",
   "execution_count": 7,
   "metadata": {},
   "outputs": [
    {
     "data": {
      "text/html": [
       "<div>\n",
       "<style scoped>\n",
       "    .dataframe tbody tr th:only-of-type {\n",
       "        vertical-align: middle;\n",
       "    }\n",
       "\n",
       "    .dataframe tbody tr th {\n",
       "        vertical-align: top;\n",
       "    }\n",
       "\n",
       "    .dataframe thead th {\n",
       "        text-align: right;\n",
       "    }\n",
       "</style>\n",
       "<table border=\"1\" class=\"dataframe\">\n",
       "  <thead>\n",
       "    <tr style=\"text-align: right;\">\n",
       "      <th></th>\n",
       "      <th>id</th>\n",
       "      <th>f0</th>\n",
       "      <th>f1</th>\n",
       "      <th>f2</th>\n",
       "      <th>product</th>\n",
       "    </tr>\n",
       "  </thead>\n",
       "  <tbody>\n",
       "    <tr>\n",
       "      <th>0</th>\n",
       "      <td>kBEdx</td>\n",
       "      <td>-15.001348</td>\n",
       "      <td>-8.276000</td>\n",
       "      <td>-0.005876</td>\n",
       "      <td>3.179103</td>\n",
       "    </tr>\n",
       "    <tr>\n",
       "      <th>1</th>\n",
       "      <td>62mP7</td>\n",
       "      <td>14.272088</td>\n",
       "      <td>-3.475083</td>\n",
       "      <td>0.999183</td>\n",
       "      <td>26.953261</td>\n",
       "    </tr>\n",
       "    <tr>\n",
       "      <th>2</th>\n",
       "      <td>vyE1P</td>\n",
       "      <td>6.263187</td>\n",
       "      <td>-5.948386</td>\n",
       "      <td>5.001160</td>\n",
       "      <td>134.766305</td>\n",
       "    </tr>\n",
       "    <tr>\n",
       "      <th>3</th>\n",
       "      <td>KcrkZ</td>\n",
       "      <td>-13.081196</td>\n",
       "      <td>-11.506057</td>\n",
       "      <td>4.999415</td>\n",
       "      <td>137.945408</td>\n",
       "    </tr>\n",
       "    <tr>\n",
       "      <th>4</th>\n",
       "      <td>AHL4O</td>\n",
       "      <td>12.702195</td>\n",
       "      <td>-8.147433</td>\n",
       "      <td>5.004363</td>\n",
       "      <td>134.766305</td>\n",
       "    </tr>\n",
       "  </tbody>\n",
       "</table>\n",
       "</div>"
      ],
      "text/plain": [
       "      id         f0         f1        f2     product\n",
       "0  kBEdx -15.001348  -8.276000 -0.005876    3.179103\n",
       "1  62mP7  14.272088  -3.475083  0.999183   26.953261\n",
       "2  vyE1P   6.263187  -5.948386  5.001160  134.766305\n",
       "3  KcrkZ -13.081196 -11.506057  4.999415  137.945408\n",
       "4  AHL4O  12.702195  -8.147433  5.004363  134.766305"
      ]
     },
     "execution_count": 7,
     "metadata": {},
     "output_type": "execute_result"
    }
   ],
   "source": [
    "data2.head()"
   ]
  },
  {
   "cell_type": "code",
   "execution_count": 8,
   "metadata": {},
   "outputs": [
    {
     "data": {
      "text/html": [
       "<div>\n",
       "<style scoped>\n",
       "    .dataframe tbody tr th:only-of-type {\n",
       "        vertical-align: middle;\n",
       "    }\n",
       "\n",
       "    .dataframe tbody tr th {\n",
       "        vertical-align: top;\n",
       "    }\n",
       "\n",
       "    .dataframe thead th {\n",
       "        text-align: right;\n",
       "    }\n",
       "</style>\n",
       "<table border=\"1\" class=\"dataframe\">\n",
       "  <thead>\n",
       "    <tr style=\"text-align: right;\">\n",
       "      <th></th>\n",
       "      <th>f0</th>\n",
       "      <th>f1</th>\n",
       "      <th>f2</th>\n",
       "      <th>product</th>\n",
       "    </tr>\n",
       "  </thead>\n",
       "  <tbody>\n",
       "    <tr>\n",
       "      <th>count</th>\n",
       "      <td>100000.000000</td>\n",
       "      <td>100000.000000</td>\n",
       "      <td>100000.000000</td>\n",
       "      <td>100000.000000</td>\n",
       "    </tr>\n",
       "    <tr>\n",
       "      <th>mean</th>\n",
       "      <td>1.141296</td>\n",
       "      <td>-4.796579</td>\n",
       "      <td>2.494541</td>\n",
       "      <td>68.825000</td>\n",
       "    </tr>\n",
       "    <tr>\n",
       "      <th>std</th>\n",
       "      <td>8.965932</td>\n",
       "      <td>5.119872</td>\n",
       "      <td>1.703572</td>\n",
       "      <td>45.944423</td>\n",
       "    </tr>\n",
       "    <tr>\n",
       "      <th>min</th>\n",
       "      <td>-31.609576</td>\n",
       "      <td>-26.358598</td>\n",
       "      <td>-0.018144</td>\n",
       "      <td>0.000000</td>\n",
       "    </tr>\n",
       "    <tr>\n",
       "      <th>25%</th>\n",
       "      <td>-6.298551</td>\n",
       "      <td>-8.267985</td>\n",
       "      <td>1.000021</td>\n",
       "      <td>26.953261</td>\n",
       "    </tr>\n",
       "    <tr>\n",
       "      <th>50%</th>\n",
       "      <td>1.153055</td>\n",
       "      <td>-4.813172</td>\n",
       "      <td>2.011479</td>\n",
       "      <td>57.085625</td>\n",
       "    </tr>\n",
       "    <tr>\n",
       "      <th>75%</th>\n",
       "      <td>8.621015</td>\n",
       "      <td>-1.332816</td>\n",
       "      <td>3.999904</td>\n",
       "      <td>107.813044</td>\n",
       "    </tr>\n",
       "    <tr>\n",
       "      <th>max</th>\n",
       "      <td>29.421755</td>\n",
       "      <td>18.734063</td>\n",
       "      <td>5.019721</td>\n",
       "      <td>137.945408</td>\n",
       "    </tr>\n",
       "  </tbody>\n",
       "</table>\n",
       "</div>"
      ],
      "text/plain": [
       "                  f0             f1             f2        product\n",
       "count  100000.000000  100000.000000  100000.000000  100000.000000\n",
       "mean        1.141296      -4.796579       2.494541      68.825000\n",
       "std         8.965932       5.119872       1.703572      45.944423\n",
       "min       -31.609576     -26.358598      -0.018144       0.000000\n",
       "25%        -6.298551      -8.267985       1.000021      26.953261\n",
       "50%         1.153055      -4.813172       2.011479      57.085625\n",
       "75%         8.621015      -1.332816       3.999904     107.813044\n",
       "max        29.421755      18.734063       5.019721     137.945408"
      ]
     },
     "execution_count": 8,
     "metadata": {},
     "output_type": "execute_result"
    }
   ],
   "source": [
    "data2.describe()"
   ]
  },
  {
   "cell_type": "markdown",
   "metadata": {},
   "source": [
    "Регион №3"
   ]
  },
  {
   "cell_type": "code",
   "execution_count": 9,
   "metadata": {},
   "outputs": [
    {
     "name": "stdout",
     "output_type": "stream",
     "text": [
      "<class 'pandas.core.frame.DataFrame'>\n",
      "RangeIndex: 100000 entries, 0 to 99999\n",
      "Data columns (total 5 columns):\n",
      " #   Column   Non-Null Count   Dtype  \n",
      "---  ------   --------------   -----  \n",
      " 0   id       100000 non-null  object \n",
      " 1   f0       100000 non-null  float64\n",
      " 2   f1       100000 non-null  float64\n",
      " 3   f2       100000 non-null  float64\n",
      " 4   product  100000 non-null  float64\n",
      "dtypes: float64(4), object(1)\n",
      "memory usage: 3.8+ MB\n"
     ]
    }
   ],
   "source": [
    "data3.info()"
   ]
  },
  {
   "cell_type": "code",
   "execution_count": 10,
   "metadata": {},
   "outputs": [
    {
     "data": {
      "text/html": [
       "<div>\n",
       "<style scoped>\n",
       "    .dataframe tbody tr th:only-of-type {\n",
       "        vertical-align: middle;\n",
       "    }\n",
       "\n",
       "    .dataframe tbody tr th {\n",
       "        vertical-align: top;\n",
       "    }\n",
       "\n",
       "    .dataframe thead th {\n",
       "        text-align: right;\n",
       "    }\n",
       "</style>\n",
       "<table border=\"1\" class=\"dataframe\">\n",
       "  <thead>\n",
       "    <tr style=\"text-align: right;\">\n",
       "      <th></th>\n",
       "      <th>id</th>\n",
       "      <th>f0</th>\n",
       "      <th>f1</th>\n",
       "      <th>f2</th>\n",
       "      <th>product</th>\n",
       "    </tr>\n",
       "  </thead>\n",
       "  <tbody>\n",
       "    <tr>\n",
       "      <th>0</th>\n",
       "      <td>fwXo0</td>\n",
       "      <td>-1.146987</td>\n",
       "      <td>0.963328</td>\n",
       "      <td>-0.828965</td>\n",
       "      <td>27.758673</td>\n",
       "    </tr>\n",
       "    <tr>\n",
       "      <th>1</th>\n",
       "      <td>WJtFt</td>\n",
       "      <td>0.262778</td>\n",
       "      <td>0.269839</td>\n",
       "      <td>-2.530187</td>\n",
       "      <td>56.069697</td>\n",
       "    </tr>\n",
       "    <tr>\n",
       "      <th>2</th>\n",
       "      <td>ovLUW</td>\n",
       "      <td>0.194587</td>\n",
       "      <td>0.289035</td>\n",
       "      <td>-5.586433</td>\n",
       "      <td>62.871910</td>\n",
       "    </tr>\n",
       "    <tr>\n",
       "      <th>3</th>\n",
       "      <td>q6cA6</td>\n",
       "      <td>2.236060</td>\n",
       "      <td>-0.553760</td>\n",
       "      <td>0.930038</td>\n",
       "      <td>114.572842</td>\n",
       "    </tr>\n",
       "    <tr>\n",
       "      <th>4</th>\n",
       "      <td>WPMUX</td>\n",
       "      <td>-0.515993</td>\n",
       "      <td>1.716266</td>\n",
       "      <td>5.899011</td>\n",
       "      <td>149.600746</td>\n",
       "    </tr>\n",
       "  </tbody>\n",
       "</table>\n",
       "</div>"
      ],
      "text/plain": [
       "      id        f0        f1        f2     product\n",
       "0  fwXo0 -1.146987  0.963328 -0.828965   27.758673\n",
       "1  WJtFt  0.262778  0.269839 -2.530187   56.069697\n",
       "2  ovLUW  0.194587  0.289035 -5.586433   62.871910\n",
       "3  q6cA6  2.236060 -0.553760  0.930038  114.572842\n",
       "4  WPMUX -0.515993  1.716266  5.899011  149.600746"
      ]
     },
     "execution_count": 10,
     "metadata": {},
     "output_type": "execute_result"
    }
   ],
   "source": [
    "data3.head()"
   ]
  },
  {
   "cell_type": "code",
   "execution_count": 11,
   "metadata": {},
   "outputs": [
    {
     "data": {
      "text/html": [
       "<div>\n",
       "<style scoped>\n",
       "    .dataframe tbody tr th:only-of-type {\n",
       "        vertical-align: middle;\n",
       "    }\n",
       "\n",
       "    .dataframe tbody tr th {\n",
       "        vertical-align: top;\n",
       "    }\n",
       "\n",
       "    .dataframe thead th {\n",
       "        text-align: right;\n",
       "    }\n",
       "</style>\n",
       "<table border=\"1\" class=\"dataframe\">\n",
       "  <thead>\n",
       "    <tr style=\"text-align: right;\">\n",
       "      <th></th>\n",
       "      <th>f0</th>\n",
       "      <th>f1</th>\n",
       "      <th>f2</th>\n",
       "      <th>product</th>\n",
       "    </tr>\n",
       "  </thead>\n",
       "  <tbody>\n",
       "    <tr>\n",
       "      <th>count</th>\n",
       "      <td>100000.000000</td>\n",
       "      <td>100000.000000</td>\n",
       "      <td>100000.000000</td>\n",
       "      <td>100000.000000</td>\n",
       "    </tr>\n",
       "    <tr>\n",
       "      <th>mean</th>\n",
       "      <td>0.002023</td>\n",
       "      <td>-0.002081</td>\n",
       "      <td>2.495128</td>\n",
       "      <td>95.000000</td>\n",
       "    </tr>\n",
       "    <tr>\n",
       "      <th>std</th>\n",
       "      <td>1.732045</td>\n",
       "      <td>1.730417</td>\n",
       "      <td>3.473445</td>\n",
       "      <td>44.749921</td>\n",
       "    </tr>\n",
       "    <tr>\n",
       "      <th>min</th>\n",
       "      <td>-8.760004</td>\n",
       "      <td>-7.084020</td>\n",
       "      <td>-11.970335</td>\n",
       "      <td>0.000000</td>\n",
       "    </tr>\n",
       "    <tr>\n",
       "      <th>25%</th>\n",
       "      <td>-1.162288</td>\n",
       "      <td>-1.174820</td>\n",
       "      <td>0.130359</td>\n",
       "      <td>59.450441</td>\n",
       "    </tr>\n",
       "    <tr>\n",
       "      <th>50%</th>\n",
       "      <td>0.009424</td>\n",
       "      <td>-0.009482</td>\n",
       "      <td>2.484236</td>\n",
       "      <td>94.925613</td>\n",
       "    </tr>\n",
       "    <tr>\n",
       "      <th>75%</th>\n",
       "      <td>1.158535</td>\n",
       "      <td>1.163678</td>\n",
       "      <td>4.858794</td>\n",
       "      <td>130.595027</td>\n",
       "    </tr>\n",
       "    <tr>\n",
       "      <th>max</th>\n",
       "      <td>7.238262</td>\n",
       "      <td>7.844801</td>\n",
       "      <td>16.739402</td>\n",
       "      <td>190.029838</td>\n",
       "    </tr>\n",
       "  </tbody>\n",
       "</table>\n",
       "</div>"
      ],
      "text/plain": [
       "                  f0             f1             f2        product\n",
       "count  100000.000000  100000.000000  100000.000000  100000.000000\n",
       "mean        0.002023      -0.002081       2.495128      95.000000\n",
       "std         1.732045       1.730417       3.473445      44.749921\n",
       "min        -8.760004      -7.084020     -11.970335       0.000000\n",
       "25%        -1.162288      -1.174820       0.130359      59.450441\n",
       "50%         0.009424      -0.009482       2.484236      94.925613\n",
       "75%         1.158535       1.163678       4.858794     130.595027\n",
       "max         7.238262       7.844801      16.739402     190.029838"
      ]
     },
     "execution_count": 11,
     "metadata": {},
     "output_type": "execute_result"
    }
   ],
   "source": [
    "data3.describe()"
   ]
  },
  {
   "cell_type": "markdown",
   "metadata": {},
   "source": [
    "Данные полные, пустых значений нет. В каждом регионе данные о 100 тыс. скважен. В данных только количественные признаки, которые достаточно одинаково распределены, следовательно нам не нужно кодирование, но на всякий случай сделаем масштабирование."
   ]
  },
  {
   "cell_type": "markdown",
   "metadata": {},
   "source": [
    "## Обучение и проверка модели"
   ]
  },
  {
   "cell_type": "markdown",
   "metadata": {},
   "source": [
    "### Разобьем данные на обучающую и валидационную выборки в соотношении 75:25"
   ]
  },
  {
   "cell_type": "markdown",
   "metadata": {},
   "source": [
    "Разобьем данные на признаки и целевые признаки. Id скважен для обучения нам не нужны, так что их удалим."
   ]
  },
  {
   "cell_type": "code",
   "execution_count": 12,
   "metadata": {},
   "outputs": [],
   "source": [
    "target1 = data1['product']\n",
    "features1 = data1.drop(['id','product'], axis=1)\n",
    "\n",
    "target2 = data2['product']\n",
    "features2 = data2.drop(['id','product'], axis=1)\n",
    "\n",
    "target3 = data3['product']\n",
    "features3 = data3.drop(['id','product'], axis=1)"
   ]
  },
  {
   "cell_type": "markdown",
   "metadata": {},
   "source": [
    "Разобьем данные на выборки."
   ]
  },
  {
   "cell_type": "code",
   "execution_count": 13,
   "metadata": {
    "scrolled": true
   },
   "outputs": [
    {
     "name": "stdout",
     "output_type": "stream",
     "text": [
      "Размеры выборок 1:\n",
      "Тренировочная 1 (75000, 3)\n",
      "Валидационная 1 (25000, 3)\n",
      "Размеры выборок 2:\n",
      "Тренировочная 2 (75000, 3)\n",
      "Валидационная 2 (25000, 3)\n",
      "Размеры выборок 3:\n",
      "Тренировочная 3 (75000, 3)\n",
      "Валидационная 3 (25000, 3)\n"
     ]
    }
   ],
   "source": [
    "features_train1, features_valid1, target_train1, target_valid1 = train_test_split(\n",
    "    features1, target1, test_size = 0.25, random_state=12345) \n",
    "print('Размеры выборок 1:')\n",
    "print('Тренировочная 1',features_train1.shape)\n",
    "print('Валидационная 1',features_valid1.shape)\n",
    "\n",
    "features_train2, features_valid2, target_train2, target_valid2 = train_test_split(\n",
    "    features2, target2, test_size = 0.25, random_state=12345) \n",
    "print('Размеры выборок 2:')\n",
    "print('Тренировочная 2',features_train2.shape)\n",
    "print('Валидационная 2',features_valid2.shape)\n",
    "\n",
    "features_train3, features_valid3, target_train3, target_valid3 = train_test_split(\n",
    "    features3, target3, test_size = 0.25, random_state=12345) \n",
    "print('Размеры выборок 3:')\n",
    "print('Тренировочная 3',features_train3.shape)\n",
    "print('Валидационная 3',features_valid3.shape)"
   ]
  },
  {
   "cell_type": "markdown",
   "metadata": {},
   "source": [
    "Масштабируем признаки."
   ]
  },
  {
   "cell_type": "code",
   "execution_count": 14,
   "metadata": {},
   "outputs": [
    {
     "data": {
      "text/html": [
       "<div>\n",
       "<style scoped>\n",
       "    .dataframe tbody tr th:only-of-type {\n",
       "        vertical-align: middle;\n",
       "    }\n",
       "\n",
       "    .dataframe tbody tr th {\n",
       "        vertical-align: top;\n",
       "    }\n",
       "\n",
       "    .dataframe thead th {\n",
       "        text-align: right;\n",
       "    }\n",
       "</style>\n",
       "<table border=\"1\" class=\"dataframe\">\n",
       "  <thead>\n",
       "    <tr style=\"text-align: right;\">\n",
       "      <th></th>\n",
       "      <th>f0</th>\n",
       "      <th>f1</th>\n",
       "      <th>f2</th>\n",
       "    </tr>\n",
       "  </thead>\n",
       "  <tbody>\n",
       "    <tr>\n",
       "      <th>27212</th>\n",
       "      <td>0.022450</td>\n",
       "      <td>0.951034</td>\n",
       "      <td>2.197333</td>\n",
       "    </tr>\n",
       "    <tr>\n",
       "      <th>7866</th>\n",
       "      <td>1.766731</td>\n",
       "      <td>0.007835</td>\n",
       "      <td>6.436602</td>\n",
       "    </tr>\n",
       "    <tr>\n",
       "      <th>62041</th>\n",
       "      <td>0.724514</td>\n",
       "      <td>0.666063</td>\n",
       "      <td>1.840177</td>\n",
       "    </tr>\n",
       "    <tr>\n",
       "      <th>70185</th>\n",
       "      <td>-1.104181</td>\n",
       "      <td>0.255268</td>\n",
       "      <td>2.026156</td>\n",
       "    </tr>\n",
       "    <tr>\n",
       "      <th>82230</th>\n",
       "      <td>-0.635263</td>\n",
       "      <td>0.747990</td>\n",
       "      <td>6.643327</td>\n",
       "    </tr>\n",
       "    <tr>\n",
       "      <th>...</th>\n",
       "      <td>...</td>\n",
       "      <td>...</td>\n",
       "      <td>...</td>\n",
       "    </tr>\n",
       "    <tr>\n",
       "      <th>4094</th>\n",
       "      <td>1.863680</td>\n",
       "      <td>-0.298123</td>\n",
       "      <td>1.621324</td>\n",
       "    </tr>\n",
       "    <tr>\n",
       "      <th>85412</th>\n",
       "      <td>-1.162682</td>\n",
       "      <td>-0.014822</td>\n",
       "      <td>6.819941</td>\n",
       "    </tr>\n",
       "    <tr>\n",
       "      <th>2177</th>\n",
       "      <td>0.862688</td>\n",
       "      <td>-0.403776</td>\n",
       "      <td>1.867662</td>\n",
       "    </tr>\n",
       "    <tr>\n",
       "      <th>77285</th>\n",
       "      <td>0.846235</td>\n",
       "      <td>-0.489533</td>\n",
       "      <td>1.058786</td>\n",
       "    </tr>\n",
       "    <tr>\n",
       "      <th>86498</th>\n",
       "      <td>2.019850</td>\n",
       "      <td>0.263887</td>\n",
       "      <td>11.497239</td>\n",
       "    </tr>\n",
       "  </tbody>\n",
       "</table>\n",
       "<p>75000 rows × 3 columns</p>\n",
       "</div>"
      ],
      "text/plain": [
       "             f0        f1         f2\n",
       "27212  0.022450  0.951034   2.197333\n",
       "7866   1.766731  0.007835   6.436602\n",
       "62041  0.724514  0.666063   1.840177\n",
       "70185 -1.104181  0.255268   2.026156\n",
       "82230 -0.635263  0.747990   6.643327\n",
       "...         ...       ...        ...\n",
       "4094   1.863680 -0.298123   1.621324\n",
       "85412 -1.162682 -0.014822   6.819941\n",
       "2177   0.862688 -0.403776   1.867662\n",
       "77285  0.846235 -0.489533   1.058786\n",
       "86498  2.019850  0.263887  11.497239\n",
       "\n",
       "[75000 rows x 3 columns]"
      ]
     },
     "execution_count": 14,
     "metadata": {},
     "output_type": "execute_result"
    }
   ],
   "source": [
    "features_train1"
   ]
  },
  {
   "cell_type": "code",
   "execution_count": 15,
   "metadata": {
    "scrolled": true
   },
   "outputs": [],
   "source": [
    "pd.options.mode.chained_assignment = None\n",
    "numeric = ['f0','f1','f2']\n",
    "\n",
    "scaler = StandardScaler()\n",
    "scaler.fit(features1[numeric])\n",
    "features_train1[numeric] = scaler.transform(features_train1[numeric])\n",
    "features_valid1[numeric] = scaler.transform(features_valid1[numeric])\n",
    "\n",
    "scaler.fit(features2[numeric])\n",
    "features_train2[numeric] = scaler.transform(features_train2[numeric])\n",
    "features_valid2[numeric] = scaler.transform(features_valid2[numeric])\n",
    "\n",
    "scaler.fit(features3)\n",
    "features_train3[numeric] = scaler.transform(features_train3[numeric])\n",
    "features_valid3[numeric] = scaler.transform(features_valid3[numeric])"
   ]
  },
  {
   "cell_type": "markdown",
   "metadata": {},
   "source": [
    "### Обучим модель и сделаем предсказания на валидационной выборке"
   ]
  },
  {
   "cell_type": "markdown",
   "metadata": {},
   "source": [
    "По условию задачи мы используем только линейную регрессию."
   ]
  },
  {
   "cell_type": "code",
   "execution_count": 16,
   "metadata": {},
   "outputs": [
    {
     "data": {
      "text/plain": [
       "LinearRegression()"
      ]
     },
     "execution_count": 16,
     "metadata": {},
     "output_type": "execute_result"
    }
   ],
   "source": [
    "model1 = LinearRegression()\n",
    "model1.fit(features_train1, target_train1)\n",
    "\n",
    "model2 = LinearRegression()\n",
    "model2.fit(features_train2, target_train2)\n",
    "\n",
    "model3 = LinearRegression()\n",
    "model3.fit(features_train3, target_train3)"
   ]
  },
  {
   "cell_type": "markdown",
   "metadata": {},
   "source": [
    "### Сохраним предсказания на валидационной выборке"
   ]
  },
  {
   "cell_type": "code",
   "execution_count": 17,
   "metadata": {},
   "outputs": [],
   "source": [
    "predicted_valid1 = pd.Series(data=model1.predict(features_valid1))\n",
    "predicted_valid2 = pd.Series(data=model2.predict(features_valid2))\n",
    "predicted_valid3 = pd.Series(data=model3.predict(features_valid3))"
   ]
  },
  {
   "cell_type": "markdown",
   "metadata": {},
   "source": [
    "### Средний запас предсказанного сырья и RMSE модели"
   ]
  },
  {
   "cell_type": "code",
   "execution_count": 18,
   "metadata": {},
   "outputs": [
    {
     "name": "stdout",
     "output_type": "stream",
     "text": [
      "Cредний запас в первом регионе: 92.59256778438035\n",
      "RMSE model1: 37.5794217150813\n",
      "\n",
      "Cредний запас в первом регионе: 68.72854689544602\n",
      "RMSE model2: 0.893099286775617\n",
      "\n",
      "Cредний запас в первом регионе: 94.96504596800489\n",
      "RMSE model3: 40.02970873393434\n",
      "\n"
     ]
    }
   ],
   "source": [
    "print('Cредний запас в первом регионе:', predicted_valid1.mean())\n",
    "print('RMSE model1:', mean_squared_error(target_valid1, predicted_valid1)**0.5)\n",
    "print()\n",
    "\n",
    "print('Cредний запас в первом регионе:', predicted_valid2.mean())\n",
    "print('RMSE model2:', mean_squared_error(target_valid2, predicted_valid2)**0.5)\n",
    "print()\n",
    "\n",
    "print('Cредний запас в первом регионе:', predicted_valid3.mean())\n",
    "print('RMSE model3:', mean_squared_error(target_valid3, predicted_valid3)**0.5)\n",
    "print()"
   ]
  },
  {
   "cell_type": "markdown",
   "metadata": {},
   "source": [
    "Проверим модели на адекватность. Сравним работу наших моделей с моделями, предсказывающими среднее.\n"
   ]
  },
  {
   "cell_type": "code",
   "execution_count": 19,
   "metadata": {},
   "outputs": [
    {
     "name": "stdout",
     "output_type": "stream",
     "text": [
      "RMSE model1: 44.2884696928441\n",
      "RMSE model2: 45.94419317228633\n",
      "RMSE model3: 44.74969731878746\n"
     ]
    }
   ],
   "source": [
    "predictions_mean1 = pd.Series(target1.mean(), index=target1.index)\n",
    "print('RMSE model1:', mean_squared_error(target1, predictions_mean1)**0.5)\n",
    "\n",
    "predictions_mean2 = pd.Series(target2.mean(), index=target2.index)\n",
    "print('RMSE model2:', mean_squared_error(target2, predictions_mean2)**0.5)\n",
    "\n",
    "predictions_mean3 = pd.Series(target3.mean(), index=target3.index)\n",
    "print('RMSE model3:', mean_squared_error(target3, predictions_mean3)**0.5)"
   ]
  },
  {
   "cell_type": "markdown",
   "metadata": {},
   "source": [
    "### Вывод"
   ]
  },
  {
   "cell_type": "markdown",
   "metadata": {},
   "source": [
    "Мы подготовили данные, разделили их на целевой и обучающие признаки, обучили три модели для каждого региона, RMSE у них оказалась меньше, чем у константной модели, проверку на адекватность они прошли. "
   ]
  },
  {
   "cell_type": "markdown",
   "metadata": {},
   "source": [
    "## Подготовка к расчёту прибыли"
   ]
  },
  {
   "cell_type": "markdown",
   "metadata": {},
   "source": [
    "### Все ключевые значения для расчётов сохраним в отдельных переменных."
   ]
  },
  {
   "cell_type": "code",
   "execution_count": 24,
   "metadata": {},
   "outputs": [],
   "source": [
    "UNIT_INCOME = 450_000 #доход за единицу продукта\n",
    "REGION_BUDGET = 10_000_000_000 #бюджет для разработки в одном регионе\n",
    "BEST_COUNT = 200 #количество лучших точек, которое нам нужно"
   ]
  },
  {
   "cell_type": "markdown",
   "metadata": {},
   "source": [
    "### Рассчитаем достаточный объём сырья для безубыточной разработки новой скважины. Сравним полученный объём сырья со средним запасом в каждом регионе. "
   ]
  },
  {
   "cell_type": "code",
   "execution_count": 25,
   "metadata": {},
   "outputs": [
    {
     "name": "stdout",
     "output_type": "stream",
     "text": [
      "Достаточный объем продукта для безубыточной точки равен 111.11111111111111 тыс. баррелей\n"
     ]
    }
   ],
   "source": [
    "enough_product = REGION_BUDGET/BEST_COUNT/UNIT_INCOME\n",
    "print('Достаточный объем продукта для безубыточной точки равен',enough_product, 'тыс. баррелей')"
   ]
  },
  {
   "cell_type": "markdown",
   "metadata": {},
   "source": [
    "Средние запасы даже в лучших регионах не дотягивают до 100, но мы ищем лучшие точки."
   ]
  },
  {
   "cell_type": "markdown",
   "metadata": {},
   "source": [
    "### Вывод"
   ]
  },
  {
   "cell_type": "markdown",
   "metadata": {},
   "source": [
    "Мы сохранили все ключевые значение и подготовились к расчету прибыли. "
   ]
  },
  {
   "cell_type": "markdown",
   "metadata": {},
   "source": [
    "## Расчёт прибыли и рисков "
   ]
  },
  {
   "cell_type": "markdown",
   "metadata": {},
   "source": [
    "### Напишем функцию для расчёта прибыли по выбранным скважинам и предсказаниям модели"
   ]
  },
  {
   "cell_type": "code",
   "execution_count": 22,
   "metadata": {},
   "outputs": [],
   "source": [
    "def revenue(predicted, target):\n",
    "    target = target.reset_index(drop=True)\n",
    "    predicted = predicted.sort_values(ascending=False)[:BEST_COUNT]\n",
    "    rez = UNIT_INCOME*sum(target.loc[predicted.index]) - REGION_BUDGET\n",
    "    return rez"
   ]
  },
  {
   "cell_type": "markdown",
   "metadata": {},
   "source": [
    "### Посчитаем риски и прибыль для каждого региона"
   ]
  },
  {
   "cell_type": "code",
   "execution_count": 23,
   "metadata": {
    "scrolled": true
   },
   "outputs": [
    {
     "name": "stdout",
     "output_type": "stream",
     "text": [
      "Средняя прибыль 200 лучших точек первого региона: 384260328.7812565\n",
      "95% интервал: -148694265.84742263 909153837.0354805\n",
      "Риски: 8.3 %\n",
      "\n",
      "Средняя прибыль 200 лучших точек второго региона: 455016071.7470537\n",
      "95% интервал: 48072046.16942068 848709853.4682904\n",
      "Риски: 1.5 %\n",
      "\n",
      "Средняя прибыль 200 лучших точек третьего региона: 380893248.2818159\n",
      "95% интервал: -146453456.04119882 945355944.8165586\n",
      "Риски: 9.0 %\n",
      "\n"
     ]
    }
   ],
   "source": [
    "values1 = []\n",
    "values2 = []\n",
    "values3 = []\n",
    "state = np.random.RandomState(12345)\n",
    "for i in range(1000):\n",
    "    subsample1 = predicted_valid1.sample(n = 500, replace=True, random_state=state)\n",
    "    values1.append(revenue(subsample1, target_valid1))\n",
    "    \n",
    "    subsample2 = predicted_valid2.sample(n = 500, replace=True, random_state=state)\n",
    "    values2.append(revenue(subsample2, target_valid2))\n",
    "    \n",
    "    subsample3 = predicted_valid3.sample(n = 500, replace=True, random_state=state)\n",
    "    values3.append(revenue(subsample3, target_valid3))\n",
    "\n",
    "values1 = pd.Series(values1)\n",
    "lower1 = values1.quantile(0.025) \n",
    "upper1 = values1.quantile(0.975) \n",
    "print('Средняя прибыль 200 лучших точек первого региона:', values1.mean())\n",
    "print('95% интервал:',lower1, upper1)\n",
    "print('Риски:', 100*(values1<0).mean(), '%') # считаем долю отрицательных среди 200 лучших\n",
    "print()\n",
    "\n",
    "values2 = pd.Series(values2)\n",
    "lower2 = values2.quantile(0.025) \n",
    "upper2 = values2.quantile(0.975) \n",
    "print('Средняя прибыль 200 лучших точек второго региона:', values2.mean())\n",
    "print('95% интервал:',lower2, upper2)\n",
    "print('Риски:', 100*(values2<0).mean(), '%')\n",
    "print()\n",
    "\n",
    "values3 = pd.Series(values3)\n",
    "lower3 = values3.quantile(0.025) \n",
    "upper3 = values3.quantile(0.975) \n",
    "print('Средняя прибыль 200 лучших точек третьего региона:', values3.mean())\n",
    "print('95% интервал:',lower3, upper3)\n",
    "print('Риски:', 100*(values3<0).mean(), '%')\n",
    "print()"
   ]
  },
  {
   "cell_type": "markdown",
   "metadata": {},
   "source": [
    "### Вывод"
   ]
  },
  {
   "cell_type": "markdown",
   "metadata": {},
   "source": [
    "По нашим подсчетам вышло, что наиболее безопасным по убыткам и прибыльным регионом является Регион №2. Его средняя прибыль 455 млн, а 95% значений прибыли попадают в интервал 48 тыс. - 848 млн. рублей. Риск убытка составляет 1.5%. \n",
    "\n",
    "Для улучшения проекта (для избежания ошибок и если регионов будет больше) следуюет написать отдельные фукции для избегания повторов кусков кода. "
   ]
  }
 ],
 "metadata": {
  "ExecuteTimeLog": [
   {
    "duration": 402,
    "start_time": "2023-01-27T17:50:54.717Z"
   },
   {
    "duration": 869,
    "start_time": "2023-01-27T18:24:35.030Z"
   },
   {
    "duration": 15,
    "start_time": "2023-01-27T18:24:47.026Z"
   },
   {
    "duration": 9,
    "start_time": "2023-01-27T18:25:56.037Z"
   },
   {
    "duration": 9,
    "start_time": "2023-01-27T18:26:01.275Z"
   },
   {
    "duration": 15,
    "start_time": "2023-01-27T18:26:08.850Z"
   },
   {
    "duration": 15,
    "start_time": "2023-01-27T18:27:49.573Z"
   },
   {
    "duration": 13,
    "start_time": "2023-01-27T18:27:53.471Z"
   },
   {
    "duration": 13,
    "start_time": "2023-01-27T18:42:18.063Z"
   },
   {
    "duration": 9,
    "start_time": "2023-01-27T18:45:01.089Z"
   },
   {
    "duration": 14,
    "start_time": "2023-01-27T18:45:44.616Z"
   },
   {
    "duration": 10,
    "start_time": "2023-01-27T18:45:46.690Z"
   },
   {
    "duration": 9,
    "start_time": "2023-01-27T18:45:48.466Z"
   },
   {
    "duration": 14,
    "start_time": "2023-01-27T18:45:49.263Z"
   },
   {
    "duration": 102,
    "start_time": "2023-01-27T18:55:50.397Z"
   },
   {
    "duration": 72,
    "start_time": "2023-01-27T18:56:05.270Z"
   },
   {
    "duration": 537,
    "start_time": "2023-01-27T18:56:53.497Z"
   },
   {
    "duration": 28,
    "start_time": "2023-01-27T18:56:59.992Z"
   },
   {
    "duration": 156,
    "start_time": "2023-01-27T18:57:10.647Z"
   },
   {
    "duration": 165,
    "start_time": "2023-01-27T18:57:19.622Z"
   },
   {
    "duration": 400,
    "start_time": "2023-01-27T18:57:28.367Z"
   },
   {
    "duration": 392,
    "start_time": "2023-01-27T18:57:34.276Z"
   },
   {
    "duration": 299,
    "start_time": "2023-01-27T18:57:37.596Z"
   },
   {
    "duration": 29,
    "start_time": "2023-01-27T18:57:52.299Z"
   },
   {
    "duration": 405,
    "start_time": "2023-01-27T18:57:56.211Z"
   },
   {
    "duration": 16,
    "start_time": "2023-01-27T19:17:57.606Z"
   },
   {
    "duration": 12,
    "start_time": "2023-01-27T19:18:03.608Z"
   },
   {
    "duration": 13,
    "start_time": "2023-01-27T19:18:06.463Z"
   },
   {
    "duration": 1531,
    "start_time": "2023-01-27T19:18:09.089Z"
   },
   {
    "duration": 10,
    "start_time": "2023-01-27T19:18:15.223Z"
   },
   {
    "duration": 10,
    "start_time": "2023-01-27T19:18:18.699Z"
   },
   {
    "duration": 17,
    "start_time": "2023-01-27T19:18:26.454Z"
   },
   {
    "duration": 11,
    "start_time": "2023-01-27T19:18:30.245Z"
   },
   {
    "duration": 10,
    "start_time": "2023-01-27T19:18:32.807Z"
   },
   {
    "duration": 37,
    "start_time": "2023-01-27T19:23:38.284Z"
   },
   {
    "duration": 14,
    "start_time": "2023-01-27T19:23:48.555Z"
   },
   {
    "duration": 36,
    "start_time": "2023-01-27T19:23:58.809Z"
   },
   {
    "duration": 37,
    "start_time": "2023-01-27T19:24:24.569Z"
   },
   {
    "duration": 38,
    "start_time": "2023-01-27T19:24:31.713Z"
   },
   {
    "duration": 7,
    "start_time": "2023-01-27T19:33:56.713Z"
   },
   {
    "duration": 11,
    "start_time": "2023-01-27T19:34:08.213Z"
   },
   {
    "duration": 6,
    "start_time": "2023-01-27T19:34:13.845Z"
   },
   {
    "duration": 8,
    "start_time": "2023-01-27T19:45:48.640Z"
   },
   {
    "duration": 768,
    "start_time": "2023-01-27T19:46:16.122Z"
   },
   {
    "duration": 11,
    "start_time": "2023-01-27T19:46:26.284Z"
   },
   {
    "duration": 53,
    "start_time": "2023-01-27T19:46:28.407Z"
   },
   {
    "duration": 15,
    "start_time": "2023-01-27T19:46:37.220Z"
   },
   {
    "duration": 13,
    "start_time": "2023-01-27T19:47:01.076Z"
   },
   {
    "duration": 31,
    "start_time": "2023-01-27T19:47:58.310Z"
   },
   {
    "duration": 28,
    "start_time": "2023-01-27T19:52:14.600Z"
   },
   {
    "duration": 5,
    "start_time": "2023-01-27T19:52:25.478Z"
   },
   {
    "duration": 1105,
    "start_time": "2023-01-27T19:52:57.652Z"
   },
   {
    "duration": 436,
    "start_time": "2023-01-27T19:52:58.760Z"
   },
   {
    "duration": 15,
    "start_time": "2023-01-27T19:52:59.198Z"
   },
   {
    "duration": 26,
    "start_time": "2023-01-27T19:52:59.215Z"
   },
   {
    "duration": 51,
    "start_time": "2023-01-27T19:52:59.242Z"
   },
   {
    "duration": 13,
    "start_time": "2023-01-27T19:52:59.294Z"
   },
   {
    "duration": 8,
    "start_time": "2023-01-27T19:52:59.309Z"
   },
   {
    "duration": 58,
    "start_time": "2023-01-27T19:52:59.318Z"
   },
   {
    "duration": 14,
    "start_time": "2023-01-27T19:52:59.380Z"
   },
   {
    "duration": 9,
    "start_time": "2023-01-27T19:52:59.396Z"
   },
   {
    "duration": 51,
    "start_time": "2023-01-27T19:52:59.406Z"
   },
   {
    "duration": 11,
    "start_time": "2023-01-27T19:52:59.459Z"
   },
   {
    "duration": 39,
    "start_time": "2023-01-27T19:53:07.872Z"
   },
   {
    "duration": 9,
    "start_time": "2023-01-27T19:53:14.181Z"
   },
   {
    "duration": 13,
    "start_time": "2023-01-27T19:55:22.063Z"
   },
   {
    "duration": 64,
    "start_time": "2023-01-27T19:57:11.907Z"
   },
   {
    "duration": 11,
    "start_time": "2023-01-27T19:57:17.074Z"
   },
   {
    "duration": 22,
    "start_time": "2023-01-27T20:06:15.184Z"
   },
   {
    "duration": 108,
    "start_time": "2023-01-27T20:11:49.746Z"
   },
   {
    "duration": 27,
    "start_time": "2023-01-27T20:13:59.488Z"
   },
   {
    "duration": 13,
    "start_time": "2023-01-27T20:15:27.335Z"
   },
   {
    "duration": 10,
    "start_time": "2023-01-27T20:15:33.079Z"
   },
   {
    "duration": 14,
    "start_time": "2023-01-27T20:18:15.202Z"
   },
   {
    "duration": 9,
    "start_time": "2023-01-27T20:32:28.394Z"
   },
   {
    "duration": 6,
    "start_time": "2023-01-27T20:32:52.917Z"
   },
   {
    "duration": 3,
    "start_time": "2023-01-27T20:33:40.417Z"
   },
   {
    "duration": 8,
    "start_time": "2023-01-27T20:34:57.192Z"
   },
   {
    "duration": 8,
    "start_time": "2023-01-27T20:41:57.236Z"
   },
   {
    "duration": 7,
    "start_time": "2023-01-27T20:43:41.410Z"
   },
   {
    "duration": 8,
    "start_time": "2023-01-27T20:43:47.041Z"
   },
   {
    "duration": 1163,
    "start_time": "2023-01-27T20:43:55.985Z"
   },
   {
    "duration": 517,
    "start_time": "2023-01-27T20:43:57.150Z"
   },
   {
    "duration": 28,
    "start_time": "2023-01-27T20:43:57.669Z"
   },
   {
    "duration": 21,
    "start_time": "2023-01-27T20:43:57.699Z"
   },
   {
    "duration": 70,
    "start_time": "2023-01-27T20:43:57.721Z"
   },
   {
    "duration": 13,
    "start_time": "2023-01-27T20:43:57.793Z"
   },
   {
    "duration": 16,
    "start_time": "2023-01-27T20:43:57.807Z"
   },
   {
    "duration": 68,
    "start_time": "2023-01-27T20:43:57.824Z"
   },
   {
    "duration": 18,
    "start_time": "2023-01-27T20:43:57.894Z"
   },
   {
    "duration": 21,
    "start_time": "2023-01-27T20:43:57.914Z"
   },
   {
    "duration": 65,
    "start_time": "2023-01-27T20:43:57.936Z"
   },
   {
    "duration": 9,
    "start_time": "2023-01-27T20:43:58.003Z"
   },
   {
    "duration": 49,
    "start_time": "2023-01-27T20:43:58.013Z"
   },
   {
    "duration": 56,
    "start_time": "2023-01-27T20:43:58.064Z"
   },
   {
    "duration": 60,
    "start_time": "2023-01-27T20:43:58.122Z"
   },
   {
    "duration": 14,
    "start_time": "2023-01-27T20:43:58.186Z"
   },
   {
    "duration": 11,
    "start_time": "2023-01-27T20:44:00.271Z"
   },
   {
    "duration": 119,
    "start_time": "2023-01-27T20:46:25.019Z"
   },
   {
    "duration": 8,
    "start_time": "2023-01-27T20:48:07.457Z"
   },
   {
    "duration": 12,
    "start_time": "2023-01-27T20:48:55.813Z"
   },
   {
    "duration": 16,
    "start_time": "2023-01-27T20:52:22.722Z"
   },
   {
    "duration": 10,
    "start_time": "2023-01-27T20:52:59.156Z"
   },
   {
    "duration": 90,
    "start_time": "2023-01-27T21:07:51.921Z"
   },
   {
    "duration": 3,
    "start_time": "2023-01-27T21:31:20.971Z"
   },
   {
    "duration": 2,
    "start_time": "2023-01-27T21:33:03.286Z"
   },
   {
    "duration": 9,
    "start_time": "2023-01-27T21:53:21.633Z"
   },
   {
    "duration": 10,
    "start_time": "2023-01-27T21:53:26.581Z"
   },
   {
    "duration": 3,
    "start_time": "2023-01-27T21:53:29.111Z"
   },
   {
    "duration": 5,
    "start_time": "2023-01-27T21:53:32.030Z"
   },
   {
    "duration": 4,
    "start_time": "2023-01-27T21:53:35.066Z"
   },
   {
    "duration": 4,
    "start_time": "2023-01-27T21:54:42.297Z"
   },
   {
    "duration": 4,
    "start_time": "2023-01-27T21:55:10.775Z"
   },
   {
    "duration": 4,
    "start_time": "2023-01-27T21:56:53.180Z"
   },
   {
    "duration": 70,
    "start_time": "2023-01-28T17:34:06.748Z"
   },
   {
    "duration": 2,
    "start_time": "2023-01-28T17:40:32.380Z"
   },
   {
    "duration": 1017,
    "start_time": "2023-01-28T17:40:38.984Z"
   },
   {
    "duration": 1185,
    "start_time": "2023-01-28T17:40:40.003Z"
   },
   {
    "duration": 13,
    "start_time": "2023-01-28T17:40:41.190Z"
   },
   {
    "duration": 41,
    "start_time": "2023-01-28T17:40:41.205Z"
   },
   {
    "duration": 50,
    "start_time": "2023-01-28T17:40:41.249Z"
   },
   {
    "duration": 13,
    "start_time": "2023-01-28T17:40:41.301Z"
   },
   {
    "duration": 41,
    "start_time": "2023-01-28T17:40:41.315Z"
   },
   {
    "duration": 55,
    "start_time": "2023-01-28T17:40:41.358Z"
   },
   {
    "duration": 11,
    "start_time": "2023-01-28T17:40:41.414Z"
   },
   {
    "duration": 42,
    "start_time": "2023-01-28T17:40:41.428Z"
   },
   {
    "duration": 80,
    "start_time": "2023-01-28T17:40:41.471Z"
   },
   {
    "duration": 16,
    "start_time": "2023-01-28T17:40:41.553Z"
   },
   {
    "duration": 85,
    "start_time": "2023-01-28T17:40:41.570Z"
   },
   {
    "duration": 62,
    "start_time": "2023-01-28T17:40:41.657Z"
   },
   {
    "duration": 29,
    "start_time": "2023-01-28T17:40:41.721Z"
   },
   {
    "duration": 12,
    "start_time": "2023-01-28T17:40:41.751Z"
   },
   {
    "duration": 194,
    "start_time": "2023-01-28T17:40:41.764Z"
   },
   {
    "duration": 12,
    "start_time": "2023-01-28T17:40:41.960Z"
   },
   {
    "duration": 3,
    "start_time": "2023-01-28T17:40:41.973Z"
   },
   {
    "duration": 5,
    "start_time": "2023-01-28T17:40:41.978Z"
   },
   {
    "duration": 2,
    "start_time": "2023-01-28T17:40:43.724Z"
   },
   {
    "duration": 100,
    "start_time": "2023-01-28T17:40:45.708Z"
   },
   {
    "duration": 3,
    "start_time": "2023-01-28T17:40:57.276Z"
   },
   {
    "duration": 11,
    "start_time": "2023-01-28T17:40:59.219Z"
   },
   {
    "duration": 6,
    "start_time": "2023-01-28T17:41:04.936Z"
   },
   {
    "duration": 10,
    "start_time": "2023-01-28T17:41:07.560Z"
   },
   {
    "duration": 4,
    "start_time": "2023-01-28T17:41:46.557Z"
   },
   {
    "duration": 3,
    "start_time": "2023-01-28T17:42:47.456Z"
   },
   {
    "duration": 12,
    "start_time": "2023-01-28T17:42:49.548Z"
   },
   {
    "duration": 3,
    "start_time": "2023-01-28T17:43:30.488Z"
   },
   {
    "duration": 4,
    "start_time": "2023-01-28T17:43:32.583Z"
   },
   {
    "duration": 4,
    "start_time": "2023-01-28T17:43:34.721Z"
   },
   {
    "duration": 2,
    "start_time": "2023-01-28T17:43:38.408Z"
   },
   {
    "duration": 2,
    "start_time": "2023-01-28T17:43:39.663Z"
   },
   {
    "duration": 4,
    "start_time": "2023-01-28T17:43:42.674Z"
   },
   {
    "duration": 2,
    "start_time": "2023-01-28T17:43:44.124Z"
   },
   {
    "duration": 4,
    "start_time": "2023-01-28T17:44:02.712Z"
   },
   {
    "duration": 8,
    "start_time": "2023-01-28T17:44:10.496Z"
   },
   {
    "duration": 4,
    "start_time": "2023-01-28T17:44:15.064Z"
   },
   {
    "duration": 6,
    "start_time": "2023-01-28T17:44:22.728Z"
   },
   {
    "duration": 9,
    "start_time": "2023-01-28T17:46:09.580Z"
   },
   {
    "duration": 5,
    "start_time": "2023-01-28T17:46:26.315Z"
   },
   {
    "duration": 7,
    "start_time": "2023-01-28T17:46:53.435Z"
   },
   {
    "duration": 4,
    "start_time": "2023-01-28T17:46:55.815Z"
   },
   {
    "duration": 4,
    "start_time": "2023-01-28T17:47:20.823Z"
   },
   {
    "duration": 3,
    "start_time": "2023-01-28T17:47:31.621Z"
   },
   {
    "duration": 5,
    "start_time": "2023-01-28T17:47:35.093Z"
   },
   {
    "duration": 4,
    "start_time": "2023-01-28T17:47:51.709Z"
   },
   {
    "duration": 1020,
    "start_time": "2023-01-28T17:48:08.847Z"
   },
   {
    "duration": 338,
    "start_time": "2023-01-28T17:48:09.869Z"
   },
   {
    "duration": 14,
    "start_time": "2023-01-28T17:48:10.208Z"
   },
   {
    "duration": 30,
    "start_time": "2023-01-28T17:48:10.223Z"
   },
   {
    "duration": 34,
    "start_time": "2023-01-28T17:48:10.256Z"
   },
   {
    "duration": 12,
    "start_time": "2023-01-28T17:48:10.292Z"
   },
   {
    "duration": 8,
    "start_time": "2023-01-28T17:48:10.305Z"
   },
   {
    "duration": 63,
    "start_time": "2023-01-28T17:48:10.315Z"
   },
   {
    "duration": 15,
    "start_time": "2023-01-28T17:48:10.380Z"
   },
   {
    "duration": 9,
    "start_time": "2023-01-28T17:48:10.396Z"
   },
   {
    "duration": 50,
    "start_time": "2023-01-28T17:48:10.406Z"
   },
   {
    "duration": 7,
    "start_time": "2023-01-28T17:48:10.457Z"
   },
   {
    "duration": 37,
    "start_time": "2023-01-28T17:48:10.465Z"
   },
   {
    "duration": 68,
    "start_time": "2023-01-28T17:48:10.505Z"
   },
   {
    "duration": 21,
    "start_time": "2023-01-28T17:48:10.575Z"
   },
   {
    "duration": 58,
    "start_time": "2023-01-28T17:48:10.597Z"
   },
   {
    "duration": 102,
    "start_time": "2023-01-28T17:48:10.657Z"
   },
   {
    "duration": 5,
    "start_time": "2023-01-28T17:48:10.760Z"
   },
   {
    "duration": 14,
    "start_time": "2023-01-28T17:48:10.766Z"
   },
   {
    "duration": 3,
    "start_time": "2023-01-28T17:48:10.781Z"
   },
   {
    "duration": 17,
    "start_time": "2023-01-28T17:48:10.785Z"
   },
   {
    "duration": 4,
    "start_time": "2023-01-28T17:48:12.112Z"
   },
   {
    "duration": 3,
    "start_time": "2023-01-28T17:49:06.148Z"
   },
   {
    "duration": 97,
    "start_time": "2023-01-28T17:49:08.651Z"
   },
   {
    "duration": 8,
    "start_time": "2023-01-28T17:49:28.066Z"
   },
   {
    "duration": 3,
    "start_time": "2023-01-28T17:49:31.609Z"
   },
   {
    "duration": 3,
    "start_time": "2023-01-28T17:49:40.348Z"
   },
   {
    "duration": 10,
    "start_time": "2023-01-28T17:49:42.432Z"
   },
   {
    "duration": 3,
    "start_time": "2023-01-28T17:50:56.091Z"
   },
   {
    "duration": 14,
    "start_time": "2023-01-28T17:50:58.563Z"
   },
   {
    "duration": 4,
    "start_time": "2023-01-28T17:52:44.896Z"
   },
   {
    "duration": 4,
    "start_time": "2023-01-28T17:52:48.566Z"
   },
   {
    "duration": 3,
    "start_time": "2023-01-28T17:53:07.518Z"
   },
   {
    "duration": 3,
    "start_time": "2023-01-28T17:53:16.558Z"
   },
   {
    "duration": 6,
    "start_time": "2023-01-28T17:53:22.415Z"
   },
   {
    "duration": 2,
    "start_time": "2023-01-28T17:53:35.015Z"
   },
   {
    "duration": 7,
    "start_time": "2023-01-28T17:53:36.919Z"
   },
   {
    "duration": 2,
    "start_time": "2023-01-28T17:53:49.672Z"
   },
   {
    "duration": 4,
    "start_time": "2023-01-28T17:53:51.767Z"
   },
   {
    "duration": 3,
    "start_time": "2023-01-28T17:54:41.288Z"
   },
   {
    "duration": 4,
    "start_time": "2023-01-28T17:54:42.913Z"
   },
   {
    "duration": 3,
    "start_time": "2023-01-28T17:54:51.433Z"
   },
   {
    "duration": 2,
    "start_time": "2023-01-28T17:54:54.361Z"
   },
   {
    "duration": 5,
    "start_time": "2023-01-28T17:54:56.489Z"
   },
   {
    "duration": 3,
    "start_time": "2023-01-28T17:55:12.049Z"
   },
   {
    "duration": 4,
    "start_time": "2023-01-28T17:55:19.108Z"
   },
   {
    "duration": 96,
    "start_time": "2023-01-28T17:56:42.196Z"
   },
   {
    "duration": 3,
    "start_time": "2023-01-28T17:56:45.764Z"
   },
   {
    "duration": 7,
    "start_time": "2023-01-28T17:56:48.780Z"
   },
   {
    "duration": 4,
    "start_time": "2023-01-28T17:57:23.065Z"
   },
   {
    "duration": 6,
    "start_time": "2023-01-28T17:57:30.650Z"
   },
   {
    "duration": 3,
    "start_time": "2023-01-28T17:57:59.382Z"
   },
   {
    "duration": 16,
    "start_time": "2023-01-28T17:58:01.631Z"
   },
   {
    "duration": 2,
    "start_time": "2023-01-28T18:12:49.770Z"
   },
   {
    "duration": 8,
    "start_time": "2023-01-28T18:12:52.603Z"
   },
   {
    "duration": 3,
    "start_time": "2023-01-28T18:13:16.100Z"
   },
   {
    "duration": 7,
    "start_time": "2023-01-28T18:13:18.064Z"
   },
   {
    "duration": 3,
    "start_time": "2023-01-28T18:14:06.681Z"
   },
   {
    "duration": 7,
    "start_time": "2023-01-28T18:14:10.576Z"
   },
   {
    "duration": 75,
    "start_time": "2023-01-28T18:14:38.474Z"
   },
   {
    "duration": 6,
    "start_time": "2023-01-28T18:14:40.467Z"
   },
   {
    "duration": 7,
    "start_time": "2023-01-28T18:14:59.127Z"
   },
   {
    "duration": 2,
    "start_time": "2023-01-28T18:15:01.587Z"
   },
   {
    "duration": 16,
    "start_time": "2023-01-28T18:15:03.432Z"
   },
   {
    "duration": 4,
    "start_time": "2023-01-28T18:15:12.703Z"
   },
   {
    "duration": 6,
    "start_time": "2023-01-28T18:15:14.621Z"
   },
   {
    "duration": 1085,
    "start_time": "2023-01-28T18:15:25.717Z"
   },
   {
    "duration": 381,
    "start_time": "2023-01-28T18:15:26.804Z"
   },
   {
    "duration": 19,
    "start_time": "2023-01-28T18:15:27.187Z"
   },
   {
    "duration": 16,
    "start_time": "2023-01-28T18:15:27.208Z"
   },
   {
    "duration": 48,
    "start_time": "2023-01-28T18:15:27.226Z"
   },
   {
    "duration": 13,
    "start_time": "2023-01-28T18:15:27.275Z"
   },
   {
    "duration": 10,
    "start_time": "2023-01-28T18:15:27.289Z"
   },
   {
    "duration": 53,
    "start_time": "2023-01-28T18:15:27.301Z"
   },
   {
    "duration": 14,
    "start_time": "2023-01-28T18:15:27.356Z"
   },
   {
    "duration": 9,
    "start_time": "2023-01-28T18:15:27.371Z"
   },
   {
    "duration": 61,
    "start_time": "2023-01-28T18:15:27.381Z"
   },
   {
    "duration": 10,
    "start_time": "2023-01-28T18:15:27.443Z"
   },
   {
    "duration": 40,
    "start_time": "2023-01-28T18:15:27.455Z"
   },
   {
    "duration": 68,
    "start_time": "2023-01-28T18:15:27.499Z"
   },
   {
    "duration": 24,
    "start_time": "2023-01-28T18:15:27.569Z"
   },
   {
    "duration": 62,
    "start_time": "2023-01-28T18:15:27.594Z"
   },
   {
    "duration": 98,
    "start_time": "2023-01-28T18:15:27.661Z"
   },
   {
    "duration": 107,
    "start_time": "2023-01-28T18:15:27.760Z"
   },
   {
    "duration": 17,
    "start_time": "2023-01-28T18:15:27.868Z"
   },
   {
    "duration": 2,
    "start_time": "2023-01-28T18:15:27.887Z"
   },
   {
    "duration": 9,
    "start_time": "2023-01-28T18:15:27.891Z"
   },
   {
    "duration": 5,
    "start_time": "2023-01-28T18:15:27.902Z"
   },
   {
    "duration": 8,
    "start_time": "2023-01-28T18:15:27.909Z"
   },
   {
    "duration": 3,
    "start_time": "2023-01-28T18:16:00.227Z"
   },
   {
    "duration": 6,
    "start_time": "2023-01-28T18:16:03.196Z"
   },
   {
    "duration": 3,
    "start_time": "2023-01-28T18:16:10.780Z"
   },
   {
    "duration": 7,
    "start_time": "2023-01-28T18:16:13.660Z"
   },
   {
    "duration": 3,
    "start_time": "2023-01-28T18:16:25.965Z"
   },
   {
    "duration": 7,
    "start_time": "2023-01-28T18:16:27.909Z"
   },
   {
    "duration": 3,
    "start_time": "2023-01-28T18:16:32.829Z"
   },
   {
    "duration": 7,
    "start_time": "2023-01-28T18:16:35.093Z"
   },
   {
    "duration": 3,
    "start_time": "2023-01-28T18:22:29.863Z"
   },
   {
    "duration": 105,
    "start_time": "2023-01-28T18:22:37.296Z"
   },
   {
    "duration": 2,
    "start_time": "2023-01-28T18:26:53.315Z"
   },
   {
    "duration": 18,
    "start_time": "2023-01-28T18:26:54.949Z"
   },
   {
    "duration": 3,
    "start_time": "2023-01-28T18:27:40.867Z"
   },
   {
    "duration": 22,
    "start_time": "2023-01-28T18:27:42.328Z"
   },
   {
    "duration": 9,
    "start_time": "2023-01-28T18:39:21.924Z"
   },
   {
    "duration": 4,
    "start_time": "2023-01-28T18:40:21.118Z"
   },
   {
    "duration": 22,
    "start_time": "2023-01-28T18:40:23.037Z"
   },
   {
    "duration": 3,
    "start_time": "2023-01-28T18:50:35.248Z"
   },
   {
    "duration": 17,
    "start_time": "2023-01-28T18:50:37.489Z"
   },
   {
    "duration": 3,
    "start_time": "2023-01-28T18:52:10.497Z"
   },
   {
    "duration": 9,
    "start_time": "2023-01-28T18:52:14.349Z"
   },
   {
    "duration": 4,
    "start_time": "2023-01-28T18:52:29.729Z"
   },
   {
    "duration": 8,
    "start_time": "2023-01-28T18:52:31.648Z"
   },
   {
    "duration": 3,
    "start_time": "2023-01-28T18:52:41.800Z"
   },
   {
    "duration": 6,
    "start_time": "2023-01-28T18:52:43.512Z"
   },
   {
    "duration": 3,
    "start_time": "2023-01-28T18:55:12.016Z"
   },
   {
    "duration": 6,
    "start_time": "2023-01-28T18:55:14.262Z"
   },
   {
    "duration": 3,
    "start_time": "2023-01-28T18:55:47.919Z"
   },
   {
    "duration": 6,
    "start_time": "2023-01-28T18:55:49.503Z"
   },
   {
    "duration": 4,
    "start_time": "2023-01-28T18:57:23.251Z"
   },
   {
    "duration": 7,
    "start_time": "2023-01-28T18:57:25.349Z"
   },
   {
    "duration": 5,
    "start_time": "2023-01-28T18:58:04.833Z"
   },
   {
    "duration": 6,
    "start_time": "2023-01-28T18:58:06.793Z"
   },
   {
    "duration": 9,
    "start_time": "2023-01-28T19:10:26.780Z"
   },
   {
    "duration": 9,
    "start_time": "2023-01-28T19:17:08.255Z"
   },
   {
    "duration": 102,
    "start_time": "2023-01-28T19:18:54.235Z"
   },
   {
    "duration": 9,
    "start_time": "2023-01-28T19:18:57.244Z"
   },
   {
    "duration": 4,
    "start_time": "2023-01-28T19:19:25.080Z"
   },
   {
    "duration": 9,
    "start_time": "2023-01-28T19:19:27.127Z"
   },
   {
    "duration": 692,
    "start_time": "2023-01-28T19:19:59.237Z"
   },
   {
    "duration": 687,
    "start_time": "2023-01-28T19:20:06.821Z"
   },
   {
    "duration": 690,
    "start_time": "2023-01-28T19:20:24.163Z"
   },
   {
    "duration": 696,
    "start_time": "2023-01-28T19:20:36.259Z"
   },
   {
    "duration": 723,
    "start_time": "2023-01-28T19:20:51.833Z"
   },
   {
    "duration": 11,
    "start_time": "2023-01-28T19:22:26.362Z"
   },
   {
    "duration": 9,
    "start_time": "2023-01-28T19:22:29.373Z"
   },
   {
    "duration": 13,
    "start_time": "2023-01-28T19:22:34.822Z"
   },
   {
    "duration": 8,
    "start_time": "2023-01-28T19:22:36.981Z"
   },
   {
    "duration": 9,
    "start_time": "2023-01-28T19:22:46.349Z"
   },
   {
    "duration": 11,
    "start_time": "2023-01-28T19:23:12.460Z"
   },
   {
    "duration": 2316,
    "start_time": "2023-01-28T19:37:00.773Z"
   },
   {
    "duration": 2271,
    "start_time": "2023-01-28T19:40:24.060Z"
   },
   {
    "duration": 2212,
    "start_time": "2023-01-28T19:40:47.872Z"
   },
   {
    "duration": 2273,
    "start_time": "2023-01-28T19:54:54.856Z"
   },
   {
    "duration": 2200,
    "start_time": "2023-01-28T20:00:07.569Z"
   },
   {
    "duration": 2213,
    "start_time": "2023-01-28T20:02:24.560Z"
   },
   {
    "duration": 2332,
    "start_time": "2023-01-28T20:13:33.469Z"
   },
   {
    "duration": 2362,
    "start_time": "2023-01-28T20:14:00.692Z"
   },
   {
    "duration": 2331,
    "start_time": "2023-01-28T20:14:14.056Z"
   },
   {
    "duration": 2671,
    "start_time": "2023-01-28T20:14:34.365Z"
   },
   {
    "duration": 2207,
    "start_time": "2023-01-28T20:17:49.297Z"
   },
   {
    "duration": 2273,
    "start_time": "2023-01-28T20:18:17.329Z"
   },
   {
    "duration": 2494,
    "start_time": "2023-01-28T20:18:56.572Z"
   },
   {
    "duration": 2329,
    "start_time": "2023-01-28T20:23:11.792Z"
   },
   {
    "duration": 2224,
    "start_time": "2023-01-28T20:23:45.564Z"
   },
   {
    "duration": 2186,
    "start_time": "2023-01-28T20:26:56.998Z"
   },
   {
    "duration": 1138,
    "start_time": "2023-01-28T20:27:11.970Z"
   },
   {
    "duration": 400,
    "start_time": "2023-01-28T20:27:13.110Z"
   },
   {
    "duration": 15,
    "start_time": "2023-01-28T20:27:13.512Z"
   },
   {
    "duration": 32,
    "start_time": "2023-01-28T20:27:13.529Z"
   },
   {
    "duration": 45,
    "start_time": "2023-01-28T20:27:13.563Z"
   },
   {
    "duration": 12,
    "start_time": "2023-01-28T20:27:13.609Z"
   },
   {
    "duration": 13,
    "start_time": "2023-01-28T20:27:13.622Z"
   },
   {
    "duration": 68,
    "start_time": "2023-01-28T20:27:13.636Z"
   },
   {
    "duration": 13,
    "start_time": "2023-01-28T20:27:13.706Z"
   },
   {
    "duration": 8,
    "start_time": "2023-01-28T20:27:13.720Z"
   },
   {
    "duration": 44,
    "start_time": "2023-01-28T20:27:13.729Z"
   },
   {
    "duration": 9,
    "start_time": "2023-01-28T20:27:13.775Z"
   },
   {
    "duration": 39,
    "start_time": "2023-01-28T20:27:13.785Z"
   },
   {
    "duration": 60,
    "start_time": "2023-01-28T20:27:13.826Z"
   },
   {
    "duration": 19,
    "start_time": "2023-01-28T20:27:13.888Z"
   },
   {
    "duration": 129,
    "start_time": "2023-01-28T20:27:13.909Z"
   },
   {
    "duration": 103,
    "start_time": "2023-01-28T20:27:14.040Z"
   },
   {
    "duration": 30,
    "start_time": "2023-01-28T20:27:14.145Z"
   },
   {
    "duration": 3,
    "start_time": "2023-01-28T20:27:14.176Z"
   },
   {
    "duration": 8,
    "start_time": "2023-01-28T20:27:14.180Z"
   },
   {
    "duration": 8,
    "start_time": "2023-01-28T20:27:14.189Z"
   },
   {
    "duration": 2242,
    "start_time": "2023-01-28T20:27:14.198Z"
   },
   {
    "duration": 11,
    "start_time": "2023-01-28T20:34:55.003Z"
   },
   {
    "duration": 4,
    "start_time": "2023-01-28T20:35:27.980Z"
   },
   {
    "duration": 75,
    "start_time": "2023-01-29T10:47:53.401Z"
   },
   {
    "duration": 1184,
    "start_time": "2023-01-29T10:48:00.202Z"
   },
   {
    "duration": 978,
    "start_time": "2023-01-29T10:48:01.389Z"
   },
   {
    "duration": 17,
    "start_time": "2023-01-29T10:48:02.369Z"
   },
   {
    "duration": 31,
    "start_time": "2023-01-29T10:48:02.388Z"
   },
   {
    "duration": 66,
    "start_time": "2023-01-29T10:48:02.421Z"
   },
   {
    "duration": 17,
    "start_time": "2023-01-29T10:48:02.489Z"
   },
   {
    "duration": 12,
    "start_time": "2023-01-29T10:48:02.509Z"
   },
   {
    "duration": 42,
    "start_time": "2023-01-29T10:48:02.541Z"
   },
   {
    "duration": 23,
    "start_time": "2023-01-29T10:48:02.586Z"
   },
   {
    "duration": 30,
    "start_time": "2023-01-29T10:48:02.612Z"
   },
   {
    "duration": 60,
    "start_time": "2023-01-29T10:48:02.644Z"
   },
   {
    "duration": 9,
    "start_time": "2023-01-29T10:48:02.705Z"
   },
   {
    "duration": 59,
    "start_time": "2023-01-29T10:48:02.716Z"
   },
   {
    "duration": 99,
    "start_time": "2023-01-29T10:48:02.777Z"
   },
   {
    "duration": 0,
    "start_time": "2023-01-29T10:48:02.878Z"
   },
   {
    "duration": 0,
    "start_time": "2023-01-29T10:48:02.879Z"
   },
   {
    "duration": 0,
    "start_time": "2023-01-29T10:48:02.880Z"
   },
   {
    "duration": 0,
    "start_time": "2023-01-29T10:48:02.881Z"
   },
   {
    "duration": 0,
    "start_time": "2023-01-29T10:48:02.883Z"
   },
   {
    "duration": 0,
    "start_time": "2023-01-29T10:48:02.888Z"
   },
   {
    "duration": 0,
    "start_time": "2023-01-29T10:48:02.890Z"
   },
   {
    "duration": 0,
    "start_time": "2023-01-29T10:48:02.892Z"
   },
   {
    "duration": 39,
    "start_time": "2023-01-29T10:48:20.440Z"
   },
   {
    "duration": 39,
    "start_time": "2023-01-29T10:49:01.403Z"
   },
   {
    "duration": 58,
    "start_time": "2023-01-29T10:49:45.361Z"
   },
   {
    "duration": 68,
    "start_time": "2023-01-29T10:49:56.559Z"
   },
   {
    "duration": 25,
    "start_time": "2023-01-29T10:50:38.864Z"
   },
   {
    "duration": 43,
    "start_time": "2023-01-29T10:51:24.411Z"
   },
   {
    "duration": 25,
    "start_time": "2023-01-29T10:51:32.421Z"
   },
   {
    "duration": 28,
    "start_time": "2023-01-29T10:51:43.938Z"
   },
   {
    "duration": 74,
    "start_time": "2023-01-29T10:51:53.874Z"
   },
   {
    "duration": 45,
    "start_time": "2023-01-29T10:52:41.229Z"
   },
   {
    "duration": 1187,
    "start_time": "2023-01-29T10:53:01.934Z"
   },
   {
    "duration": 454,
    "start_time": "2023-01-29T10:53:03.123Z"
   },
   {
    "duration": 18,
    "start_time": "2023-01-29T10:53:03.579Z"
   },
   {
    "duration": 22,
    "start_time": "2023-01-29T10:53:03.599Z"
   },
   {
    "duration": 59,
    "start_time": "2023-01-29T10:53:03.639Z"
   },
   {
    "duration": 23,
    "start_time": "2023-01-29T10:53:03.701Z"
   },
   {
    "duration": 19,
    "start_time": "2023-01-29T10:53:03.726Z"
   },
   {
    "duration": 57,
    "start_time": "2023-01-29T10:53:03.747Z"
   },
   {
    "duration": 23,
    "start_time": "2023-01-29T10:53:03.806Z"
   },
   {
    "duration": 15,
    "start_time": "2023-01-29T10:53:03.831Z"
   },
   {
    "duration": 68,
    "start_time": "2023-01-29T10:53:03.850Z"
   },
   {
    "duration": 11,
    "start_time": "2023-01-29T10:53:03.920Z"
   },
   {
    "duration": 61,
    "start_time": "2023-01-29T10:53:03.933Z"
   },
   {
    "duration": 155,
    "start_time": "2023-01-29T10:53:09.551Z"
   },
   {
    "duration": 38,
    "start_time": "2023-01-29T10:53:18.002Z"
   },
   {
    "duration": 73,
    "start_time": "2023-01-29T10:53:26.227Z"
   },
   {
    "duration": 606,
    "start_time": "2023-01-29T10:54:09.088Z"
   },
   {
    "duration": 32,
    "start_time": "2023-01-29T10:54:50.948Z"
   },
   {
    "duration": 15,
    "start_time": "2023-01-29T10:55:17.265Z"
   },
   {
    "duration": 45,
    "start_time": "2023-01-29T10:55:37.873Z"
   },
   {
    "duration": 63,
    "start_time": "2023-01-29T10:56:02.849Z"
   },
   {
    "duration": 63,
    "start_time": "2023-01-29T10:56:19.845Z"
   },
   {
    "duration": 51,
    "start_time": "2023-01-29T10:56:40.377Z"
   },
   {
    "duration": 62,
    "start_time": "2023-01-29T10:56:45.795Z"
   },
   {
    "duration": 53,
    "start_time": "2023-01-29T10:58:09.836Z"
   },
   {
    "duration": 1211,
    "start_time": "2023-01-29T10:59:22.353Z"
   },
   {
    "duration": 392,
    "start_time": "2023-01-29T10:59:23.566Z"
   },
   {
    "duration": 18,
    "start_time": "2023-01-29T10:59:23.960Z"
   },
   {
    "duration": 18,
    "start_time": "2023-01-29T10:59:23.980Z"
   },
   {
    "duration": 66,
    "start_time": "2023-01-29T10:59:24.000Z"
   },
   {
    "duration": 15,
    "start_time": "2023-01-29T10:59:24.067Z"
   },
   {
    "duration": 10,
    "start_time": "2023-01-29T10:59:24.084Z"
   },
   {
    "duration": 62,
    "start_time": "2023-01-29T10:59:24.096Z"
   },
   {
    "duration": 16,
    "start_time": "2023-01-29T10:59:24.159Z"
   },
   {
    "duration": 11,
    "start_time": "2023-01-29T10:59:24.177Z"
   },
   {
    "duration": 63,
    "start_time": "2023-01-29T10:59:24.190Z"
   },
   {
    "duration": 8,
    "start_time": "2023-01-29T10:59:24.255Z"
   },
   {
    "duration": 57,
    "start_time": "2023-01-29T10:59:24.266Z"
   },
   {
    "duration": 18,
    "start_time": "2023-01-29T10:59:24.326Z"
   },
   {
    "duration": 50,
    "start_time": "2023-01-29T10:59:24.346Z"
   },
   {
    "duration": 24,
    "start_time": "2023-01-29T10:59:24.398Z"
   },
   {
    "duration": 100,
    "start_time": "2023-01-29T10:59:24.440Z"
   },
   {
    "duration": 97,
    "start_time": "2023-01-29T10:59:24.543Z"
   },
   {
    "duration": 17,
    "start_time": "2023-01-29T10:59:24.642Z"
   },
   {
    "duration": 3,
    "start_time": "2023-01-29T10:59:24.661Z"
   },
   {
    "duration": 11,
    "start_time": "2023-01-29T10:59:24.666Z"
   },
   {
    "duration": 7,
    "start_time": "2023-01-29T10:59:24.678Z"
   },
   {
    "duration": 2341,
    "start_time": "2023-01-29T10:59:24.687Z"
   },
   {
    "duration": 1362,
    "start_time": "2023-01-29T11:04:59.032Z"
   },
   {
    "duration": 395,
    "start_time": "2023-01-29T11:05:00.396Z"
   },
   {
    "duration": 19,
    "start_time": "2023-01-29T11:05:00.793Z"
   },
   {
    "duration": 39,
    "start_time": "2023-01-29T11:05:00.813Z"
   },
   {
    "duration": 66,
    "start_time": "2023-01-29T11:05:00.856Z"
   },
   {
    "duration": 37,
    "start_time": "2023-01-29T11:05:00.924Z"
   },
   {
    "duration": 52,
    "start_time": "2023-01-29T11:05:00.963Z"
   },
   {
    "duration": 114,
    "start_time": "2023-01-29T11:05:01.016Z"
   },
   {
    "duration": 64,
    "start_time": "2023-01-29T11:05:01.132Z"
   },
   {
    "duration": 54,
    "start_time": "2023-01-29T11:05:01.198Z"
   },
   {
    "duration": 96,
    "start_time": "2023-01-29T11:05:01.255Z"
   },
   {
    "duration": 10,
    "start_time": "2023-01-29T11:05:01.353Z"
   },
   {
    "duration": 171,
    "start_time": "2023-01-29T11:05:01.365Z"
   },
   {
    "duration": 32,
    "start_time": "2023-01-29T11:05:01.538Z"
   },
   {
    "duration": 188,
    "start_time": "2023-01-29T11:05:01.572Z"
   },
   {
    "duration": 29,
    "start_time": "2023-01-29T11:05:01.762Z"
   },
   {
    "duration": 250,
    "start_time": "2023-01-29T11:05:01.793Z"
   },
   {
    "duration": 91,
    "start_time": "2023-01-29T11:05:02.054Z"
   },
   {
    "duration": 38,
    "start_time": "2023-01-29T11:05:02.149Z"
   },
   {
    "duration": 14,
    "start_time": "2023-01-29T11:05:02.190Z"
   },
   {
    "duration": 47,
    "start_time": "2023-01-29T11:05:02.205Z"
   },
   {
    "duration": 55,
    "start_time": "2023-01-29T11:05:02.259Z"
   },
   {
    "duration": 2489,
    "start_time": "2023-01-29T11:05:02.316Z"
   },
   {
    "duration": 4,
    "start_time": "2023-01-29T11:05:27.190Z"
   },
   {
    "duration": 4,
    "start_time": "2023-01-29T11:05:30.122Z"
   }
  ],
  "kernelspec": {
   "display_name": "Python 3 (ipykernel)",
   "language": "python",
   "name": "python3"
  },
  "language_info": {
   "codemirror_mode": {
    "name": "ipython",
    "version": 3
   },
   "file_extension": ".py",
   "mimetype": "text/x-python",
   "name": "python",
   "nbconvert_exporter": "python",
   "pygments_lexer": "ipython3",
   "version": "3.9.16"
  },
  "toc": {
   "base_numbering": 1,
   "nav_menu": {},
   "number_sections": true,
   "sideBar": true,
   "skip_h1_title": true,
   "title_cell": "Table of Contents",
   "title_sidebar": "Contents",
   "toc_cell": false,
   "toc_position": {
    "height": "calc(100% - 180px)",
    "left": "10px",
    "top": "150px",
    "width": "348px"
   },
   "toc_section_display": true,
   "toc_window_display": true
  }
 },
 "nbformat": 4,
 "nbformat_minor": 2
}
