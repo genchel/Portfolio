{
 "cells": [
  {
   "cell_type": "markdown",
   "metadata": {
    "toc": true
   },
   "source": [
    "<h1>Содержание<span class=\"tocSkip\"></span></h1>\n",
    "<div class=\"toc\"><ul class=\"toc-item\"><li><span><a href=\"#Подготовка\" data-toc-modified-id=\"Подготовка-1\"><span class=\"toc-item-num\">1&nbsp;&nbsp;</span>Подготовка</a></span></li><li><span><a href=\"#Анализ\" data-toc-modified-id=\"Анализ-2\"><span class=\"toc-item-num\">2&nbsp;&nbsp;</span>Анализ</a></span></li><li><span><a href=\"#Обучение\" data-toc-modified-id=\"Обучение-3\"><span class=\"toc-item-num\">3&nbsp;&nbsp;</span>Обучение</a></span><ul class=\"toc-item\"><li><span><a href=\"#Функция-подбора-окна-скользящего-среднего--и-количества-отстающих-признаков-и-функция-для-разбиения-и-масштабирования-признаков\" data-toc-modified-id=\"Функция-подбора-окна-скользящего-среднего--и-количества-отстающих-признаков-и-функция-для-разбиения-и-масштабирования-признаков-3.1\"><span class=\"toc-item-num\">3.1&nbsp;&nbsp;</span>Функция подбора окна скользящего среднего  и количества отстающих признаков и функция для разбиения и масштабирования признаков</a></span></li><li><span><a href=\"#LightGBM\" data-toc-modified-id=\"LightGBM-3.2\"><span class=\"toc-item-num\">3.2&nbsp;&nbsp;</span>LightGBM</a></span></li><li><span><a href=\"#RandomForestRegressor\" data-toc-modified-id=\"RandomForestRegressor-3.3\"><span class=\"toc-item-num\">3.3&nbsp;&nbsp;</span>RandomForestRegressor</a></span></li><li><span><a href=\"#CatBoost\" data-toc-modified-id=\"CatBoost-3.4\"><span class=\"toc-item-num\">3.4&nbsp;&nbsp;</span>CatBoost</a></span></li><li><span><a href=\"#Выбор-модели\" data-toc-modified-id=\"Выбор-модели-3.5\"><span class=\"toc-item-num\">3.5&nbsp;&nbsp;</span>Выбор модели</a></span></li></ul></li><li><span><a href=\"#Тестирование\" data-toc-modified-id=\"Тестирование-4\"><span class=\"toc-item-num\">4&nbsp;&nbsp;</span>Тестирование</a></span></li></ul></div>"
   ]
  },
  {
   "cell_type": "markdown",
   "metadata": {},
   "source": [
    "#  Прогнозирование заказов такси"
   ]
  },
  {
   "cell_type": "markdown",
   "metadata": {},
   "source": [
    "Задача: Чтобы привлекать больше водителей в период пиковой нагрузки, нужно спрогнозировать количество заказов такси на следующий час. Построим модель для такого предсказания. Значение метрики *RMSE* на тестовой выборке должно быть не больше 48.\n",
    "\n",
    "План:\n",
    "\n",
    "1. Загрузить данные и выполнить их ресемплирование по одному часу.\n",
    "2. Проанализировать данные.\n",
    "3. Обучить разные модели с различными гиперпараметрами. Сделать тестовую выборку размером 10% от исходных данных.\n",
    "4. Проверить данные на тестовой выборке."
   ]
  },
  {
   "cell_type": "markdown",
   "metadata": {},
   "source": [
    "## Подготовка"
   ]
  },
  {
   "cell_type": "code",
   "execution_count": 1,
   "metadata": {},
   "outputs": [],
   "source": [
    "import pandas as pd\n",
    "from sklearn.metrics import mean_squared_error\n",
    "from sklearn.model_selection import train_test_split\n",
    "from sklearn.ensemble import RandomForestRegressor\n",
    "from catboost import CatBoostRegressor\n",
    "from lightgbm import LGBMRegressor\n",
    "from sklearn.preprocessing import StandardScaler\n",
    "from statsmodels.tsa.seasonal import seasonal_decompose\n",
    "import matplotlib.pyplot as plt\n",
    "from sklearn.model_selection import GridSearchCV\n",
    "from sklearn.model_selection import TimeSeriesSplit\n",
    "from sklearn.model_selection import cross_val_score\n",
    "from sklearn.metrics import make_scorer "
   ]
  },
  {
   "cell_type": "code",
   "execution_count": 2,
   "metadata": {},
   "outputs": [],
   "source": [
    "try:\n",
    "    data = pd.read_csv('/datasets/taxi.csv', index_col=[0], parse_dates=[0])\n",
    "    print('Файл успешно загружен!')\n",
    "except:\n",
    "    print('Ошибка загрузки файла ...')"
   ]
  },
  {
   "cell_type": "markdown",
   "metadata": {},
   "source": [
    "Мы загрузили данные, даты убрали в индексы. Сделаем ресемплирование по одному часу."
   ]
  },
  {
   "cell_type": "code",
   "execution_count": 3,
   "metadata": {
    "scrolled": true
   },
   "outputs": [
    {
     "data": {
      "text/html": [
       "<div>\n",
       "<style scoped>\n",
       "    .dataframe tbody tr th:only-of-type {\n",
       "        vertical-align: middle;\n",
       "    }\n",
       "\n",
       "    .dataframe tbody tr th {\n",
       "        vertical-align: top;\n",
       "    }\n",
       "\n",
       "    .dataframe thead th {\n",
       "        text-align: right;\n",
       "    }\n",
       "</style>\n",
       "<table border=\"1\" class=\"dataframe\">\n",
       "  <thead>\n",
       "    <tr style=\"text-align: right;\">\n",
       "      <th></th>\n",
       "      <th>num_orders</th>\n",
       "    </tr>\n",
       "    <tr>\n",
       "      <th>datetime</th>\n",
       "      <th></th>\n",
       "    </tr>\n",
       "  </thead>\n",
       "  <tbody>\n",
       "    <tr>\n",
       "      <th>2018-03-01 00:00:00</th>\n",
       "      <td>124</td>\n",
       "    </tr>\n",
       "    <tr>\n",
       "      <th>2018-03-01 01:00:00</th>\n",
       "      <td>85</td>\n",
       "    </tr>\n",
       "    <tr>\n",
       "      <th>2018-03-01 02:00:00</th>\n",
       "      <td>71</td>\n",
       "    </tr>\n",
       "    <tr>\n",
       "      <th>2018-03-01 03:00:00</th>\n",
       "      <td>66</td>\n",
       "    </tr>\n",
       "    <tr>\n",
       "      <th>2018-03-01 04:00:00</th>\n",
       "      <td>43</td>\n",
       "    </tr>\n",
       "    <tr>\n",
       "      <th>...</th>\n",
       "      <td>...</td>\n",
       "    </tr>\n",
       "    <tr>\n",
       "      <th>2018-08-31 19:00:00</th>\n",
       "      <td>136</td>\n",
       "    </tr>\n",
       "    <tr>\n",
       "      <th>2018-08-31 20:00:00</th>\n",
       "      <td>154</td>\n",
       "    </tr>\n",
       "    <tr>\n",
       "      <th>2018-08-31 21:00:00</th>\n",
       "      <td>159</td>\n",
       "    </tr>\n",
       "    <tr>\n",
       "      <th>2018-08-31 22:00:00</th>\n",
       "      <td>223</td>\n",
       "    </tr>\n",
       "    <tr>\n",
       "      <th>2018-08-31 23:00:00</th>\n",
       "      <td>205</td>\n",
       "    </tr>\n",
       "  </tbody>\n",
       "</table>\n",
       "<p>4416 rows × 1 columns</p>\n",
       "</div>"
      ],
      "text/plain": [
       "                     num_orders\n",
       "datetime                       \n",
       "2018-03-01 00:00:00         124\n",
       "2018-03-01 01:00:00          85\n",
       "2018-03-01 02:00:00          71\n",
       "2018-03-01 03:00:00          66\n",
       "2018-03-01 04:00:00          43\n",
       "...                         ...\n",
       "2018-08-31 19:00:00         136\n",
       "2018-08-31 20:00:00         154\n",
       "2018-08-31 21:00:00         159\n",
       "2018-08-31 22:00:00         223\n",
       "2018-08-31 23:00:00         205\n",
       "\n",
       "[4416 rows x 1 columns]"
      ]
     },
     "execution_count": 3,
     "metadata": {},
     "output_type": "execute_result"
    }
   ],
   "source": [
    "data = data.resample('1H').sum()\n",
    "data"
   ]
  },
  {
   "cell_type": "code",
   "execution_count": 4,
   "metadata": {},
   "outputs": [
    {
     "name": "stdout",
     "output_type": "stream",
     "text": [
      "<class 'pandas.core.frame.DataFrame'>\n",
      "DatetimeIndex: 4416 entries, 2018-03-01 00:00:00 to 2018-08-31 23:00:00\n",
      "Freq: H\n",
      "Data columns (total 1 columns):\n",
      " #   Column      Non-Null Count  Dtype\n",
      "---  ------      --------------  -----\n",
      " 0   num_orders  4416 non-null   int64\n",
      "dtypes: int64(1)\n",
      "memory usage: 69.0 KB\n"
     ]
    }
   ],
   "source": [
    "data.info()"
   ]
  },
  {
   "cell_type": "markdown",
   "metadata": {},
   "source": [
    "## Анализ"
   ]
  },
  {
   "cell_type": "markdown",
   "metadata": {},
   "source": [
    "Проверим точно ли данные расположены в хронологическом порядке."
   ]
  },
  {
   "cell_type": "code",
   "execution_count": 5,
   "metadata": {},
   "outputs": [
    {
     "data": {
      "text/plain": [
       "True"
      ]
     },
     "execution_count": 5,
     "metadata": {},
     "output_type": "execute_result"
    }
   ],
   "source": [
    "data.index.is_monotonic"
   ]
  },
  {
   "cell_type": "markdown",
   "metadata": {},
   "source": [
    "Декомпозируем данные на тренд и сезонность. Сначала для всех данных."
   ]
  },
  {
   "cell_type": "code",
   "execution_count": 6,
   "metadata": {},
   "outputs": [],
   "source": [
    "decomposed = seasonal_decompose(data)"
   ]
  },
  {
   "cell_type": "code",
   "execution_count": 7,
   "metadata": {},
   "outputs": [
    {
     "data": {
      "image/png": "[encoded data removed]",
      "text/plain": [
       "<Figure size 576x576 with 1 Axes>"
      ]
     },
     "metadata": {
      "needs_background": "light"
     },
     "output_type": "display_data"
    }
   ],
   "source": [
    "plt.figure(figsize=(8, 8))\n",
    "decomposed.trend.plot(ax=plt.gca(), title = 'Тренд за весь период');"
   ]
  },
  {
   "cell_type": "markdown",
   "metadata": {},
   "source": [
    "Наблюдается общий тренд к увеличению числа заказов такси за весь период наблюдений."
   ]
  },
  {
   "cell_type": "code",
   "execution_count": 8,
   "metadata": {},
   "outputs": [
    {
     "data": {
      "image/png": "[encoded data removed]",
      "text/plain": [
       "<Figure size 576x576 with 1 Axes>"
      ]
     },
     "metadata": {
      "needs_background": "light"
     },
     "output_type": "display_data"
    }
   ],
   "source": [
    "plt.figure(figsize=(8, 8))\n",
    "decomposed.seasonal.plot(ax=plt.gca(), title= 'Сезонность за весь период');"
   ]
  },
  {
   "cell_type": "markdown",
   "metadata": {},
   "source": [
    "О сезонности на всех данных сказать сложно, если она, например, есть по дням или часам, то нужно уменьшить масштаб рассматриваемых данных."
   ]
  },
  {
   "cell_type": "code",
   "execution_count": 9,
   "metadata": {},
   "outputs": [
    {
     "data": {
      "image/png": "[encoded data removed]",
      "text/plain": [
       "<Figure size 576x576 with 1 Axes>"
      ]
     },
     "metadata": {
      "needs_background": "light"
     },
     "output_type": "display_data"
    }
   ],
   "source": [
    "plt.figure(figsize=(8, 8))\n",
    "decomposed.trend['2018-08-01':'2018-08-03'].plot(ax=plt.gca(), title= 'Тренд за три случайных дня');"
   ]
  },
  {
   "cell_type": "code",
   "execution_count": 10,
   "metadata": {},
   "outputs": [
    {
     "data": {
      "image/png": "[encoded data removed]",
      "text/plain": [
       "<Figure size 576x576 with 1 Axes>"
      ]
     },
     "metadata": {
      "needs_background": "light"
     },
     "output_type": "display_data"
    }
   ],
   "source": [
    "plt.figure(figsize=(8, 8))\n",
    "decomposed.seasonal['2018-08-01':'2018-08-03'].plot(ax=plt.gca(), title= 'Сезонность за три случайных дня');"
   ]
  },
  {
   "cell_type": "markdown",
   "metadata": {},
   "source": [
    "Наблюдается сезонность по каждому дню. Есть пики в опредленное время суток, наиболее сильные скачки к концу дня."
   ]
  },
  {
   "cell_type": "markdown",
   "metadata": {},
   "source": [
    "Для обучения моделей и дальнейшего предсказания нам понадобятся новые признаки. Для выбора параметров на сколько смещать отстающие значения и какое окно выбирать для скользящего среднего создадим функцию, которая будет формировать новые признаки. А применять ее будем в цикле подбора параметров."
   ]
  },
  {
   "cell_type": "code",
   "execution_count": 12,
   "metadata": {},
   "outputs": [],
   "source": [
    "def make_features(data, max_lag, rolling_mean_size):\n",
    "    data['month'] = data.index.month\n",
    "    data['day'] = data.index.day\n",
    "    data['dayofweek'] = data.index.dayofweek\n",
    "    data['rolling_mean'] = data['num_orders'].shift(1).rolling(rolling_mean_size).mean()\n",
    "    for lag in range(1, max_lag + 1):\n",
    "        data['lag_{}'.format(lag)] = data['num_orders'].shift(lag)"
   ]
  },
  {
   "cell_type": "markdown",
   "metadata": {},
   "source": [
    "## Обучение"
   ]
  },
  {
   "cell_type": "markdown",
   "metadata": {},
   "source": [
    "### Функция подбора окна скользящего среднего  и количества отстающих признаков и функция для разбиения и масштабирования признаков"
   ]
  },
  {
   "cell_type": "markdown",
   "metadata": {},
   "source": [
    "Создадим функцию для разбиения признаков и их масштабирования.Будет принимать датафрейм и переменную, показывающую нужно ли разбивать на на трейн, валид и тест или только на трейн и тест."
   ]
  },
  {
   "cell_type": "code",
   "execution_count": 13,
   "metadata": {},
   "outputs": [],
   "source": [
    "def split_scaler(data_for_model, three = 1):\n",
    "    if three == 0:\n",
    "        train, test = train_test_split(data_for_model, shuffle=False, test_size=0.1)\n",
    "        train = train.dropna()\n",
    "        target_train= train['num_orders']\n",
    "        features_train  = train.drop('num_orders', axis = 1)\n",
    "        target_test= test['num_orders']\n",
    "        features_test = test.drop('num_orders', axis = 1)\n",
    "        numeric = features_train.columns[3:]\n",
    "        scaler = StandardScaler()\n",
    "        scaler.fit(features_train[numeric])\n",
    "        features_train[numeric] = scaler.transform(features_train[numeric])\n",
    "        features_test[numeric] = scaler.transform(features_test[numeric])\n",
    "        return features_train, target_train, features_test, target_test\n",
    "    else:\n",
    "        train, valid = train_test_split(data_for_model, shuffle=False, test_size=0.2)\n",
    "        valid, test = train_test_split(valid, shuffle=False, test_size=0.5)\n",
    "        train = train.dropna()\n",
    "        target_train= train['num_orders']\n",
    "        features_train  = train.drop('num_orders', axis = 1)\n",
    "        target_valid= valid['num_orders']\n",
    "        features_valid = valid.drop('num_orders', axis = 1)\n",
    "        target_test= test['num_orders']\n",
    "        features_test = test.drop('num_orders', axis = 1)        \n",
    "        numeric = features_train.columns[3:]\n",
    "        scaler = StandardScaler()\n",
    "        scaler.fit(features_train[numeric])\n",
    "        features_train[numeric] = scaler.transform(features_train[numeric])\n",
    "        features_valid[numeric] = scaler.transform(features_valid[numeric])\n",
    "        features_test[numeric] = scaler.transform(features_test[numeric])\n",
    "        return features_train, target_train,features_valid, target_valid, features_test, target_test"
   ]
  },
  {
   "cell_type": "markdown",
   "metadata": {},
   "source": [
    "Реализуем функцию подбора окна скользящего среднего и количесвта отстающих признаков для разных моделей. Она будет принимать на вход модель, а на выходе выдавать при каких признаках получились наилучшие результаты."
   ]
  },
  {
   "cell_type": "code",
   "execution_count": 14,
   "metadata": {},
   "outputs": [],
   "source": [
    "def parameter_selection(model):\n",
    "    min_error = 10000\n",
    "    best_rolling_mean_size = 0\n",
    "    best_lag = 0\n",
    "\n",
    "    for i in range(24,96,24):\n",
    "        for j in (1, 2, 24, 25, 48):\n",
    "            data_for_model = data.copy()\n",
    "            make_features(data_for_model, j, i)\n",
    "            features_train, target_train,features_valid, target_valid,  features_test, target_test = split_scaler(data_for_model)\n",
    "        \n",
    "\n",
    "            model.fit(features_train, target_train)\n",
    "            if mean_squared_error(model.predict(features_valid), target_valid,  squared = False)<min_error:\n",
    "                min_error = mean_squared_error(model.predict(features_valid), target_valid,  squared = False)\n",
    "                best_rolling_mean_size = i\n",
    "                best_lag = j\n",
    "                \n",
    "    return best_lag, best_rolling_mean_size"
   ]
  },
  {
   "cell_type": "markdown",
   "metadata": {},
   "source": [
    "### LightGBM"
   ]
  },
  {
   "cell_type": "markdown",
   "metadata": {},
   "source": [
    "Подберем какие из признаков стоит добавить "
   ]
  },
  {
   "cell_type": "code",
   "execution_count": 15,
   "metadata": {
    "scrolled": true
   },
   "outputs": [],
   "source": [
    "model_1 = LGBMRegressor(num_threads=8, max_depth=5)\n",
    "parameter_selection(model_1)"
   ]
  },
  {
   "cell_type": "markdown",
   "metadata": {},
   "source": [
    "Результат: \n",
    "- best_lag = 48\n",
    "- best_rolling_mean_size = 72"
   ]
  },
  {
   "cell_type": "markdown",
   "metadata": {},
   "source": [
    " Создадим признаки и разделим данные на выборки с помощью функций, затем подберем параметры модели."
   ]
  },
  {
   "cell_type": "code",
   "execution_count": 16,
   "metadata": {},
   "outputs": [],
   "source": [
    "data_for_model_1 = data.copy()"
   ]
  },
  {
   "cell_type": "code",
   "execution_count": 17,
   "metadata": {},
   "outputs": [],
   "source": [
    "make_features(data_for_model_1, 48, 72)"
   ]
  },
  {
   "cell_type": "code",
   "execution_count": 18,
   "metadata": {},
   "outputs": [],
   "source": [
    "features_train1, target_train1, features_test1, target_test1 = split_scaler(data_for_model_1, three =0)"
   ]
  },
  {
   "cell_type": "code",
   "execution_count": 19,
   "metadata": {},
   "outputs": [],
   "source": [
    "model_1 = LGBMRegressor(metric = 'rmse')"
   ]
  },
  {
   "cell_type": "code",
   "execution_count": 20,
   "metadata": {
    "scrolled": true
   },
   "outputs": [
    {
     "name": "stdout",
     "output_type": "stream",
     "text": [
      "[LightGBM] [Warning] min_data_in_leaf is set=20, min_child_samples=20 will be ignored. Current value: min_data_in_leaf=20\n",
      "[LightGBM] [Warning] min_data_in_leaf is set=20, min_child_samples=20 will be ignored. Current value: min_data_in_leaf=20\n",
      "[LightGBM] [Warning] min_data_in_leaf is set=20, min_child_samples=20 will be ignored. Current value: min_data_in_leaf=20\n",
      "[LightGBM] [Warning] min_data_in_leaf is set=20, min_child_samples=20 will be ignored. Current value: min_data_in_leaf=20\n",
      "[LightGBM] [Warning] min_data_in_leaf is set=20, min_child_samples=20 will be ignored. Current value: min_data_in_leaf=20\n",
      "[LightGBM] [Warning] min_data_in_leaf is set=30, min_child_samples=20 will be ignored. Current value: min_data_in_leaf=30\n",
      "[LightGBM] [Warning] min_data_in_leaf is set=30, min_child_samples=20 will be ignored. Current value: min_data_in_leaf=30\n",
      "[LightGBM] [Warning] min_data_in_leaf is set=30, min_child_samples=20 will be ignored. Current value: min_data_in_leaf=30\n",
      "[LightGBM] [Warning] min_data_in_leaf is set=30, min_child_samples=20 will be ignored. Current value: min_data_in_leaf=30\n",
      "[LightGBM] [Warning] min_data_in_leaf is set=30, min_child_samples=20 will be ignored. Current value: min_data_in_leaf=30\n",
      "[LightGBM] [Warning] min_data_in_leaf is set=40, min_child_samples=20 will be ignored. Current value: min_data_in_leaf=40\n",
      "[LightGBM] [Warning] min_data_in_leaf is set=40, min_child_samples=20 will be ignored. Current value: min_data_in_leaf=40\n",
      "[LightGBM] [Warning] min_data_in_leaf is set=40, min_child_samples=20 will be ignored. Current value: min_data_in_leaf=40\n",
      "[LightGBM] [Warning] min_data_in_leaf is set=40, min_child_samples=20 will be ignored. Current value: min_data_in_leaf=40\n",
      "[LightGBM] [Warning] min_data_in_leaf is set=40, min_child_samples=20 will be ignored. Current value: min_data_in_leaf=40\n",
      "[LightGBM] [Warning] min_data_in_leaf is set=20, min_child_samples=20 will be ignored. Current value: min_data_in_leaf=20\n",
      "[LightGBM] [Warning] min_data_in_leaf is set=20, min_child_samples=20 will be ignored. Current value: min_data_in_leaf=20\n",
      "[LightGBM] [Warning] min_data_in_leaf is set=20, min_child_samples=20 will be ignored. Current value: min_data_in_leaf=20\n",
      "[LightGBM] [Warning] min_data_in_leaf is set=20, min_child_samples=20 will be ignored. Current value: min_data_in_leaf=20\n",
      "[LightGBM] [Warning] min_data_in_leaf is set=20, min_child_samples=20 will be ignored. Current value: min_data_in_leaf=20\n",
      "[LightGBM] [Warning] min_data_in_leaf is set=30, min_child_samples=20 will be ignored. Current value: min_data_in_leaf=30\n",
      "[LightGBM] [Warning] min_data_in_leaf is set=30, min_child_samples=20 will be ignored. Current value: min_data_in_leaf=30\n",
      "[LightGBM] [Warning] min_data_in_leaf is set=30, min_child_samples=20 will be ignored. Current value: min_data_in_leaf=30\n",
      "[LightGBM] [Warning] min_data_in_leaf is set=30, min_child_samples=20 will be ignored. Current value: min_data_in_leaf=30\n",
      "[LightGBM] [Warning] min_data_in_leaf is set=30, min_child_samples=20 will be ignored. Current value: min_data_in_leaf=30\n",
      "[LightGBM] [Warning] min_data_in_leaf is set=40, min_child_samples=20 will be ignored. Current value: min_data_in_leaf=40\n",
      "[LightGBM] [Warning] min_data_in_leaf is set=40, min_child_samples=20 will be ignored. Current value: min_data_in_leaf=40\n",
      "[LightGBM] [Warning] min_data_in_leaf is set=40, min_child_samples=20 will be ignored. Current value: min_data_in_leaf=40\n",
      "[LightGBM] [Warning] min_data_in_leaf is set=40, min_child_samples=20 will be ignored. Current value: min_data_in_leaf=40\n",
      "[LightGBM] [Warning] min_data_in_leaf is set=40, min_child_samples=20 will be ignored. Current value: min_data_in_leaf=40\n",
      "[LightGBM] [Warning] min_data_in_leaf is set=20, min_child_samples=20 will be ignored. Current value: min_data_in_leaf=20\n",
      "[LightGBM] [Warning] min_data_in_leaf is set=20, min_child_samples=20 will be ignored. Current value: min_data_in_leaf=20\n",
      "[LightGBM] [Warning] min_data_in_leaf is set=20, min_child_samples=20 will be ignored. Current value: min_data_in_leaf=20\n",
      "[LightGBM] [Warning] min_data_in_leaf is set=20, min_child_samples=20 will be ignored. Current value: min_data_in_leaf=20\n",
      "[LightGBM] [Warning] min_data_in_leaf is set=20, min_child_samples=20 will be ignored. Current value: min_data_in_leaf=20\n",
      "[LightGBM] [Warning] min_data_in_leaf is set=30, min_child_samples=20 will be ignored. Current value: min_data_in_leaf=30\n",
      "[LightGBM] [Warning] min_data_in_leaf is set=30, min_child_samples=20 will be ignored. Current value: min_data_in_leaf=30\n",
      "[LightGBM] [Warning] min_data_in_leaf is set=30, min_child_samples=20 will be ignored. Current value: min_data_in_leaf=30\n",
      "[LightGBM] [Warning] min_data_in_leaf is set=30, min_child_samples=20 will be ignored. Current value: min_data_in_leaf=30\n",
      "[LightGBM] [Warning] min_data_in_leaf is set=30, min_child_samples=20 will be ignored. Current value: min_data_in_leaf=30\n",
      "[LightGBM] [Warning] min_data_in_leaf is set=40, min_child_samples=20 will be ignored. Current value: min_data_in_leaf=40\n",
      "[LightGBM] [Warning] min_data_in_leaf is set=40, min_child_samples=20 will be ignored. Current value: min_data_in_leaf=40\n",
      "[LightGBM] [Warning] min_data_in_leaf is set=40, min_child_samples=20 will be ignored. Current value: min_data_in_leaf=40\n",
      "[LightGBM] [Warning] min_data_in_leaf is set=40, min_child_samples=20 will be ignored. Current value: min_data_in_leaf=40\n",
      "[LightGBM] [Warning] min_data_in_leaf is set=40, min_child_samples=20 will be ignored. Current value: min_data_in_leaf=40\n",
      "[LightGBM] [Warning] min_data_in_leaf is set=20, min_child_samples=20 will be ignored. Current value: min_data_in_leaf=20\n"
     ]
    },
    {
     "data": {
      "text/plain": [
       "{'max_depth': 4, 'min_data_in_leaf': 20}"
      ]
     },
     "execution_count": 20,
     "metadata": {},
     "output_type": "execute_result"
    }
   ],
   "source": [
    "grid = {'max_depth': [4, 6, 10],\n",
    "        'min_data_in_leaf':[20,30,40]}\n",
    "\n",
    "tscv = TimeSeriesSplit(n_splits=5)\n",
    "gs = GridSearchCV(estimator=model_1, cv=tscv, param_grid=grid)\n",
    "gs.fit(features_train1, target_train1)\n",
    "gs.best_params_"
   ]
  },
  {
   "cell_type": "markdown",
   "metadata": {},
   "source": [
    "Лучшие параметры: {'max_depth': 4, 'min_data_in_leaf': 20}"
   ]
  },
  {
   "cell_type": "code",
   "execution_count": 21,
   "metadata": {},
   "outputs": [],
   "source": [
    "model_1 = LGBMRegressor(metric = 'rmse', max_depth =4, min_data_in_leaf = 20)"
   ]
  },
  {
   "cell_type": "code",
   "execution_count": 22,
   "metadata": {},
   "outputs": [
    {
     "name": "stdout",
     "output_type": "stream",
     "text": [
      "[LightGBM] [Warning] min_data_in_leaf is set=20, min_child_samples=20 will be ignored. Current value: min_data_in_leaf=20\n",
      "[LightGBM] [Warning] min_data_in_leaf is set=20, min_child_samples=20 will be ignored. Current value: min_data_in_leaf=20\n",
      "[LightGBM] [Warning] min_data_in_leaf is set=20, min_child_samples=20 will be ignored. Current value: min_data_in_leaf=20\n",
      "[LightGBM] [Warning] min_data_in_leaf is set=20, min_child_samples=20 will be ignored. Current value: min_data_in_leaf=20\n"
     ]
    }
   ],
   "source": [
    "rmse_score = make_scorer(mean_squared_error, squared=False)\n",
    "tcv = TimeSeriesSplit(n_splits=5)\n",
    "rmse_gbm = cross_val_score(model_1,features_train1, target_train1, scoring=rmse_score, cv= tcv) "
   ]
  },
  {
   "cell_type": "code",
   "execution_count": 23,
   "metadata": {},
   "outputs": [
    {
     "name": "stdout",
     "output_type": "stream",
     "text": [
      "RMSE: [21.44980513 21.34621599 23.18468015 23.5403292  31.49564601]\n"
     ]
    }
   ],
   "source": [
    "print('RMSE:', rmse_gbm)"
   ]
  },
  {
   "cell_type": "markdown",
   "metadata": {},
   "source": [
    "### RandomForestRegressor"
   ]
  },
  {
   "cell_type": "code",
   "execution_count": 24,
   "metadata": {},
   "outputs": [],
   "source": [
    "model_2 = RandomForestRegressor()\n",
    "parameter_selection(model_2)  "
   ]
  },
  {
   "cell_type": "markdown",
   "metadata": {
    "scrolled": true
   },
   "source": [
    "Результат: \n",
    "- best_lag = 48\n",
    "- best_rolling_mean_size = 48"
   ]
  },
  {
   "cell_type": "code",
   "execution_count": 25,
   "metadata": {},
   "outputs": [],
   "source": [
    "data_for_model_2 = data.copy()"
   ]
  },
  {
   "cell_type": "code",
   "execution_count": 26,
   "metadata": {},
   "outputs": [],
   "source": [
    "make_features(data_for_model_2, 48, 48)"
   ]
  },
  {
   "cell_type": "code",
   "execution_count": 27,
   "metadata": {},
   "outputs": [],
   "source": [
    "features_train2, target_train2, features_test2, target_test2 = split_scaler(data_for_model_2, three =0)"
   ]
  },
  {
   "cell_type": "code",
   "execution_count": 28,
   "metadata": {},
   "outputs": [],
   "source": [
    "model_2 = RandomForestRegressor()"
   ]
  },
  {
   "cell_type": "code",
   "execution_count": 29,
   "metadata": {},
   "outputs": [
    {
     "data": {
      "text/plain": [
       "{'max_depth': 10, 'n_estimators': 150}"
      ]
     },
     "execution_count": 29,
     "metadata": {},
     "output_type": "execute_result"
    }
   ],
   "source": [
    "grid = {'max_depth': [4, 6, 10], \n",
    "        'n_estimators':[50,100,150,]}\n",
    "\n",
    "tscv = TimeSeriesSplit(n_splits=5)\n",
    "gs = GridSearchCV(estimator=model_2, cv=tscv, param_grid=grid)\n",
    "gs.fit(features_train2, target_train2)\n",
    "gs.best_params_"
   ]
  },
  {
   "cell_type": "markdown",
   "metadata": {},
   "source": [
    "Лучшие параметры: {'max_depth': 10, 'n_estimators': 150}"
   ]
  },
  {
   "cell_type": "code",
   "execution_count": 30,
   "metadata": {},
   "outputs": [],
   "source": [
    "model_2 = RandomForestRegressor( max_depth = 10, n_estimators = 150)"
   ]
  },
  {
   "cell_type": "code",
   "execution_count": 31,
   "metadata": {},
   "outputs": [],
   "source": [
    "rmse_score = make_scorer(mean_squared_error, squared=False)\n",
    "tcv = TimeSeriesSplit(n_splits=5)\n",
    "rmse_rf = cross_val_score(model_2,features_train2, target_train2, scoring=rmse_score, cv= tcv) "
   ]
  },
  {
   "cell_type": "code",
   "execution_count": 32,
   "metadata": {},
   "outputs": [
    {
     "name": "stdout",
     "output_type": "stream",
     "text": [
      "RMSE: [21.87930395 22.11984497 23.33136283 23.97220311 32.51789932]\n"
     ]
    }
   ],
   "source": [
    "print('RMSE:', rmse_rf)"
   ]
  },
  {
   "cell_type": "markdown",
   "metadata": {},
   "source": [
    "### CatBoost"
   ]
  },
  {
   "cell_type": "code",
   "execution_count": 33,
   "metadata": {
    "scrolled": true
   },
   "outputs": [],
   "source": [
    "model_3 = CatBoostRegressor(loss_function='RMSE', iterations=100)\n",
    "parameter_selection(model_3) "
   ]
  },
  {
   "cell_type": "markdown",
   "metadata": {},
   "source": [
    "Результат: \n",
    "- best_lag = 48\n",
    "- best_rolling_mean_size =72"
   ]
  },
  {
   "cell_type": "code",
   "execution_count": 63,
   "metadata": {},
   "outputs": [],
   "source": [
    "data_for_model_3 = data.copy()\n",
    "make_features(data_for_model_3, 48, 72)\n",
    "features_train3, target_train3, features_test3, target_test3 = split_scaler(data_for_model_3, three =0)"
   ]
  },
  {
   "cell_type": "code",
   "execution_count": 35,
   "metadata": {},
   "outputs": [],
   "source": [
    "model_3 = CatBoostRegressor(loss_function='RMSE', iterations=100)"
   ]
  },
  {
   "cell_type": "code",
   "execution_count": 1,
   "metadata": {
    "scrolled": true
   },
   "outputs": [],
   "source": [
    "grid = {'learning_rate': [0.03, 0.1], \n",
    "        'depth': [4, 6, 10],\n",
    "        'l2_leaf_reg': [1, 3, 5, 7, 9]}\n",
    "\n",
    "tscv = TimeSeriesSplit(n_splits=5)\n",
    "gs = GridSearchCV(estimator=model_3, cv=tscv, param_grid=grid)\n",
    "gs.fit(features_train3, target_train3)\n",
    "gs.best_params_"
   ]
  },
  {
   "cell_type": "markdown",
   "metadata": {},
   "source": [
    "Лучшие параметры: {'depth': 6, 'l2_leaf_reg': 1, 'learning_rate': 0.1}"
   ]
  },
  {
   "cell_type": "code",
   "execution_count": 64,
   "metadata": {},
   "outputs": [],
   "source": [
    "model_3 = CatBoostRegressor(loss_function='RMSE', iterations=100, depth= 6, l2_leaf_reg= 1, learning_rate= 0.1)"
   ]
  },
  {
   "cell_type": "code",
   "execution_count": 38,
   "metadata": {
    "scrolled": false
   },
   "outputs": [
    {
     "name": "stderr",
     "output_type": "stream",
     "text": [
      "Custom logger is already specified. Specify more than one logger at same time is not thread safe."
     ]
    },
    {
     "name": "stdout",
     "output_type": "stream",
     "text": [
      "0:\tlearn: 28.0729856\ttotal: 6.37ms\tremaining: 630ms\n",
      "1:\tlearn: 26.8099369\ttotal: 12ms\tremaining: 588ms\n",
      "2:\tlearn: 25.6456983\ttotal: 17.4ms\tremaining: 564ms\n",
      "3:\tlearn: 24.7154878\ttotal: 23.5ms\tremaining: 564ms\n",
      "4:\tlearn: 23.8199108\ttotal: 31.5ms\tremaining: 598ms\n",
      "5:\tlearn: 23.0653441\ttotal: 38.7ms\tremaining: 606ms\n",
      "6:\tlearn: 22.3501770\ttotal: 43.8ms\tremaining: 582ms\n",
      "7:\tlearn: 21.7167565\ttotal: 48.9ms\tremaining: 562ms\n",
      "8:\tlearn: 21.1925521\ttotal: 53.9ms\tremaining: 545ms\n",
      "9:\tlearn: 20.6196969\ttotal: 58.9ms\tremaining: 530ms\n",
      "10:\tlearn: 20.2025619\ttotal: 64.3ms\tremaining: 521ms\n",
      "11:\tlearn: 19.7683149\ttotal: 69.4ms\tremaining: 509ms\n",
      "12:\tlearn: 19.3449524\ttotal: 74.4ms\tremaining: 498ms\n",
      "13:\tlearn: 18.9860191\ttotal: 79.4ms\tremaining: 487ms\n",
      "14:\tlearn: 18.6526802\ttotal: 84.4ms\tremaining: 479ms\n",
      "15:\tlearn: 18.2932131\ttotal: 89.6ms\tremaining: 470ms\n",
      "16:\tlearn: 17.9502735\ttotal: 94.8ms\tremaining: 463ms\n",
      "17:\tlearn: 17.6679539\ttotal: 99.9ms\tremaining: 455ms\n",
      "18:\tlearn: 17.4433797\ttotal: 105ms\tremaining: 447ms\n",
      "19:\tlearn: 17.2064571\ttotal: 111ms\tremaining: 445ms\n",
      "20:\tlearn: 16.8979745\ttotal: 119ms\tremaining: 449ms\n",
      "21:\tlearn: 16.6832151\ttotal: 126ms\tremaining: 446ms\n",
      "22:\tlearn: 16.4596091\ttotal: 131ms\tremaining: 439ms\n",
      "23:\tlearn: 16.2870966\ttotal: 136ms\tremaining: 431ms\n",
      "24:\tlearn: 16.0720834\ttotal: 141ms\tremaining: 424ms\n",
      "25:\tlearn: 15.8907584\ttotal: 146ms\tremaining: 416ms\n",
      "26:\tlearn: 15.6667424\ttotal: 151ms\tremaining: 409ms\n",
      "27:\tlearn: 15.4994608\ttotal: 157ms\tremaining: 403ms\n",
      "28:\tlearn: 15.2876890\ttotal: 162ms\tremaining: 396ms\n",
      "29:\tlearn: 15.0930460\ttotal: 167ms\tremaining: 389ms\n",
      "30:\tlearn: 14.9530952\ttotal: 172ms\tremaining: 382ms\n",
      "31:\tlearn: 14.7487100\ttotal: 176ms\tremaining: 375ms\n",
      "32:\tlearn: 14.6535673\ttotal: 181ms\tremaining: 368ms\n",
      "33:\tlearn: 14.5087337\ttotal: 186ms\tremaining: 362ms\n",
      "34:\tlearn: 14.3674630\ttotal: 191ms\tremaining: 355ms\n",
      "35:\tlearn: 14.2325465\ttotal: 197ms\tremaining: 350ms\n",
      "36:\tlearn: 14.0826599\ttotal: 202ms\tremaining: 344ms\n",
      "37:\tlearn: 13.9447424\ttotal: 212ms\tremaining: 347ms\n",
      "38:\tlearn: 13.8510625\ttotal: 219ms\tremaining: 343ms\n",
      "39:\tlearn: 13.6827164\ttotal: 225ms\tremaining: 337ms\n",
      "40:\tlearn: 13.5834639\ttotal: 230ms\tremaining: 331ms\n",
      "41:\tlearn: 13.4904766\ttotal: 235ms\tremaining: 325ms\n",
      "42:\tlearn: 13.3928369\ttotal: 240ms\tremaining: 319ms\n",
      "43:\tlearn: 13.3043765\ttotal: 245ms\tremaining: 312ms\n",
      "44:\tlearn: 13.2090193\ttotal: 250ms\tremaining: 306ms\n",
      "45:\tlearn: 13.0832927\ttotal: 256ms\tremaining: 300ms\n",
      "46:\tlearn: 12.9726723\ttotal: 261ms\tremaining: 294ms\n",
      "47:\tlearn: 12.8326532\ttotal: 266ms\tremaining: 288ms\n",
      "48:\tlearn: 12.7545193\ttotal: 270ms\tremaining: 281ms\n",
      "49:\tlearn: 12.6566889\ttotal: 275ms\tremaining: 275ms\n",
      "50:\tlearn: 12.5413240\ttotal: 280ms\tremaining: 269ms\n",
      "51:\tlearn: 12.4769030\ttotal: 285ms\tremaining: 264ms\n",
      "52:\tlearn: 12.3828043\ttotal: 291ms\tremaining: 258ms\n",
      "53:\tlearn: 12.1820831\ttotal: 296ms\tremaining: 252ms\n",
      "54:\tlearn: 12.0869285\ttotal: 303ms\tremaining: 248ms\n",
      "55:\tlearn: 11.9939756\ttotal: 313ms\tremaining: 246ms\n",
      "56:\tlearn: 11.9071349\ttotal: 319ms\tremaining: 241ms\n",
      "57:\tlearn: 11.8119670\ttotal: 324ms\tremaining: 235ms\n",
      "58:\tlearn: 11.6952829\ttotal: 329ms\tremaining: 229ms\n",
      "59:\tlearn: 11.6234229\ttotal: 335ms\tremaining: 223ms\n",
      "60:\tlearn: 11.4908956\ttotal: 340ms\tremaining: 217ms\n",
      "61:\tlearn: 11.4078996\ttotal: 345ms\tremaining: 211ms\n",
      "62:\tlearn: 11.3177785\ttotal: 350ms\tremaining: 206ms\n",
      "63:\tlearn: 11.2003248\ttotal: 356ms\tremaining: 200ms\n",
      "64:\tlearn: 11.0594520\ttotal: 361ms\tremaining: 194ms\n",
      "65:\tlearn: 10.9693300\ttotal: 365ms\tremaining: 188ms\n",
      "66:\tlearn: 10.8595787\ttotal: 370ms\tremaining: 182ms\n",
      "67:\tlearn: 10.7816115\ttotal: 375ms\tremaining: 177ms\n",
      "68:\tlearn: 10.6974535\ttotal: 380ms\tremaining: 171ms\n",
      "69:\tlearn: 10.6539226\ttotal: 385ms\tremaining: 165ms\n",
      "70:\tlearn: 10.5766788\ttotal: 390ms\tremaining: 159ms\n",
      "71:\tlearn: 10.4879228\ttotal: 395ms\tremaining: 154ms\n",
      "72:\tlearn: 10.3947144\ttotal: 401ms\tremaining: 148ms\n",
      "73:\tlearn: 10.3120170\ttotal: 406ms\tremaining: 143ms\n",
      "74:\tlearn: 10.2393921\ttotal: 411ms\tremaining: 137ms\n",
      "75:\tlearn: 10.1729802\ttotal: 417ms\tremaining: 132ms\n",
      "76:\tlearn: 10.1466434\ttotal: 422ms\tremaining: 126ms\n",
      "77:\tlearn: 10.0950699\ttotal: 427ms\tremaining: 120ms\n",
      "78:\tlearn: 10.0275055\ttotal: 432ms\tremaining: 115ms\n",
      "79:\tlearn: 9.9143216\ttotal: 438ms\tremaining: 109ms\n",
      "80:\tlearn: 9.8025022\ttotal: 443ms\tremaining: 104ms\n",
      "81:\tlearn: 9.7305511\ttotal: 449ms\tremaining: 98.6ms\n",
      "82:\tlearn: 9.6420257\ttotal: 454ms\tremaining: 93ms\n",
      "83:\tlearn: 9.5679983\ttotal: 460ms\tremaining: 87.6ms\n",
      "84:\tlearn: 9.4957536\ttotal: 465ms\tremaining: 82.1ms\n",
      "85:\tlearn: 9.4218362\ttotal: 471ms\tremaining: 76.6ms\n",
      "86:\tlearn: 9.3396958\ttotal: 477ms\tremaining: 71.3ms\n",
      "87:\tlearn: 9.2297251\ttotal: 482ms\tremaining: 65.7ms\n",
      "88:\tlearn: 9.1307231\ttotal: 490ms\tremaining: 60.5ms\n",
      "89:\tlearn: 9.0673716\ttotal: 498ms\tremaining: 55.3ms\n",
      "90:\tlearn: 8.9794534\ttotal: 504ms\tremaining: 49.8ms\n",
      "91:\tlearn: 8.9362862\ttotal: 509ms\tremaining: 44.3ms\n",
      "92:\tlearn: 8.8462480\ttotal: 515ms\tremaining: 38.7ms\n",
      "93:\tlearn: 8.7965828\ttotal: 520ms\tremaining: 33.2ms\n",
      "94:\tlearn: 8.7381039\ttotal: 525ms\tremaining: 27.6ms\n",
      "95:\tlearn: 8.6477332\ttotal: 530ms\tremaining: 22.1ms\n",
      "96:\tlearn: 8.5846623\ttotal: 535ms\tremaining: 16.6ms\n",
      "97:\tlearn: 8.5034205\ttotal: 540ms\tremaining: 11ms\n",
      "98:\tlearn: 8.4481615\ttotal: 545ms\tremaining: 5.51ms\n",
      "99:\tlearn: 8.3617972\ttotal: 550ms\tremaining: 0us\n",
      "0:\tlearn: 29.0357425\ttotal: 8.76ms\tremaining: 867ms\n",
      "1:\tlearn: 27.8765130\ttotal: 17.9ms\tremaining: 877ms\n",
      "2:\tlearn: 26.7727297\ttotal: 25.9ms\tremaining: 838ms\n",
      "3:\tlearn: 25.6751765\ttotal: 31.9ms\tremaining: 765ms\n",
      "4:\tlearn: 24.8421639\ttotal: 37.6ms\tremaining: 715ms\n",
      "5:\tlearn: 23.9967824\ttotal: 43.3ms\tremaining: 678ms\n",
      "6:\tlearn: 23.3057330\ttotal: 48.9ms\tremaining: 649ms\n",
      "7:\tlearn: 22.6797949\ttotal: 54.6ms\tremaining: 627ms\n",
      "8:\tlearn: 22.1389266\ttotal: 60.2ms\tremaining: 609ms\n",
      "9:\tlearn: 21.6449695\ttotal: 65.9ms\tremaining: 593ms\n",
      "10:\tlearn: 21.1697579\ttotal: 71.5ms\tremaining: 579ms\n",
      "11:\tlearn: 20.6845300\ttotal: 77.1ms\tremaining: 565ms\n",
      "12:\tlearn: 20.3118857\ttotal: 83ms\tremaining: 555ms\n",
      "13:\tlearn: 20.0566410\ttotal: 89ms\tremaining: 547ms\n",
      "14:\tlearn: 19.7305489\ttotal: 94.8ms\tremaining: 537ms\n",
      "15:\tlearn: 19.4220250\ttotal: 103ms\tremaining: 542ms\n",
      "16:\tlearn: 19.1734709\ttotal: 112ms\tremaining: 548ms\n",
      "17:\tlearn: 18.9535220\ttotal: 118ms\tremaining: 538ms\n",
      "18:\tlearn: 18.7145861\ttotal: 124ms\tremaining: 529ms\n",
      "19:\tlearn: 18.5090233\ttotal: 130ms\tremaining: 520ms\n",
      "20:\tlearn: 18.3629559\ttotal: 135ms\tremaining: 510ms\n",
      "21:\tlearn: 18.0920313\ttotal: 141ms\tremaining: 501ms\n",
      "22:\tlearn: 17.9214210\ttotal: 147ms\tremaining: 493ms\n",
      "23:\tlearn: 17.7340654\ttotal: 153ms\tremaining: 484ms\n",
      "24:\tlearn: 17.6026160\ttotal: 159ms\tremaining: 476ms\n",
      "25:\tlearn: 17.3927421\ttotal: 164ms\tremaining: 467ms\n",
      "26:\tlearn: 17.2798436\ttotal: 170ms\tremaining: 460ms\n",
      "27:\tlearn: 17.1546214\ttotal: 177ms\tremaining: 456ms\n",
      "28:\tlearn: 17.0079745\ttotal: 186ms\tremaining: 455ms\n",
      "29:\tlearn: 16.8816396\ttotal: 195ms\tremaining: 454ms\n",
      "30:\tlearn: 16.7878367\ttotal: 203ms\tremaining: 453ms\n",
      "31:\tlearn: 16.5869111\ttotal: 212ms\tremaining: 452ms\n",
      "32:\tlearn: 16.4771830\ttotal: 218ms\tremaining: 444ms\n",
      "33:\tlearn: 16.4008048\ttotal: 224ms\tremaining: 435ms\n",
      "34:\tlearn: 16.2872200\ttotal: 232ms\tremaining: 430ms\n",
      "35:\tlearn: 16.1529186\ttotal: 239ms\tremaining: 425ms\n",
      "36:\tlearn: 16.0517613\ttotal: 245ms\tremaining: 418ms\n",
      "37:\tlearn: 15.9616656\ttotal: 252ms\tremaining: 412ms\n",
      "38:\tlearn: 15.8898710\ttotal: 259ms\tremaining: 405ms\n",
      "39:\tlearn: 15.7866389\ttotal: 265ms\tremaining: 398ms\n",
      "40:\tlearn: 15.6854768\ttotal: 271ms\tremaining: 391ms\n",
      "41:\tlearn: 15.6009686\ttotal: 278ms\tremaining: 383ms\n",
      "42:\tlearn: 15.5056361\ttotal: 284ms\tremaining: 377ms\n",
      "43:\tlearn: 15.4057506\ttotal: 290ms\tremaining: 369ms\n",
      "44:\tlearn: 15.3207040\ttotal: 296ms\tremaining: 362ms\n",
      "45:\tlearn: 15.2571550\ttotal: 302ms\tremaining: 355ms\n",
      "46:\tlearn: 15.2035411\ttotal: 308ms\tremaining: 348ms\n",
      "47:\tlearn: 15.1476137\ttotal: 316ms\tremaining: 343ms\n",
      "48:\tlearn: 15.0987949\ttotal: 326ms\tremaining: 339ms\n",
      "49:\tlearn: 15.0476162\ttotal: 334ms\tremaining: 334ms\n",
      "50:\tlearn: 14.9535372\ttotal: 341ms\tremaining: 327ms\n",
      "51:\tlearn: 14.9175111\ttotal: 347ms\tremaining: 320ms\n",
      "52:\tlearn: 14.8703491\ttotal: 353ms\tremaining: 313ms\n",
      "53:\tlearn: 14.7916309\ttotal: 361ms\tremaining: 307ms\n",
      "54:\tlearn: 14.7096387\ttotal: 367ms\tremaining: 301ms\n",
      "55:\tlearn: 14.6148667\ttotal: 374ms\tremaining: 294ms\n",
      "56:\tlearn: 14.5413986\ttotal: 381ms\tremaining: 287ms\n",
      "57:\tlearn: 14.4700416\ttotal: 391ms\tremaining: 283ms\n",
      "58:\tlearn: 14.4024183\ttotal: 401ms\tremaining: 279ms\n",
      "59:\tlearn: 14.3197603\ttotal: 409ms\tremaining: 273ms\n",
      "60:\tlearn: 14.2663935\ttotal: 415ms\tremaining: 266ms\n",
      "61:\tlearn: 14.1964048\ttotal: 422ms\tremaining: 259ms\n",
      "62:\tlearn: 14.1559169\ttotal: 428ms\tremaining: 251ms\n",
      "63:\tlearn: 14.0844399\ttotal: 434ms\tremaining: 244ms\n",
      "64:\tlearn: 14.0406451\ttotal: 440ms\tremaining: 237ms\n",
      "65:\tlearn: 13.9854730\ttotal: 447ms\tremaining: 230ms\n",
      "66:\tlearn: 13.9168039\ttotal: 453ms\tremaining: 223ms\n",
      "67:\tlearn: 13.8619645\ttotal: 459ms\tremaining: 216ms\n",
      "68:\tlearn: 13.8012050\ttotal: 467ms\tremaining: 210ms\n",
      "69:\tlearn: 13.7624172\ttotal: 473ms\tremaining: 203ms\n",
      "70:\tlearn: 13.7130912\ttotal: 484ms\tremaining: 197ms\n",
      "71:\tlearn: 13.6384411\ttotal: 493ms\tremaining: 192ms\n",
      "72:\tlearn: 13.5711856\ttotal: 499ms\tremaining: 185ms\n",
      "73:\tlearn: 13.5386554\ttotal: 505ms\tremaining: 177ms\n",
      "74:\tlearn: 13.4657222\ttotal: 511ms\tremaining: 170ms\n",
      "75:\tlearn: 13.3855145\ttotal: 517ms\tremaining: 163ms\n",
      "76:\tlearn: 13.2970663\ttotal: 522ms\tremaining: 156ms\n",
      "77:\tlearn: 13.2288446\ttotal: 528ms\tremaining: 149ms\n",
      "78:\tlearn: 13.1534183\ttotal: 534ms\tremaining: 142ms\n",
      "79:\tlearn: 13.1131231\ttotal: 540ms\tremaining: 135ms\n",
      "80:\tlearn: 13.0387738\ttotal: 545ms\tremaining: 128ms\n",
      "81:\tlearn: 12.9747214\ttotal: 551ms\tremaining: 121ms\n",
      "82:\tlearn: 12.9242967\ttotal: 557ms\tremaining: 114ms\n",
      "83:\tlearn: 12.8380005\ttotal: 563ms\tremaining: 107ms\n",
      "84:\tlearn: 12.7756950\ttotal: 569ms\tremaining: 100ms\n",
      "85:\tlearn: 12.7062985\ttotal: 577ms\tremaining: 94ms\n",
      "86:\tlearn: 12.6307662\ttotal: 588ms\tremaining: 87.8ms\n",
      "87:\tlearn: 12.5710819\ttotal: 595ms\tremaining: 81.2ms\n",
      "88:\tlearn: 12.5008986\ttotal: 603ms\tremaining: 74.6ms\n",
      "89:\tlearn: 12.4404618\ttotal: 610ms\tremaining: 67.7ms\n",
      "90:\tlearn: 12.3957435\ttotal: 616ms\tremaining: 60.9ms\n",
      "91:\tlearn: 12.3256201\ttotal: 622ms\tremaining: 54ms\n",
      "92:\tlearn: 12.2832408\ttotal: 627ms\tremaining: 47.2ms\n",
      "93:\tlearn: 12.2133042\ttotal: 633ms\tremaining: 40.4ms\n",
      "94:\tlearn: 12.1668736\ttotal: 639ms\tremaining: 33.6ms\n",
      "95:\tlearn: 12.1029957\ttotal: 645ms\tremaining: 26.9ms\n",
      "96:\tlearn: 12.0518872\ttotal: 650ms\tremaining: 20.1ms\n",
      "97:\tlearn: 11.9814010\ttotal: 656ms\tremaining: 13.4ms\n",
      "98:\tlearn: 11.9490892\ttotal: 662ms\tremaining: 6.68ms\n",
      "99:\tlearn: 11.9116308\ttotal: 669ms\tremaining: 0us\n",
      "0:\tlearn: 30.7323449\ttotal: 8.21ms\tremaining: 813ms\n",
      "1:\tlearn: 29.5253312\ttotal: 15.4ms\tremaining: 757ms\n",
      "2:\tlearn: 28.3234815\ttotal: 22.3ms\tremaining: 720ms\n",
      "3:\tlearn: 27.2891513\ttotal: 28.7ms\tremaining: 690ms\n",
      "4:\tlearn: 26.3242600\ttotal: 35.1ms\tremaining: 668ms\n",
      "5:\tlearn: 25.3952356\ttotal: 41.6ms\tremaining: 651ms\n",
      "6:\tlearn: 24.6174385\ttotal: 48.2ms\tremaining: 641ms\n",
      "7:\tlearn: 23.8956828\ttotal: 54.6ms\tremaining: 628ms\n",
      "8:\tlearn: 23.2908749\ttotal: 61.5ms\tremaining: 622ms\n",
      "9:\tlearn: 22.8033623\ttotal: 69.8ms\tremaining: 629ms\n",
      "10:\tlearn: 22.3196175\ttotal: 79.5ms\tremaining: 644ms\n",
      "11:\tlearn: 21.8642185\ttotal: 86.6ms\tremaining: 635ms\n",
      "12:\tlearn: 21.4914243\ttotal: 93.4ms\tremaining: 625ms\n",
      "13:\tlearn: 21.1990622\ttotal: 100ms\tremaining: 615ms\n",
      "14:\tlearn: 20.8849182\ttotal: 107ms\tremaining: 606ms\n",
      "15:\tlearn: 20.5685080\ttotal: 113ms\tremaining: 594ms\n",
      "16:\tlearn: 20.3130791\ttotal: 120ms\tremaining: 584ms\n",
      "17:\tlearn: 20.0249687\ttotal: 126ms\tremaining: 575ms\n",
      "18:\tlearn: 19.8208258\ttotal: 133ms\tremaining: 569ms\n",
      "19:\tlearn: 19.6496921\ttotal: 140ms\tremaining: 560ms\n",
      "20:\tlearn: 19.4305698\ttotal: 147ms\tremaining: 552ms\n",
      "21:\tlearn: 19.2119087\ttotal: 154ms\tremaining: 545ms\n",
      "22:\tlearn: 19.0411550\ttotal: 160ms\tremaining: 537ms\n",
      "23:\tlearn: 18.8960960\ttotal: 167ms\tremaining: 530ms\n",
      "24:\tlearn: 18.7422696\ttotal: 178ms\tremaining: 535ms\n",
      "25:\tlearn: 18.6226536\ttotal: 186ms\tremaining: 529ms\n",
      "26:\tlearn: 18.4775857\ttotal: 193ms\tremaining: 521ms\n",
      "27:\tlearn: 18.3429955\ttotal: 199ms\tremaining: 513ms\n",
      "28:\tlearn: 18.2075865\ttotal: 206ms\tremaining: 505ms\n",
      "29:\tlearn: 18.0902916\ttotal: 213ms\tremaining: 497ms\n",
      "30:\tlearn: 17.9717487\ttotal: 220ms\tremaining: 489ms\n",
      "31:\tlearn: 17.8542731\ttotal: 226ms\tremaining: 481ms\n",
      "32:\tlearn: 17.7865478\ttotal: 233ms\tremaining: 473ms\n",
      "33:\tlearn: 17.7138992\ttotal: 240ms\tremaining: 465ms\n",
      "34:\tlearn: 17.6360567\ttotal: 246ms\tremaining: 457ms\n",
      "35:\tlearn: 17.5799749\ttotal: 252ms\tremaining: 448ms\n",
      "36:\tlearn: 17.4850639\ttotal: 261ms\tremaining: 444ms\n",
      "37:\tlearn: 17.4114809\ttotal: 271ms\tremaining: 442ms\n",
      "38:\tlearn: 17.3312936\ttotal: 278ms\tremaining: 435ms\n",
      "39:\tlearn: 17.2601455\ttotal: 285ms\tremaining: 427ms\n",
      "40:\tlearn: 17.2061317\ttotal: 291ms\tremaining: 419ms\n",
      "41:\tlearn: 17.1411260\ttotal: 298ms\tremaining: 411ms\n",
      "42:\tlearn: 17.0510680\ttotal: 305ms\tremaining: 404ms\n",
      "43:\tlearn: 16.9782341\ttotal: 311ms\tremaining: 396ms\n",
      "44:\tlearn: 16.9143233\ttotal: 318ms\tremaining: 388ms\n",
      "45:\tlearn: 16.8152535\ttotal: 324ms\tremaining: 381ms\n",
      "46:\tlearn: 16.7525246\ttotal: 331ms\tremaining: 373ms\n",
      "47:\tlearn: 16.6622872\ttotal: 338ms\tremaining: 366ms\n",
      "48:\tlearn: 16.6107374\ttotal: 344ms\tremaining: 358ms\n",
      "49:\tlearn: 16.5453328\ttotal: 350ms\tremaining: 350ms\n",
      "50:\tlearn: 16.4976348\ttotal: 361ms\tremaining: 347ms\n",
      "51:\tlearn: 16.4632398\ttotal: 369ms\tremaining: 340ms\n",
      "52:\tlearn: 16.3854174\ttotal: 375ms\tremaining: 333ms\n",
      "53:\tlearn: 16.2979801\ttotal: 382ms\tremaining: 325ms\n",
      "54:\tlearn: 16.2068766\ttotal: 388ms\tremaining: 318ms\n",
      "55:\tlearn: 16.1346163\ttotal: 395ms\tremaining: 310ms\n",
      "56:\tlearn: 16.0739507\ttotal: 401ms\tremaining: 303ms\n",
      "57:\tlearn: 16.0158158\ttotal: 407ms\tremaining: 295ms\n",
      "58:\tlearn: 15.9643252\ttotal: 414ms\tremaining: 288ms\n",
      "59:\tlearn: 15.8935716\ttotal: 420ms\tremaining: 280ms\n",
      "60:\tlearn: 15.8254550\ttotal: 426ms\tremaining: 273ms\n",
      "61:\tlearn: 15.7601977\ttotal: 433ms\tremaining: 265ms\n",
      "62:\tlearn: 15.6943249\ttotal: 439ms\tremaining: 258ms\n",
      "63:\tlearn: 15.6452448\ttotal: 445ms\tremaining: 251ms\n",
      "64:\tlearn: 15.5582587\ttotal: 456ms\tremaining: 246ms\n",
      "65:\tlearn: 15.5099594\ttotal: 464ms\tremaining: 239ms\n",
      "66:\tlearn: 15.4136004\ttotal: 471ms\tremaining: 232ms\n",
      "67:\tlearn: 15.3518753\ttotal: 477ms\tremaining: 225ms\n",
      "68:\tlearn: 15.3053018\ttotal: 484ms\tremaining: 217ms\n",
      "69:\tlearn: 15.2487720\ttotal: 490ms\tremaining: 210ms\n",
      "70:\tlearn: 15.1779736\ttotal: 497ms\tremaining: 203ms\n",
      "71:\tlearn: 15.1272219\ttotal: 504ms\tremaining: 196ms\n",
      "72:\tlearn: 15.0745850\ttotal: 510ms\tremaining: 189ms\n",
      "73:\tlearn: 15.0126570\ttotal: 517ms\tremaining: 182ms\n",
      "74:\tlearn: 14.9528507\ttotal: 524ms\tremaining: 175ms\n",
      "75:\tlearn: 14.8987868\ttotal: 531ms\tremaining: 168ms\n",
      "76:\tlearn: 14.8415497\ttotal: 537ms\tremaining: 160ms\n",
      "77:\tlearn: 14.7886419\ttotal: 545ms\tremaining: 154ms\n",
      "78:\tlearn: 14.7370576\ttotal: 555ms\tremaining: 148ms\n",
      "79:\tlearn: 14.6945940\ttotal: 565ms\tremaining: 141ms\n",
      "80:\tlearn: 14.6624073\ttotal: 575ms\tremaining: 135ms\n",
      "81:\tlearn: 14.5840887\ttotal: 585ms\tremaining: 129ms\n",
      "82:\tlearn: 14.5435542\ttotal: 592ms\tremaining: 121ms\n",
      "83:\tlearn: 14.5194340\ttotal: 600ms\tremaining: 114ms\n",
      "84:\tlearn: 14.4671771\ttotal: 608ms\tremaining: 107ms\n",
      "85:\tlearn: 14.3805297\ttotal: 615ms\tremaining: 100ms\n",
      "86:\tlearn: 14.3071751\ttotal: 622ms\tremaining: 93ms\n",
      "87:\tlearn: 14.2369224\ttotal: 630ms\tremaining: 85.9ms\n",
      "88:\tlearn: 14.1981741\ttotal: 639ms\tremaining: 79ms\n",
      "89:\tlearn: 14.1495695\ttotal: 649ms\tremaining: 72.2ms\n",
      "90:\tlearn: 14.1230598\ttotal: 658ms\tremaining: 65.1ms\n",
      "91:\tlearn: 14.0722134\ttotal: 668ms\tremaining: 58ms\n",
      "92:\tlearn: 14.0227455\ttotal: 678ms\tremaining: 51.1ms\n",
      "93:\tlearn: 13.9590137\ttotal: 687ms\tremaining: 43.8ms\n",
      "94:\tlearn: 13.9345415\ttotal: 695ms\tremaining: 36.6ms\n",
      "95:\tlearn: 13.9055391\ttotal: 704ms\tremaining: 29.3ms\n",
      "96:\tlearn: 13.8529680\ttotal: 715ms\tremaining: 22.1ms\n",
      "97:\tlearn: 13.7989917\ttotal: 726ms\tremaining: 14.8ms\n",
      "98:\tlearn: 13.7450772\ttotal: 736ms\tremaining: 7.43ms\n",
      "99:\tlearn: 13.6876186\ttotal: 747ms\tremaining: 0us\n",
      "0:\tlearn: 31.7882875\ttotal: 8.82ms\tremaining: 873ms\n",
      "1:\tlearn: 30.3248963\ttotal: 20.6ms\tremaining: 1.01s\n",
      "2:\tlearn: 29.1653982\ttotal: 30ms\tremaining: 970ms\n",
      "3:\tlearn: 28.1278183\ttotal: 38.1ms\tremaining: 915ms\n",
      "4:\tlearn: 27.1848309\ttotal: 45.7ms\tremaining: 869ms\n",
      "5:\tlearn: 26.3284627\ttotal: 52.9ms\tremaining: 828ms\n",
      "6:\tlearn: 25.6240590\ttotal: 59.9ms\tremaining: 795ms\n",
      "7:\tlearn: 24.9584077\ttotal: 67.3ms\tremaining: 774ms\n",
      "8:\tlearn: 24.3088976\ttotal: 74.7ms\tremaining: 755ms\n",
      "9:\tlearn: 23.7819392\ttotal: 81.8ms\tremaining: 736ms\n",
      "10:\tlearn: 23.3400284\ttotal: 88.9ms\tremaining: 719ms\n",
      "11:\tlearn: 22.9313974\ttotal: 96.1ms\tremaining: 705ms\n",
      "12:\tlearn: 22.5377326\ttotal: 103ms\tremaining: 691ms\n",
      "13:\tlearn: 22.2685697\ttotal: 111ms\tremaining: 680ms\n",
      "14:\tlearn: 21.9358710\ttotal: 121ms\tremaining: 685ms\n",
      "15:\tlearn: 21.6686083\ttotal: 131ms\tremaining: 686ms\n",
      "16:\tlearn: 21.4645103\ttotal: 138ms\tremaining: 675ms\n",
      "17:\tlearn: 21.2623454\ttotal: 146ms\tremaining: 664ms\n",
      "18:\tlearn: 21.0890977\ttotal: 153ms\tremaining: 653ms\n",
      "19:\tlearn: 20.9335873\ttotal: 161ms\tremaining: 642ms\n",
      "20:\tlearn: 20.7201058\ttotal: 168ms\tremaining: 630ms\n",
      "21:\tlearn: 20.5691486\ttotal: 175ms\tremaining: 619ms\n",
      "22:\tlearn: 20.4011885\ttotal: 182ms\tremaining: 609ms\n",
      "23:\tlearn: 20.2313611\ttotal: 189ms\tremaining: 600ms\n",
      "24:\tlearn: 20.0797272\ttotal: 197ms\tremaining: 590ms\n",
      "25:\tlearn: 19.9596595\ttotal: 206ms\tremaining: 585ms\n",
      "26:\tlearn: 19.8380065\ttotal: 217ms\tremaining: 586ms\n",
      "27:\tlearn: 19.6713943\ttotal: 224ms\tremaining: 577ms\n",
      "28:\tlearn: 19.5635371\ttotal: 231ms\tremaining: 566ms\n",
      "29:\tlearn: 19.4731162\ttotal: 238ms\tremaining: 556ms\n",
      "30:\tlearn: 19.3690581\ttotal: 246ms\tremaining: 547ms\n",
      "31:\tlearn: 19.2276060\ttotal: 253ms\tremaining: 537ms\n",
      "32:\tlearn: 19.1576055\ttotal: 260ms\tremaining: 528ms\n",
      "33:\tlearn: 19.0420417\ttotal: 267ms\tremaining: 519ms\n",
      "34:\tlearn: 18.9441745\ttotal: 274ms\tremaining: 510ms\n",
      "35:\tlearn: 18.8855678\ttotal: 282ms\tremaining: 501ms\n",
      "36:\tlearn: 18.7850491\ttotal: 289ms\tremaining: 492ms\n",
      "37:\tlearn: 18.7234423\ttotal: 296ms\tremaining: 483ms\n",
      "38:\tlearn: 18.6357026\ttotal: 308ms\tremaining: 482ms\n",
      "39:\tlearn: 18.5779074\ttotal: 317ms\tremaining: 475ms\n",
      "40:\tlearn: 18.5232582\ttotal: 324ms\tremaining: 466ms\n",
      "41:\tlearn: 18.4624093\ttotal: 331ms\tremaining: 458ms\n",
      "42:\tlearn: 18.3958691\ttotal: 339ms\tremaining: 450ms\n",
      "43:\tlearn: 18.3072787\ttotal: 347ms\tremaining: 441ms\n",
      "44:\tlearn: 18.2307900\ttotal: 354ms\tremaining: 432ms\n",
      "45:\tlearn: 18.1561189\ttotal: 362ms\tremaining: 425ms\n",
      "46:\tlearn: 18.0864459\ttotal: 369ms\tremaining: 416ms\n",
      "47:\tlearn: 18.0194508\ttotal: 376ms\tremaining: 407ms\n",
      "48:\tlearn: 17.9727947\ttotal: 382ms\tremaining: 398ms\n",
      "49:\tlearn: 17.9200682\ttotal: 390ms\tremaining: 390ms\n",
      "50:\tlearn: 17.8716436\ttotal: 401ms\tremaining: 385ms\n",
      "51:\tlearn: 17.8140843\ttotal: 412ms\tremaining: 380ms\n",
      "52:\tlearn: 17.7198848\ttotal: 419ms\tremaining: 372ms\n",
      "53:\tlearn: 17.6480213\ttotal: 427ms\tremaining: 364ms\n",
      "54:\tlearn: 17.5986069\ttotal: 434ms\tremaining: 355ms\n",
      "55:\tlearn: 17.5514366\ttotal: 441ms\tremaining: 346ms\n",
      "56:\tlearn: 17.4883864\ttotal: 448ms\tremaining: 338ms\n",
      "57:\tlearn: 17.4204707\ttotal: 455ms\tremaining: 330ms\n",
      "58:\tlearn: 17.3889085\ttotal: 463ms\tremaining: 322ms\n",
      "59:\tlearn: 17.3315427\ttotal: 470ms\tremaining: 314ms\n",
      "60:\tlearn: 17.2805817\ttotal: 478ms\tremaining: 305ms\n",
      "61:\tlearn: 17.2146794\ttotal: 486ms\tremaining: 298ms\n",
      "62:\tlearn: 17.1691065\ttotal: 494ms\tremaining: 290ms\n",
      "63:\tlearn: 17.1303147\ttotal: 502ms\tremaining: 282ms\n",
      "64:\tlearn: 17.0570033\ttotal: 510ms\tremaining: 275ms\n",
      "65:\tlearn: 16.9892923\ttotal: 519ms\tremaining: 268ms\n",
      "66:\tlearn: 16.9072249\ttotal: 528ms\tremaining: 260ms\n",
      "67:\tlearn: 16.8517521\ttotal: 536ms\tremaining: 252ms\n",
      "68:\tlearn: 16.7952036\ttotal: 545ms\tremaining: 245ms\n",
      "69:\tlearn: 16.7103796\ttotal: 553ms\tremaining: 237ms\n",
      "70:\tlearn: 16.6656482\ttotal: 561ms\tremaining: 229ms\n",
      "71:\tlearn: 16.6000479\ttotal: 568ms\tremaining: 221ms\n",
      "72:\tlearn: 16.5640758\ttotal: 578ms\tremaining: 214ms\n",
      "73:\tlearn: 16.5128598\ttotal: 586ms\tremaining: 206ms\n",
      "74:\tlearn: 16.4714872\ttotal: 593ms\tremaining: 198ms\n",
      "75:\tlearn: 16.4199775\ttotal: 601ms\tremaining: 190ms\n",
      "76:\tlearn: 16.3667156\ttotal: 608ms\tremaining: 182ms\n",
      "77:\tlearn: 16.3041087\ttotal: 615ms\tremaining: 173ms\n",
      "78:\tlearn: 16.2471763\ttotal: 622ms\tremaining: 165ms\n",
      "79:\tlearn: 16.1956815\ttotal: 629ms\tremaining: 157ms\n",
      "80:\tlearn: 16.1549816\ttotal: 635ms\tremaining: 149ms\n",
      "81:\tlearn: 16.1055336\ttotal: 642ms\tremaining: 141ms\n",
      "82:\tlearn: 16.0759829\ttotal: 649ms\tremaining: 133ms\n",
      "83:\tlearn: 16.0482821\ttotal: 663ms\tremaining: 126ms\n",
      "84:\tlearn: 16.0043503\ttotal: 671ms\tremaining: 118ms\n",
      "85:\tlearn: 15.9771265\ttotal: 679ms\tremaining: 110ms\n",
      "86:\tlearn: 15.9359784\ttotal: 686ms\tremaining: 102ms\n",
      "87:\tlearn: 15.8898729\ttotal: 693ms\tremaining: 94.5ms\n",
      "88:\tlearn: 15.8298777\ttotal: 700ms\tremaining: 86.5ms\n",
      "89:\tlearn: 15.7861975\ttotal: 707ms\tremaining: 78.5ms\n",
      "90:\tlearn: 15.7407455\ttotal: 714ms\tremaining: 70.6ms\n",
      "91:\tlearn: 15.6876444\ttotal: 721ms\tremaining: 62.7ms\n",
      "92:\tlearn: 15.6405414\ttotal: 727ms\tremaining: 54.7ms\n",
      "93:\tlearn: 15.5998081\ttotal: 734ms\tremaining: 46.8ms\n",
      "94:\tlearn: 15.5852565\ttotal: 741ms\tremaining: 39ms\n",
      "95:\tlearn: 15.5355276\ttotal: 750ms\tremaining: 31.3ms\n",
      "96:\tlearn: 15.4664744\ttotal: 764ms\tremaining: 23.6ms\n",
      "97:\tlearn: 15.4342853\ttotal: 774ms\tremaining: 15.8ms\n",
      "98:\tlearn: 15.4030488\ttotal: 781ms\tremaining: 7.88ms\n",
      "99:\tlearn: 15.3649811\ttotal: 788ms\tremaining: 0us\n",
      "0:\tlearn: 33.0978582\ttotal: 9.68ms\tremaining: 958ms\n",
      "1:\tlearn: 31.6618683\ttotal: 18.3ms\tremaining: 899ms\n",
      "2:\tlearn: 30.4321497\ttotal: 26.5ms\tremaining: 858ms\n",
      "3:\tlearn: 29.2635061\ttotal: 34.6ms\tremaining: 830ms\n",
      "4:\tlearn: 28.2213931\ttotal: 42.2ms\tremaining: 801ms\n",
      "5:\tlearn: 27.2627140\ttotal: 49.8ms\tremaining: 780ms\n",
      "6:\tlearn: 26.5702023\ttotal: 57.7ms\tremaining: 766ms\n",
      "7:\tlearn: 25.8776794\ttotal: 65.8ms\tremaining: 756ms\n",
      "8:\tlearn: 25.2945659\ttotal: 73.8ms\tremaining: 747ms\n",
      "9:\tlearn: 24.7876458\ttotal: 86.2ms\tremaining: 776ms\n",
      "10:\tlearn: 24.3434920\ttotal: 95.6ms\tremaining: 774ms\n",
      "11:\tlearn: 23.9111980\ttotal: 103ms\tremaining: 758ms\n",
      "12:\tlearn: 23.5258747\ttotal: 111ms\tremaining: 746ms\n",
      "13:\tlearn: 23.1375241\ttotal: 120ms\tremaining: 738ms\n",
      "14:\tlearn: 22.8536770\ttotal: 128ms\tremaining: 725ms\n",
      "15:\tlearn: 22.5602562\ttotal: 136ms\tremaining: 712ms\n",
      "16:\tlearn: 22.3569567\ttotal: 143ms\tremaining: 700ms\n",
      "17:\tlearn: 22.1428208\ttotal: 152ms\tremaining: 691ms\n",
      "18:\tlearn: 21.9621174\ttotal: 161ms\tremaining: 687ms\n",
      "19:\tlearn: 21.7811117\ttotal: 171ms\tremaining: 684ms\n",
      "20:\tlearn: 21.6094128\ttotal: 183ms\tremaining: 687ms\n",
      "21:\tlearn: 21.4353932\ttotal: 191ms\tremaining: 676ms\n",
      "22:\tlearn: 21.2841147\ttotal: 199ms\tremaining: 665ms\n",
      "23:\tlearn: 21.1276238\ttotal: 207ms\tremaining: 654ms\n",
      "24:\tlearn: 20.9941246\ttotal: 214ms\tremaining: 643ms\n",
      "25:\tlearn: 20.8870373\ttotal: 222ms\tremaining: 632ms\n",
      "26:\tlearn: 20.7770690\ttotal: 230ms\tremaining: 622ms\n",
      "27:\tlearn: 20.6435152\ttotal: 238ms\tremaining: 611ms\n",
      "28:\tlearn: 20.5268697\ttotal: 246ms\tremaining: 603ms\n",
      "29:\tlearn: 20.4610775\ttotal: 254ms\tremaining: 593ms\n",
      "30:\tlearn: 20.3829036\ttotal: 263ms\tremaining: 584ms\n",
      "31:\tlearn: 20.2794554\ttotal: 274ms\tremaining: 582ms\n",
      "32:\tlearn: 20.1848847\ttotal: 284ms\tremaining: 577ms\n",
      "33:\tlearn: 20.1221921\ttotal: 292ms\tremaining: 568ms\n",
      "34:\tlearn: 20.0147721\ttotal: 300ms\tremaining: 557ms\n",
      "35:\tlearn: 19.9678595\ttotal: 307ms\tremaining: 546ms\n",
      "36:\tlearn: 19.9005789\ttotal: 315ms\tremaining: 536ms\n",
      "37:\tlearn: 19.8019636\ttotal: 322ms\tremaining: 526ms\n",
      "38:\tlearn: 19.7158740\ttotal: 330ms\tremaining: 516ms\n",
      "39:\tlearn: 19.6636456\ttotal: 337ms\tremaining: 506ms\n",
      "40:\tlearn: 19.6019928\ttotal: 350ms\tremaining: 504ms\n",
      "41:\tlearn: 19.5363004\ttotal: 360ms\tremaining: 497ms\n",
      "42:\tlearn: 19.4779181\ttotal: 368ms\tremaining: 488ms\n",
      "43:\tlearn: 19.4338012\ttotal: 375ms\tremaining: 478ms\n",
      "44:\tlearn: 19.3807121\ttotal: 383ms\tremaining: 468ms\n",
      "45:\tlearn: 19.3333498\ttotal: 391ms\tremaining: 459ms\n",
      "46:\tlearn: 19.2912457\ttotal: 399ms\tremaining: 450ms\n",
      "47:\tlearn: 19.2325847\ttotal: 407ms\tremaining: 441ms\n",
      "48:\tlearn: 19.1691654\ttotal: 414ms\tremaining: 431ms\n",
      "49:\tlearn: 19.1162286\ttotal: 422ms\tremaining: 422ms\n",
      "50:\tlearn: 19.0574334\ttotal: 429ms\tremaining: 413ms\n",
      "51:\tlearn: 19.0098338\ttotal: 438ms\tremaining: 404ms\n",
      "52:\tlearn: 18.9620229\ttotal: 451ms\tremaining: 400ms\n",
      "53:\tlearn: 18.9243378\ttotal: 460ms\tremaining: 392ms\n",
      "54:\tlearn: 18.8646481\ttotal: 468ms\tremaining: 383ms\n",
      "55:\tlearn: 18.7816247\ttotal: 476ms\tremaining: 374ms\n",
      "56:\tlearn: 18.7353752\ttotal: 483ms\tremaining: 364ms\n",
      "57:\tlearn: 18.6672728\ttotal: 490ms\tremaining: 355ms\n",
      "58:\tlearn: 18.6318410\ttotal: 498ms\tremaining: 346ms\n",
      "59:\tlearn: 18.5761186\ttotal: 505ms\tremaining: 337ms\n",
      "60:\tlearn: 18.5130604\ttotal: 513ms\tremaining: 328ms\n",
      "61:\tlearn: 18.4493002\ttotal: 520ms\tremaining: 319ms\n",
      "62:\tlearn: 18.3973166\ttotal: 528ms\tremaining: 310ms\n",
      "63:\tlearn: 18.3550652\ttotal: 536ms\tremaining: 301ms\n",
      "64:\tlearn: 18.3250279\ttotal: 544ms\tremaining: 293ms\n",
      "65:\tlearn: 18.2946058\ttotal: 552ms\tremaining: 285ms\n",
      "66:\tlearn: 18.2551100\ttotal: 560ms\tremaining: 276ms\n",
      "67:\tlearn: 18.2032628\ttotal: 569ms\tremaining: 268ms\n",
      "68:\tlearn: 18.1617904\ttotal: 578ms\tremaining: 260ms\n",
      "69:\tlearn: 18.1204495\ttotal: 587ms\tremaining: 251ms\n",
      "70:\tlearn: 18.0639978\ttotal: 596ms\tremaining: 244ms\n",
      "71:\tlearn: 18.0108968\ttotal: 605ms\tremaining: 235ms\n",
      "72:\tlearn: 17.9757030\ttotal: 614ms\tremaining: 227ms\n",
      "73:\tlearn: 17.9331434\ttotal: 622ms\tremaining: 219ms\n",
      "74:\tlearn: 17.8980233\ttotal: 632ms\tremaining: 211ms\n",
      "75:\tlearn: 17.8497382\ttotal: 644ms\tremaining: 203ms\n",
      "76:\tlearn: 17.8005147\ttotal: 653ms\tremaining: 195ms\n",
      "77:\tlearn: 17.7576845\ttotal: 661ms\tremaining: 186ms\n",
      "78:\tlearn: 17.7106332\ttotal: 668ms\tremaining: 178ms\n",
      "79:\tlearn: 17.6684102\ttotal: 676ms\tremaining: 169ms\n",
      "80:\tlearn: 17.6350581\ttotal: 684ms\tremaining: 160ms\n",
      "81:\tlearn: 17.6032639\ttotal: 691ms\tremaining: 152ms\n",
      "82:\tlearn: 17.5489274\ttotal: 698ms\tremaining: 143ms\n",
      "83:\tlearn: 17.4794920\ttotal: 706ms\tremaining: 135ms\n",
      "84:\tlearn: 17.4164468\ttotal: 714ms\tremaining: 126ms\n",
      "85:\tlearn: 17.3565638\ttotal: 721ms\tremaining: 117ms\n",
      "86:\tlearn: 17.3116938\ttotal: 732ms\tremaining: 109ms\n",
      "87:\tlearn: 17.2652358\ttotal: 742ms\tremaining: 101ms\n",
      "88:\tlearn: 17.2371427\ttotal: 750ms\tremaining: 92.6ms\n",
      "89:\tlearn: 17.2168010\ttotal: 757ms\tremaining: 84.1ms\n",
      "90:\tlearn: 17.1718513\ttotal: 765ms\tremaining: 75.6ms\n",
      "91:\tlearn: 17.1208218\ttotal: 772ms\tremaining: 67.1ms\n",
      "92:\tlearn: 17.0761118\ttotal: 780ms\tremaining: 58.7ms\n",
      "93:\tlearn: 17.0537186\ttotal: 787ms\tremaining: 50.3ms\n",
      "94:\tlearn: 16.9977969\ttotal: 795ms\tremaining: 41.9ms\n",
      "95:\tlearn: 16.9858389\ttotal: 803ms\tremaining: 33.4ms\n",
      "96:\tlearn: 16.9422717\ttotal: 810ms\tremaining: 25.1ms\n",
      "97:\tlearn: 16.9275709\ttotal: 818ms\tremaining: 16.7ms\n",
      "98:\tlearn: 16.8729476\ttotal: 827ms\tremaining: 8.35ms\n",
      "99:\tlearn: 16.8244048\ttotal: 839ms\tremaining: 0us\n"
     ]
    }
   ],
   "source": [
    "rmse_score = make_scorer(mean_squared_error, squared=False)\n",
    "tcv = TimeSeriesSplit(n_splits=5)\n",
    "rmse_c = cross_val_score(model_3,features_train3, target_train3, scoring=rmse_score, cv= tcv) "
   ]
  },
  {
   "cell_type": "code",
   "execution_count": 39,
   "metadata": {
    "scrolled": true
   },
   "outputs": [
    {
     "name": "stdout",
     "output_type": "stream",
     "text": [
      "RMSE: [21.17606707 21.39234971 22.79398737 23.6371957  31.95394902]\n"
     ]
    }
   ],
   "source": [
    "print('RMSE:', rmse_c)"
   ]
  },
  {
   "cell_type": "markdown",
   "metadata": {},
   "source": [
    "### Выбор модели"
   ]
  },
  {
   "cell_type": "markdown",
   "metadata": {},
   "source": [
    "Выведем среднюю rmse лучших моделей."
   ]
  },
  {
   "cell_type": "code",
   "execution_count": 109,
   "metadata": {},
   "outputs": [
    {
     "data": {
      "text/html": [
       "<div>\n",
       "<style scoped>\n",
       "    .dataframe tbody tr th:only-of-type {\n",
       "        vertical-align: middle;\n",
       "    }\n",
       "\n",
       "    .dataframe tbody tr th {\n",
       "        vertical-align: top;\n",
       "    }\n",
       "\n",
       "    .dataframe thead th {\n",
       "        text-align: right;\n",
       "    }\n",
       "</style>\n",
       "<table border=\"1\" class=\"dataframe\">\n",
       "  <thead>\n",
       "    <tr style=\"text-align: right;\">\n",
       "      <th></th>\n",
       "      <th>LightGMB</th>\n",
       "      <th>RandomForest</th>\n",
       "      <th>Catboost</th>\n",
       "    </tr>\n",
       "  </thead>\n",
       "  <tbody>\n",
       "    <tr>\n",
       "      <th>rmse_mean</th>\n",
       "      <td>24.203335</td>\n",
       "      <td>24.764123</td>\n",
       "      <td>24.19071</td>\n",
       "    </tr>\n",
       "  </tbody>\n",
       "</table>\n",
       "</div>"
      ],
      "text/plain": [
       "            LightGMB  RandomForest  Catboost\n",
       "rmse_mean  24.203335     24.764123  24.19071"
      ]
     },
     "execution_count": 109,
     "metadata": {},
     "output_type": "execute_result"
    }
   ],
   "source": [
    "pd.DataFrame({'LightGMB': sum(rmse_gbm)/len(rmse_gbm), \n",
    "              'RandomForest' :  sum(rmse_rf)/len(rmse_rf),\n",
    "               'Catboost': sum(rmse_c)/len(rmse_c)}, index = ['rmse_mean']) "
   ]
  },
  {
   "cell_type": "markdown",
   "metadata": {},
   "source": [
    "По результатам кросс-валидации средняя RMSE лучше всего у CatBoost. Ее и выберем для теста."
   ]
  },
  {
   "cell_type": "markdown",
   "metadata": {},
   "source": [
    "## Тестирование"
   ]
  },
  {
   "cell_type": "markdown",
   "metadata": {},
   "source": [
    "Обучим нашу модель заново и проверим на тесте."
   ]
  },
  {
   "cell_type": "code",
   "execution_count": 65,
   "metadata": {
    "scrolled": false
   },
   "outputs": [
    {
     "name": "stdout",
     "output_type": "stream",
     "text": [
      "0:\tlearn: 36.8691271\ttotal: 10.2ms\tremaining: 1s\n",
      "1:\tlearn: 35.1768430\ttotal: 19.4ms\tremaining: 953ms\n",
      "2:\tlearn: 33.7438443\ttotal: 28.9ms\tremaining: 933ms\n",
      "3:\tlearn: 32.4366449\ttotal: 38.3ms\tremaining: 919ms\n",
      "4:\tlearn: 31.2944070\ttotal: 47.3ms\tremaining: 900ms\n",
      "5:\tlearn: 30.2229454\ttotal: 61.2ms\tremaining: 958ms\n",
      "6:\tlearn: 29.3579875\ttotal: 71.7ms\tremaining: 953ms\n",
      "7:\tlearn: 28.5823565\ttotal: 80.9ms\tremaining: 931ms\n",
      "8:\tlearn: 27.9192700\ttotal: 90ms\tremaining: 910ms\n",
      "9:\tlearn: 27.3078705\ttotal: 98.8ms\tremaining: 890ms\n",
      "10:\tlearn: 26.7742199\ttotal: 108ms\tremaining: 871ms\n",
      "11:\tlearn: 26.3275679\ttotal: 116ms\tremaining: 854ms\n",
      "12:\tlearn: 25.9259770\ttotal: 125ms\tremaining: 837ms\n",
      "13:\tlearn: 25.5191261\ttotal: 134ms\tremaining: 823ms\n",
      "14:\tlearn: 25.2120140\ttotal: 143ms\tremaining: 810ms\n",
      "15:\tlearn: 24.9196520\ttotal: 157ms\tremaining: 823ms\n",
      "16:\tlearn: 24.6503472\ttotal: 166ms\tremaining: 810ms\n",
      "17:\tlearn: 24.4083965\ttotal: 175ms\tremaining: 799ms\n",
      "18:\tlearn: 24.2328009\ttotal: 185ms\tremaining: 788ms\n",
      "19:\tlearn: 24.0453227\ttotal: 196ms\tremaining: 784ms\n",
      "20:\tlearn: 23.8292177\ttotal: 205ms\tremaining: 770ms\n",
      "21:\tlearn: 23.6557429\ttotal: 214ms\tremaining: 757ms\n",
      "22:\tlearn: 23.5018856\ttotal: 223ms\tremaining: 745ms\n",
      "23:\tlearn: 23.3548782\ttotal: 231ms\tremaining: 732ms\n",
      "24:\tlearn: 23.2139661\ttotal: 240ms\tremaining: 719ms\n",
      "25:\tlearn: 23.0505169\ttotal: 253ms\tremaining: 720ms\n",
      "26:\tlearn: 22.9032634\ttotal: 262ms\tremaining: 709ms\n",
      "27:\tlearn: 22.7571906\ttotal: 271ms\tremaining: 697ms\n",
      "28:\tlearn: 22.6459982\ttotal: 280ms\tremaining: 686ms\n",
      "29:\tlearn: 22.5295715\ttotal: 289ms\tremaining: 673ms\n",
      "30:\tlearn: 22.4332032\ttotal: 297ms\tremaining: 661ms\n",
      "31:\tlearn: 22.3192612\ttotal: 306ms\tremaining: 649ms\n",
      "32:\tlearn: 22.2274256\ttotal: 314ms\tremaining: 637ms\n",
      "33:\tlearn: 22.1238492\ttotal: 323ms\tremaining: 626ms\n",
      "34:\tlearn: 22.0517496\ttotal: 331ms\tremaining: 615ms\n",
      "35:\tlearn: 21.9228419\ttotal: 340ms\tremaining: 604ms\n",
      "36:\tlearn: 21.8502628\ttotal: 352ms\tremaining: 599ms\n",
      "37:\tlearn: 21.7652230\ttotal: 362ms\tremaining: 590ms\n",
      "38:\tlearn: 21.6690510\ttotal: 370ms\tremaining: 579ms\n",
      "39:\tlearn: 21.5979985\ttotal: 379ms\tremaining: 569ms\n",
      "40:\tlearn: 21.5309059\ttotal: 388ms\tremaining: 558ms\n",
      "41:\tlearn: 21.4617012\ttotal: 396ms\tremaining: 547ms\n",
      "42:\tlearn: 21.3887291\ttotal: 405ms\tremaining: 536ms\n",
      "43:\tlearn: 21.3443217\ttotal: 413ms\tremaining: 525ms\n",
      "44:\tlearn: 21.2797841\ttotal: 422ms\tremaining: 515ms\n",
      "45:\tlearn: 21.2025505\ttotal: 430ms\tremaining: 505ms\n",
      "46:\tlearn: 21.1554193\ttotal: 443ms\tremaining: 499ms\n",
      "47:\tlearn: 21.1020438\ttotal: 454ms\tremaining: 491ms\n",
      "48:\tlearn: 21.0446365\ttotal: 463ms\tremaining: 482ms\n",
      "49:\tlearn: 20.9937450\ttotal: 472ms\tremaining: 472ms\n",
      "50:\tlearn: 20.9273586\ttotal: 481ms\tremaining: 462ms\n",
      "51:\tlearn: 20.8755351\ttotal: 490ms\tremaining: 452ms\n",
      "52:\tlearn: 20.7917465\ttotal: 499ms\tremaining: 442ms\n",
      "53:\tlearn: 20.7479700\ttotal: 507ms\tremaining: 432ms\n",
      "54:\tlearn: 20.6558467\ttotal: 516ms\tremaining: 422ms\n",
      "55:\tlearn: 20.5758192\ttotal: 524ms\tremaining: 412ms\n",
      "56:\tlearn: 20.5325659\ttotal: 536ms\tremaining: 404ms\n",
      "57:\tlearn: 20.4384435\ttotal: 547ms\tremaining: 396ms\n",
      "58:\tlearn: 20.4141475\ttotal: 556ms\tremaining: 387ms\n",
      "59:\tlearn: 20.3803151\ttotal: 565ms\tremaining: 376ms\n",
      "60:\tlearn: 20.3341818\ttotal: 573ms\tremaining: 366ms\n",
      "61:\tlearn: 20.2992128\ttotal: 581ms\tremaining: 356ms\n",
      "62:\tlearn: 20.2602538\ttotal: 589ms\tremaining: 346ms\n",
      "63:\tlearn: 20.1842290\ttotal: 598ms\tremaining: 336ms\n",
      "64:\tlearn: 20.1245990\ttotal: 607ms\tremaining: 327ms\n",
      "65:\tlearn: 20.1018621\ttotal: 616ms\tremaining: 318ms\n",
      "66:\tlearn: 20.0830292\ttotal: 625ms\tremaining: 308ms\n",
      "67:\tlearn: 20.0417414\ttotal: 635ms\tremaining: 299ms\n",
      "68:\tlearn: 20.0062874\ttotal: 646ms\tremaining: 290ms\n",
      "69:\tlearn: 19.9589180\ttotal: 655ms\tremaining: 281ms\n",
      "70:\tlearn: 19.9218841\ttotal: 664ms\tremaining: 271ms\n",
      "71:\tlearn: 19.8689594\ttotal: 672ms\tremaining: 261ms\n",
      "72:\tlearn: 19.8164653\ttotal: 680ms\tremaining: 252ms\n",
      "73:\tlearn: 19.7531221\ttotal: 689ms\tremaining: 242ms\n",
      "74:\tlearn: 19.7196287\ttotal: 698ms\tremaining: 233ms\n",
      "75:\tlearn: 19.6747759\ttotal: 706ms\tremaining: 223ms\n",
      "76:\tlearn: 19.6140258\ttotal: 715ms\tremaining: 213ms\n",
      "77:\tlearn: 19.5512948\ttotal: 724ms\tremaining: 204ms\n",
      "78:\tlearn: 19.4888489\ttotal: 737ms\tremaining: 196ms\n",
      "79:\tlearn: 19.4513420\ttotal: 746ms\tremaining: 186ms\n",
      "80:\tlearn: 19.4043906\ttotal: 755ms\tremaining: 177ms\n",
      "81:\tlearn: 19.3632137\ttotal: 763ms\tremaining: 168ms\n",
      "82:\tlearn: 19.3148091\ttotal: 771ms\tremaining: 158ms\n",
      "83:\tlearn: 19.2562516\ttotal: 780ms\tremaining: 149ms\n",
      "84:\tlearn: 19.1812364\ttotal: 788ms\tremaining: 139ms\n",
      "85:\tlearn: 19.1399915\ttotal: 797ms\tremaining: 130ms\n",
      "86:\tlearn: 19.0989774\ttotal: 806ms\tremaining: 120ms\n",
      "87:\tlearn: 19.0457450\ttotal: 815ms\tremaining: 111ms\n",
      "88:\tlearn: 19.0072943\ttotal: 826ms\tremaining: 102ms\n",
      "89:\tlearn: 18.9819346\ttotal: 837ms\tremaining: 93ms\n",
      "90:\tlearn: 18.9299156\ttotal: 847ms\tremaining: 83.7ms\n",
      "91:\tlearn: 18.8968132\ttotal: 856ms\tremaining: 74.4ms\n",
      "92:\tlearn: 18.8596757\ttotal: 864ms\tremaining: 65.1ms\n",
      "93:\tlearn: 18.8342633\ttotal: 873ms\tremaining: 55.7ms\n",
      "94:\tlearn: 18.7849802\ttotal: 882ms\tremaining: 46.4ms\n",
      "95:\tlearn: 18.7674464\ttotal: 890ms\tremaining: 37.1ms\n",
      "96:\tlearn: 18.6973800\ttotal: 898ms\tremaining: 27.8ms\n",
      "97:\tlearn: 18.6552613\ttotal: 907ms\tremaining: 18.5ms\n",
      "98:\tlearn: 18.6271488\ttotal: 915ms\tremaining: 9.24ms\n",
      "99:\tlearn: 18.5698530\ttotal: 930ms\tremaining: 0us\n"
     ]
    }
   ],
   "source": [
    "model_3.fit(features_train3, target_train3)\n",
    "predict_c = model_3.predict(features_test3)"
   ]
  },
  {
   "cell_type": "markdown",
   "metadata": {},
   "source": [
    "Посчитаем RMSE на тесте:"
   ]
  },
  {
   "cell_type": "code",
   "execution_count": 104,
   "metadata": {},
   "outputs": [
    {
     "data": {
      "text/plain": [
       "41.40303515371971"
      ]
     },
     "execution_count": 104,
     "metadata": {},
     "output_type": "execute_result"
    }
   ],
   "source": [
    "mean_squared_error(predict_c, target_test3, squared=False)"
   ]
  },
  {
   "cell_type": "markdown",
   "metadata": {},
   "source": [
    "Построим график \"Прогноз-факт\"."
   ]
  },
  {
   "cell_type": "code",
   "execution_count": 103,
   "metadata": {
    "scrolled": false
   },
   "outputs": [
    {
     "data": {
      "image/png": "[encoded data removed]",
      "text/plain": [
       "<Figure size 1080x720 with 1 Axes>"
      ]
     },
     "metadata": {
      "needs_background": "light"
     },
     "output_type": "display_data"
    }
   ],
   "source": [
    "a = pd.DataFrame(data = {'Факт':target_test3.values,'Прогноз': predict_c}, index = target_test3.index)\n",
    "a.plot(title = 'Прогноз-факт', figsize=(15, 10));"
   ]
  },
  {
   "cell_type": "markdown",
   "metadata": {},
   "source": [
    "**Вывод:**\n",
    "\n",
    "Мы подготовили признаки для обучения, затем обучили три модели: LghtGBM, Случайный лес и CatBoost. Подобрали сколько дополнительных признаков нам добавлять. Лучшей моделью на валидации вышла CatBoost. По условию необходимо получить ошибку менее 48 на тесте, чего мы и добились RMSE = 41.4. По графику \"Прогноз-факт\" можно увидеть, что данные прогноза достаточно близки по пикам к фактическим значениям."
   ]
  }
 ],
 "metadata": {
  "ExecuteTimeLog": [
   {
    "duration": 430,
    "start_time": "2023-03-19T18:41:42.976Z"
   },
   {
    "duration": 112,
    "start_time": "2023-03-19T18:42:12.504Z"
   },
   {
    "duration": 49,
    "start_time": "2023-03-19T18:42:57.517Z"
   },
   {
    "duration": 168,
    "start_time": "2023-03-19T18:56:17.603Z"
   },
   {
    "duration": 15,
    "start_time": "2023-03-19T18:56:28.666Z"
   },
   {
    "duration": 28,
    "start_time": "2023-03-19T19:00:41.522Z"
   },
   {
    "duration": 59,
    "start_time": "2023-03-19T19:01:40.016Z"
   },
   {
    "duration": 17,
    "start_time": "2023-03-19T19:01:42.921Z"
   },
   {
    "duration": 4,
    "start_time": "2023-03-19T19:35:21.152Z"
   },
   {
    "duration": 4,
    "start_time": "2023-03-19T19:39:23.043Z"
   },
   {
    "duration": 10,
    "start_time": "2023-03-19T19:40:10.256Z"
   },
   {
    "duration": 7,
    "start_time": "2023-03-19T19:41:17.105Z"
   },
   {
    "duration": 6,
    "start_time": "2023-03-19T19:41:31.952Z"
   },
   {
    "duration": 7,
    "start_time": "2023-03-19T19:41:35.360Z"
   },
   {
    "duration": 5,
    "start_time": "2023-03-19T19:42:16.523Z"
   },
   {
    "duration": 7,
    "start_time": "2023-03-19T19:42:33.082Z"
   },
   {
    "duration": 9,
    "start_time": "2023-03-19T19:43:58.917Z"
   },
   {
    "duration": 7,
    "start_time": "2023-03-19T19:44:05.324Z"
   },
   {
    "duration": 12,
    "start_time": "2023-03-19T19:44:19.612Z"
   },
   {
    "duration": 8,
    "start_time": "2023-03-19T19:44:21.917Z"
   },
   {
    "duration": 24,
    "start_time": "2023-03-19T19:48:42.181Z"
   },
   {
    "duration": 12,
    "start_time": "2023-03-19T19:49:02.982Z"
   },
   {
    "duration": 3,
    "start_time": "2023-03-19T19:57:27.233Z"
   },
   {
    "duration": 744,
    "start_time": "2023-03-19T20:00:18.789Z"
   },
   {
    "duration": 33,
    "start_time": "2023-03-19T20:10:47.094Z"
   },
   {
    "duration": 104,
    "start_time": "2023-03-19T20:37:19.701Z"
   },
   {
    "duration": 4,
    "start_time": "2023-03-19T20:37:29.081Z"
   },
   {
    "duration": 30,
    "start_time": "2023-03-19T20:37:34.547Z"
   },
   {
    "duration": 8260,
    "start_time": "2023-03-19T20:38:42.137Z"
   },
   {
    "duration": 9296,
    "start_time": "2023-03-19T20:38:58.199Z"
   },
   {
    "duration": 4,
    "start_time": "2023-03-19T20:39:17.125Z"
   },
   {
    "duration": 3,
    "start_time": "2023-03-19T20:39:23.746Z"
   },
   {
    "duration": 7912,
    "start_time": "2023-03-19T20:39:38.988Z"
   },
   {
    "duration": 4,
    "start_time": "2023-03-19T20:39:50.528Z"
   },
   {
    "duration": 4,
    "start_time": "2023-03-19T20:39:52.039Z"
   },
   {
    "duration": 10840,
    "start_time": "2023-03-19T20:40:46.954Z"
   },
   {
    "duration": 4,
    "start_time": "2023-03-19T20:40:59.784Z"
   },
   {
    "duration": 5,
    "start_time": "2023-03-19T20:41:00.684Z"
   },
   {
    "duration": 5,
    "start_time": "2023-03-19T20:41:14.471Z"
   },
   {
    "duration": 10,
    "start_time": "2023-03-19T20:41:47.862Z"
   },
   {
    "duration": 4,
    "start_time": "2023-03-19T20:41:54.500Z"
   },
   {
    "duration": 5,
    "start_time": "2023-03-19T20:42:41.892Z"
   },
   {
    "duration": 4,
    "start_time": "2023-03-19T20:42:52.580Z"
   },
   {
    "duration": 6,
    "start_time": "2023-03-19T20:42:54.276Z"
   },
   {
    "duration": 5,
    "start_time": "2023-03-19T20:42:55.541Z"
   },
   {
    "duration": 5113,
    "start_time": "2023-03-19T20:44:19.685Z"
   },
   {
    "duration": 4,
    "start_time": "2023-03-19T20:44:29.302Z"
   },
   {
    "duration": 5,
    "start_time": "2023-03-19T20:44:30.440Z"
   },
   {
    "duration": 6,
    "start_time": "2023-03-19T20:44:31.646Z"
   },
   {
    "duration": 12147,
    "start_time": "2023-03-19T20:45:29.361Z"
   },
   {
    "duration": 5,
    "start_time": "2023-03-19T20:45:44.252Z"
   },
   {
    "duration": 5,
    "start_time": "2023-03-19T20:45:45.321Z"
   },
   {
    "duration": 4,
    "start_time": "2023-03-19T20:45:46.163Z"
   },
   {
    "duration": 5,
    "start_time": "2023-03-19T20:47:23.487Z"
   },
   {
    "duration": 42,
    "start_time": "2023-03-19T20:47:34.171Z"
   },
   {
    "duration": 1148,
    "start_time": "2023-03-19T20:49:03.961Z"
   },
   {
    "duration": 52,
    "start_time": "2023-03-19T20:49:05.114Z"
   },
   {
    "duration": 26,
    "start_time": "2023-03-19T20:49:05.167Z"
   },
   {
    "duration": 13,
    "start_time": "2023-03-19T20:49:05.194Z"
   },
   {
    "duration": 15,
    "start_time": "2023-03-19T20:49:05.209Z"
   },
   {
    "duration": 15,
    "start_time": "2023-03-19T20:49:05.226Z"
   },
   {
    "duration": 9,
    "start_time": "2023-03-19T20:49:05.242Z"
   },
   {
    "duration": 11,
    "start_time": "2023-03-19T20:49:05.252Z"
   },
   {
    "duration": 4806,
    "start_time": "2023-03-19T20:49:10.407Z"
   },
   {
    "duration": 3,
    "start_time": "2023-03-19T20:49:18.021Z"
   },
   {
    "duration": 4,
    "start_time": "2023-03-19T20:49:18.851Z"
   },
   {
    "duration": 4,
    "start_time": "2023-03-19T20:49:21.336Z"
   },
   {
    "duration": 4,
    "start_time": "2023-03-19T20:49:48.208Z"
   },
   {
    "duration": 21,
    "start_time": "2023-03-19T20:49:54.710Z"
   },
   {
    "duration": 46,
    "start_time": "2023-03-19T20:50:14.393Z"
   },
   {
    "duration": 117,
    "start_time": "2023-03-19T20:52:17.968Z"
   },
   {
    "duration": 205,
    "start_time": "2023-03-19T20:52:23.320Z"
   },
   {
    "duration": 90,
    "start_time": "2023-03-19T20:53:01.315Z"
   },
   {
    "duration": 6575,
    "start_time": "2023-03-19T20:54:12.632Z"
   },
   {
    "duration": 4,
    "start_time": "2023-03-19T20:54:20.763Z"
   },
   {
    "duration": 3,
    "start_time": "2023-03-19T20:54:21.939Z"
   },
   {
    "duration": 5,
    "start_time": "2023-03-19T20:54:23.231Z"
   },
   {
    "duration": 4,
    "start_time": "2023-03-19T20:54:24.749Z"
   },
   {
    "duration": 21,
    "start_time": "2023-03-19T20:54:26.553Z"
   },
   {
    "duration": 140,
    "start_time": "2023-03-19T20:54:27.677Z"
   },
   {
    "duration": 8054,
    "start_time": "2023-03-19T20:59:18.875Z"
   },
   {
    "duration": 6164,
    "start_time": "2023-03-19T20:59:55.763Z"
   },
   {
    "duration": 4,
    "start_time": "2023-03-19T21:00:03.262Z"
   },
   {
    "duration": 4,
    "start_time": "2023-03-19T21:00:03.531Z"
   },
   {
    "duration": 4,
    "start_time": "2023-03-19T21:00:05.789Z"
   },
   {
    "duration": 50,
    "start_time": "2023-03-19T21:01:08.721Z"
   },
   {
    "duration": 1341,
    "start_time": "2023-03-19T21:01:25.365Z"
   },
   {
    "duration": 11,
    "start_time": "2023-03-19T21:01:54.451Z"
   },
   {
    "duration": 58,
    "start_time": "2023-03-19T21:11:15.476Z"
   },
   {
    "duration": 1132,
    "start_time": "2023-03-19T21:12:31.898Z"
   },
   {
    "duration": 47,
    "start_time": "2023-03-19T21:12:33.032Z"
   },
   {
    "duration": 20,
    "start_time": "2023-03-19T21:12:33.080Z"
   },
   {
    "duration": 9,
    "start_time": "2023-03-19T21:12:33.101Z"
   },
   {
    "duration": 4,
    "start_time": "2023-03-19T21:12:33.112Z"
   },
   {
    "duration": 17,
    "start_time": "2023-03-19T21:12:33.117Z"
   },
   {
    "duration": 7,
    "start_time": "2023-03-19T21:12:33.135Z"
   },
   {
    "duration": 9,
    "start_time": "2023-03-19T21:12:33.143Z"
   },
   {
    "duration": 10,
    "start_time": "2023-03-19T21:12:41.490Z"
   },
   {
    "duration": 3903,
    "start_time": "2023-03-19T21:13:34.193Z"
   },
   {
    "duration": 4,
    "start_time": "2023-03-19T21:13:40.504Z"
   },
   {
    "duration": 3,
    "start_time": "2023-03-19T21:13:41.281Z"
   },
   {
    "duration": 4,
    "start_time": "2023-03-19T21:13:42.093Z"
   },
   {
    "duration": 47,
    "start_time": "2023-03-19T21:13:43.025Z"
   },
   {
    "duration": 183,
    "start_time": "2023-03-19T21:13:45.113Z"
   },
   {
    "duration": 97,
    "start_time": "2023-03-19T21:13:46.327Z"
   },
   {
    "duration": 10,
    "start_time": "2023-03-19T21:14:01.129Z"
   },
   {
    "duration": 58,
    "start_time": "2023-03-19T21:15:29.971Z"
   },
   {
    "duration": 23,
    "start_time": "2023-03-19T21:15:33.316Z"
   },
   {
    "duration": 53,
    "start_time": "2023-03-19T21:15:50.441Z"
   },
   {
    "duration": 22,
    "start_time": "2023-03-19T21:15:59.485Z"
   },
   {
    "duration": 57,
    "start_time": "2023-03-19T21:16:10.820Z"
   },
   {
    "duration": 115,
    "start_time": "2023-03-19T21:16:13.489Z"
   },
   {
    "duration": 12,
    "start_time": "2023-03-19T21:16:15.753Z"
   },
   {
    "duration": 164,
    "start_time": "2023-03-19T21:16:50.040Z"
   },
   {
    "duration": 22,
    "start_time": "2023-03-19T21:20:06.116Z"
   },
   {
    "duration": 3,
    "start_time": "2023-03-19T21:20:10.139Z"
   },
   {
    "duration": 71,
    "start_time": "2023-03-19T21:20:13.355Z"
   },
   {
    "duration": 78,
    "start_time": "2023-03-19T21:20:51.870Z"
   },
   {
    "duration": 44,
    "start_time": "2023-03-19T21:22:27.914Z"
   },
   {
    "duration": 31,
    "start_time": "2023-03-19T21:23:21.770Z"
   },
   {
    "duration": 18,
    "start_time": "2023-03-19T21:24:28.585Z"
   },
   {
    "duration": 16,
    "start_time": "2023-03-19T21:24:32.521Z"
   },
   {
    "duration": 12,
    "start_time": "2023-03-19T21:24:44.090Z"
   },
   {
    "duration": 18,
    "start_time": "2023-03-19T21:24:57.144Z"
   },
   {
    "duration": 15,
    "start_time": "2023-03-19T21:25:00.398Z"
   },
   {
    "duration": 5,
    "start_time": "2023-03-19T21:25:03.865Z"
   },
   {
    "duration": 5,
    "start_time": "2023-03-19T21:25:14.250Z"
   },
   {
    "duration": 4,
    "start_time": "2023-03-19T21:25:25.250Z"
   },
   {
    "duration": 5237,
    "start_time": "2023-03-19T21:26:34.959Z"
   },
   {
    "duration": 4,
    "start_time": "2023-03-19T21:26:44.163Z"
   },
   {
    "duration": 5,
    "start_time": "2023-03-19T21:26:46.102Z"
   },
   {
    "duration": 4,
    "start_time": "2023-03-19T21:26:47.756Z"
   },
   {
    "duration": 273,
    "start_time": "2023-03-19T21:27:36.918Z"
   },
   {
    "duration": 205,
    "start_time": "2023-03-19T21:27:39.089Z"
   },
   {
    "duration": 11,
    "start_time": "2023-03-19T21:27:51.200Z"
   },
   {
    "duration": 3,
    "start_time": "2023-03-19T21:32:03.382Z"
   },
   {
    "duration": 18427,
    "start_time": "2023-03-19T21:32:57.199Z"
   },
   {
    "duration": 4,
    "start_time": "2023-03-19T21:33:31.187Z"
   },
   {
    "duration": 5,
    "start_time": "2023-03-19T21:33:44.232Z"
   },
   {
    "duration": 4,
    "start_time": "2023-03-19T21:34:26.346Z"
   },
   {
    "duration": 88,
    "start_time": "2023-03-19T21:36:03.091Z"
   },
   {
    "duration": 960,
    "start_time": "2023-03-19T21:39:13.582Z"
   },
   {
    "duration": 4,
    "start_time": "2023-03-19T21:39:17.908Z"
   },
   {
    "duration": 4,
    "start_time": "2023-03-19T21:39:19.806Z"
   },
   {
    "duration": 21767,
    "start_time": "2023-03-19T21:39:53.579Z"
   },
   {
    "duration": 4,
    "start_time": "2023-03-19T21:40:15.348Z"
   },
   {
    "duration": 4,
    "start_time": "2023-03-19T21:40:17.913Z"
   },
   {
    "duration": 4,
    "start_time": "2023-03-19T21:40:18.946Z"
   },
   {
    "duration": 5649,
    "start_time": "2023-03-19T21:40:27.148Z"
   },
   {
    "duration": 283139,
    "start_time": "2023-03-19T21:41:17.762Z"
   },
   {
    "duration": 246351,
    "start_time": "2023-03-19T21:50:41.475Z"
   },
   {
    "duration": 9,
    "start_time": "2023-03-19T22:06:19.991Z"
   },
   {
    "duration": 4,
    "start_time": "2023-03-19T22:06:28.375Z"
   },
   {
    "duration": 4,
    "start_time": "2023-03-19T22:06:37.507Z"
   },
   {
    "duration": 3,
    "start_time": "2023-03-19T22:07:10.145Z"
   },
   {
    "duration": 61,
    "start_time": "2023-03-19T22:07:10.150Z"
   },
   {
    "duration": 19,
    "start_time": "2023-03-19T22:07:10.212Z"
   },
   {
    "duration": 10,
    "start_time": "2023-03-19T22:07:10.233Z"
   },
   {
    "duration": 4,
    "start_time": "2023-03-19T22:07:10.246Z"
   },
   {
    "duration": 15,
    "start_time": "2023-03-19T22:07:10.252Z"
   },
   {
    "duration": 41,
    "start_time": "2023-03-19T22:07:10.268Z"
   },
   {
    "duration": 9,
    "start_time": "2023-03-19T22:07:10.311Z"
   },
   {
    "duration": 14,
    "start_time": "2023-03-19T22:07:10.321Z"
   },
   {
    "duration": 51478,
    "start_time": "2023-03-19T22:07:10.336Z"
   },
   {
    "duration": 4,
    "start_time": "2023-03-19T22:08:01.815Z"
   },
   {
    "duration": 76,
    "start_time": "2023-03-19T22:08:01.820Z"
   },
   {
    "duration": 16,
    "start_time": "2023-03-19T22:08:01.898Z"
   },
   {
    "duration": 5084,
    "start_time": "2023-03-19T22:08:01.917Z"
   },
   {
    "duration": 95,
    "start_time": "2023-03-19T22:08:07.003Z"
   },
   {
    "duration": 97,
    "start_time": "2023-03-19T22:08:07.100Z"
   },
   {
    "duration": 6,
    "start_time": "2023-03-19T22:08:07.199Z"
   },
   {
    "duration": 300,
    "start_time": "2023-03-19T22:08:07.207Z"
   },
   {
    "duration": 198,
    "start_time": "2023-03-19T22:08:07.509Z"
   },
   {
    "duration": 9,
    "start_time": "2023-03-19T22:08:07.796Z"
   },
   {
    "duration": 103,
    "start_time": "2023-03-19T22:08:07.806Z"
   },
   {
    "duration": 17687,
    "start_time": "2023-03-19T22:08:07.996Z"
   },
   {
    "duration": 3,
    "start_time": "2023-03-19T22:08:25.685Z"
   },
   {
    "duration": 7,
    "start_time": "2023-03-19T22:08:25.690Z"
   },
   {
    "duration": 8,
    "start_time": "2023-03-19T22:08:25.699Z"
   },
   {
    "duration": 93,
    "start_time": "2023-03-19T22:16:27.278Z"
   },
   {
    "duration": 76,
    "start_time": "2023-03-19T22:16:55.752Z"
   },
   {
    "duration": 12,
    "start_time": "2023-03-19T22:17:01.855Z"
   },
   {
    "duration": 9,
    "start_time": "2023-03-19T22:17:07.287Z"
   },
   {
    "duration": 12,
    "start_time": "2023-03-19T22:19:53.376Z"
   },
   {
    "duration": 71,
    "start_time": "2023-03-19T22:20:55.980Z"
   },
   {
    "duration": 6,
    "start_time": "2023-03-19T22:21:10.860Z"
   },
   {
    "duration": 18,
    "start_time": "2023-03-19T22:30:20.445Z"
   },
   {
    "duration": 9,
    "start_time": "2023-03-19T22:30:44.250Z"
   },
   {
    "duration": 52,
    "start_time": "2023-03-19T22:32:38.943Z"
   },
   {
    "duration": 8,
    "start_time": "2023-03-19T22:32:40.453Z"
   },
   {
    "duration": 215,
    "start_time": "2023-03-19T22:32:44.911Z"
   },
   {
    "duration": 154,
    "start_time": "2023-03-19T22:32:48.645Z"
   },
   {
    "duration": 8,
    "start_time": "2023-03-19T22:32:56.191Z"
   },
   {
    "duration": 1203,
    "start_time": "2023-03-19T22:34:05.507Z"
   },
   {
    "duration": 47,
    "start_time": "2023-03-19T22:34:06.712Z"
   },
   {
    "duration": 78,
    "start_time": "2023-03-19T22:34:06.760Z"
   },
   {
    "duration": 8,
    "start_time": "2023-03-19T22:34:06.840Z"
   },
   {
    "duration": 9,
    "start_time": "2023-03-19T22:34:06.850Z"
   },
   {
    "duration": 21,
    "start_time": "2023-03-19T22:34:06.861Z"
   },
   {
    "duration": 18,
    "start_time": "2023-03-19T22:34:06.884Z"
   },
   {
    "duration": 9,
    "start_time": "2023-03-19T22:34:06.904Z"
   },
   {
    "duration": 11,
    "start_time": "2023-03-19T22:34:06.914Z"
   },
   {
    "duration": 127,
    "start_time": "2023-03-19T22:34:06.926Z"
   },
   {
    "duration": 0,
    "start_time": "2023-03-19T22:34:07.055Z"
   },
   {
    "duration": 0,
    "start_time": "2023-03-19T22:34:07.056Z"
   },
   {
    "duration": 0,
    "start_time": "2023-03-19T22:34:07.057Z"
   },
   {
    "duration": 0,
    "start_time": "2023-03-19T22:34:07.058Z"
   },
   {
    "duration": 0,
    "start_time": "2023-03-19T22:34:07.060Z"
   },
   {
    "duration": 0,
    "start_time": "2023-03-19T22:34:07.060Z"
   },
   {
    "duration": 0,
    "start_time": "2023-03-19T22:34:07.062Z"
   },
   {
    "duration": 0,
    "start_time": "2023-03-19T22:34:07.063Z"
   },
   {
    "duration": 0,
    "start_time": "2023-03-19T22:34:07.064Z"
   },
   {
    "duration": 0,
    "start_time": "2023-03-19T22:34:07.064Z"
   },
   {
    "duration": 0,
    "start_time": "2023-03-19T22:34:07.065Z"
   },
   {
    "duration": 0,
    "start_time": "2023-03-19T22:34:07.066Z"
   },
   {
    "duration": 0,
    "start_time": "2023-03-19T22:34:07.096Z"
   },
   {
    "duration": 0,
    "start_time": "2023-03-19T22:34:07.096Z"
   },
   {
    "duration": 0,
    "start_time": "2023-03-19T22:34:07.097Z"
   },
   {
    "duration": 0,
    "start_time": "2023-03-19T22:34:07.098Z"
   },
   {
    "duration": 0,
    "start_time": "2023-03-19T22:34:07.099Z"
   },
   {
    "duration": 0,
    "start_time": "2023-03-19T22:34:07.100Z"
   },
   {
    "duration": 2,
    "start_time": "2023-03-19T22:34:28.480Z"
   },
   {
    "duration": 52,
    "start_time": "2023-03-19T22:34:28.484Z"
   },
   {
    "duration": 11,
    "start_time": "2023-03-19T22:34:28.538Z"
   },
   {
    "duration": 8,
    "start_time": "2023-03-19T22:34:28.550Z"
   },
   {
    "duration": 4,
    "start_time": "2023-03-19T22:34:28.560Z"
   },
   {
    "duration": 16,
    "start_time": "2023-03-19T22:34:28.565Z"
   },
   {
    "duration": 7,
    "start_time": "2023-03-19T22:34:28.583Z"
   },
   {
    "duration": 6,
    "start_time": "2023-03-19T22:34:28.594Z"
   },
   {
    "duration": 13,
    "start_time": "2023-03-19T22:34:28.601Z"
   },
   {
    "duration": 27,
    "start_time": "2023-03-19T22:34:28.615Z"
   },
   {
    "duration": 0,
    "start_time": "2023-03-19T22:34:28.644Z"
   },
   {
    "duration": 0,
    "start_time": "2023-03-19T22:34:28.645Z"
   },
   {
    "duration": 0,
    "start_time": "2023-03-19T22:34:28.646Z"
   },
   {
    "duration": 0,
    "start_time": "2023-03-19T22:34:28.648Z"
   },
   {
    "duration": 0,
    "start_time": "2023-03-19T22:34:28.649Z"
   },
   {
    "duration": 0,
    "start_time": "2023-03-19T22:34:28.650Z"
   },
   {
    "duration": 0,
    "start_time": "2023-03-19T22:34:28.651Z"
   },
   {
    "duration": 0,
    "start_time": "2023-03-19T22:34:28.652Z"
   },
   {
    "duration": 0,
    "start_time": "2023-03-19T22:34:28.653Z"
   },
   {
    "duration": 0,
    "start_time": "2023-03-19T22:34:28.654Z"
   },
   {
    "duration": 0,
    "start_time": "2023-03-19T22:34:28.655Z"
   },
   {
    "duration": 0,
    "start_time": "2023-03-19T22:34:28.656Z"
   },
   {
    "duration": 0,
    "start_time": "2023-03-19T22:34:28.657Z"
   },
   {
    "duration": 0,
    "start_time": "2023-03-19T22:34:28.658Z"
   },
   {
    "duration": 0,
    "start_time": "2023-03-19T22:34:28.659Z"
   },
   {
    "duration": 0,
    "start_time": "2023-03-19T22:34:28.660Z"
   },
   {
    "duration": 0,
    "start_time": "2023-03-19T22:34:28.661Z"
   },
   {
    "duration": 0,
    "start_time": "2023-03-19T22:34:28.696Z"
   },
   {
    "duration": 1182,
    "start_time": "2023-03-19T22:35:34.135Z"
   },
   {
    "duration": 46,
    "start_time": "2023-03-19T22:35:35.319Z"
   },
   {
    "duration": 22,
    "start_time": "2023-03-19T22:35:35.367Z"
   },
   {
    "duration": 9,
    "start_time": "2023-03-19T22:35:35.390Z"
   },
   {
    "duration": 4,
    "start_time": "2023-03-19T22:35:35.459Z"
   },
   {
    "duration": 14,
    "start_time": "2023-03-19T22:35:35.464Z"
   },
   {
    "duration": 21,
    "start_time": "2023-03-19T22:35:35.479Z"
   },
   {
    "duration": 6,
    "start_time": "2023-03-19T22:35:35.502Z"
   },
   {
    "duration": 10,
    "start_time": "2023-03-19T22:35:35.510Z"
   },
   {
    "duration": 134,
    "start_time": "2023-03-19T22:35:35.521Z"
   },
   {
    "duration": 0,
    "start_time": "2023-03-19T22:35:35.657Z"
   },
   {
    "duration": 0,
    "start_time": "2023-03-19T22:35:35.658Z"
   },
   {
    "duration": 0,
    "start_time": "2023-03-19T22:35:35.659Z"
   },
   {
    "duration": 0,
    "start_time": "2023-03-19T22:35:35.660Z"
   },
   {
    "duration": 0,
    "start_time": "2023-03-19T22:35:35.661Z"
   },
   {
    "duration": 0,
    "start_time": "2023-03-19T22:35:35.662Z"
   },
   {
    "duration": 0,
    "start_time": "2023-03-19T22:35:35.663Z"
   },
   {
    "duration": 0,
    "start_time": "2023-03-19T22:35:35.664Z"
   },
   {
    "duration": 0,
    "start_time": "2023-03-19T22:35:35.665Z"
   },
   {
    "duration": 0,
    "start_time": "2023-03-19T22:35:35.666Z"
   },
   {
    "duration": 0,
    "start_time": "2023-03-19T22:35:35.667Z"
   },
   {
    "duration": 0,
    "start_time": "2023-03-19T22:35:35.667Z"
   },
   {
    "duration": 0,
    "start_time": "2023-03-19T22:35:35.668Z"
   },
   {
    "duration": 0,
    "start_time": "2023-03-19T22:35:35.669Z"
   },
   {
    "duration": 0,
    "start_time": "2023-03-19T22:35:35.695Z"
   },
   {
    "duration": 0,
    "start_time": "2023-03-19T22:35:35.696Z"
   },
   {
    "duration": 0,
    "start_time": "2023-03-19T22:35:35.697Z"
   },
   {
    "duration": 0,
    "start_time": "2023-03-19T22:35:35.698Z"
   },
   {
    "duration": 1241,
    "start_time": "2023-03-19T22:36:42.987Z"
   },
   {
    "duration": 48,
    "start_time": "2023-03-19T22:36:44.230Z"
   },
   {
    "duration": 83,
    "start_time": "2023-03-19T22:36:44.280Z"
   },
   {
    "duration": 9,
    "start_time": "2023-03-19T22:36:44.365Z"
   },
   {
    "duration": 6,
    "start_time": "2023-03-19T22:36:44.376Z"
   },
   {
    "duration": 11,
    "start_time": "2023-03-19T22:36:44.395Z"
   },
   {
    "duration": 7,
    "start_time": "2023-03-19T22:36:44.408Z"
   },
   {
    "duration": 8,
    "start_time": "2023-03-19T22:36:44.417Z"
   },
   {
    "duration": 12,
    "start_time": "2023-03-19T22:36:44.426Z"
   },
   {
    "duration": 42568,
    "start_time": "2023-03-19T22:36:44.440Z"
   },
   {
    "duration": 87,
    "start_time": "2023-03-19T22:37:27.010Z"
   },
   {
    "duration": 12,
    "start_time": "2023-03-19T22:37:27.098Z"
   },
   {
    "duration": 20,
    "start_time": "2023-03-19T22:37:27.112Z"
   },
   {
    "duration": 5861,
    "start_time": "2023-03-19T22:37:27.135Z"
   },
   {
    "duration": 5,
    "start_time": "2023-03-19T22:37:32.998Z"
   },
   {
    "duration": 13,
    "start_time": "2023-03-19T22:37:33.094Z"
   },
   {
    "duration": 6,
    "start_time": "2023-03-19T22:37:33.109Z"
   },
   {
    "duration": 4,
    "start_time": "2023-03-19T22:37:33.117Z"
   },
   {
    "duration": 17479,
    "start_time": "2023-03-19T22:37:33.123Z"
   },
   {
    "duration": 4,
    "start_time": "2023-03-19T22:37:50.604Z"
   },
   {
    "duration": 7,
    "start_time": "2023-03-19T22:37:50.609Z"
   },
   {
    "duration": 10,
    "start_time": "2023-03-19T22:37:50.617Z"
   },
   {
    "duration": 14,
    "start_time": "2023-03-19T22:37:50.628Z"
   },
   {
    "duration": 63,
    "start_time": "2023-03-19T22:37:50.644Z"
   },
   {
    "duration": 8,
    "start_time": "2023-03-19T22:37:50.708Z"
   },
   {
    "duration": 227,
    "start_time": "2023-03-19T22:37:50.717Z"
   },
   {
    "duration": 159,
    "start_time": "2023-03-19T22:37:50.945Z"
   },
   {
    "duration": 99,
    "start_time": "2023-03-19T22:37:51.203Z"
   },
   {
    "duration": 29,
    "start_time": "2023-03-19T22:39:09.182Z"
   },
   {
    "duration": 214,
    "start_time": "2023-03-19T22:39:34.281Z"
   },
   {
    "duration": 30,
    "start_time": "2023-03-19T22:39:38.285Z"
   },
   {
    "duration": 1209,
    "start_time": "2023-03-19T22:40:12.185Z"
   },
   {
    "duration": 46,
    "start_time": "2023-03-19T22:40:13.398Z"
   },
   {
    "duration": 78,
    "start_time": "2023-03-19T22:40:13.446Z"
   },
   {
    "duration": 9,
    "start_time": "2023-03-19T22:40:13.526Z"
   },
   {
    "duration": 4,
    "start_time": "2023-03-19T22:40:13.537Z"
   },
   {
    "duration": 14,
    "start_time": "2023-03-19T22:40:13.542Z"
   },
   {
    "duration": 7,
    "start_time": "2023-03-19T22:40:13.558Z"
   },
   {
    "duration": 7,
    "start_time": "2023-03-19T22:40:13.567Z"
   },
   {
    "duration": 26,
    "start_time": "2023-03-19T22:40:13.575Z"
   },
   {
    "duration": 271006,
    "start_time": "2023-03-19T22:40:13.603Z"
   },
   {
    "duration": 4,
    "start_time": "2023-03-19T22:44:44.611Z"
   },
   {
    "duration": 6,
    "start_time": "2023-03-19T22:44:44.616Z"
   },
   {
    "duration": 4,
    "start_time": "2023-03-19T22:44:44.695Z"
   },
   {
    "duration": 5096,
    "start_time": "2023-03-19T22:44:44.701Z"
   },
   {
    "duration": 7,
    "start_time": "2023-03-19T22:44:49.799Z"
   },
   {
    "duration": 13,
    "start_time": "2023-03-19T22:44:49.896Z"
   },
   {
    "duration": 12,
    "start_time": "2023-03-19T22:44:49.911Z"
   },
   {
    "duration": 14,
    "start_time": "2023-03-19T22:44:49.924Z"
   },
   {
    "duration": 18432,
    "start_time": "2023-03-19T22:44:49.940Z"
   },
   {
    "duration": 4,
    "start_time": "2023-03-19T22:45:08.373Z"
   },
   {
    "duration": 7,
    "start_time": "2023-03-19T22:45:08.378Z"
   },
   {
    "duration": 6,
    "start_time": "2023-03-19T22:45:08.386Z"
   },
   {
    "duration": 13,
    "start_time": "2023-03-19T22:45:08.394Z"
   },
   {
    "duration": 63,
    "start_time": "2023-03-19T22:45:08.408Z"
   },
   {
    "duration": 8,
    "start_time": "2023-03-19T22:45:08.473Z"
   },
   {
    "duration": 237,
    "start_time": "2023-03-19T22:45:08.483Z"
   },
   {
    "duration": 27,
    "start_time": "2023-03-19T22:45:08.722Z"
   },
   {
    "duration": 244,
    "start_time": "2023-03-19T22:45:08.751Z"
   },
   {
    "duration": 104,
    "start_time": "2023-03-19T22:45:08.998Z"
   },
   {
    "duration": 1608,
    "start_time": "2023-03-20T05:20:28.104Z"
   },
   {
    "duration": 48,
    "start_time": "2023-03-20T05:20:29.714Z"
   },
   {
    "duration": 79,
    "start_time": "2023-03-20T05:20:29.763Z"
   },
   {
    "duration": 10,
    "start_time": "2023-03-20T05:20:29.844Z"
   },
   {
    "duration": 4,
    "start_time": "2023-03-20T05:20:29.856Z"
   },
   {
    "duration": 15,
    "start_time": "2023-03-20T05:20:29.862Z"
   },
   {
    "duration": 8,
    "start_time": "2023-03-20T05:20:29.879Z"
   },
   {
    "duration": 4,
    "start_time": "2023-03-20T05:20:29.888Z"
   },
   {
    "duration": 33,
    "start_time": "2023-03-20T05:20:29.894Z"
   },
   {
    "duration": 29799,
    "start_time": "2023-03-20T05:20:29.928Z"
   },
   {
    "duration": 4,
    "start_time": "2023-03-20T05:20:59.729Z"
   },
   {
    "duration": 5,
    "start_time": "2023-03-20T05:20:59.734Z"
   },
   {
    "duration": 4,
    "start_time": "2023-03-20T05:20:59.741Z"
   },
   {
    "duration": 5077,
    "start_time": "2023-03-20T05:20:59.748Z"
   },
   {
    "duration": 96,
    "start_time": "2023-03-20T05:21:04.827Z"
   },
   {
    "duration": 5,
    "start_time": "2023-03-20T05:21:04.925Z"
   },
   {
    "duration": 9,
    "start_time": "2023-03-20T05:21:04.932Z"
   },
   {
    "duration": 3,
    "start_time": "2023-03-20T05:21:05.023Z"
   },
   {
    "duration": 16048,
    "start_time": "2023-03-20T05:21:05.029Z"
   },
   {
    "duration": 3,
    "start_time": "2023-03-20T05:21:21.079Z"
   },
   {
    "duration": 4,
    "start_time": "2023-03-20T05:21:21.084Z"
   },
   {
    "duration": 5,
    "start_time": "2023-03-20T05:21:21.089Z"
   },
   {
    "duration": 11,
    "start_time": "2023-03-20T05:21:21.095Z"
   },
   {
    "duration": 60,
    "start_time": "2023-03-20T05:21:21.108Z"
   },
   {
    "duration": 8,
    "start_time": "2023-03-20T05:21:21.169Z"
   },
   {
    "duration": 223,
    "start_time": "2023-03-20T05:21:21.179Z"
   },
   {
    "duration": 127,
    "start_time": "2023-03-20T05:21:21.404Z"
   },
   {
    "duration": 194,
    "start_time": "2023-03-20T05:21:21.532Z"
   },
   {
    "duration": 2102,
    "start_time": "2023-03-20T07:35:01.110Z"
   },
   {
    "duration": 111,
    "start_time": "2023-03-20T07:35:03.214Z"
   },
   {
    "duration": 22,
    "start_time": "2023-03-20T07:35:03.327Z"
   },
   {
    "duration": 10,
    "start_time": "2023-03-20T07:35:03.351Z"
   },
   {
    "duration": 71,
    "start_time": "2023-03-20T07:35:03.363Z"
   },
   {
    "duration": 28,
    "start_time": "2023-03-20T07:35:03.435Z"
   },
   {
    "duration": 7,
    "start_time": "2023-03-20T07:35:03.465Z"
   },
   {
    "duration": 7,
    "start_time": "2023-03-20T07:35:03.474Z"
   },
   {
    "duration": 11,
    "start_time": "2023-03-20T07:35:03.482Z"
   },
   {
    "duration": 2844482,
    "start_time": "2023-03-20T07:35:03.496Z"
   },
   {
    "duration": 58,
    "start_time": "2023-03-20T08:22:27.980Z"
   },
   {
    "duration": 41,
    "start_time": "2023-03-20T08:22:28.042Z"
   },
   {
    "duration": 12,
    "start_time": "2023-03-20T08:22:28.085Z"
   },
   {
    "duration": 7176,
    "start_time": "2023-03-20T08:22:28.099Z"
   },
   {
    "duration": 47,
    "start_time": "2023-03-20T08:22:35.283Z"
   },
   {
    "duration": 43,
    "start_time": "2023-03-20T08:22:35.339Z"
   },
   {
    "duration": 15,
    "start_time": "2023-03-20T08:22:35.384Z"
   },
   {
    "duration": 4,
    "start_time": "2023-03-20T08:22:35.401Z"
   },
   {
    "duration": 37017,
    "start_time": "2023-03-20T08:22:35.450Z"
   },
   {
    "duration": 4,
    "start_time": "2023-03-20T08:23:12.469Z"
   },
   {
    "duration": 8,
    "start_time": "2023-03-20T08:23:12.474Z"
   },
   {
    "duration": 16,
    "start_time": "2023-03-20T08:23:12.484Z"
   },
   {
    "duration": 18,
    "start_time": "2023-03-20T08:23:12.502Z"
   },
   {
    "duration": 73,
    "start_time": "2023-03-20T08:23:12.522Z"
   },
   {
    "duration": 9,
    "start_time": "2023-03-20T08:23:12.597Z"
   },
   {
    "duration": 318,
    "start_time": "2023-03-20T08:23:12.608Z"
   },
   {
    "duration": 1032,
    "start_time": "2023-03-20T08:23:12.927Z"
   },
   {
    "duration": 99,
    "start_time": "2023-03-20T08:23:13.974Z"
   },
   {
    "duration": 46,
    "start_time": "2023-03-20T13:01:12.090Z"
   },
   {
    "duration": 1184,
    "start_time": "2023-03-20T13:01:17.528Z"
   },
   {
    "duration": 91,
    "start_time": "2023-03-20T13:01:18.714Z"
   },
   {
    "duration": 8,
    "start_time": "2023-03-20T13:01:21.343Z"
   },
   {
    "duration": 11,
    "start_time": "2023-03-20T13:02:19.074Z"
   },
   {
    "duration": 8,
    "start_time": "2023-03-20T13:03:40.853Z"
   },
   {
    "duration": 6,
    "start_time": "2023-03-20T13:04:04.588Z"
   },
   {
    "duration": 16225,
    "start_time": "2023-03-20T13:04:43.844Z"
   },
   {
    "duration": 4,
    "start_time": "2023-03-20T13:05:00.071Z"
   },
   {
    "duration": 39,
    "start_time": "2023-03-20T13:05:00.076Z"
   },
   {
    "duration": 63,
    "start_time": "2023-03-20T13:05:00.117Z"
   },
   {
    "duration": 53,
    "start_time": "2023-03-20T17:35:36.139Z"
   },
   {
    "duration": 6,
    "start_time": "2023-03-20T17:35:38.728Z"
   },
   {
    "duration": 1200,
    "start_time": "2023-03-20T17:35:43.232Z"
   },
   {
    "duration": 167,
    "start_time": "2023-03-20T17:35:44.434Z"
   },
   {
    "duration": 23,
    "start_time": "2023-03-20T17:35:44.603Z"
   },
   {
    "duration": 15,
    "start_time": "2023-03-20T17:35:47.830Z"
   },
   {
    "duration": 11,
    "start_time": "2023-03-20T17:36:16.227Z"
   },
   {
    "duration": 5,
    "start_time": "2023-03-20T17:36:21.723Z"
   },
   {
    "duration": 4,
    "start_time": "2023-03-20T17:39:54.032Z"
   },
   {
    "duration": 4,
    "start_time": "2023-03-20T17:46:40.180Z"
   },
   {
    "duration": 684,
    "start_time": "2023-03-20T17:46:42.580Z"
   },
   {
    "duration": 78,
    "start_time": "2023-03-20T17:47:10.390Z"
   },
   {
    "duration": 12,
    "start_time": "2023-03-20T17:47:17.289Z"
   },
   {
    "duration": 228,
    "start_time": "2023-03-20T17:47:33.323Z"
   },
   {
    "duration": 276,
    "start_time": "2023-03-20T17:47:36.991Z"
   },
   {
    "duration": 141,
    "start_time": "2023-03-20T17:49:45.498Z"
   },
   {
    "duration": 232,
    "start_time": "2023-03-20T17:50:05.880Z"
   },
   {
    "duration": 130,
    "start_time": "2023-03-20T17:51:39.822Z"
   },
   {
    "duration": 147,
    "start_time": "2023-03-20T17:51:59.655Z"
   },
   {
    "duration": 124,
    "start_time": "2023-03-20T17:52:05.219Z"
   },
   {
    "duration": 154,
    "start_time": "2023-03-20T18:05:12.822Z"
   },
   {
    "duration": 244,
    "start_time": "2023-03-20T18:37:39.234Z"
   },
   {
    "duration": 311,
    "start_time": "2023-03-20T18:37:56.213Z"
   },
   {
    "duration": 343,
    "start_time": "2023-03-20T18:40:10.831Z"
   },
   {
    "duration": 410,
    "start_time": "2023-03-20T18:40:22.422Z"
   },
   {
    "duration": 423,
    "start_time": "2023-03-20T18:40:41.296Z"
   },
   {
    "duration": 375,
    "start_time": "2023-03-20T18:40:49.641Z"
   },
   {
    "duration": 312,
    "start_time": "2023-03-20T18:41:00.625Z"
   },
   {
    "duration": 245,
    "start_time": "2023-03-20T18:41:07.248Z"
   },
   {
    "duration": 26,
    "start_time": "2023-03-20T18:43:31.516Z"
   },
   {
    "duration": 10,
    "start_time": "2023-03-20T18:44:19.485Z"
   },
   {
    "duration": 16,
    "start_time": "2023-03-20T18:44:37.253Z"
   },
   {
    "duration": 4,
    "start_time": "2023-03-20T18:44:50.154Z"
   },
   {
    "duration": 355,
    "start_time": "2023-03-20T18:44:54.474Z"
   },
   {
    "duration": 434,
    "start_time": "2023-03-20T18:44:58.174Z"
   },
   {
    "duration": 498,
    "start_time": "2023-03-20T18:45:58.735Z"
   },
   {
    "duration": 455,
    "start_time": "2023-03-20T18:46:04.074Z"
   },
   {
    "duration": 288,
    "start_time": "2023-03-20T18:46:44.412Z"
   },
   {
    "duration": 305,
    "start_time": "2023-03-20T18:46:49.819Z"
   },
   {
    "duration": 247,
    "start_time": "2023-03-20T18:47:01.443Z"
   },
   {
    "duration": 293,
    "start_time": "2023-03-20T18:47:24.613Z"
   },
   {
    "duration": 1445,
    "start_time": "2023-03-20T18:48:00.114Z"
   },
   {
    "duration": 50,
    "start_time": "2023-03-20T18:48:01.561Z"
   },
   {
    "duration": 20,
    "start_time": "2023-03-20T18:48:01.613Z"
   },
   {
    "duration": 26,
    "start_time": "2023-03-20T18:48:01.635Z"
   },
   {
    "duration": 23,
    "start_time": "2023-03-20T18:48:01.664Z"
   },
   {
    "duration": 118,
    "start_time": "2023-03-20T18:49:29.597Z"
   },
   {
    "duration": 10,
    "start_time": "2023-03-20T18:49:36.140Z"
   },
   {
    "duration": 281,
    "start_time": "2023-03-20T18:49:38.077Z"
   },
   {
    "duration": 304,
    "start_time": "2023-03-20T18:49:40.428Z"
   },
   {
    "duration": 273,
    "start_time": "2023-03-20T18:49:42.911Z"
   },
   {
    "duration": 162,
    "start_time": "2023-03-20T18:51:00.073Z"
   },
   {
    "duration": 130,
    "start_time": "2023-03-20T18:51:03.547Z"
   },
   {
    "duration": 149,
    "start_time": "2023-03-20T18:51:43.040Z"
   },
   {
    "duration": 167,
    "start_time": "2023-03-20T18:53:00.475Z"
   },
   {
    "duration": 132,
    "start_time": "2023-03-20T18:53:31.134Z"
   },
   {
    "duration": 74,
    "start_time": "2023-03-20T18:56:48.929Z"
   },
   {
    "duration": 563,
    "start_time": "2023-03-20T18:58:17.115Z"
   },
   {
    "duration": 270,
    "start_time": "2023-03-20T18:58:31.091Z"
   },
   {
    "duration": 154,
    "start_time": "2023-03-20T19:09:30.195Z"
   },
   {
    "duration": 372,
    "start_time": "2023-03-20T19:12:47.352Z"
   },
   {
    "duration": 135,
    "start_time": "2023-03-20T19:13:06.107Z"
   },
   {
    "duration": 150,
    "start_time": "2023-03-20T19:13:25.841Z"
   },
   {
    "duration": 152,
    "start_time": "2023-03-20T19:14:04.069Z"
   },
   {
    "duration": 144,
    "start_time": "2023-03-20T19:32:13.017Z"
   },
   {
    "duration": 31,
    "start_time": "2023-03-20T19:32:27.506Z"
   },
   {
    "duration": 211,
    "start_time": "2023-03-20T19:33:09.197Z"
   },
   {
    "duration": 9,
    "start_time": "2023-03-20T19:39:21.520Z"
   },
   {
    "duration": 14,
    "start_time": "2023-03-20T19:39:31.855Z"
   },
   {
    "duration": 5,
    "start_time": "2023-03-20T19:39:36.700Z"
   },
   {
    "duration": 230106,
    "start_time": "2023-03-20T19:39:41.395Z"
   },
   {
    "duration": 0,
    "start_time": "2023-03-20T19:43:31.503Z"
   },
   {
    "duration": 146,
    "start_time": "2023-03-20T19:43:43.724Z"
   },
   {
    "duration": 143,
    "start_time": "2023-03-20T19:44:05.490Z"
   },
   {
    "duration": 154,
    "start_time": "2023-03-20T19:44:13.054Z"
   },
   {
    "duration": 269,
    "start_time": "2023-03-20T19:45:04.503Z"
   },
   {
    "duration": 271,
    "start_time": "2023-03-20T19:45:12.583Z"
   },
   {
    "duration": 323,
    "start_time": "2023-03-20T19:45:44.966Z"
   },
   {
    "duration": 1427,
    "start_time": "2023-03-20T19:46:42.023Z"
   },
   {
    "duration": 50,
    "start_time": "2023-03-20T19:46:43.452Z"
   },
   {
    "duration": 17,
    "start_time": "2023-03-20T19:46:43.503Z"
   },
   {
    "duration": 13,
    "start_time": "2023-03-20T19:46:43.521Z"
   },
   {
    "duration": 10,
    "start_time": "2023-03-20T19:46:43.537Z"
   },
   {
    "duration": 36,
    "start_time": "2023-03-20T19:46:43.549Z"
   },
   {
    "duration": 249,
    "start_time": "2023-03-20T19:46:43.587Z"
   },
   {
    "duration": 342,
    "start_time": "2023-03-20T19:46:43.838Z"
   },
   {
    "duration": 145,
    "start_time": "2023-03-20T19:46:44.182Z"
   },
   {
    "duration": 164,
    "start_time": "2023-03-20T19:46:44.328Z"
   },
   {
    "duration": 3,
    "start_time": "2023-03-20T19:46:44.494Z"
   },
   {
    "duration": 19605,
    "start_time": "2023-03-20T19:46:56.790Z"
   },
   {
    "duration": 4,
    "start_time": "2023-03-20T19:47:16.397Z"
   },
   {
    "duration": 9,
    "start_time": "2023-03-20T19:47:16.403Z"
   },
   {
    "duration": 24,
    "start_time": "2023-03-20T19:47:16.413Z"
   },
   {
    "duration": 2558,
    "start_time": "2023-03-20T19:47:16.439Z"
   },
   {
    "duration": 93,
    "start_time": "2023-03-20T19:47:18.999Z"
   },
   {
    "duration": 96,
    "start_time": "2023-03-20T19:47:19.094Z"
   },
   {
    "duration": 4,
    "start_time": "2023-03-20T19:47:19.192Z"
   },
   {
    "duration": 5,
    "start_time": "2023-03-20T19:47:19.198Z"
   },
   {
    "duration": 16226,
    "start_time": "2023-03-20T19:47:19.204Z"
   },
   {
    "duration": 4,
    "start_time": "2023-03-20T19:47:35.431Z"
   },
   {
    "duration": 4,
    "start_time": "2023-03-20T19:47:35.437Z"
   },
   {
    "duration": 8,
    "start_time": "2023-03-20T19:47:35.443Z"
   },
   {
    "duration": 14,
    "start_time": "2023-03-20T19:47:35.453Z"
   },
   {
    "duration": 41,
    "start_time": "2023-03-20T19:47:35.469Z"
   },
   {
    "duration": 5,
    "start_time": "2023-03-20T19:47:35.512Z"
   },
   {
    "duration": 76,
    "start_time": "2023-03-20T19:47:35.518Z"
   },
   {
    "duration": 19,
    "start_time": "2023-03-20T19:47:35.595Z"
   },
   {
    "duration": 175,
    "start_time": "2023-03-20T19:47:35.615Z"
   },
   {
    "duration": 4,
    "start_time": "2023-03-20T19:56:50.350Z"
   },
   {
    "duration": 7,
    "start_time": "2023-03-20T20:11:21.263Z"
   },
   {
    "duration": 53966,
    "start_time": "2023-03-20T20:12:13.035Z"
   },
   {
    "duration": 1371354,
    "start_time": "2023-03-20T20:13:09.249Z"
   },
   {
    "duration": 0,
    "start_time": "2023-03-20T20:36:00.604Z"
   },
   {
    "duration": 0,
    "start_time": "2023-03-20T20:36:00.606Z"
   },
   {
    "duration": 1311806,
    "start_time": "2023-03-20T20:36:07.096Z"
   },
   {
    "duration": 105,
    "start_time": "2023-03-20T20:57:58.903Z"
   },
   {
    "duration": 0,
    "start_time": "2023-03-20T20:57:59.010Z"
   },
   {
    "duration": 6,
    "start_time": "2023-03-20T20:58:55.088Z"
   },
   {
    "duration": 12092,
    "start_time": "2023-03-20T20:58:56.900Z"
   },
   {
    "duration": 2913,
    "start_time": "2023-03-20T20:59:18.977Z"
   },
   {
    "duration": 17791,
    "start_time": "2023-03-20T20:59:57.610Z"
   },
   {
    "duration": 74,
    "start_time": "2023-03-20T21:12:56.102Z"
   },
   {
    "duration": 6,
    "start_time": "2023-03-20T21:13:01.050Z"
   },
   {
    "duration": 7,
    "start_time": "2023-03-20T21:14:47.030Z"
   },
   {
    "duration": 6,
    "start_time": "2023-03-20T21:15:35.330Z"
   },
   {
    "duration": 4,
    "start_time": "2023-03-20T21:15:37.009Z"
   },
   {
    "duration": 11641,
    "start_time": "2023-03-20T21:15:42.153Z"
   },
   {
    "duration": 2622,
    "start_time": "2023-03-20T21:16:03.569Z"
   },
   {
    "duration": 17237,
    "start_time": "2023-03-20T21:16:07.818Z"
   },
   {
    "duration": 3,
    "start_time": "2023-03-20T21:17:50.128Z"
   },
   {
    "duration": 37,
    "start_time": "2023-03-20T21:18:52.386Z"
   },
   {
    "duration": 48,
    "start_time": "2023-03-20T21:19:06.458Z"
   },
   {
    "duration": 20,
    "start_time": "2023-03-20T21:20:21.120Z"
   },
   {
    "duration": 8,
    "start_time": "2023-03-20T21:20:48.313Z"
   },
   {
    "duration": 63,
    "start_time": "2023-03-20T21:20:53.559Z"
   },
   {
    "duration": 29,
    "start_time": "2023-03-20T21:21:47.723Z"
   },
   {
    "duration": 4,
    "start_time": "2023-03-20T21:22:41.941Z"
   },
   {
    "duration": 3,
    "start_time": "2023-03-20T21:22:48.638Z"
   },
   {
    "duration": 35,
    "start_time": "2023-03-20T21:22:49.682Z"
   },
   {
    "duration": 60,
    "start_time": "2023-03-20T21:22:50.685Z"
   },
   {
    "duration": 27,
    "start_time": "2023-03-20T21:22:51.513Z"
   },
   {
    "duration": 20,
    "start_time": "2023-03-20T21:23:16.118Z"
   },
   {
    "duration": 20,
    "start_time": "2023-03-20T21:23:37.335Z"
   },
   {
    "duration": 13,
    "start_time": "2023-03-20T21:23:39.966Z"
   },
   {
    "duration": 21,
    "start_time": "2023-03-20T21:23:50.743Z"
   },
   {
    "duration": 3,
    "start_time": "2023-03-20T21:29:11.726Z"
   },
   {
    "duration": 33,
    "start_time": "2023-03-20T21:29:13.146Z"
   },
   {
    "duration": 51,
    "start_time": "2023-03-20T21:29:14.539Z"
   },
   {
    "duration": 19,
    "start_time": "2023-03-20T21:29:16.167Z"
   },
   {
    "duration": 9,
    "start_time": "2023-03-20T21:29:51.154Z"
   },
   {
    "duration": 3,
    "start_time": "2023-03-20T21:29:54.519Z"
   },
   {
    "duration": 33,
    "start_time": "2023-03-20T21:29:55.442Z"
   },
   {
    "duration": 63,
    "start_time": "2023-03-20T21:29:58.304Z"
   },
   {
    "duration": 18,
    "start_time": "2023-03-20T21:30:00.442Z"
   },
   {
    "duration": 3,
    "start_time": "2023-03-20T21:34:22.192Z"
   },
   {
    "duration": 4,
    "start_time": "2023-03-20T21:40:22.713Z"
   },
   {
    "duration": 10,
    "start_time": "2023-03-20T21:41:52.230Z"
   },
   {
    "duration": 132881,
    "start_time": "2023-03-20T21:42:09.911Z"
   },
   {
    "duration": 2,
    "start_time": "2023-03-20T21:44:45.855Z"
   },
   {
    "duration": 8,
    "start_time": "2023-03-20T21:57:04.091Z"
   },
   {
    "duration": 18848,
    "start_time": "2023-03-20T21:57:22.609Z"
   },
   {
    "duration": 0,
    "start_time": "2023-03-20T21:57:41.459Z"
   },
   {
    "duration": 2,
    "start_time": "2023-03-20T21:58:15.190Z"
   },
   {
    "duration": 80,
    "start_time": "2023-03-20T21:58:16.228Z"
   },
   {
    "duration": 12,
    "start_time": "2023-03-20T21:58:24.366Z"
   },
   {
    "duration": 569888,
    "start_time": "2023-03-20T21:58:35.537Z"
   },
   {
    "duration": 2,
    "start_time": "2023-03-20T22:08:18.382Z"
   },
   {
    "duration": 154821,
    "start_time": "2023-03-20T22:08:19.419Z"
   },
   {
    "duration": 7,
    "start_time": "2023-03-20T22:11:53.618Z"
   },
   {
    "duration": 8,
    "start_time": "2023-03-20T22:12:14.085Z"
   },
   {
    "duration": 7,
    "start_time": "2023-03-20T22:12:24.525Z"
   },
   {
    "duration": 9,
    "start_time": "2023-03-20T22:13:09.765Z"
   },
   {
    "duration": 9,
    "start_time": "2023-03-20T22:13:43.916Z"
   },
   {
    "duration": 9,
    "start_time": "2023-03-20T22:13:48.877Z"
   },
   {
    "duration": 7,
    "start_time": "2023-03-20T22:14:38.414Z"
   },
   {
    "duration": 77,
    "start_time": "2023-03-20T22:15:23.126Z"
   },
   {
    "duration": 10,
    "start_time": "2023-03-20T22:15:26.495Z"
   },
   {
    "duration": 4,
    "start_time": "2023-03-20T22:15:35.089Z"
   },
   {
    "duration": 10,
    "start_time": "2023-03-20T22:22:02.498Z"
   },
   {
    "duration": 3,
    "start_time": "2023-03-20T22:22:30.980Z"
   },
   {
    "duration": 3,
    "start_time": "2023-03-20T22:23:11.633Z"
   },
   {
    "duration": 10,
    "start_time": "2023-03-20T22:23:13.036Z"
   },
   {
    "duration": 211192,
    "start_time": "2023-03-20T22:23:23.925Z"
   },
   {
    "duration": 77,
    "start_time": "2023-03-20T22:27:42.354Z"
   },
   {
    "duration": 3,
    "start_time": "2023-03-20T22:28:15.908Z"
   },
   {
    "duration": 3,
    "start_time": "2023-03-20T22:31:01.441Z"
   },
   {
    "duration": 55,
    "start_time": "2023-03-20T22:33:07.332Z"
   },
   {
    "duration": 1432,
    "start_time": "2023-03-20T22:34:38.015Z"
   },
   {
    "duration": 51,
    "start_time": "2023-03-20T22:34:39.449Z"
   },
   {
    "duration": 17,
    "start_time": "2023-03-20T22:34:39.502Z"
   },
   {
    "duration": 10,
    "start_time": "2023-03-20T22:34:39.521Z"
   },
   {
    "duration": 7,
    "start_time": "2023-03-20T22:34:39.533Z"
   },
   {
    "duration": 8,
    "start_time": "2023-03-20T22:34:39.541Z"
   },
   {
    "duration": 266,
    "start_time": "2023-03-20T22:34:39.551Z"
   },
   {
    "duration": 272,
    "start_time": "2023-03-20T22:34:39.819Z"
   },
   {
    "duration": 223,
    "start_time": "2023-03-20T22:34:40.093Z"
   },
   {
    "duration": 156,
    "start_time": "2023-03-20T22:34:40.318Z"
   },
   {
    "duration": 3,
    "start_time": "2023-03-20T22:34:40.476Z"
   },
   {
    "duration": 7,
    "start_time": "2023-03-20T22:34:40.489Z"
   },
   {
    "duration": 7,
    "start_time": "2023-03-20T22:34:40.497Z"
   },
   {
    "duration": 4,
    "start_time": "2023-03-20T22:34:40.507Z"
   },
   {
    "duration": 5,
    "start_time": "2023-03-20T22:34:40.512Z"
   },
   {
    "duration": 32,
    "start_time": "2023-03-20T22:34:40.518Z"
   },
   {
    "duration": 81,
    "start_time": "2023-03-20T22:34:40.552Z"
   },
   {
    "duration": 19,
    "start_time": "2023-03-20T22:34:40.635Z"
   },
   {
    "duration": 7,
    "start_time": "2023-03-20T22:34:40.656Z"
   },
   {
    "duration": 3,
    "start_time": "2023-03-20T22:34:40.664Z"
   },
   {
    "duration": 46,
    "start_time": "2023-03-20T22:34:40.669Z"
   },
   {
    "duration": 55,
    "start_time": "2023-03-20T22:34:40.717Z"
   },
   {
    "duration": 29,
    "start_time": "2023-03-20T22:34:40.773Z"
   },
   {
    "duration": 5,
    "start_time": "2023-03-20T22:34:40.803Z"
   },
   {
    "duration": 100,
    "start_time": "2023-03-20T22:34:40.810Z"
   },
   {
    "duration": 3,
    "start_time": "2023-03-20T22:34:40.911Z"
   },
   {
    "duration": 531944,
    "start_time": "2023-03-20T22:34:45.585Z"
   },
   {
    "duration": 3,
    "start_time": "2023-03-20T22:44:36.356Z"
   },
   {
    "duration": 77,
    "start_time": "2023-03-20T22:44:55.273Z"
   },
   {
    "duration": 3,
    "start_time": "2023-03-20T22:45:37.255Z"
   },
   {
    "duration": 9,
    "start_time": "2023-03-20T22:48:23.226Z"
   },
   {
    "duration": 7400,
    "start_time": "2023-03-20T22:48:41.299Z"
   },
   {
    "duration": 5,
    "start_time": "2023-03-20T22:49:19.461Z"
   },
   {
    "duration": 8,
    "start_time": "2023-03-20T22:49:56.813Z"
   },
   {
    "duration": 79,
    "start_time": "2023-03-20T22:50:02.979Z"
   },
   {
    "duration": 73,
    "start_time": "2023-03-20T22:50:14.701Z"
   },
   {
    "duration": 10,
    "start_time": "2023-03-20T22:50:28.309Z"
   },
   {
    "duration": 4,
    "start_time": "2023-03-20T22:50:41.990Z"
   },
   {
    "duration": 14,
    "start_time": "2023-03-20T22:52:34.070Z"
   },
   {
    "duration": 1868,
    "start_time": "2023-03-20T22:53:32.947Z"
   },
   {
    "duration": 1720,
    "start_time": "2023-03-20T22:54:09.084Z"
   },
   {
    "duration": 8,
    "start_time": "2023-03-20T22:54:20.444Z"
   },
   {
    "duration": 9,
    "start_time": "2023-03-20T22:54:28.565Z"
   },
   {
    "duration": 7,
    "start_time": "2023-03-20T22:54:46.523Z"
   },
   {
    "duration": 5,
    "start_time": "2023-03-20T22:55:58.519Z"
   },
   {
    "duration": 9,
    "start_time": "2023-03-20T22:56:16.273Z"
   },
   {
    "duration": 6,
    "start_time": "2023-03-20T22:56:32.654Z"
   },
   {
    "duration": 1473,
    "start_time": "2023-03-21T16:52:27.919Z"
   },
   {
    "duration": 113,
    "start_time": "2023-03-21T16:52:29.393Z"
   },
   {
    "duration": 18,
    "start_time": "2023-03-21T16:52:29.507Z"
   },
   {
    "duration": 24,
    "start_time": "2023-03-21T16:52:29.526Z"
   },
   {
    "duration": 7,
    "start_time": "2023-03-21T16:52:29.552Z"
   },
   {
    "duration": 10,
    "start_time": "2023-03-21T16:52:29.560Z"
   },
   {
    "duration": 211,
    "start_time": "2023-03-21T16:52:29.571Z"
   },
   {
    "duration": 296,
    "start_time": "2023-03-21T16:52:29.784Z"
   },
   {
    "duration": 141,
    "start_time": "2023-03-21T16:52:30.081Z"
   },
   {
    "duration": 143,
    "start_time": "2023-03-21T16:52:30.224Z"
   },
   {
    "duration": 3,
    "start_time": "2023-03-21T16:52:30.369Z"
   },
   {
    "duration": 34,
    "start_time": "2023-03-21T16:52:30.373Z"
   },
   {
    "duration": 44,
    "start_time": "2023-03-21T16:52:30.409Z"
   },
   {
    "duration": 58,
    "start_time": "2023-03-21T16:52:30.456Z"
   },
   {
    "duration": 56,
    "start_time": "2023-03-21T16:52:30.516Z"
   },
   {
    "duration": 86,
    "start_time": "2023-03-21T16:52:30.574Z"
   },
   {
    "duration": 76,
    "start_time": "2023-03-21T16:52:30.662Z"
   },
   {
    "duration": 2,
    "start_time": "2023-03-21T16:52:30.740Z"
   },
   {
    "duration": 112,
    "start_time": "2023-03-21T16:52:35.670Z"
   },
   {
    "duration": 129435,
    "start_time": "2023-03-21T16:52:41.307Z"
   },
   {
    "duration": 512116,
    "start_time": "2023-03-21T16:55:00.315Z"
   },
   {
    "duration": 2,
    "start_time": "2023-03-21T17:06:41.230Z"
   },
   {
    "duration": 148027,
    "start_time": "2023-03-21T17:06:45.901Z"
   },
   {
    "duration": 3,
    "start_time": "2023-03-21T17:09:33.668Z"
   },
   {
    "duration": 2,
    "start_time": "2023-03-21T17:10:12.106Z"
   },
   {
    "duration": 3,
    "start_time": "2023-03-21T17:10:16.014Z"
   },
   {
    "duration": 33,
    "start_time": "2023-03-21T17:10:19.056Z"
   },
   {
    "duration": 56,
    "start_time": "2023-03-21T17:10:20.122Z"
   },
   {
    "duration": 1057,
    "start_time": "2023-03-21T17:10:30.167Z"
   },
   {
    "duration": 80,
    "start_time": "2023-03-21T17:13:11.739Z"
   },
   {
    "duration": 2,
    "start_time": "2023-03-21T17:13:12.939Z"
   },
   {
    "duration": 466959,
    "start_time": "2023-03-21T17:13:15.061Z"
   },
   {
    "duration": 3,
    "start_time": "2023-03-21T17:21:02.022Z"
   },
   {
    "duration": 5916,
    "start_time": "2023-03-21T17:21:02.026Z"
   },
   {
    "duration": 3,
    "start_time": "2023-03-21T17:21:07.944Z"
   },
   {
    "duration": 64,
    "start_time": "2023-03-21T17:27:07.401Z"
   },
   {
    "duration": 2,
    "start_time": "2023-03-21T17:27:13.773Z"
   },
   {
    "duration": 8,
    "start_time": "2023-03-21T17:27:20.725Z"
   },
   {
    "duration": 8,
    "start_time": "2023-03-21T17:27:23.424Z"
   },
   {
    "duration": 8,
    "start_time": "2023-03-21T17:27:28.819Z"
   },
   {
    "duration": 3,
    "start_time": "2023-03-21T17:27:40.909Z"
   },
   {
    "duration": 41,
    "start_time": "2023-03-21T17:28:21.417Z"
   },
   {
    "duration": 3,
    "start_time": "2023-03-21T17:28:29.813Z"
   },
   {
    "duration": 4,
    "start_time": "2023-03-21T17:28:42.612Z"
   },
   {
    "duration": 1288,
    "start_time": "2023-03-21T17:29:41.297Z"
   },
   {
    "duration": 44,
    "start_time": "2023-03-21T17:29:42.586Z"
   },
   {
    "duration": 14,
    "start_time": "2023-03-21T17:29:42.631Z"
   },
   {
    "duration": 8,
    "start_time": "2023-03-21T17:29:42.647Z"
   },
   {
    "duration": 4,
    "start_time": "2023-03-21T17:29:42.656Z"
   },
   {
    "duration": 8,
    "start_time": "2023-03-21T17:29:42.662Z"
   },
   {
    "duration": 246,
    "start_time": "2023-03-21T17:29:42.671Z"
   },
   {
    "duration": 302,
    "start_time": "2023-03-21T17:29:42.921Z"
   },
   {
    "duration": 147,
    "start_time": "2023-03-21T17:29:43.225Z"
   },
   {
    "duration": 159,
    "start_time": "2023-03-21T17:29:43.374Z"
   },
   {
    "duration": 13,
    "start_time": "2023-03-21T17:29:43.535Z"
   },
   {
    "duration": 4,
    "start_time": "2023-03-21T17:29:43.549Z"
   },
   {
    "duration": 8,
    "start_time": "2023-03-21T17:29:43.554Z"
   },
   {
    "duration": 6,
    "start_time": "2023-03-21T17:29:43.564Z"
   },
   {
    "duration": 13,
    "start_time": "2023-03-21T17:29:43.571Z"
   },
   {
    "duration": 4,
    "start_time": "2023-03-21T17:29:43.585Z"
   },
   {
    "duration": 51,
    "start_time": "2023-03-21T17:29:43.591Z"
   },
   {
    "duration": 57,
    "start_time": "2023-03-21T17:29:43.643Z"
   },
   {
    "duration": 3,
    "start_time": "2023-03-21T17:29:43.702Z"
   },
   {
    "duration": 16545,
    "start_time": "2023-03-21T17:29:43.707Z"
   },
   {
    "duration": 0,
    "start_time": "2023-03-21T17:30:00.254Z"
   },
   {
    "duration": 0,
    "start_time": "2023-03-21T17:30:00.256Z"
   },
   {
    "duration": 0,
    "start_time": "2023-03-21T17:30:00.257Z"
   },
   {
    "duration": 0,
    "start_time": "2023-03-21T17:30:00.258Z"
   },
   {
    "duration": 0,
    "start_time": "2023-03-21T17:30:00.260Z"
   },
   {
    "duration": 0,
    "start_time": "2023-03-21T17:30:00.261Z"
   },
   {
    "duration": 0,
    "start_time": "2023-03-21T17:30:00.262Z"
   },
   {
    "duration": 0,
    "start_time": "2023-03-21T17:30:00.264Z"
   },
   {
    "duration": 0,
    "start_time": "2023-03-21T17:30:00.265Z"
   },
   {
    "duration": 0,
    "start_time": "2023-03-21T17:30:00.266Z"
   },
   {
    "duration": 0,
    "start_time": "2023-03-21T17:30:00.267Z"
   },
   {
    "duration": 0,
    "start_time": "2023-03-21T17:30:00.268Z"
   },
   {
    "duration": 0,
    "start_time": "2023-03-21T17:30:00.269Z"
   },
   {
    "duration": 0,
    "start_time": "2023-03-21T17:30:00.271Z"
   },
   {
    "duration": 0,
    "start_time": "2023-03-21T17:30:00.272Z"
   },
   {
    "duration": 0,
    "start_time": "2023-03-21T17:30:00.273Z"
   },
   {
    "duration": 0,
    "start_time": "2023-03-21T17:30:00.274Z"
   },
   {
    "duration": 0,
    "start_time": "2023-03-21T17:30:00.276Z"
   },
   {
    "duration": 0,
    "start_time": "2023-03-21T17:30:00.277Z"
   },
   {
    "duration": 2,
    "start_time": "2023-03-21T17:30:04.082Z"
   },
   {
    "duration": 2807,
    "start_time": "2023-03-21T17:30:04.921Z"
   },
   {
    "duration": 3,
    "start_time": "2023-03-21T17:30:09.216Z"
   },
   {
    "duration": 3,
    "start_time": "2023-03-21T17:30:16.711Z"
   },
   {
    "duration": 3,
    "start_time": "2023-03-21T17:30:19.416Z"
   },
   {
    "duration": 28,
    "start_time": "2023-03-21T17:30:20.524Z"
   },
   {
    "duration": 48,
    "start_time": "2023-03-21T17:30:21.705Z"
   },
   {
    "duration": 981,
    "start_time": "2023-03-21T17:30:24.744Z"
   },
   {
    "duration": 94,
    "start_time": "2023-03-21T17:30:25.728Z"
   },
   {
    "duration": 3,
    "start_time": "2023-03-21T17:30:34.013Z"
   },
   {
    "duration": 72,
    "start_time": "2023-03-21T17:31:22.617Z"
   },
   {
    "duration": 3,
    "start_time": "2023-03-21T17:31:23.601Z"
   },
   {
    "duration": 3,
    "start_time": "2023-03-21T17:31:27.121Z"
   },
   {
    "duration": 6230,
    "start_time": "2023-03-21T17:31:28.009Z"
   },
   {
    "duration": 4,
    "start_time": "2023-03-21T17:31:34.240Z"
   },
   {
    "duration": 12,
    "start_time": "2023-03-21T17:32:20.804Z"
   },
   {
    "duration": 12,
    "start_time": "2023-03-21T17:32:53.010Z"
   },
   {
    "duration": 8,
    "start_time": "2023-03-21T17:33:39.516Z"
   },
   {
    "duration": 3,
    "start_time": "2023-03-21T17:37:14.109Z"
   },
   {
    "duration": 33,
    "start_time": "2023-03-21T17:37:16.711Z"
   },
   {
    "duration": 55,
    "start_time": "2023-03-21T17:37:20.623Z"
   },
   {
    "duration": 3,
    "start_time": "2023-03-21T17:37:24.020Z"
   },
   {
    "duration": 1180,
    "start_time": "2023-03-21T17:37:26.543Z"
   },
   {
    "duration": 3,
    "start_time": "2023-03-21T17:37:34.671Z"
   },
   {
    "duration": 13,
    "start_time": "2023-03-21T17:40:02.783Z"
   },
   {
    "duration": 12,
    "start_time": "2023-03-21T17:40:41.222Z"
   },
   {
    "duration": 13,
    "start_time": "2023-03-21T17:41:45.203Z"
   },
   {
    "duration": 12,
    "start_time": "2023-03-21T17:41:48.805Z"
   },
   {
    "duration": 13,
    "start_time": "2023-03-21T17:42:02.362Z"
   },
   {
    "duration": 41,
    "start_time": "2023-03-21T17:42:17.444Z"
   },
   {
    "duration": 3,
    "start_time": "2023-03-21T17:42:36.006Z"
   },
   {
    "duration": 73,
    "start_time": "2023-03-21T17:42:38.051Z"
   },
   {
    "duration": 48,
    "start_time": "2023-03-21T17:42:39.915Z"
   },
   {
    "duration": 7,
    "start_time": "2023-03-21T17:42:54.359Z"
   },
   {
    "duration": 3,
    "start_time": "2023-03-21T17:43:38.001Z"
   },
   {
    "duration": 13,
    "start_time": "2023-03-21T17:43:50.416Z"
   },
   {
    "duration": 868,
    "start_time": "2023-03-21T17:44:15.958Z"
   },
   {
    "duration": 3,
    "start_time": "2023-03-21T17:46:07.604Z"
   },
   {
    "duration": 7,
    "start_time": "2023-03-21T17:48:04.122Z"
   },
   {
    "duration": 4,
    "start_time": "2023-03-21T17:48:09.537Z"
   },
   {
    "duration": 5,
    "start_time": "2023-03-21T17:48:22.020Z"
   },
   {
    "duration": 4,
    "start_time": "2023-03-21T17:49:46.837Z"
   },
   {
    "duration": 3,
    "start_time": "2023-03-21T17:49:59.654Z"
   },
   {
    "duration": 4,
    "start_time": "2023-03-21T17:50:29.044Z"
   },
   {
    "duration": 3,
    "start_time": "2023-03-21T17:50:32.999Z"
   },
   {
    "duration": 8,
    "start_time": "2023-03-21T17:52:23.102Z"
   },
   {
    "duration": 3,
    "start_time": "2023-03-21T17:52:33.562Z"
   },
   {
    "duration": 7,
    "start_time": "2023-03-21T17:53:54.359Z"
   },
   {
    "duration": 9,
    "start_time": "2023-03-21T17:54:24.731Z"
   },
   {
    "duration": 9,
    "start_time": "2023-03-21T17:54:37.038Z"
   },
   {
    "duration": 8,
    "start_time": "2023-03-21T17:54:48.126Z"
   },
   {
    "duration": 11,
    "start_time": "2023-03-21T17:56:16.168Z"
   },
   {
    "duration": 13,
    "start_time": "2023-03-21T17:56:21.241Z"
   },
   {
    "duration": 8,
    "start_time": "2023-03-21T17:56:37.332Z"
   },
   {
    "duration": 8,
    "start_time": "2023-03-21T17:56:46.820Z"
   },
   {
    "duration": 7,
    "start_time": "2023-03-21T17:56:50.931Z"
   },
   {
    "duration": 746,
    "start_time": "2023-03-21T17:59:41.778Z"
   },
   {
    "duration": 2,
    "start_time": "2023-03-21T17:59:53.173Z"
   },
   {
    "duration": 27,
    "start_time": "2023-03-21T17:59:54.082Z"
   },
   {
    "duration": 44,
    "start_time": "2023-03-21T17:59:54.769Z"
   },
   {
    "duration": 3,
    "start_time": "2023-03-21T17:59:55.420Z"
   },
   {
    "duration": 809,
    "start_time": "2023-03-21T17:59:56.015Z"
   },
   {
    "duration": 4,
    "start_time": "2023-03-21T18:00:16.702Z"
   },
   {
    "duration": 2,
    "start_time": "2023-03-21T18:00:59.772Z"
   },
   {
    "duration": 817,
    "start_time": "2023-03-21T18:01:02.105Z"
   },
   {
    "duration": 3,
    "start_time": "2023-03-21T18:01:05.810Z"
   },
   {
    "duration": 740,
    "start_time": "2023-03-21T18:08:55.785Z"
   },
   {
    "duration": 3,
    "start_time": "2023-03-21T18:09:00.660Z"
   },
   {
    "duration": 9,
    "start_time": "2023-03-21T18:11:06.841Z"
   },
   {
    "duration": 913,
    "start_time": "2023-03-21T18:14:38.813Z"
   },
   {
    "duration": 3,
    "start_time": "2023-03-21T18:14:41.590Z"
   },
   {
    "duration": 15,
    "start_time": "2023-03-21T18:14:52.449Z"
   },
   {
    "duration": 433,
    "start_time": "2023-03-21T18:15:01.001Z"
   },
   {
    "duration": 3,
    "start_time": "2023-03-21T18:15:03.482Z"
   },
   {
    "duration": 741,
    "start_time": "2023-03-21T18:15:20.886Z"
   },
   {
    "duration": 3,
    "start_time": "2023-03-21T18:15:25.662Z"
   },
   {
    "duration": 547,
    "start_time": "2023-03-21T18:15:26.284Z"
   },
   {
    "duration": 2,
    "start_time": "2023-03-21T18:15:28.349Z"
   },
   {
    "duration": 674,
    "start_time": "2023-03-21T18:15:31.553Z"
   },
   {
    "duration": 4,
    "start_time": "2023-03-21T18:15:34.421Z"
   },
   {
    "duration": 4,
    "start_time": "2023-03-21T18:15:38.581Z"
   },
   {
    "duration": 27,
    "start_time": "2023-03-21T18:15:39.447Z"
   },
   {
    "duration": 47,
    "start_time": "2023-03-21T18:15:40.135Z"
   },
   {
    "duration": 3,
    "start_time": "2023-03-21T18:15:40.987Z"
   },
   {
    "duration": 696,
    "start_time": "2023-03-21T18:15:43.645Z"
   },
   {
    "duration": 43,
    "start_time": "2023-03-21T18:17:42.483Z"
   },
   {
    "duration": 1280,
    "start_time": "2023-03-21T18:24:14.530Z"
   },
   {
    "duration": 43,
    "start_time": "2023-03-21T18:24:15.812Z"
   },
   {
    "duration": 13,
    "start_time": "2023-03-21T18:24:15.857Z"
   },
   {
    "duration": 12,
    "start_time": "2023-03-21T18:24:15.872Z"
   },
   {
    "duration": 11,
    "start_time": "2023-03-21T18:24:15.885Z"
   },
   {
    "duration": 7,
    "start_time": "2023-03-21T18:24:15.897Z"
   },
   {
    "duration": 251,
    "start_time": "2023-03-21T18:24:15.905Z"
   },
   {
    "duration": 280,
    "start_time": "2023-03-21T18:24:16.158Z"
   },
   {
    "duration": 130,
    "start_time": "2023-03-21T18:24:16.439Z"
   },
   {
    "duration": 139,
    "start_time": "2023-03-21T18:24:16.570Z"
   },
   {
    "duration": 12,
    "start_time": "2023-03-21T18:24:16.711Z"
   },
   {
    "duration": 3,
    "start_time": "2023-03-21T18:24:16.724Z"
   },
   {
    "duration": 6,
    "start_time": "2023-03-21T18:24:16.728Z"
   },
   {
    "duration": 7,
    "start_time": "2023-03-21T18:24:16.735Z"
   },
   {
    "duration": 58645,
    "start_time": "2023-03-21T18:24:27.508Z"
   },
   {
    "duration": 3,
    "start_time": "2023-03-21T18:25:45.687Z"
   },
   {
    "duration": 30,
    "start_time": "2023-03-21T18:25:48.282Z"
   },
   {
    "duration": 50,
    "start_time": "2023-03-21T18:25:49.881Z"
   },
   {
    "duration": 2,
    "start_time": "2023-03-21T18:26:00.822Z"
   },
   {
    "duration": 85,
    "start_time": "2023-03-21T18:26:03.895Z"
   },
   {
    "duration": 110468,
    "start_time": "2023-03-21T18:26:35.088Z"
   },
   {
    "duration": 10,
    "start_time": "2023-03-21T18:28:46.558Z"
   },
   {
    "duration": 3,
    "start_time": "2023-03-21T18:28:50.434Z"
   },
   {
    "duration": 16398,
    "start_time": "2023-03-21T18:28:55.428Z"
   },
   {
    "duration": 3,
    "start_time": "2023-03-21T18:29:21.298Z"
   },
   {
    "duration": 3,
    "start_time": "2023-03-21T18:29:31.621Z"
   },
   {
    "duration": 27,
    "start_time": "2023-03-21T18:29:32.532Z"
   },
   {
    "duration": 44,
    "start_time": "2023-03-21T18:29:33.683Z"
   },
   {
    "duration": 5,
    "start_time": "2023-03-21T18:29:38.682Z"
   },
   {
    "duration": 50447,
    "start_time": "2023-03-21T18:29:40.281Z"
   },
   {
    "duration": 2,
    "start_time": "2023-03-21T18:30:52.386Z"
   },
   {
    "duration": 2790,
    "start_time": "2023-03-21T18:30:54.032Z"
   },
   {
    "duration": 3,
    "start_time": "2023-03-21T18:30:59.198Z"
   },
   {
    "duration": 2,
    "start_time": "2023-03-21T18:31:14.455Z"
   },
   {
    "duration": 5665,
    "start_time": "2023-03-21T18:31:18.079Z"
   },
   {
    "duration": 3,
    "start_time": "2023-03-21T18:31:25.242Z"
   },
   {
    "duration": 9,
    "start_time": "2023-03-21T18:31:31.212Z"
   },
   {
    "duration": 7,
    "start_time": "2023-03-21T18:31:41.649Z"
   },
   {
    "duration": 3,
    "start_time": "2023-03-21T18:34:12.526Z"
   },
   {
    "duration": 2,
    "start_time": "2023-03-21T18:40:27.157Z"
   },
   {
    "duration": 2,
    "start_time": "2023-03-21T18:40:30.365Z"
   },
   {
    "duration": 27,
    "start_time": "2023-03-21T18:40:31.253Z"
   },
   {
    "duration": 48,
    "start_time": "2023-03-21T18:40:32.054Z"
   },
   {
    "duration": 2,
    "start_time": "2023-03-21T18:40:36.082Z"
   },
   {
    "duration": 111951,
    "start_time": "2023-03-21T18:40:38.990Z"
   },
   {
    "duration": 2,
    "start_time": "2023-03-21T18:43:08.878Z"
   },
   {
    "duration": 24861,
    "start_time": "2023-03-21T18:43:11.274Z"
   },
   {
    "duration": 3,
    "start_time": "2023-03-21T18:43:45.003Z"
   },
   {
    "duration": 8,
    "start_time": "2023-03-21T18:43:59.522Z"
   },
   {
    "duration": 7,
    "start_time": "2023-03-21T18:44:11.442Z"
   },
   {
    "duration": 1288,
    "start_time": "2023-03-21T18:55:52.238Z"
   },
   {
    "duration": 51,
    "start_time": "2023-03-21T18:55:53.528Z"
   },
   {
    "duration": 14,
    "start_time": "2023-03-21T18:55:53.581Z"
   },
   {
    "duration": 8,
    "start_time": "2023-03-21T18:55:53.597Z"
   },
   {
    "duration": 6,
    "start_time": "2023-03-21T18:55:53.607Z"
   },
   {
    "duration": 11,
    "start_time": "2023-03-21T18:55:53.614Z"
   },
   {
    "duration": 227,
    "start_time": "2023-03-21T18:55:53.626Z"
   },
   {
    "duration": 278,
    "start_time": "2023-03-21T18:55:53.854Z"
   },
   {
    "duration": 137,
    "start_time": "2023-03-21T18:55:54.133Z"
   },
   {
    "duration": 144,
    "start_time": "2023-03-21T18:55:54.271Z"
   },
   {
    "duration": 12,
    "start_time": "2023-03-21T18:55:54.417Z"
   },
   {
    "duration": 13,
    "start_time": "2023-03-21T18:55:54.430Z"
   },
   {
    "duration": 6,
    "start_time": "2023-03-21T18:55:54.444Z"
   },
   {
    "duration": 7,
    "start_time": "2023-03-21T18:55:54.452Z"
   },
   {
    "duration": 7,
    "start_time": "2023-03-21T18:55:54.460Z"
   },
   {
    "duration": 7,
    "start_time": "2023-03-21T18:55:54.468Z"
   },
   {
    "duration": 28,
    "start_time": "2023-03-21T18:55:54.476Z"
   },
   {
    "duration": 58,
    "start_time": "2023-03-21T18:55:54.505Z"
   },
   {
    "duration": 2,
    "start_time": "2023-03-21T18:55:54.565Z"
   },
   {
    "duration": 969957,
    "start_time": "2023-03-21T18:55:54.568Z"
   },
   {
    "duration": 8,
    "start_time": "2023-03-21T19:12:04.526Z"
   },
   {
    "duration": 28292,
    "start_time": "2023-03-21T19:12:04.536Z"
   },
   {
    "duration": 5,
    "start_time": "2023-03-21T19:12:32.831Z"
   },
   {
    "duration": 5,
    "start_time": "2023-03-21T19:12:32.838Z"
   },
   {
    "duration": 4,
    "start_time": "2023-03-21T19:12:32.845Z"
   },
   {
    "duration": 28,
    "start_time": "2023-03-21T19:12:32.850Z"
   },
   {
    "duration": 98,
    "start_time": "2023-03-21T19:12:32.879Z"
   },
   {
    "duration": 2,
    "start_time": "2023-03-21T19:12:32.979Z"
   },
   {
    "duration": 115633,
    "start_time": "2023-03-21T19:12:32.982Z"
   },
   {
    "duration": 5,
    "start_time": "2023-03-21T19:14:28.617Z"
   },
   {
    "duration": 25255,
    "start_time": "2023-03-21T19:14:28.624Z"
   },
   {
    "duration": 3,
    "start_time": "2023-03-21T19:14:53.880Z"
   },
   {
    "duration": 21,
    "start_time": "2023-03-21T19:14:53.884Z"
   },
   {
    "duration": 103,
    "start_time": "2023-03-21T19:14:53.906Z"
   },
   {
    "duration": 2,
    "start_time": "2023-03-21T19:14:54.011Z"
   },
   {
    "duration": 425191,
    "start_time": "2023-03-21T19:14:54.015Z"
   },
   {
    "duration": 0,
    "start_time": "2023-03-21T19:21:59.208Z"
   },
   {
    "duration": 0,
    "start_time": "2023-03-21T19:21:59.209Z"
   },
   {
    "duration": 0,
    "start_time": "2023-03-21T19:21:59.209Z"
   },
   {
    "duration": 0,
    "start_time": "2023-03-21T19:21:59.210Z"
   },
   {
    "duration": 0,
    "start_time": "2023-03-21T19:21:59.211Z"
   },
   {
    "duration": 0,
    "start_time": "2023-03-21T19:21:59.212Z"
   },
   {
    "duration": 0,
    "start_time": "2023-03-21T19:21:59.213Z"
   },
   {
    "duration": 3,
    "start_time": "2023-03-21T19:22:02.133Z"
   },
   {
    "duration": 7298,
    "start_time": "2023-03-21T19:22:02.835Z"
   },
   {
    "duration": 4,
    "start_time": "2023-03-21T19:22:45.873Z"
   },
   {
    "duration": 8,
    "start_time": "2023-03-21T19:22:53.431Z"
   },
   {
    "duration": 9,
    "start_time": "2023-03-21T19:22:59.698Z"
   },
   {
    "duration": 1411,
    "start_time": "2023-03-21T19:23:21.253Z"
   },
   {
    "duration": 5,
    "start_time": "2023-03-21T19:23:42.014Z"
   },
   {
    "duration": 8,
    "start_time": "2023-03-21T19:23:45.709Z"
   },
   {
    "duration": 8,
    "start_time": "2023-03-21T19:23:59.603Z"
   },
   {
    "duration": 13,
    "start_time": "2023-03-21T19:24:38.710Z"
   },
   {
    "duration": 13,
    "start_time": "2023-03-21T19:25:12.840Z"
   },
   {
    "duration": 8,
    "start_time": "2023-03-21T19:26:26.449Z"
   },
   {
    "duration": 8,
    "start_time": "2023-03-21T19:26:35.762Z"
   },
   {
    "duration": 5,
    "start_time": "2023-03-21T19:26:45.607Z"
   },
   {
    "duration": 11,
    "start_time": "2023-03-21T19:27:08.536Z"
   },
   {
    "duration": 6,
    "start_time": "2023-03-21T19:27:17.139Z"
   },
   {
    "duration": 13,
    "start_time": "2023-03-21T19:27:44.732Z"
   },
   {
    "duration": 49,
    "start_time": "2023-03-21T19:27:51.605Z"
   },
   {
    "duration": 7,
    "start_time": "2023-03-21T19:27:54.234Z"
   },
   {
    "duration": 15,
    "start_time": "2023-03-21T19:29:04.238Z"
   },
   {
    "duration": 7,
    "start_time": "2023-03-21T19:29:21.798Z"
   },
   {
    "duration": 3,
    "start_time": "2023-03-21T19:29:30.291Z"
   },
   {
    "duration": 4,
    "start_time": "2023-03-21T19:29:38.941Z"
   },
   {
    "duration": 1489,
    "start_time": "2023-03-21T19:29:52.210Z"
   },
   {
    "duration": 12,
    "start_time": "2023-03-21T19:29:58.041Z"
   },
   {
    "duration": 11,
    "start_time": "2023-03-21T19:30:00.789Z"
   },
   {
    "duration": 78,
    "start_time": "2023-03-21T19:30:11.815Z"
   },
   {
    "duration": 3,
    "start_time": "2023-03-21T19:30:20.938Z"
   },
   {
    "duration": 1481,
    "start_time": "2023-03-21T19:30:28.241Z"
   },
   {
    "duration": 5,
    "start_time": "2023-03-21T19:30:34.561Z"
   },
   {
    "duration": 4,
    "start_time": "2023-03-21T19:30:40.081Z"
   },
   {
    "duration": 4,
    "start_time": "2023-03-21T19:30:45.128Z"
   },
   {
    "duration": 51,
    "start_time": "2023-03-21T19:30:47.850Z"
   },
   {
    "duration": 9,
    "start_time": "2023-03-21T19:31:03.772Z"
   },
   {
    "duration": 9,
    "start_time": "2023-03-21T19:31:10.338Z"
   },
   {
    "duration": 34,
    "start_time": "2023-03-21T19:31:17.040Z"
   },
   {
    "duration": 230,
    "start_time": "2023-03-21T19:31:49.789Z"
   },
   {
    "duration": 11,
    "start_time": "2023-03-21T19:31:59.791Z"
   },
   {
    "duration": 173,
    "start_time": "2023-03-21T19:32:04.254Z"
   },
   {
    "duration": 196,
    "start_time": "2023-03-21T19:32:28.205Z"
   },
   {
    "duration": 162,
    "start_time": "2023-03-21T19:32:35.541Z"
   },
   {
    "duration": 119,
    "start_time": "2023-03-21T19:32:40.499Z"
   },
   {
    "duration": 35,
    "start_time": "2023-03-21T19:34:49.205Z"
   },
   {
    "duration": 5,
    "start_time": "2023-03-21T19:35:00.162Z"
   },
   {
    "duration": 20,
    "start_time": "2023-03-21T19:35:03.825Z"
   },
   {
    "duration": 63,
    "start_time": "2023-03-21T19:35:55.408Z"
   },
   {
    "duration": 46,
    "start_time": "2023-03-21T19:36:03.971Z"
   },
   {
    "duration": 43,
    "start_time": "2023-03-21T19:36:14.155Z"
   },
   {
    "duration": 105,
    "start_time": "2023-03-21T19:36:23.038Z"
   },
   {
    "duration": 40,
    "start_time": "2023-03-21T19:36:32.947Z"
   },
   {
    "duration": 13,
    "start_time": "2023-03-21T19:36:51.259Z"
   },
   {
    "duration": 41,
    "start_time": "2023-03-21T19:36:55.926Z"
   },
   {
    "duration": 10,
    "start_time": "2023-03-21T19:37:07.054Z"
   },
   {
    "duration": 40,
    "start_time": "2023-03-21T19:37:20.212Z"
   },
   {
    "duration": 24,
    "start_time": "2023-03-21T19:37:28.471Z"
   },
   {
    "duration": 12,
    "start_time": "2023-03-21T19:38:17.591Z"
   },
   {
    "duration": 188,
    "start_time": "2023-03-21T19:38:27.423Z"
   },
   {
    "duration": 180,
    "start_time": "2023-03-21T19:38:36.558Z"
   },
   {
    "duration": 191,
    "start_time": "2023-03-21T19:39:08.950Z"
   },
   {
    "duration": 199,
    "start_time": "2023-03-21T19:39:47.241Z"
   },
   {
    "duration": 193,
    "start_time": "2023-03-21T19:39:58.146Z"
   },
   {
    "duration": 194,
    "start_time": "2023-03-21T19:40:03.671Z"
   },
   {
    "duration": 199,
    "start_time": "2023-03-21T19:40:12.091Z"
   },
   {
    "duration": 441,
    "start_time": "2023-03-21T19:40:26.628Z"
   },
   {
    "duration": 263,
    "start_time": "2023-03-21T19:40:32.009Z"
   },
   {
    "duration": 522,
    "start_time": "2023-03-21T19:40:38.358Z"
   },
   {
    "duration": 414,
    "start_time": "2023-03-21T19:40:45.138Z"
   },
   {
    "duration": 4,
    "start_time": "2023-03-21T19:41:18.754Z"
   },
   {
    "duration": 177,
    "start_time": "2023-03-21T19:45:08.615Z"
   },
   {
    "duration": 17,
    "start_time": "2023-03-21T19:45:48.656Z"
   },
   {
    "duration": 23,
    "start_time": "2023-03-21T19:46:02.528Z"
   },
   {
    "duration": 14,
    "start_time": "2023-03-21T19:46:11.193Z"
   },
   {
    "duration": 12,
    "start_time": "2023-03-21T19:51:33.245Z"
   },
   {
    "duration": 7,
    "start_time": "2023-03-21T19:53:47.339Z"
   }
  ],
  "kernelspec": {
   "display_name": "Python 3 (ipykernel)",
   "language": "python",
   "name": "python3"
  },
  "language_info": {
   "codemirror_mode": {
    "name": "ipython",
    "version": 3
   },
   "file_extension": ".py",
   "mimetype": "text/x-python",
   "name": "python",
   "nbconvert_exporter": "python",
   "pygments_lexer": "ipython3",
   "version": "3.9.16"
  },
  "toc": {
   "base_numbering": 1,
   "nav_menu": {},
   "number_sections": true,
   "sideBar": true,
   "skip_h1_title": true,
   "title_cell": "Содержание",
   "title_sidebar": "Contents",
   "toc_cell": true,
   "toc_position": {
    "height": "calc(100% - 180px)",
    "left": "10px",
    "top": "150px",
    "width": "225.188px"
   },
   "toc_section_display": true,
   "toc_window_display": true
  }
 },
 "nbformat": 4,
 "nbformat_minor": 2
}
